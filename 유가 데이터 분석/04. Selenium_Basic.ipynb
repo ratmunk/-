{
 "cells": [
  {
   "cell_type": "markdown",
   "id": "6eca398a",
   "metadata": {},
   "source": [
    "# Selenium Basic"
   ]
  },
  {
   "cell_type": "markdown",
   "id": "99ed1eaa",
   "metadata": {},
   "source": [
    "## 1. selenium webdriver 사용하기"
   ]
  },
  {
   "cell_type": "code",
   "execution_count": 10,
   "id": "37d9945a",
   "metadata": {},
   "outputs": [],
   "source": [
    "from selenium import webdriver\n",
    "\n",
    "driver = webdriver.Chrome()\n",
    "driver.get('https://pinkwink.kr/')"
   ]
  },
  {
   "cell_type": "code",
   "execution_count": 9,
   "id": "ab3b0e6f",
   "metadata": {},
   "outputs": [],
   "source": [
    "driver.quit() # 띄운 창을 닫는 방법"
   ]
  },
  {
   "cell_type": "code",
   "execution_count": 19,
   "id": "03a1c83d",
   "metadata": {},
   "outputs": [],
   "source": [
    "# 화면 최대 크기 설정\n",
    "driver.maximize_window()"
   ]
  },
  {
   "cell_type": "code",
   "execution_count": null,
   "id": "17acb165",
   "metadata": {},
   "outputs": [],
   "source": [
    "# 화면 최소 크기 설정\n",
    "driver.minimize_window()"
   ]
  },
  {
   "cell_type": "code",
   "execution_count": 16,
   "id": "d10c7724",
   "metadata": {},
   "outputs": [],
   "source": [
    "# 화면 크기 설정\n",
    "driver.set_window_size(600,600)"
   ]
  },
  {
   "cell_type": "code",
   "execution_count": 17,
   "id": "3a4c0c38",
   "metadata": {},
   "outputs": [],
   "source": [
    "### selenium은 해당 지점 화면에서의 데이터만 추출할 수 있으므로\n",
    "### 화면 크기를 설정하여 데이터가 많이 나타나도록 설정하는 작업이 필요함."
   ]
  },
  {
   "cell_type": "code",
   "execution_count": 18,
   "id": "01666a95",
   "metadata": {},
   "outputs": [],
   "source": [
    "# 새로고침\n",
    "driver.refresh()"
   ]
  },
  {
   "cell_type": "code",
   "execution_count": 28,
   "id": "0f24dbae",
   "metadata": {},
   "outputs": [],
   "source": [
    "# 뒤로 가기\n",
    "driver.back()"
   ]
  },
  {
   "cell_type": "code",
   "execution_count": 21,
   "id": "2286efe4",
   "metadata": {},
   "outputs": [],
   "source": [
    "# 앞으로 가기\n",
    "driver.forward()"
   ]
  },
  {
   "cell_type": "code",
   "execution_count": 22,
   "id": "e17dfea6",
   "metadata": {},
   "outputs": [],
   "source": [
    "# 클릭\n",
    "from selenium.webdriver.common.by import By\n",
    "\n",
    "first_content = driver.find_element(By.CSS_SELECTOR, '#content > div.cover-masonry > div > ul > li:nth-child(2) > a > span.title')\n",
    "                                                    ## 크롤링할 부분 -> Copy -> Copy selector\n",
    "first_content.click()"
   ]
  },
  {
   "cell_type": "code",
   "execution_count": 23,
   "id": "4a7f9026",
   "metadata": {},
   "outputs": [],
   "source": [
    "# 새로운 탭 생성      # 자바스크립트 문법\n",
    "driver.execute_script('window.open(\"https://www.naver.com\")')"
   ]
  },
  {
   "cell_type": "code",
   "execution_count": 24,
   "id": "3e2180d9",
   "metadata": {},
   "outputs": [],
   "source": [
    "# 탭 이동\n",
    "driver.switch_to.window(driver.window_handles[0]) \n",
    "# driver.window_handles : 내가 지금 다룰 수 있는 창\n",
    "# 인덱스를 넣어줌"
   ]
  },
  {
   "cell_type": "code",
   "execution_count": 25,
   "id": "41f07974",
   "metadata": {},
   "outputs": [],
   "source": [
    "# 열려있는 탭을 하나씩 닫기\n",
    "driver.close() #driver.quit() : 전체 종료"
   ]
  },
  {
   "cell_type": "markdown",
   "id": "70c7b7d4",
   "metadata": {},
   "source": [
    "## 2. 화면 스크롤"
   ]
  },
  {
   "cell_type": "code",
   "execution_count": 4,
   "id": "de80405b",
   "metadata": {},
   "outputs": [],
   "source": [
    "from selenium.webdriver.common.by import By"
   ]
  },
  {
   "cell_type": "code",
   "execution_count": 2,
   "id": "8c971a98",
   "metadata": {},
   "outputs": [
    {
     "data": {
      "text/plain": [
       "5800"
      ]
     },
     "execution_count": 2,
     "metadata": {},
     "output_type": "execute_result"
    }
   ],
   "source": [
    "# 스크롤 가능한 높이(길이)\n",
    "# 자바스크립트 코드 실행\n",
    "driver.execute_script('return document.body.scrollHeight')"
   ]
  },
  {
   "cell_type": "code",
   "execution_count": 6,
   "id": "639f046d",
   "metadata": {},
   "outputs": [],
   "source": [
    "# 화면 스크롤 하단 이동\n",
    "driver.execute_script('window.scrollTo(0, document.body.scrollHeight);')"
   ]
  },
  {
   "cell_type": "code",
   "execution_count": 7,
   "id": "73df2c85",
   "metadata": {},
   "outputs": [
    {
     "data": {
      "text/plain": [
       "True"
      ]
     },
     "execution_count": 7,
     "metadata": {},
     "output_type": "execute_result"
    }
   ],
   "source": [
    "# 현재 보이는 화면 스크린샷 저장\n",
    "driver.save_screenshot('./last_height.png')"
   ]
  },
  {
   "cell_type": "code",
   "execution_count": 8,
   "id": "53434675",
   "metadata": {},
   "outputs": [],
   "source": [
    "# 화면 스크롤 상단 이동\n",
    "driver.execute_script('window.scrollTo(0,0)')"
   ]
  },
  {
   "cell_type": "code",
   "execution_count": 11,
   "id": "9e22860a",
   "metadata": {},
   "outputs": [],
   "source": [
    "# 특정 태그 지점까지 스크롤 이동\n",
    "from selenium.webdriver import ActionChains\n",
    "## https://selenium-python.readthedocs.io/api.html#module-selenium.webdriver.common.action_chains\n",
    "## ActionChains를 이용하여 다양한 기능을 수행할 수 있음\n",
    "\n",
    "some_tag = driver.find_element(By.CSS_SELECTOR, '#content > div.cover-footer > nav > ul > li.t_menu_link_2')\n",
    "action = ActionChains(driver)\n",
    "action.move_to_element(some_tag).perform()"
   ]
  },
  {
   "cell_type": "code",
   "execution_count": 12,
   "id": "3f4e5701",
   "metadata": {},
   "outputs": [],
   "source": [
    "driver.quit()"
   ]
  },
  {
   "cell_type": "markdown",
   "id": "5d03e23b",
   "metadata": {},
   "source": [
    "## 3. 검색어 입력"
   ]
  },
  {
   "cell_type": "markdown",
   "id": "76659bb5",
   "metadata": {},
   "source": [
    "- css_selector"
   ]
  },
  {
   "cell_type": "code",
   "execution_count": 13,
   "id": "b453b648",
   "metadata": {},
   "outputs": [],
   "source": [
    "from selenium import webdriver\n",
    "from selenium.webdriver.common.by import By"
   ]
  },
  {
   "cell_type": "code",
   "execution_count": 20,
   "id": "cceba75e",
   "metadata": {},
   "outputs": [],
   "source": [
    "driver = webdriver.Chrome()\n",
    "driver.get('https://www.naver.com')"
   ]
  },
  {
   "cell_type": "code",
   "execution_count": 30,
   "id": "874f7fec",
   "metadata": {},
   "outputs": [],
   "source": [
    "# 검색창에 검색어 입력\n",
    "\n",
    "keyword = driver.find_element(By.CSS_SELECTOR , '#query')\n",
    "keyword.clear() # 기존 입력값을 지우고 새로운 값을 입력하는 방법 \n",
    "keyword.send_keys('공학대')"
   ]
  },
  {
   "cell_type": "code",
   "execution_count": 26,
   "id": "332a1092",
   "metadata": {},
   "outputs": [],
   "source": [
    "# 검색 버튼 클릭\n",
    "\n",
    "search_btn = driver.find_element(By.CSS_SELECTOR, '#sform > fieldset > button')\n",
    "search_btn.click()"
   ]
  },
  {
   "cell_type": "markdown",
   "id": "f59774f5",
   "metadata": {},
   "source": [
    "- xpath\n",
    "\n",
    "'//' : 최상위 루트\n",
    "\n",
    "'*' : 자손 태그(두 칸 밑에 있는 태그부터 자손이라 함)\n",
    "\n",
    "'/' : 자식 태그(바로 밑에 있는 태그)\n",
    "\n",
    "'div[1] : div 태그 중에서 1번째 태그"
   ]
  },
  {
   "cell_type": "code",
   "execution_count": 35,
   "id": "1eafd8c4",
   "metadata": {},
   "outputs": [],
   "source": [
    "driver.find_element(By.XPATH, '//*[@id=\"query\"]').send_keys('파이썬')\n",
    "driver.find_element(By.XPATH, '//*[@id=\"search-btn\"]').click()"
   ]
  },
  {
   "cell_type": "code",
   "execution_count": 36,
   "id": "e58f7aa5",
   "metadata": {},
   "outputs": [],
   "source": [
    "driver.quit()"
   ]
  },
  {
   "cell_type": "code",
   "execution_count": 1,
   "id": "00926ae0",
   "metadata": {},
   "outputs": [],
   "source": [
    "from selenium import webdriver\n",
    "from selenium.webdriver.common.by import By\n",
    "\n",
    "driver = webdriver.Chrome()\n",
    "driver.get('https://pinkwink.kr/')"
   ]
  },
  {
   "cell_type": "code",
   "execution_count": 40,
   "id": "d185a221",
   "metadata": {},
   "outputs": [
    {
     "ename": "ElementNotInteractableException",
     "evalue": "Message: element not interactable: element has zero size\n  (Session info: chrome=118.0.5993.96)\nStacktrace:\n0   chromedriver                        0x000000010dc63e08 chromedriver + 5025288\n1   chromedriver                        0x000000010dc5ac23 chromedriver + 4987939\n2   chromedriver                        0x000000010d7fce67 chromedriver + 409191\n3   chromedriver                        0x000000010d84da91 chromedriver + 739985\n4   chromedriver                        0x000000010d8401aa chromedriver + 684458\n5   chromedriver                        0x000000010d8734e2 chromedriver + 894178\n6   chromedriver                        0x000000010d83fa28 chromedriver + 682536\n7   chromedriver                        0x000000010d87369e chromedriver + 894622\n8   chromedriver                        0x000000010d88f571 chromedriver + 1009009\n9   chromedriver                        0x000000010d8732b3 chromedriver + 893619\n10  chromedriver                        0x000000010d83deb9 chromedriver + 675513\n11  chromedriver                        0x000000010d83f0ee chromedriver + 680174\n12  chromedriver                        0x000000010dc25819 chromedriver + 4769817\n13  chromedriver                        0x000000010dc2a893 chromedriver + 4790419\n14  chromedriver                        0x000000010dc3166e chromedriver + 4818542\n15  chromedriver                        0x000000010dc2b5bd chromedriver + 4793789\n16  chromedriver                        0x000000010dbfd98c chromedriver + 4606348\n17  chromedriver                        0x000000010dc49b78 chromedriver + 4918136\n18  chromedriver                        0x000000010dc49d30 chromedriver + 4918576\n19  chromedriver                        0x000000010dc5a85e chromedriver + 4986974\n20  libsystem_pthread.dylib             0x00007ff80748f259 _pthread_start + 125\n21  libsystem_pthread.dylib             0x00007ff80748ac7b thread_start + 15\n",
     "output_type": "error",
     "traceback": [
      "\u001b[0;31m---------------------------------------------------------------------------\u001b[0m",
      "\u001b[0;31mElementNotInteractableException\u001b[0m           Traceback (most recent call last)",
      "Input \u001b[0;32mIn [40]\u001b[0m, in \u001b[0;36m<cell line: 5>\u001b[0;34m()\u001b[0m\n\u001b[1;32m      1\u001b[0m \u001b[38;5;66;03m# 1. 돋보기 버튼을 클릭\u001b[39;00m\n\u001b[1;32m      2\u001b[0m \n\u001b[1;32m      3\u001b[0m \u001b[38;5;66;03m## 동적 홈페이지의 특징 때문에 이 코드는 실행이 안됨.\u001b[39;00m\n\u001b[1;32m      4\u001b[0m search_btn \u001b[38;5;241m=\u001b[39m driver\u001b[38;5;241m.\u001b[39mfind_element(By\u001b[38;5;241m.\u001b[39mCSS_SELECTOR, \u001b[38;5;124m'\u001b[39m\u001b[38;5;124m#header > div.search\u001b[39m\u001b[38;5;124m'\u001b[39m) \u001b[38;5;66;03m# #header > div.search 도 에러뜸\u001b[39;00m\n\u001b[0;32m----> 5\u001b[0m \u001b[43msearch_btn\u001b[49m\u001b[38;5;241;43m.\u001b[39;49m\u001b[43mclick\u001b[49m\u001b[43m(\u001b[49m\u001b[43m)\u001b[49m\n",
      "File \u001b[0;32m~/anaconda3/lib/python3.9/site-packages/selenium/webdriver/remote/webelement.py:94\u001b[0m, in \u001b[0;36mWebElement.click\u001b[0;34m(self)\u001b[0m\n\u001b[1;32m     92\u001b[0m \u001b[38;5;28;01mdef\u001b[39;00m \u001b[38;5;21mclick\u001b[39m(\u001b[38;5;28mself\u001b[39m) \u001b[38;5;241m-\u001b[39m\u001b[38;5;241m>\u001b[39m \u001b[38;5;28;01mNone\u001b[39;00m:\n\u001b[1;32m     93\u001b[0m     \u001b[38;5;124;03m\"\"\"Clicks the element.\"\"\"\u001b[39;00m\n\u001b[0;32m---> 94\u001b[0m     \u001b[38;5;28;43mself\u001b[39;49m\u001b[38;5;241;43m.\u001b[39;49m\u001b[43m_execute\u001b[49m\u001b[43m(\u001b[49m\u001b[43mCommand\u001b[49m\u001b[38;5;241;43m.\u001b[39;49m\u001b[43mCLICK_ELEMENT\u001b[49m\u001b[43m)\u001b[49m\n",
      "File \u001b[0;32m~/anaconda3/lib/python3.9/site-packages/selenium/webdriver/remote/webelement.py:395\u001b[0m, in \u001b[0;36mWebElement._execute\u001b[0;34m(self, command, params)\u001b[0m\n\u001b[1;32m    393\u001b[0m     params \u001b[38;5;241m=\u001b[39m {}\n\u001b[1;32m    394\u001b[0m params[\u001b[38;5;124m\"\u001b[39m\u001b[38;5;124mid\u001b[39m\u001b[38;5;124m\"\u001b[39m] \u001b[38;5;241m=\u001b[39m \u001b[38;5;28mself\u001b[39m\u001b[38;5;241m.\u001b[39m_id\n\u001b[0;32m--> 395\u001b[0m \u001b[38;5;28;01mreturn\u001b[39;00m \u001b[38;5;28;43mself\u001b[39;49m\u001b[38;5;241;43m.\u001b[39;49m\u001b[43m_parent\u001b[49m\u001b[38;5;241;43m.\u001b[39;49m\u001b[43mexecute\u001b[49m\u001b[43m(\u001b[49m\u001b[43mcommand\u001b[49m\u001b[43m,\u001b[49m\u001b[43m \u001b[49m\u001b[43mparams\u001b[49m\u001b[43m)\u001b[49m\n",
      "File \u001b[0;32m~/anaconda3/lib/python3.9/site-packages/selenium/webdriver/remote/webdriver.py:345\u001b[0m, in \u001b[0;36mWebDriver.execute\u001b[0;34m(self, driver_command, params)\u001b[0m\n\u001b[1;32m    343\u001b[0m response \u001b[38;5;241m=\u001b[39m \u001b[38;5;28mself\u001b[39m\u001b[38;5;241m.\u001b[39mcommand_executor\u001b[38;5;241m.\u001b[39mexecute(driver_command, params)\n\u001b[1;32m    344\u001b[0m \u001b[38;5;28;01mif\u001b[39;00m response:\n\u001b[0;32m--> 345\u001b[0m     \u001b[38;5;28;43mself\u001b[39;49m\u001b[38;5;241;43m.\u001b[39;49m\u001b[43merror_handler\u001b[49m\u001b[38;5;241;43m.\u001b[39;49m\u001b[43mcheck_response\u001b[49m\u001b[43m(\u001b[49m\u001b[43mresponse\u001b[49m\u001b[43m)\u001b[49m\n\u001b[1;32m    346\u001b[0m     response[\u001b[38;5;124m\"\u001b[39m\u001b[38;5;124mvalue\u001b[39m\u001b[38;5;124m\"\u001b[39m] \u001b[38;5;241m=\u001b[39m \u001b[38;5;28mself\u001b[39m\u001b[38;5;241m.\u001b[39m_unwrap_value(response\u001b[38;5;241m.\u001b[39mget(\u001b[38;5;124m\"\u001b[39m\u001b[38;5;124mvalue\u001b[39m\u001b[38;5;124m\"\u001b[39m, \u001b[38;5;28;01mNone\u001b[39;00m))\n\u001b[1;32m    347\u001b[0m     \u001b[38;5;28;01mreturn\u001b[39;00m response\n",
      "File \u001b[0;32m~/anaconda3/lib/python3.9/site-packages/selenium/webdriver/remote/errorhandler.py:229\u001b[0m, in \u001b[0;36mErrorHandler.check_response\u001b[0;34m(self, response)\u001b[0m\n\u001b[1;32m    227\u001b[0m         alert_text \u001b[38;5;241m=\u001b[39m value[\u001b[38;5;124m\"\u001b[39m\u001b[38;5;124malert\u001b[39m\u001b[38;5;124m\"\u001b[39m]\u001b[38;5;241m.\u001b[39mget(\u001b[38;5;124m\"\u001b[39m\u001b[38;5;124mtext\u001b[39m\u001b[38;5;124m\"\u001b[39m)\n\u001b[1;32m    228\u001b[0m     \u001b[38;5;28;01mraise\u001b[39;00m exception_class(message, screen, stacktrace, alert_text)  \u001b[38;5;66;03m# type: ignore[call-arg]  # mypy is not smart enough here\u001b[39;00m\n\u001b[0;32m--> 229\u001b[0m \u001b[38;5;28;01mraise\u001b[39;00m exception_class(message, screen, stacktrace)\n",
      "\u001b[0;31mElementNotInteractableException\u001b[0m: Message: element not interactable: element has zero size\n  (Session info: chrome=118.0.5993.96)\nStacktrace:\n0   chromedriver                        0x000000010dc63e08 chromedriver + 5025288\n1   chromedriver                        0x000000010dc5ac23 chromedriver + 4987939\n2   chromedriver                        0x000000010d7fce67 chromedriver + 409191\n3   chromedriver                        0x000000010d84da91 chromedriver + 739985\n4   chromedriver                        0x000000010d8401aa chromedriver + 684458\n5   chromedriver                        0x000000010d8734e2 chromedriver + 894178\n6   chromedriver                        0x000000010d83fa28 chromedriver + 682536\n7   chromedriver                        0x000000010d87369e chromedriver + 894622\n8   chromedriver                        0x000000010d88f571 chromedriver + 1009009\n9   chromedriver                        0x000000010d8732b3 chromedriver + 893619\n10  chromedriver                        0x000000010d83deb9 chromedriver + 675513\n11  chromedriver                        0x000000010d83f0ee chromedriver + 680174\n12  chromedriver                        0x000000010dc25819 chromedriver + 4769817\n13  chromedriver                        0x000000010dc2a893 chromedriver + 4790419\n14  chromedriver                        0x000000010dc3166e chromedriver + 4818542\n15  chromedriver                        0x000000010dc2b5bd chromedriver + 4793789\n16  chromedriver                        0x000000010dbfd98c chromedriver + 4606348\n17  chromedriver                        0x000000010dc49b78 chromedriver + 4918136\n18  chromedriver                        0x000000010dc49d30 chromedriver + 4918576\n19  chromedriver                        0x000000010dc5a85e chromedriver + 4986974\n20  libsystem_pthread.dylib             0x00007ff80748f259 _pthread_start + 125\n21  libsystem_pthread.dylib             0x00007ff80748ac7b thread_start + 15\n"
     ]
    }
   ],
   "source": [
    "# 1. 돋보기 버튼을 클릭\n",
    "\n",
    "## 동적 홈페이지의 특징 때문에 이 코드는 실행이 안됨.\n",
    "search_btn = driver.find_element(By.CSS_SELECTOR, '#header > div.search') # #header > div.search 도 에러뜸\n",
    "search_btn.click()"
   ]
  },
  {
   "cell_type": "code",
   "execution_count": 41,
   "id": "8e873d78",
   "metadata": {},
   "outputs": [],
   "source": [
    "# 1. 돋보기 버튼을 클릭\n",
    "\n",
    "from selenium.webdriver import ActionChains\n",
    "\n",
    "search_tag = driver.find_element(By.CSS_SELECTOR, '.search')\n",
    "                                # 이전 시간에는 #header > div.search 와 같이 css_selector를 복사해서 넣어줬는데\n",
    "                                # .클래스명 도 가능한가보다! (공식 문서를 좀 더 찾아봐야할듯)\n",
    "                                # 그런데, 버튼에 대한 css_selector는 작동되지 않는다.\n",
    "                                # 혹시 위 코드도 그냥 상위 클래스 코드의 css_selector는 되지 않을까 했는데 똑같이 오류가 뜬다.\n",
    "action = ActionChains(driver)\n",
    "action.click(search_tag)\n",
    "action.perform()"
   ]
  },
  {
   "cell_type": "code",
   "execution_count": 42,
   "id": "4b638316",
   "metadata": {},
   "outputs": [],
   "source": [
    "# 2. 검색어를 입력\n",
    "\n",
    "keyword = driver.find_element(By.CSS_SELECTOR , '#header > div.search.on > input[type=text]')\n",
    "keyword.send_keys('머신러닝')"
   ]
  },
  {
   "cell_type": "code",
   "execution_count": 43,
   "id": "6643e374",
   "metadata": {},
   "outputs": [],
   "source": [
    "# 3. 검색 버튼 클릭\n",
    "\n",
    "search_btn = driver.find_element(By.CSS_SELECTOR ,'#header > div.search.on > button')\n",
    "search_btn.click()"
   ]
  },
  {
   "cell_type": "markdown",
   "id": "515127ec",
   "metadata": {},
   "source": [
    "# 4. Selenium + BeautifulSoup"
   ]
  },
  {
   "cell_type": "code",
   "execution_count": 2,
   "id": "a4797c2a",
   "metadata": {
    "scrolled": true
   },
   "outputs": [
    {
     "data": {
      "text/plain": [
       "'<html lang=\"ko\"><head><script src=\"https://pagead2.googlesyndication.com/pagead/managed/js/adsense/m202310230101/reactive_library_fy2021.js?bust=31079057\"></script><script src=\"https://partner.googleadservices.com/gampad/cookie.js?domain=pinkwink.kr&amp;callback=_gfp_s_&amp;client=ca-pub-2982459700139266\"></script><script src=\"https://pagead2.googlesyndication.com/pagead/managed/js/adsense/m202310230101/show_ads_impl_fy2021.js?bust=31079057\" id=\"google_shimpl\"></script><script src=\"https://t1.kakaocdn.net/malibu_prod/normal_wpm.js\" async=\"\"></script>\\n                <script type=\"text/javascript\">if (!window.T) { window.T = {} }\\nwindow.T.config = {\"TOP_SSL_URL\":\"https://www.tistory.com\",\"PREVIEW\":false,\"ROLE\":\"guest\",\"PREV_PAGE\":\"\",\"NEXT_PAGE\":\"\",\"BLOG\":{\"id\":371175,\"name\":\"pinkwink\",\"title\":\"PinkWink\",\"isDormancy\":false,\"nickName\":\"PinkWink\"},\"NEED_COMMENT_LOGIN\":false,\"COMMENT_LOGIN_CONFIRM_MESSAGE\":\"\",\"LOGIN_URL\":\"https://www.tistory.com/auth/login/?redirectUrl=https://pinkwink.kr/\",\"DEFAULT_URL\":\"https://pinkwink.kr\",\"USER\":{\"name\":null,\"homepage\":null,\"id\":0,\"profileImage\":null},\"SUBSCRIPTION\":{\"status\":\"none\",\"isConnected\":false,\"isPending\":false,\"isWait\":false,\"isProcessing\":false,\"isNone\":true},\"IS_LOGIN\":false,\"HAS_BLOG\":false,\"IS_SUPPORT\":false,\"TOP_URL\":\"http://www.tistory.com\",\"JOIN_URL\":\"https://www.tistory.com/member/join\",\"ROLE_GROUP\":\"visitor\"};\\nwindow.appInfo = {\"domain\":\"tistory.com\",\"topUrl\":\"https://www.tistory.com\",\"loginUrl\":\"https://www.tistory.com/auth/login\",\"logoutUrl\":\"https://www.tistory.com/auth/logout\"};\\nwindow.initData = {};\\n\\nwindow.TistoryBlog = {\\n    basePath: \"\",\\n    url: \"https://pinkwink.kr\",\\n    tistoryUrl: \"https://pinkwink.tistory.com\",\\n    manageUrl: \"https://pinkwink.tistory.com/manage\",\\n    token: \"pFP6SFOzdGdr6r0qjzoCoX5S5FaAnlw0F96uyk1dIejn+O1bWRepfbphKYzOiiCc\"\\n};\\nvar servicePath = \"\";\\nvar blogURL = \"\";</script>\\n\\n                \\n                \\n                \\n                        <!-- BusinessLicenseInfo - START -->\\n        \\n            <link href=\"https://tistory1.daumcdn.net/tistory_admin/userblog/userblog-9fe828f0ab538e226316ca5997f14f38a5d2a559/static/plugin/BusinessLicenseInfo/style.css\" rel=\"stylesheet\" type=\"text/css\">\\n\\n            <script>function switchFold(entryId) {\\n    var businessLayer = document.getElementById(\"businessInfoLayer_\" + entryId);\\n\\n    if (businessLayer) {\\n        if (businessLayer.className.indexOf(\"unfold_license\") > 0) {\\n            businessLayer.className = \"business_license_layer\";\\n        } else {\\n            businessLayer.className = \"business_license_layer unfold_license\";\\n        }\\n    }\\n}\\n</script>\\n\\n        \\n        <!-- BusinessLicenseInfo - END -->\\n<!-- System - START -->\\n\\n<!-- System - END -->\\n\\n        <!-- GoogleSearchConsole - START -->\\n        \\n<!-- BEGIN GOOGLE_SITE_VERIFICATION -->\\n<meta name=\"google-site-verification\" content=\"k3AvKvWkwX7aD3-ykT5zNH4ba1F3MJShutQ5laJ8S78\">\\n<!-- END GOOGLE_SITE_VERIFICATION -->\\n\\n        <!-- GoogleSearchConsole - END -->\\n\\n        <!-- A_ShareEntryWithSNS - START -->\\n        <link href=\"https://tistory1.daumcdn.net/tistory_admin/userblog/userblog-9fe828f0ab538e226316ca5997f14f38a5d2a559/static/plugin/A_ShareEntryWithSNS/style.css\" rel=\"stylesheet\" type=\"text/css\">\\n<script type=\"text/javascript\" src=\"https://tistory1.daumcdn.net/tistory_admin/userblog/userblog-9fe828f0ab538e226316ca5997f14f38a5d2a559/static/plugin/A_ShareEntryWithSNS/script.js\"></script>\\n\\n        <!-- A_ShareEntryWithSNS - END -->\\n\\n        <!-- TistoryProfileLayer - START -->\\n        <link href=\"https://tistory1.daumcdn.net/tistory_admin/userblog/userblog-9fe828f0ab538e226316ca5997f14f38a5d2a559/static/plugin/TistoryProfileLayer/style.css\" rel=\"stylesheet\" type=\"text/css\">\\n<script type=\"text/javascript\" src=\"https://tistory1.daumcdn.net/tistory_admin/userblog/userblog-9fe828f0ab538e226316ca5997f14f38a5d2a559/static/plugin/TistoryProfileLayer/script.js\"></script>\\n\\n        <!-- TistoryProfileLayer - END -->\\n\\n                \\n                <meta http-equiv=\"X-UA-Compatible\" content=\"IE=Edge\">\\n<meta name=\"format-detection\" content=\"telephone=no\">\\n<script src=\"//t1.daumcdn.net/tistory_admin/lib/jquery/jquery-3.5.1.min.js\" integrity=\"sha256-9/aliU8dGd2tb6OSsuzixeV4y/faTqgFtohetphbbj0=\" crossorigin=\"anonymous\"></script>\\n<script src=\"//t1.daumcdn.net/tistory_admin/lib/lightbox/js/lightbox-v2.10.0.min.js\" defer=\"\"></script>\\n<script type=\"text/javascript\" src=\"//t1.daumcdn.net/tiara/js/v1/tiara.min.js\"></script><meta name=\"referrer\" content=\"always\">\\n<meta name=\"google-adsense-platform-account\" content=\"ca-host-pub-9691043933427338\">\\n<meta name=\"google-adsense-platform-domain\" content=\"tistory.com\">\\n<meta name=\"google-adsense-account\" content=\"ca-pub-2982459700139266\">\\n<meta name=\"description\" content=\"한 변두리 공학도의 블로그입니다. 재미있어 보이는 것들을 모두 기초스럽게 접근하는 블로그이며... 그보다 더욱 소중한 우리 아가 미바뤼의 발자취를 남겨두는 블로그이기도 합니다.\">\\n\\n    <!-- BEGIN OPENGRAPH -->\\n    <meta property=\"og:type\" content=\"website\">\\n<meta property=\"og:url\" content=\"https://pinkwink.kr\">\\n<meta property=\"og:site_name\" content=\"PinkWink\">\\n<meta property=\"og:title\" content=\"PinkWink\">\\n<meta property=\"og:description\" content=\"한 변두리 공학도의 블로그입니다. 재미있어 보이는 것들을 모두 기초스럽게 접근하는 블로그이며... 그보다 더욱 소중한 우리 아가 미바뤼의 발자취를 남겨두는 블로그이기도 합니다.\">\\n<meta property=\"og:image\" content=\"https://img1.daumcdn.net/thumb/R800x0/?scode=mtistory2&amp;fname=https%3A%2F%2Ft1.daumcdn.net%2Fcfile%2Ftistory%2F207EB9594D92CCFF05\">\\n<meta property=\"og:article:author\" content=\"\\'PinkWink\\'\">\\n    <!-- END OPENGRAPH -->\\n\\n    <!-- BEGIN TWITTERCARD -->\\n    <meta name=\"twitter:card\" content=\"summary_large_image\">\\n<meta name=\"twitter:site\" content=\"@TISTORY\">\\n<meta name=\"twitter:title\" content=\"PinkWink\">\\n<meta name=\"twitter:description\" content=\"한 변두리 공학도의 블로그입니다. 재미있어 보이는 것들을 모두 기초스럽게 접근하는 블로그이며... 그보다 더욱 소중한 우리 아가 미바뤼의 발자취를 남겨두는 블로그이기도 합니다.\">\\n<meta property=\"twitter:image\" content=\"https://img1.daumcdn.net/thumb/R800x0/?scode=mtistory2&amp;fname=https%3A%2F%2Ft1.daumcdn.net%2Fcfile%2Ftistory%2F207EB9594D92CCFF05\">\\n    <!-- END TWITTERCARD -->\\n<link rel=\"stylesheet\" type=\"text/css\" href=\"https://t1.daumcdn.net/tistory_admin/lib/lightbox/css/lightbox.min.css\">\\n<link rel=\"stylesheet\" type=\"text/css\" href=\"https://tistory1.daumcdn.net/tistory_admin/userblog/userblog-9fe828f0ab538e226316ca5997f14f38a5d2a559/static/style/font.css\">\\n<link rel=\"stylesheet\" type=\"text/css\" href=\"https://tistory1.daumcdn.net/tistory_admin/userblog/userblog-9fe828f0ab538e226316ca5997f14f38a5d2a559/static/style/content.css\">\\n<script type=\"text/javascript\">(function() {\\n    var tjQuery = jQuery.noConflict(true);\\n    window.tjQuery = tjQuery;\\n    window.orgjQuery = window.jQuery; window.jQuery = tjQuery;\\n    window.jQuery = window.orgjQuery; delete window.orgjQuery;\\n})()</script>\\n<script type=\"text/javascript\" src=\"https://tistory1.daumcdn.net/tistory_admin/userblog/userblog-9fe828f0ab538e226316ca5997f14f38a5d2a559/static/script/base.js\"></script>\\n<script type=\"text/javascript\" src=\"//developers.kakao.com/sdk/js/kakao.min.js\"></script>\\n\\n                \\n<meta charset=\"UTF-8\">\\n<meta name=\"google-site-verification\" content=\"k3AvKvWkwX7aD3-ykT5zNH4ba1F3MJShutQ5laJ8S78\">\\n<meta name=\"viewport\" content=\"user-scalable=no, initial-scale=1.0, maximum-scale=1.0, minimum-scale=1.0, width=device-width\">\\n<title>PinkWink</title>\\n<link rel=\"stylesheet\" href=\"https://tistory1.daumcdn.net/tistory/371175/skin/style.css?_version_=1687613150\">\\n<script src=\"//t1.daumcdn.net/tistory_admin/lib/jquery/jquery-1.12.4.min.js\"></script>\\n  \\n  <script async=\"\" src=\"https://pagead2.googlesyndication.com/pagead/js/adsbygoogle.js?client=ca-pub-2982459700139266\" crossorigin=\"anonymous\" data-checked-head=\"true\"></script>\\n  \\n<!-- Google tag (gtag.js) -->\\n<script async=\"\" src=\"https://www.googletagmanager.com/gtag/js?id=G-HCXDDK2V0E\"></script>\\n<script>\\n  window.dataLayer = window.dataLayer || [];\\n  function gtag(){dataLayer.push(arguments);}\\n  gtag(\\'js\\', new Date());\\n\\n  gtag(\\'config\\', \\'G-HCXDDK2V0E\\');\\n</script>\\n\\n\\n                \\n                \\n                <style type=\"text/css\">.another_category {\\n    border: 1px solid #E5E5E5;\\n    padding: 10px 10px 5px;\\n    margin: 10px 0;\\n    clear: both;\\n}\\n\\n.another_category h4 {\\n    font-size: 12px !important;\\n    margin: 0 !important;\\n    border-bottom: 1px solid #E5E5E5 !important;\\n    padding: 2px 0 6px !important;\\n}\\n\\n.another_category h4 a {\\n    font-weight: bold !important;\\n}\\n\\n.another_category table {\\n    table-layout: fixed;\\n    border-collapse: collapse;\\n    width: 100% !important;\\n    margin-top: 10px !important;\\n}\\n\\n* html .another_category table {\\n    width: auto !important;\\n}\\n\\n*:first-child + html .another_category table {\\n    width: auto !important;\\n}\\n\\n.another_category th, .another_category td {\\n    padding: 0 0 4px !important;\\n}\\n\\n.another_category th {\\n    text-align: left;\\n    font-size: 12px !important;\\n    font-weight: normal;\\n    word-break: break-all;\\n    overflow: hidden;\\n    line-height: 1.5;\\n}\\n\\n.another_category td {\\n    text-align: right;\\n    width: 80px;\\n    font-size: 11px;\\n}\\n\\n.another_category th a {\\n    font-weight: normal;\\n    text-decoration: none;\\n    border: none !important;\\n}\\n\\n.another_category th a.current {\\n    font-weight: bold;\\n    text-decoration: none !important;\\n    border-bottom: 1px solid !important;\\n}\\n\\n.another_category th span {\\n    font-weight: normal;\\n    text-decoration: none;\\n    font: 10px Tahoma, Sans-serif;\\n    border: none !important;\\n}\\n\\n.another_category_color_gray, .another_category_color_gray h4 {\\n    border-color: #E5E5E5 !important;\\n}\\n\\n.another_category_color_gray * {\\n    color: #909090 !important;\\n}\\n\\n.another_category_color_gray th a.current {\\n    border-color: #909090 !important;\\n}\\n\\n.another_category_color_gray h4, .another_category_color_gray h4 a {\\n    color: #737373 !important;\\n}\\n\\n.another_category_color_red, .another_category_color_red h4 {\\n    border-color: #F6D4D3 !important;\\n}\\n\\n.another_category_color_red * {\\n    color: #E86869 !important;\\n}\\n\\n.another_category_color_red th a.current {\\n    border-color: #E86869 !important;\\n}\\n\\n.another_category_color_red h4, .another_category_color_red h4 a {\\n    color: #ED0908 !important;\\n}\\n\\n.another_category_color_green, .another_category_color_green h4 {\\n    border-color: #CCE7C8 !important;\\n}\\n\\n.another_category_color_green * {\\n    color: #64C05B !important;\\n}\\n\\n.another_category_color_green th a.current {\\n    border-color: #64C05B !important;\\n}\\n\\n.another_category_color_green h4, .another_category_color_green h4 a {\\n    color: #3EA731 !important;\\n}\\n\\n.another_category_color_blue, .another_category_color_blue h4 {\\n    border-color: #C8DAF2 !important;\\n}\\n\\n.another_category_color_blue * {\\n    color: #477FD6 !important;\\n}\\n\\n.another_category_color_blue th a.current {\\n    border-color: #477FD6 !important;\\n}\\n\\n.another_category_color_blue h4, .another_category_color_blue h4 a {\\n    color: #1960CA !important;\\n}\\n\\n.another_category_color_violet, .another_category_color_violet h4 {\\n    border-color: #E1CEEC !important;\\n}\\n\\n.another_category_color_violet * {\\n    color: #9D64C5 !important;\\n}\\n\\n.another_category_color_violet th a.current {\\n    border-color: #9D64C5 !important;\\n}\\n\\n.another_category_color_violet h4, .another_category_color_violet h4 a {\\n    color: #7E2CB5 !important;\\n}\\n</style>\\n\\n                \\n                <link rel=\"stylesheet\" type=\"text/css\" href=\"https://tistory1.daumcdn.net/tistory_admin/userblog/userblog-9fe828f0ab538e226316ca5997f14f38a5d2a559/static/style/dialog.css\">\\n<link rel=\"stylesheet\" type=\"text/css\" href=\"//t1.daumcdn.net/tistory_admin/www/style/top/font.css\">\\n<link rel=\"stylesheet\" type=\"text/css\" href=\"https://tistory1.daumcdn.net/tistory_admin/userblog/userblog-9fe828f0ab538e226316ca5997f14f38a5d2a559/static/style/postBtn.css\">\\n<link rel=\"stylesheet\" type=\"text/css\" href=\"https://tistory1.daumcdn.net/tistory_admin/userblog/userblog-9fe828f0ab538e226316ca5997f14f38a5d2a559/static/style/comment.css\">\\n<link rel=\"stylesheet\" type=\"text/css\" href=\"https://tistory1.daumcdn.net/tistory_admin/userblog/userblog-9fe828f0ab538e226316ca5997f14f38a5d2a559/static/style/tistory.css\">\\n<link rel=\"stylesheet\" type=\"text/css\" href=\"https://tistory1.daumcdn.net/tistory_admin/userblog/userblog-9fe828f0ab538e226316ca5997f14f38a5d2a559/static/style/revenue.css\">\\n<link rel=\"canonical\" href=\"https://pinkwink.kr\">\\n\\n<!-- BEGIN STRUCTURED_DATA -->\\n<script type=\"application/ld+json\">\\n    {\"@context\":\"http://schema.org\",\"@type\":\"WebSite\",\"url\":\"/\",\"potentialAction\":{\"@type\":\"SearchAction\",\"target\":\"/search/{search_term_string}\",\"query-input\":\"required name=search_term_string\"}}\\n</script>\\n<!-- END STRUCTURED_DATA -->\\n<script type=\"text/javascript\" src=\"https://tistory1.daumcdn.net/tistory_admin/userblog/userblog-9fe828f0ab538e226316ca5997f14f38a5d2a559/static/script/common.js\"></script>\\n<script type=\"text/javascript\" src=\"https://tistory1.daumcdn.net/tistory_admin/userblog/userblog-9fe828f0ab538e226316ca5997f14f38a5d2a559/static/script/comment.js\" defer=\"\"></script>\\n\\n                \\n                <style>@font-face{font-family:swiper-icons;src:url(\"data:application/font-woff;charset=utf-8;base64, d09GRgABAAAAAAZgABAAAAAADAAAAAAAAAAAAAAAAAAAAAAAAAAAAAAAAABGRlRNAAAGRAAAABoAAAAci6qHkUdERUYAAAWgAAAAIwAAACQAYABXR1BPUwAABhQAAAAuAAAANuAY7+xHU1VCAAAFxAAAAFAAAABm2fPczU9TLzIAAAHcAAAASgAAAGBP9V5RY21hcAAAAkQAAACIAAABYt6F0cBjdnQgAAACzAAAAAQAAAAEABEBRGdhc3AAAAWYAAAACAAAAAj//wADZ2x5ZgAAAywAAADMAAAD2MHtryVoZWFkAAABbAAAADAAAAA2E2+eoWhoZWEAAAGcAAAAHwAAACQC9gDzaG10eAAAAigAAAAZAAAArgJkABFsb2NhAAAC0AAAAFoAAABaFQAUGG1heHAAAAG8AAAAHwAAACAAcABAbmFtZQAAA/gAAAE5AAACXvFdBwlwb3N0AAAFNAAAAGIAAACE5s74hXjaY2BkYGAAYpf5Hu/j+W2+MnAzMYDAzaX6QjD6/4//Bxj5GA8AuRwMYGkAPywL13jaY2BkYGA88P8Agx4j+/8fQDYfA1AEBWgDAIB2BOoAeNpjYGRgYNBh4GdgYgABEMnIABJzYNADCQAACWgAsQB42mNgYfzCOIGBlYGB0YcxjYGBwR1Kf2WQZGhhYGBiYGVmgAFGBiQQkOaawtDAoMBQxXjg/wEGPcYDDA4wNUA2CCgwsAAAO4EL6gAAeNpj2M0gyAACqxgGNWBkZ2D4/wMA+xkDdgAAAHjaY2BgYGaAYBkGRgYQiAHyGMF8FgYHIM3DwMHABGQrMOgyWDLEM1T9/w8UBfEMgLzE////P/5//f/V/xv+r4eaAAeMbAxwIUYmIMHEgKYAYjUcsDAwsLKxc3BycfPw8jEQA/gZBASFhEVExcQlJKWkZWTl5BUUlZRVVNXUNTQZBgMAAMR+E+gAEQFEAAAAKgAqACoANAA+AEgAUgBcAGYAcAB6AIQAjgCYAKIArAC2AMAAygDUAN4A6ADyAPwBBgEQARoBJAEuATgBQgFMAVYBYAFqAXQBfgGIAZIBnAGmAbIBzgHsAAB42u2NMQ6CUAyGW568x9AneYYgm4MJbhKFaExIOAVX8ApewSt4Bic4AfeAid3VOBixDxfPYEza5O+Xfi04YADggiUIULCuEJK8VhO4bSvpdnktHI5QCYtdi2sl8ZnXaHlqUrNKzdKcT8cjlq+rwZSvIVczNiezsfnP/uznmfPFBNODM2K7MTQ45YEAZqGP81AmGGcF3iPqOop0r1SPTaTbVkfUe4HXj97wYE+yNwWYxwWu4v1ugWHgo3S1XdZEVqWM7ET0cfnLGxWfkgR42o2PvWrDMBSFj/IHLaF0zKjRgdiVMwScNRAoWUoH78Y2icB/yIY09An6AH2Bdu/UB+yxopYshQiEvnvu0dURgDt8QeC8PDw7Fpji3fEA4z/PEJ6YOB5hKh4dj3EvXhxPqH/SKUY3rJ7srZ4FZnh1PMAtPhwP6fl2PMJMPDgeQ4rY8YT6Gzao0eAEA409DuggmTnFnOcSCiEiLMgxCiTI6Cq5DZUd3Qmp10vO0LaLTd2cjN4fOumlc7lUYbSQcZFkutRG7g6JKZKy0RmdLY680CDnEJ+UMkpFFe1RN7nxdVpXrC4aTtnaurOnYercZg2YVmLN/d/gczfEimrE/fs/bOuq29Zmn8tloORaXgZgGa78yO9/cnXm2BpaGvq25Dv9S4E9+5SIc9PqupJKhYFSSl47+Qcr1mYNAAAAeNptw0cKwkAAAMDZJA8Q7OUJvkLsPfZ6zFVERPy8qHh2YER+3i/BP83vIBLLySsoKimrqKqpa2hp6+jq6RsYGhmbmJqZSy0sraxtbO3sHRydnEMU4uR6yx7JJXveP7WrDycAAAAAAAH//wACeNpjYGRgYOABYhkgZgJCZgZNBkYGLQZtIJsFLMYAAAw3ALgAeNolizEKgDAQBCchRbC2sFER0YD6qVQiBCv/H9ezGI6Z5XBAw8CBK/m5iQQVauVbXLnOrMZv2oLdKFa8Pjuru2hJzGabmOSLzNMzvutpB3N42mNgZGBg4GKQYzBhYMxJLMlj4GBgAYow/P/PAJJhLM6sSoWKfWCAAwDAjgbRAAB42mNgYGBkAIIbCZo5IPrmUn0hGA0AO8EFTQAA\");font-weight:400;font-style:normal}:root{--swiper-theme-color:#007aff}.swiper{margin-left:auto;margin-right:auto;position:relative;overflow:hidden;list-style:none;padding:0;z-index:1}.swiper-vertical>.swiper-wrapper{flex-direction:column}.swiper-wrapper{position:relative;width:100%;height:100%;z-index:1;display:flex;transition-property:transform;box-sizing:content-box}.swiper-android .swiper-slide,.swiper-wrapper{transform:translate3d(0px, 0, 0)}.swiper-pointer-events{touch-action:pan-y}.swiper-pointer-events.swiper-vertical{touch-action:pan-x}.swiper-slide{flex-shrink:0;width:100%;height:100%;position:relative;transition-property:transform}.swiper-slide-invisible-blank{visibility:hidden}.swiper-autoheight,.swiper-autoheight .swiper-slide{height:auto}.swiper-autoheight .swiper-wrapper{align-items:flex-start;transition-property:transform,height}.swiper-backface-hidden .swiper-slide{transform:translateZ(0);-webkit-backface-visibility:hidden;backface-visibility:hidden}.swiper-3d,.swiper-3d.swiper-css-mode .swiper-wrapper{perspective:1200px}.swiper-3d .swiper-cube-shadow,.swiper-3d .swiper-slide,.swiper-3d .swiper-slide-shadow,.swiper-3d .swiper-slide-shadow-bottom,.swiper-3d .swiper-slide-shadow-left,.swiper-3d .swiper-slide-shadow-right,.swiper-3d .swiper-slide-shadow-top,.swiper-3d .swiper-wrapper{transform-style:preserve-3d}.swiper-3d .swiper-slide-shadow,.swiper-3d .swiper-slide-shadow-bottom,.swiper-3d .swiper-slide-shadow-left,.swiper-3d .swiper-slide-shadow-right,.swiper-3d .swiper-slide-shadow-top{position:absolute;left:0;top:0;width:100%;height:100%;pointer-events:none;z-index:10}.swiper-3d .swiper-slide-shadow{background:rgba(0,0,0,.15)}.swiper-3d .swiper-slide-shadow-left{background-image:linear-gradient(to left, rgba(0, 0, 0, 0.5), rgba(0, 0, 0, 0))}.swiper-3d .swiper-slide-shadow-right{background-image:linear-gradient(to right, rgba(0, 0, 0, 0.5), rgba(0, 0, 0, 0))}.swiper-3d .swiper-slide-shadow-top{background-image:linear-gradient(to top, rgba(0, 0, 0, 0.5), rgba(0, 0, 0, 0))}.swiper-3d .swiper-slide-shadow-bottom{background-image:linear-gradient(to bottom, rgba(0, 0, 0, 0.5), rgba(0, 0, 0, 0))}.swiper-css-mode>.swiper-wrapper{overflow:auto;scrollbar-width:none;-ms-overflow-style:none}.swiper-css-mode>.swiper-wrapper::-webkit-scrollbar{display:none}.swiper-css-mode>.swiper-wrapper>.swiper-slide{scroll-snap-align:start start}.swiper-horizontal.swiper-css-mode>.swiper-wrapper{scroll-snap-type:x mandatory}.swiper-vertical.swiper-css-mode>.swiper-wrapper{scroll-snap-type:y mandatory}.swiper-centered>.swiper-wrapper::before{content:\"\";flex-shrink:0;order:9999}.swiper-centered.swiper-horizontal>.swiper-wrapper>.swiper-slide:first-child{margin-inline-start:var(--swiper-centered-offset-before)}.swiper-centered.swiper-horizontal>.swiper-wrapper::before{height:100%;min-height:1px;width:var(--swiper-centered-offset-after)}.swiper-centered.swiper-vertical>.swiper-wrapper>.swiper-slide:first-child{margin-block-start:var(--swiper-centered-offset-before)}.swiper-centered.swiper-vertical>.swiper-wrapper::before{width:100%;min-width:1px;height:var(--swiper-centered-offset-after)}.swiper-centered>.swiper-wrapper>.swiper-slide{scroll-snap-align:center center;scroll-snap-stop:always}</style><meta http-equiv=\"origin-trial\" content=\"As0hBNJ8h++fNYlkq8cTye2qDLyom8NddByiVytXGGD0YVE+2CEuTCpqXMDxdhOMILKoaiaYifwEvCRlJ/9GcQ8AAAB8eyJvcmlnaW4iOiJodHRwczovL2RvdWJsZWNsaWNrLm5ldDo0NDMiLCJmZWF0dXJlIjoiV2ViVmlld1hSZXF1ZXN0ZWRXaXRoRGVwcmVjYXRpb24iLCJleHBpcnkiOjE3MTk1MzI3OTksImlzU3ViZG9tYWluIjp0cnVlfQ==\"><meta http-equiv=\"origin-trial\" content=\"AgRYsXo24ypxC89CJanC+JgEmraCCBebKl8ZmG7Tj5oJNx0cmH0NtNRZs3NB5ubhpbX/bIt7l2zJOSyO64NGmwMAAACCeyJvcmlnaW4iOiJodHRwczovL2dvb2dsZXN5bmRpY2F0aW9uLmNvbTo0NDMiLCJmZWF0dXJlIjoiV2ViVmlld1hSZXF1ZXN0ZWRXaXRoRGVwcmVjYXRpb24iLCJleHBpcnkiOjE3MTk1MzI3OTksImlzU3ViZG9tYWluIjp0cnVlfQ==\"><meta http-equiv=\"origin-trial\" content=\"As0hBNJ8h++fNYlkq8cTye2qDLyom8NddByiVytXGGD0YVE+2CEuTCpqXMDxdhOMILKoaiaYifwEvCRlJ/9GcQ8AAAB8eyJvcmlnaW4iOiJodHRwczovL2RvdWJsZWNsaWNrLm5ldDo0NDMiLCJmZWF0dXJlIjoiV2ViVmlld1hSZXF1ZXN0ZWRXaXRoRGVwcmVjYXRpb24iLCJleHBpcnkiOjE3MTk1MzI3OTksImlzU3ViZG9tYWluIjp0cnVlfQ==\"><meta http-equiv=\"origin-trial\" content=\"AgRYsXo24ypxC89CJanC+JgEmraCCBebKl8ZmG7Tj5oJNx0cmH0NtNRZs3NB5ubhpbX/bIt7l2zJOSyO64NGmwMAAACCeyJvcmlnaW4iOiJodHRwczovL2dvb2dsZXN5bmRpY2F0aW9uLmNvbTo0NDMiLCJmZWF0dXJlIjoiV2ViVmlld1hSZXF1ZXN0ZWRXaXRoRGVwcmVjYXRpb24iLCJleHBpcnkiOjE3MTk1MzI3OTksImlzU3ViZG9tYWluIjp0cnVlfQ==\"><meta http-equiv=\"origin-trial\" content=\"AymqwRC7u88Y4JPvfIF2F37QKylC04248hLCdJAsh8xgOfe/dVJPV3XS3wLFca1ZMVOtnBfVjaCMTVudWM//5g4AAAB7eyJvcmlnaW4iOiJodHRwczovL3d3dy5nb29nbGV0YWdtYW5hZ2VyLmNvbTo0NDMiLCJmZWF0dXJlIjoiUHJpdmFjeVNhbmRib3hBZHNBUElzIiwiZXhwaXJ5IjoxNjk1MTY3OTk5LCJpc1RoaXJkUGFydHkiOnRydWV9\"><meta http-equiv=\"origin-trial\" content=\"As0hBNJ8h++fNYlkq8cTye2qDLyom8NddByiVytXGGD0YVE+2CEuTCpqXMDxdhOMILKoaiaYifwEvCRlJ/9GcQ8AAAB8eyJvcmlnaW4iOiJodHRwczovL2RvdWJsZWNsaWNrLm5ldDo0NDMiLCJmZWF0dXJlIjoiV2ViVmlld1hSZXF1ZXN0ZWRXaXRoRGVwcmVjYXRpb24iLCJleHBpcnkiOjE3MTk1MzI3OTksImlzU3ViZG9tYWluIjp0cnVlfQ==\"><meta http-equiv=\"origin-trial\" content=\"AgRYsXo24ypxC89CJanC+JgEmraCCBebKl8ZmG7Tj5oJNx0cmH0NtNRZs3NB5ubhpbX/bIt7l2zJOSyO64NGmwMAAACCeyJvcmlnaW4iOiJodHRwczovL2dvb2dsZXN5bmRpY2F0aW9uLmNvbTo0NDMiLCJmZWF0dXJlIjoiV2ViVmlld1hSZXF1ZXN0ZWRXaXRoRGVwcmVjYXRpb24iLCJleHBpcnkiOjE3MTk1MzI3OTksImlzU3ViZG9tYWluIjp0cnVlfQ==\"><meta http-equiv=\"origin-trial\" content=\"As0hBNJ8h++fNYlkq8cTye2qDLyom8NddByiVytXGGD0YVE+2CEuTCpqXMDxdhOMILKoaiaYifwEvCRlJ/9GcQ8AAAB8eyJvcmlnaW4iOiJodHRwczovL2RvdWJsZWNsaWNrLm5ldDo0NDMiLCJmZWF0dXJlIjoiV2ViVmlld1hSZXF1ZXN0ZWRXaXRoRGVwcmVjYXRpb24iLCJleHBpcnkiOjE3MTk1MzI3OTksImlzU3ViZG9tYWluIjp0cnVlfQ==\"><meta http-equiv=\"origin-trial\" content=\"AgRYsXo24ypxC89CJanC+JgEmraCCBebKl8ZmG7Tj5oJNx0cmH0NtNRZs3NB5ubhpbX/bIt7l2zJOSyO64NGmwMAAACCeyJvcmlnaW4iOiJodHRwczovL2dvb2dsZXN5bmRpY2F0aW9uLmNvbTo0NDMiLCJmZWF0dXJlIjoiV2ViVmlld1hSZXF1ZXN0ZWRXaXRoRGVwcmVjYXRpb24iLCJleHBpcnkiOjE3MTk1MzI3OTksImlzU3ViZG9tYWluIjp0cnVlfQ==\"></head>\\n                                                <body id=\"tt-body-index\" class=\"color-gray post-type-text paging-view-more\">\\n                \\n                \\n                \\n\\n<div id=\"acc-nav\">\\n  <a href=\"#content\">본문 바로가기</a>\\n</div>\\n<div id=\"wrap\">\\n  <header id=\"header\">\\n    <h1><a href=\"https://pinkwink.kr/\">PinkWink</a></h1>\\n    <button type=\"button\" class=\"mobile-menu\"><span>메뉴</span></button>\\n    <div class=\"menu\">\\n      <nav id=\"gnb\">\\n        <ul class=\"tt_category\"><li class=\"\"><a href=\"/category\" class=\"link_tit\"> Posts by PinkWink <span class=\"c_cnt\">(1315)</span> <img alt=\"N\" src=\"https://tistory1.daumcdn.net/tistory_admin/blogs/image/category/new_ico_2.gif\" style=\"vertical-align:middle;padding-left:2px;\"></a>\\n  <ul class=\"category_list\"><li class=\"\"><a href=\"/category/Education\" class=\"link_item\"> Education <span class=\"c_cnt\">(41)</span> </a></li>\\n<li class=\"\"><a href=\"/category/Robot\" class=\"link_item\"> Robot <span class=\"c_cnt\">(162)</span> <img alt=\"N\" src=\"https://tistory1.daumcdn.net/tistory_admin/blogs/image/category/new_ico_2.gif\" style=\"vertical-align:middle;padding-left:2px;\"></a>\\n  <ul class=\"sub_category_list\"><li class=\"\"><a href=\"/category/Robot/Project\" class=\"link_sub_item\"> Project <span class=\"c_cnt\">(43)</span> </a></li>\\n<li class=\"\"><a href=\"/category/Robot/Robot%20Program%20-%20ROS\" class=\"link_sub_item\"> Robot Program - ROS <span class=\"c_cnt\">(67)</span> <img alt=\"N\" src=\"https://tistory1.daumcdn.net/tistory_admin/blogs/image/category/new_ico_2.gif\" style=\"vertical-align:middle;padding-left:2px;\"></a></li>\\n<li class=\"\"><a href=\"/category/Robot/Robot%20Module\" class=\"link_sub_item\"> Robot Module <span class=\"c_cnt\">(16)</span> </a></li>\\n<li class=\"\"><a href=\"/category/Robot/Block%20Coding\" class=\"link_sub_item\"> Block Coding <span class=\"c_cnt\">(13)</span> </a></li>\\n<li class=\"\"><a href=\"/category/Robot/Reference\" class=\"link_sub_item\"> Reference <span class=\"c_cnt\">(23)</span> </a></li>\\n</ul>\\n</li>\\n<li class=\"\"><a href=\"/category/Theory\" class=\"link_item\"> Theory <span class=\"c_cnt\">(228)</span> </a>\\n  <ul class=\"sub_category_list\"><li class=\"\"><a href=\"/category/Theory/ControlTheory\" class=\"link_sub_item\"> ControlTheory <span class=\"c_cnt\">(53)</span> </a></li>\\n<li class=\"\"><a href=\"/category/Theory/DataScience\" class=\"link_sub_item\"> DataScience <span class=\"c_cnt\">(52)</span> </a></li>\\n<li class=\"\"><a href=\"/category/Theory/MachineLearning\" class=\"link_sub_item\"> MachineLearning <span class=\"c_cnt\">(7)</span> </a></li>\\n<li class=\"\"><a href=\"/category/Theory/DeepLearning\" class=\"link_sub_item\"> DeepLearning <span class=\"c_cnt\">(19)</span> </a></li>\\n<li class=\"\"><a href=\"/category/Theory/Project\" class=\"link_sub_item\"> Project <span class=\"c_cnt\">(5)</span> </a></li>\\n<li class=\"\"><a href=\"/category/Theory/Lecture\" class=\"link_sub_item\"> Lecture <span class=\"c_cnt\">(77)</span> </a></li>\\n<li class=\"\"><a href=\"/category/Theory/Review\" class=\"link_sub_item\"> Review <span class=\"c_cnt\">(15)</span> </a></li>\\n</ul>\\n</li>\\n<li class=\"\"><a href=\"/category/Software\" class=\"link_item\"> Software <span class=\"c_cnt\">(302)</span> </a>\\n  <ul class=\"sub_category_list\"><li class=\"\"><a href=\"/category/Software/MATLAB\" class=\"link_sub_item\"> MATLAB <span class=\"c_cnt\">(65)</span> </a></li>\\n<li class=\"\"><a href=\"/category/Software/Python\" class=\"link_sub_item\"> Python <span class=\"c_cnt\">(78)</span> </a></li>\\n<li class=\"\"><a href=\"/category/Software/Processing\" class=\"link_sub_item\"> Processing <span class=\"c_cnt\">(11)</span> </a></li>\\n<li class=\"\"><a href=\"/category/Software/Ubuntu%20and%20Mint\" class=\"link_sub_item\"> Ubuntu and Mint <span class=\"c_cnt\">(40)</span> </a></li>\\n<li class=\"\"><a href=\"/category/Software/Mac%20OS\" class=\"link_sub_item\"> Mac OS <span class=\"c_cnt\">(25)</span> </a></li>\\n<li class=\"\"><a href=\"/category/Software/Useful%20SW\" class=\"link_sub_item\"> Useful SW <span class=\"c_cnt\">(60)</span> </a></li>\\n<li class=\"\"><a href=\"/category/Software/Useful%20Site\" class=\"link_sub_item\"> Useful Site <span class=\"c_cnt\">(23)</span> </a></li>\\n</ul>\\n</li>\\n<li class=\"\"><a href=\"/category/Hardware\" class=\"link_item\"> Hardware <span class=\"c_cnt\">(100)</span> </a>\\n  <ul class=\"sub_category_list\"><li class=\"\"><a href=\"/category/Hardware/SBC%20%28rasp%2C%20jetson%2C%20latte%20panda%29\" class=\"link_sub_item\"> SBC (rasp, jetson, latte pa.. <span class=\"c_cnt\">(20)</span> </a></li>\\n<li class=\"\"><a href=\"/category/Hardware/Arduino%20and%20Friends\" class=\"link_sub_item\"> Arduino and Friends <span class=\"c_cnt\">(30)</span> </a></li>\\n<li class=\"\"><a href=\"/category/Hardware/MCU\" class=\"link_sub_item\"> MCU <span class=\"c_cnt\">(16)</span> </a></li>\\n<li class=\"\"><a href=\"/category/Hardware/Review\" class=\"link_sub_item\"> Review <span class=\"c_cnt\">(34)</span> </a></li>\\n</ul>\\n</li>\\n<li class=\"\"><a href=\"/category/%EB%AC%B8%ED%99%94%EC%83%9D%ED%99%9C\" class=\"link_item\"> 문화생활 <span class=\"c_cnt\">(138)</span> <img alt=\"N\" src=\"https://tistory1.daumcdn.net/tistory_admin/blogs/image/category/new_ico_2.gif\" style=\"vertical-align:middle;padding-left:2px;\"></a>\\n  <ul class=\"sub_category_list\"><li class=\"\"><a href=\"/category/%EB%AC%B8%ED%99%94%EC%83%9D%ED%99%9C/%EA%B0%90%EC%83%81%ED%95%98%EA%B8%B0\" class=\"link_sub_item\"> 감상하기 <span class=\"c_cnt\">(28)</span> </a></li>\\n<li class=\"\"><a href=\"/category/%EB%AC%B8%ED%99%94%EC%83%9D%ED%99%9C/%EA%B0%80%EB%B3%BC%EA%B1%B0%EB%A6%AC.%EC%84%B8%EA%B3%84\" class=\"link_sub_item\"> 가볼거리.세계 <span class=\"c_cnt\">(83)</span> <img alt=\"N\" src=\"https://tistory1.daumcdn.net/tistory_admin/blogs/image/category/new_ico_2.gif\" style=\"vertical-align:middle;padding-left:2px;\"></a></li>\\n<li class=\"\"><a href=\"/category/%EB%AC%B8%ED%99%94%EC%83%9D%ED%99%9C/%EC%97%AD%EC%82%AC%EC%9D%B4%EC%95%BC%EA%B8%B0\" class=\"link_sub_item\"> 역사이야기 <span class=\"c_cnt\">(27)</span> </a></li>\\n</ul>\\n</li>\\n<li class=\"\"><a href=\"/category/%EC%9D%BC%EC%83%81%EC%83%9D%ED%99%9C\" class=\"link_item\"> 일상생활 <span class=\"c_cnt\">(344)</span> </a>\\n  <ul class=\"sub_category_list\"><li class=\"\"><a href=\"/category/%EC%9D%BC%EC%83%81%EC%83%9D%ED%99%9C/%EC%95%84%EA%B0%80%20%EB%AF%B8%EB%B0%94%EB%A4%BC\" class=\"link_sub_item\"> 아가 미바뤼 <span class=\"c_cnt\">(66)</span> </a></li>\\n<li class=\"\"><a href=\"/category/%EC%9D%BC%EC%83%81%EC%83%9D%ED%99%9C/%EB%81%84%EC%A0%81%EA%B1%B0%EB%A6%BC\" class=\"link_sub_item\"> 끄적거림 <span class=\"c_cnt\">(123)</span> </a></li>\\n<li class=\"\"><a href=\"/category/%EC%9D%BC%EC%83%81%EC%83%9D%ED%99%9C/%EB%A8%B9%EC%9D%84%EA%B1%B0%EB%A6%AC\" class=\"link_sub_item\"> 먹을거리 <span class=\"c_cnt\">(50)</span> </a></li>\\n<li class=\"\"><a href=\"/category/%EC%9D%BC%EC%83%81%EC%83%9D%ED%99%9C/%EA%B0%80%EB%B3%BC%EA%B1%B0%EB%A6%AC.%ED%95%9C%EA%B5%AD\" class=\"link_sub_item\"> 가볼거리.한국 <span class=\"c_cnt\">(91)</span> </a></li>\\n<li class=\"\"><a href=\"/category/%EC%9D%BC%EC%83%81%EC%83%9D%ED%99%9C/%ED%88%AC%EB%8D%9C%EA%B1%B0%EB%A6%BC\" class=\"link_sub_item\"> 투덜거림 <span class=\"c_cnt\">(14)</span> </a></li>\\n</ul>\\n</li>\\n</ul>\\n</li>\\n</ul>\\n\\n      </nav>\\n      <div class=\"social-link\">\\n        \\n        \\n        \\n        \\n      </div>\\n      <p>POWERED BY TISTORY</p>\\n    </div>\\n    <div class=\"search\">\\n      \\n          <input type=\"text\" name=\"search\" value=\"\" placeholder=\"검색내용을 입력하세요.\" onkeypress=\"if (event.keyCode == 13) { try {\\n    window.location.href = \\'/search\\' + \\'/\\' + looseURIEncode(document.getElementsByName(\\'search\\')[0].value);\\n    document.getElementsByName(\\'search\\')[0].value = \\'\\';\\n    return false;\\n} catch (e) {} }\">\\n          <button type=\"submit\" onclick=\"try {\\n    window.location.href = \\'/search\\' + \\'/\\' + looseURIEncode(document.getElementsByName(\\'search\\')[0].value);\\n    document.getElementsByName(\\'search\\')[0].value = \\'\\';\\n    return false;\\n} catch (e) {}\">검색</button>\\n        \\n    </div>\\n  </header>\\n  <hr>\\n  <section class=\"container\">\\n    \\n    <article id=\"content\">\\n      \\n          \\n            \\n\\n            \\n\\n            \\n              <div class=\"cover-masonry\">\\n                <div class=\"inner\">\\n                  <h2>최신 글</h2>\\n                  <ul style=\"display: block; position: relative; height: 741.953px;\">\\n                    \\n                      <li style=\"position: absolute; left: 0px; top: 0px;\">\\n                        <a href=\"/1440\">\\n                          <span class=\"thum\"><img src=\"//i1.daumcdn.net/thumb/R600x0/?fname=https://blog.kakaocdn.net/dn/IiT41/btsy47jDvZB/AU1xmXskO0EId5j7fzZD90/img.png\" alt=\"\"></span>\\n                          \\n                            <span class=\"category\">Robot Program - ROS</span>\\n                          \\n                          <span class=\"title\">ROS2 colcon build에서 SetuptoolsDeprecationWarning 대응법</span>\\n                          <span class=\"excerpt\">ROS2에서 colcon build를 하면 SetuptoolsDeprecationWarning이 뜰때가 있습니다. 오늘은 그 워닝을 어떻게 극복할지를 이야기 하려고 합니다. 이유는 setuptools 버전의 호완문제로 알려져 있습니다. 이렇게 colcon build를 할때 /usr/lib/python3/dist-packages/setuptools/command/install.py:34: SetuptoolsDeprecationWarning: setup.py install is deprecated. Use build and pip and other standards-based tools. warnings.warn( --- 와 같이 워닝이 뜨는거죠. 이 워닝이 떠도 사용하는데는 문제가 없습니다. 현재 제 PC..</span>\\n                        </a>\\n                      </li>\\n                    \\n                      <li style=\"position: absolute; left: 333.992px; top: 0px;\">\\n                        <a href=\"/1439\">\\n                          <span class=\"thum\"><img src=\"//i1.daumcdn.net/thumb/R600x0/?fname=https://blog.kakaocdn.net/dn/3iJIz/btsyTvfDTVb/0yEt4sAN2Agk2wbnK8KsCk/img.png\" alt=\"\"></span>\\n                          \\n                            <span class=\"category\">가볼거리.세계</span>\\n                          \\n                          <span class=\"title\">싱가폴 나이트 사파리 쇼 - Singapore Night Safari Show</span>\\n                          <span class=\"excerpt\">올해 추석에 싱가폴을 다녀왔습니다. 가족여행이었지요. 짧은 기간이기도했고, 또 너무 더운 날씨라 폰을 들고 뭘 찍을 여유가 생기지 않더라구요. 그래도 몇몇 곳을 소개할까 합니다. 야간에 개장하는 사파리이구요. 무더운 싱가폴 날씨에 그나마 선선한 야간에 야행성 동물들을 볼 수 있는 좋은 기회이기도 합니다. 야간이라 카메라에 담은 영상이 실제와 너무 차이가 납니다. 싱가폴을 가신다면 한 번 가보시길 추천드립니다. Singapore Night Safari Show 일단 공연이 있습니다. 별 기대 없이 들어갔다가 생각보다 재미있었습니다. 저 아이들이 오프닝을 하구요. 어떻게 훈련시켰는지는 몰라도 저렇게 관람석 끝에서 조련사가 매?처럼 보이는 새를 날립니다. 여러 동물들이 출연하고 아기자기한 모습들을 많이 보여줍..</span>\\n                        </a>\\n                      </li>\\n                    \\n                      <li style=\"position: absolute; left: 667.984px; top: 0px;\">\\n                        <a href=\"/1438\">\\n                          <span class=\"thum\"><img src=\"//i1.daumcdn.net/thumb/R600x0/?fname=https://blog.kakaocdn.net/dn/ctuiFP/btsufiRCeKr/7W66Rkxmx0yCxbbGdU9PaK/img.png\" alt=\"\"></span>\\n                          \\n                            <span class=\"category\">끄적거림</span>\\n                          \\n                          <span class=\"title\">PinkLAB 핑크랩 공식 로고를 발표합니다.</span>\\n                          <span class=\"excerpt\">핑크랩이 처음 법인으로 시작한 것이 22년 5월 23일이었습니다. 뭐 워낙 작게작게 시작해서 아무것도 없이, 신용이랄것도 없어서 법인 신용카드 한도액이 30만원(응? 실화입니다. 한 달에 30만원.ㅠㅠ.)으로 시작한 속칭 쪼랩 회사로 시작했습니다. 뭐 지금이라도 다르지 않습니다. 그래서 일년이 넘도록 신경쓰지 못한 것이 로고입니다. 이번에 큰 맘 먹고, 어려분들의 도움으로 핑크랩의 로고를 장만하게 되었습니다. 짠~ 멋있죠? 저 로고는 너무나도 아름다운 의미가 담겨 있습니다. Pink Lab의 시그니쳐 컬러 핑크 신뢰의 컬러 블루를 사용하구요. 더듬이로 로봇을 표현했습니다. 색상으로 보면 세 개의 말풍선이 보이는데 이는 로봇, 코딩, 인공지능이 한데 어우리지는 것을 의미합니다. 특히 안테나가 있는 핑크색 ..</span>\\n                        </a>\\n                      </li>\\n                    \\n                      <li style=\"position: absolute; left: 0px; top: 312.289px;\">\\n                        <a href=\"/1436\">\\n                          <span class=\"thum\"><img src=\"//i1.daumcdn.net/thumb/R600x0/?fname=https://blog.kakaocdn.net/dn/cMHGMa/btssBp0kkkv/VALsqg1Ki0hpxLkPrnNDtk/img.png\" alt=\"\"></span>\\n                          \\n                            <span class=\"category\">Review</span>\\n                          \\n                          <span class=\"title\">애플 광택용 천 Polishing Cloth</span>\\n                          <span class=\"excerpt\">얼마전에 저는 Apple의 Polishing Cloth라는 제품을 선물로 받았습니다. 번역하면 광택용 천?^^ 가격은 무려 19달러입니다.^^. 지금은 25000원 정도겠죠? 무슨 광택용 천을 25000원이나 주고 사느냐하실 수도 있지만, 그래서 선물받아서 기쁘기도 했구요^^. 포장은 심플하고 이뻤습니다. 제품 설명서에는 모든 애플 디스플레이 및 제품 표면에 안전하게 사용할 수 있다고 합니다.^^ 제품을 실제로 만져보면 생각보다 두껍고, 매우 부드럽습니다. 그래서 디스플레이 장치를 닦는데 꽤 편합니다. 제 맥북 화면의 저 얼룩들.ㅠㅠ. 저게 키보드에서 묻은 건데요. 동그란 아이들 말고, 얼룩 말이죠. 동그란 아이들은 더 닦아야하지만, 일단 얼룩은 완전히 제거 됩니다. 너무 잘 닦여서 놀랬죠. 그래.. 2..</span>\\n                        </a>\\n                      </li>\\n                    \\n                      <li style=\"position: absolute; left: 667.984px; top: 330.102px;\">\\n                        <a href=\"/1437\">\\n                          <span class=\"thum\"><img src=\"//i1.daumcdn.net/thumb/R600x0/?fname=https://blog.kakaocdn.net/dn/xcqv4/btssCtIb75K/inkPpKbiKkvCePgH5ZWD9K/img.png\" alt=\"\"></span>\\n                          \\n                            <span class=\"category\">끄적거림</span>\\n                          \\n                          <span class=\"title\">핑크랩이 이사를 했습니다.</span>\\n                          <span class=\"excerpt\">2022년 5월 23일. 서울 강남 수서에서 핑크랩은 태어났습니다. 당시의 감동을 여러번 글로 옮겼는데요. https://pinkwink.kr/1386 핑크윙크 PinkWink가 핑크랩 PinkLAB을 만들었습니다. 2011년 1월 첫 업무일에 출근하기 위해 2010년 12월 마지막날에 당시까지 거의 평생을 살았던 경남 창원에서 이삿짐을 꾸려 올라왔습니다. 당시 올라올때 코란도 2인슨 벤 화물칸과 조수석에 짐을 pinkwink.kr 사실 당시 핑크랩은 저의 개인 연구실의 느낌이 강했습니다. 그러다가 어떤어떤 프로젝트들이 진행되면서 조금씩 상황이 다르긴 하지만 함께 일하는 사람들이 늘어나게 되었습니다. 그래서, 결국 한 6~7인 정도가 일할 수 있는 사무실을 찾기 시작했습니다. 사실 핑크랩이 처음 입주했던..</span>\\n                        </a>\\n                      </li>\\n                    \\n                      <li style=\"position: absolute; left: 333.992px; top: 409.906px;\">\\n                        <a href=\"/1435\">\\n                          <span class=\"thum\"><img src=\"//i1.daumcdn.net/thumb/R600x0/?fname=https://blog.kakaocdn.net/dn/GzpRI/btsrDECOg4W/8OGRkn7wo71dI5LV7NZVzK/img.png\" alt=\"\"></span>\\n                          \\n                            <span class=\"category\">Robot Program - ROS</span>\\n                          \\n                          <span class=\"title\">ROS2 humble을 설치하고 공부하는데 필요한 설정</span>\\n                          <span class=\"excerpt\">저는 ROS2를 교육할 기회가 많았는데요. 그때마다 설정이나 설치 문제로 항상 많은 시간을 보내게 됩니다. 그걸 조금이라도 줄일려고 영상으로 그 과정을 만들었는데요. 이번에는 이 영상을 공유하려고 합니다. ROS2 humble 설치하기 전 인트로~ 먼저 인트로입니다. 제 책도 소개할겸 이런 저런 이야기를 하는 영상입니다. 저의 책은 Galactic 버전으로 되어 있지만, 지금 영상은 Humble을 기준으로 하고 있습니다. 이유는 알 수 없으나 요즘 제 블로그가 입주해 있는 티스토리의 어떤 기능과 충돌로 인내 유투브 영상이 글 내에서 조금 늦게 뜹니다. 잠시 기다려 주세요 https://youtu.be/fOwt4It7sZk sublime text와 terminator 설정 그리고 저는 수업때는 에디터로 s..</span>\\n                        </a>\\n                      </li>\\n                    \\n                  </ul>\\n                </div>\\n              </div>\\n            \\n\\n            \\n\\n            \\n\\n          \\n            \\n\\n            \\n\\n            \\n\\n            \\n\\n            \\n              <div class=\"cover-gallery\">\\n                <div class=\"inner\">\\n                  <h2>최근 글 중 인기글 </h2>\\n                  <ul>\\n                    \\n                      <li>\\n                        <a href=\"/246\">\\n                          <figure>\\n                          <img src=\"//i1.daumcdn.net/thumb/C600x600/?fname=https://t1.daumcdn.net/cfile/tistory/137F83224B42D6B10A\" alt=\"\">\\n                          </figure>\\n                          <span class=\"title\">[회로이론] RC 회로</span>\\n                        </a>\\n                      </li>\\n                    \\n                      <li>\\n                        <a href=\"/156\">\\n                          <figure>\\n                          <img src=\"//i1.daumcdn.net/thumb/C600x600/?fname=https://t1.daumcdn.net/cfile/tistory/187243194A9A70AC85\" alt=\"\">\\n                          </figure>\\n                          <span class=\"title\">[선형변환] Convolution 컨볼루션 적분</span>\\n                        </a>\\n                      </li>\\n                    \\n                      <li>\\n                        <a href=\"/181\">\\n                          <figure>\\n                          <img src=\"//i1.daumcdn.net/thumb/C600x600/?fname=https://t1.daumcdn.net/cfile/tistory/134A93214ABA019F0D\" alt=\"\">\\n                          </figure>\\n                          <span class=\"title\">[공업수학] 역행렬 (Inverse Matrix)</span>\\n                        </a>\\n                      </li>\\n                    \\n                      <li>\\n                        <a href=\"/927\">\\n                          <figure>\\n                          <img src=\"//i1.daumcdn.net/thumb/C600x600/?fname=https://t1.daumcdn.net/cfile/tistory/2252954E579D2C3704\" alt=\"\">\\n                          </figure>\\n                          <span class=\"title\">Bode Plot의 기초 중에서도 기초이야기</span>\\n                        </a>\\n                      </li>\\n                    \\n                      <li>\\n                        <a href=\"/1370\">\\n                          <figure>\\n                          <img src=\"//i1.daumcdn.net/thumb/C600x600/?fname=https://blog.kakaocdn.net/dn/niSNt/btrsOiep7uF/6D4W9nELuR0NrQAE1d97S0/img.png\" alt=\"\">\\n                          </figure>\\n                          <span class=\"title\">Python으로 수행하는 주파수 분석 - FFT, STFT</span>\\n                        </a>\\n                      </li>\\n                    \\n                      <li>\\n                        <a href=\"/190\">\\n                          <figure>\\n                          <img src=\"//i1.daumcdn.net/thumb/C600x600/?fname=https://t1.daumcdn.net/cfile/tistory/121A5C184AD1C98716\" alt=\"\">\\n                          </figure>\\n                          <span class=\"title\">[공업수학] 행렬의 대각화</span>\\n                        </a>\\n                      </li>\\n                    \\n                      <li>\\n                        <a href=\"/1343\">\\n                          <figure>\\n                          <img src=\"//i1.daumcdn.net/thumb/C600x600/?fname=https://blog.kakaocdn.net/dn/ccBYgD/btqYLzK5Rav/Uv4oRVJG0gWS7N3PtUQwsk/img.png\" alt=\"\">\\n                          </figure>\\n                          <span class=\"title\">VSCODE로 SSH로 접근해서 편집 파일을 저장할때 permission 문제</span>\\n                        </a>\\n                      </li>\\n                    \\n                      <li>\\n                        <a href=\"/1217\">\\n                          <figure>\\n                          <img src=\"//i1.daumcdn.net/thumb/C600x600/?fname=https://t1.daumcdn.net/cfile/tistory/99FAC2445CD76CBE3D\" alt=\"\">\\n                          </figure>\\n                          <span class=\"title\">circuito.io 아두이노 주변 회로를 손쉽게 확인하기</span>\\n                        </a>\\n                      </li>\\n                    \\n                  </ul>\\n                </div>\\n              </div>\\n            \\n\\n          \\n            \\n\\n            \\n\\n            \\n\\n            \\n              <div class=\"cover-list\">\\n                <div class=\"inner\">\\n                  <h2>AI 관련 최신글 </h2>\\n                  <ul>\\n                    \\n                      <li>\\n                        <a href=\"/1427\">\\n                          <figure>\\n                            <img src=\"//i1.daumcdn.net/thumb/C600x600/?fname=https://blog.kakaocdn.net/dn/mZyxa/btskllcT9gn/RncR5K8s9eJ03JkKaexNaK/img.png\" alt=\"\">\\n                          </figure>\\n                          \\n                            <span class=\"category\">DeepLearning</span>\\n                          \\n                          <span class=\"title\">영상 인식에 필요한 기초 기법 간편 정리 - ArUCo Marker, YOLO 등</span>\\n                          <span class=\"excerpt\">이번에는 로봇에서 영상인식, 혹은 간단한 프로젝트에서 영상을 인식하는 부분에 대해 간단히 정리해서 유투브에 올렸습니다. 여러가지를 모두 다루면 좋겠지만, 윈도우 환경에서 설명을 했고, OpenCV 기초, ArUCo Marker 이야기, YOLO, YOLO를 위한 라벨링 작업등을 초~간단하게 설명했습니다. 먼저 아래 링크는 영상 전체의 재생목록입니다. https://www.youtube.com/playlist?list=PL83j7f4UkozEKBsOgKNEy79w5ClNMtxSF 영상 인식에 필요한 기법 간편 정리 이번에는 로봇에서 영상인식, 혹은 간단한 프로젝트에서 영상을 인식하는 부분에 대해 간단히 정리해서 유투브에 올렸습니다. 여러가지를 모두 다루면 좋겠지만, 윈도우 환경에서 설명을 했고, www.y..</span>\\n                        </a>\\n                      </li>\\n                    \\n                      <li>\\n                        <a href=\"/1391\">\\n                          <figure>\\n                            <img src=\"//i1.daumcdn.net/thumb/C600x600/?fname=https://blog.kakaocdn.net/dn/6UqKF/btrH5dJLuIH/lUKr0YEdenVK7O5XqAzpo0/img.png\" alt=\"\">\\n                          </figure>\\n                          \\n                            <span class=\"category\">Project</span>\\n                          \\n                          <span class=\"title\">핑크랩이 문제풀이 학습 시장용 유사문제 찾기 알고리즘에 도전합니다.</span>\\n                          <span class=\"excerpt\">제가 자주 하는 말이지만, 희한하게 어떤 주제에 대해 클라이언트 미팅을 하면 유사 분야의 미팅이 (제가 의도하지 않게) 잡히게 됩니다. 그것도 많은 수가 제가 찾아다닌것이 아니라 클라이언트께서 먼저 연락을 주시는 거죠. 이번에는 문제풀이 학습 시장의 의뢰입니다. 머신러닝/딥러닝을 이용해서 유사한 문제를 찾는 것입니다. 프로젝트 개요 입시분야로 한정하면 \"콴다\"라고 하는 업계의 주도적 서비스가 있습니다. 콰다는 이렇게 폰으로 궁금한 문제를 찾아서 사진을 찍으면 OCR로 판독후 AI로 자사 DB에서 유사한 문제를 찾아 그 해법과 함께 제시하는 것인데요. 해당 문제의 해법을 보여주는 것이 아니라 유사한 문제를 보여주는 것입니다. 학습하고 나면 애초에 궁금했던 문제를 풀수 있겠죠. 저희 핑크랩에 의뢰하신 클라이..</span>\\n                        </a>\\n                      </li>\\n                    \\n                      <li>\\n                        <a href=\"/1390\">\\n                          <figure>\\n                            <img src=\"//i1.daumcdn.net/thumb/C600x600/?fname=https://blog.kakaocdn.net/dn/cr4F8u/btrHZ7w3vd5/1ANL4XfTuX4TreGkReDpVK/img.png\" alt=\"\">\\n                          </figure>\\n                          \\n                            <span class=\"category\">Project</span>\\n                          \\n                          <span class=\"title\">핑크랩이 물류로봇에서 사용될 Pose Estimation 프로젝트를 도전합니다.</span>\\n                          <span class=\"excerpt\">아주 예전에 제가 한양대 에리카에 연구교수로 있을 당시 잠시 관계가 있었던 프로젝트 중에 가구조립 프로젝트가 있었습니다. 저는 당시 다른일로 바빠서 대학원생에게 다 맡겨두고 거의 신경을 쓰지 못했었는데요. [지금 생각하니 너무 미안하군요ㅠㅠ] 그때 했던 연구 중에 로봇팔이 물체를 잡기 위해서 해당 물체의 Pose(자세)를 예측해야 더 잘 잡을 수 있을 거라고 생각을 했었습니다. 위 그림은 당시 대학원생이 작업한 것으로 가구조립에 사용되는 다양한 종류의 못을 보여주고 있습니다. 이 못의 자세를 알아야 로봇팔이 잡을 때 편하겠죠. 그래서 당시에 조금 인연이 있었습니다. 뭐가요? 아~ 바로 pose estimation 입니다.^^ 프로젝트 개요 위 그림은 유명한 NVIDIA의 ISAAC 시스템에 포함된 기능으..</span>\\n                        </a>\\n                      </li>\\n                    \\n                  </ul>\\n                </div>\\n              </div>\\n            \\n\\n            \\n\\n          \\n            \\n              <div class=\"cover-thumbnail-list\">\\n                <div class=\"inner\">\\n                  <h2>로봇 관련 최신 글</h2>\\n                  <ul>\\n                    \\n                      <li>\\n                        <a href=\"/1440\">\\n                          <span class=\"thum\"><img src=\"//i1.daumcdn.net/thumb/C264x200/?fname=https://blog.kakaocdn.net/dn/IiT41/btsy47jDvZB/AU1xmXskO0EId5j7fzZD90/img.png\" alt=\"\"></span>\\n                          \\n                            <span class=\"category\">Robot Program - ROS</span>\\n                          \\n                          <span class=\"title\">ROS2 colcon build에서 SetuptoolsDeprecationWarning 대응법</span>\\n                        </a>\\n                      </li>\\n                    \\n                      <li>\\n                        <a href=\"/1435\">\\n                          <span class=\"thum\"><img src=\"//i1.daumcdn.net/thumb/C264x200/?fname=https://blog.kakaocdn.net/dn/GzpRI/btsrDECOg4W/8OGRkn7wo71dI5LV7NZVzK/img.png\" alt=\"\"></span>\\n                          \\n                            <span class=\"category\">Robot Program - ROS</span>\\n                          \\n                          <span class=\"title\">ROS2 humble을 설치하고 공부하는데 필요한 설정</span>\\n                        </a>\\n                      </li>\\n                    \\n                      <li>\\n                        <a href=\"/1424\">\\n                          <span class=\"thum\"><img src=\"//i1.daumcdn.net/thumb/C264x200/?fname=https://blog.kakaocdn.net/dn/c1QsGj/btsiag6A19Z/0G5KWIq5dDD2NmND927rkk/img.png\" alt=\"\"></span>\\n                          \\n                            <span class=\"category\">Project</span>\\n                          \\n                          <span class=\"title\">PinkLAB이 Carla - Autoware 프로젝트를 잘 마쳤습니다.</span>\\n                        </a>\\n                      </li>\\n                    \\n                      <li>\\n                        <a href=\"/1420\">\\n                          <span class=\"thum\"><img src=\"//i1.daumcdn.net/thumb/C264x200/?fname=https://blog.kakaocdn.net/dn/caNtI3/btr1UVcjBwM/AfYo8FZdds3KtvbaTzI8n1/img.png\" alt=\"\"></span>\\n                          \\n                            <span class=\"category\">Project</span>\\n                          \\n                          <span class=\"title\">핑크랩이 carla, autoware, ROS2 관련 프로젝트를 시작합니다.</span>\\n                        </a>\\n                      </li>\\n                    \\n                  </ul>\\n                </div>\\n              </div>\\n            \\n\\n            \\n\\n            \\n\\n            \\n\\n            \\n\\n          \\n            \\n\\n            \\n\\n            \\n\\n            \\n\\n            \\n              <div class=\"cover-gallery\">\\n                <div class=\"inner\">\\n                  <h2>SW 관련 최신글</h2>\\n                  <ul>\\n                    \\n                      <li>\\n                        <a href=\"/1434\">\\n                          <figure>\\n                          <img src=\"//i1.daumcdn.net/thumb/C600x600/?fname=https://blog.kakaocdn.net/dn/cLY2PF/btsrIeDBg5f/WHiwgYhUPitoRJcFGH3zr0/img.png\" alt=\"\">\\n                          </figure>\\n                          <span class=\"title\">우분투와 원도우를 듀얼부팅할 때 두 OS에 시간이 안 맞을 때</span>\\n                        </a>\\n                      </li>\\n                    \\n                      <li>\\n                        <a href=\"/1430\">\\n                          <figure>\\n                          <img src=\"//i1.daumcdn.net/thumb/C600x600/?fname=https://blog.kakaocdn.net/dn/cWgt1o/btsl9uFwOZ4/7WPMGbKy99lEZMrllKyHRK/img.png\" alt=\"\">\\n                          </figure>\\n                          <span class=\"title\">맥 터미널 xcrun: error: invalid active developer path 대응방법</span>\\n                        </a>\\n                      </li>\\n                    \\n                      <li>\\n                        <a href=\"/1425\">\\n                          <figure>\\n                          <img src=\"//i1.daumcdn.net/thumb/C600x600/?fname=https://blog.kakaocdn.net/dn/bfsXvY/btsjctJi3GW/ZyaGoSUSvhUsDlSYROCmv1/img.png\" alt=\"\">\\n                          </figure>\\n                          <span class=\"title\">맥에서 Conda 설치 후 터미널에서 base 환경 자동 진입 해제</span>\\n                        </a>\\n                      </li>\\n                    \\n                      <li>\\n                        <a href=\"/1367\">\\n                          <figure>\\n                          <img src=\"//i1.daumcdn.net/thumb/C600x600/?fname=https://blog.kakaocdn.net/dn/EW1Bd/btrpIzj6lQK/kJF3RFeQP1eDqImG7cMga1/img.png\" alt=\"\">\\n                          </figure>\\n                          <span class=\"title\">Ubuntu에서 Sublime Text 설치하기</span>\\n                        </a>\\n                      </li>\\n                    \\n                  </ul>\\n                </div>\\n              </div>\\n            \\n\\n          \\n            \\n\\n            \\n\\n            \\n\\n            \\n\\n            \\n              <div class=\"cover-gallery\">\\n                <div class=\"inner\">\\n                  <h2>HW 관련 최신글 </h2>\\n                  <ul>\\n                    \\n                      <li>\\n                        <a href=\"/1436\">\\n                          <figure>\\n                          <img src=\"//i1.daumcdn.net/thumb/C600x600/?fname=https://blog.kakaocdn.net/dn/cMHGMa/btssBp0kkkv/VALsqg1Ki0hpxLkPrnNDtk/img.png\" alt=\"\">\\n                          </figure>\\n                          <span class=\"title\">애플 광택용 천 Polishing Cloth</span>\\n                        </a>\\n                      </li>\\n                    \\n                      <li>\\n                        <a href=\"/1432\">\\n                          <figure>\\n                          <img src=\"//i1.daumcdn.net/thumb/C600x600/?fname=https://blog.kakaocdn.net/dn/c1mGwb/btsqJcn35Bx/xJ9hyWbOQw1zR5Ui1TGlN0/img.png\" alt=\"\">\\n                          </figure>\\n                          <span class=\"title\">Arduino R4 WIFI 모델을 소개합니다.</span>\\n                        </a>\\n                      </li>\\n                    \\n                      <li>\\n                        <a href=\"/1401\">\\n                          <figure>\\n                          <img src=\"//i1.daumcdn.net/thumb/C600x600/?fname=https://blog.kakaocdn.net/dn/l6aUJ/btrSaskcqgx/9ODs6Tm1FuSisw8CRD5uJ0/img.png\" alt=\"\">\\n                          </figure>\\n                          <span class=\"title\">Lattepanda 라떼판다에 ubuntu 22.04 설치하기</span>\\n                        </a>\\n                      </li>\\n                    \\n                      <li>\\n                        <a href=\"/1374\">\\n                          <figure>\\n                          <img src=\"//i1.daumcdn.net/thumb/C600x600/?fname=https://blog.kakaocdn.net/dn/dBOEIe/btrtQoSbn3L/pNHKD8k62OhxYgeJmwi1a1/img.png\" alt=\"\">\\n                          </figure>\\n                          <span class=\"title\">HP 파인큐브 핸드헬드 프린터 개봉 및 첫 사용기</span>\\n                        </a>\\n                      </li>\\n                    \\n                  </ul>\\n                </div>\\n              </div>\\n            \\n\\n          \\n            \\n\\n            \\n\\n            \\n\\n            \\n\\n            \\n              <div class=\"cover-gallery\">\\n                <div class=\"inner\">\\n                  <h2>문화 생활 관련 최신 글 </h2>\\n                  <ul>\\n                    \\n                      <li>\\n                        <a href=\"/1439\">\\n                          <figure>\\n                          <img src=\"//i1.daumcdn.net/thumb/C600x600/?fname=https://blog.kakaocdn.net/dn/3iJIz/btsyTvfDTVb/0yEt4sAN2Agk2wbnK8KsCk/img.png\" alt=\"\">\\n                          </figure>\\n                          <span class=\"title\">싱가폴 나이트 사파리 쇼 - Singapore Night Safari Show</span>\\n                        </a>\\n                      </li>\\n                    \\n                      <li>\\n                        <a href=\"/1412\">\\n                          <figure>\\n                          <img src=\"//i1.daumcdn.net/thumb/C600x600/?fname=https://blog.kakaocdn.net/dn/ZErdc/btrW764GoBA/knFMkWSIvOGOf7Qkj6NPg1/img.png\" alt=\"\">\\n                          </figure>\\n                          <span class=\"title\">Guam 괌 마리나 그릴 Marina Grill 돌핀 투어 전에 식사하기 좋은곳</span>\\n                        </a>\\n                      </li>\\n                    \\n                      <li>\\n                        <a href=\"/1408\">\\n                          <figure>\\n                          <img src=\"//i1.daumcdn.net/thumb/C600x600/?fname=https://blog.kakaocdn.net/dn/EXqHF/btrWx8PbAdD/VWraUdMRYawnJKwhqjbEgK/img.png\" alt=\"\">\\n                          </figure>\\n                          <span class=\"title\">괌 GPO의 괜찮은 카페~ Port of Mocha</span>\\n                        </a>\\n                      </li>\\n                    \\n                      <li>\\n                        <a href=\"/1405\">\\n                          <figure>\\n                          <img src=\"//i1.daumcdn.net/thumb/C600x600/?fname=https://blog.kakaocdn.net/dn/5eq1E/btrVI7IRgsi/29QMcPxLLPYBQwMBLeybJK/img.png\" alt=\"\">\\n                          </figure>\\n                          <span class=\"title\">괌 최고의 피자 - PIEOLOGY</span>\\n                        </a>\\n                      </li>\\n                    \\n                  </ul>\\n                </div>\\n              </div>\\n            \\n\\n          \\n            \\n\\n            \\n\\n            \\n\\n            \\n\\n            \\n              <div class=\"cover-gallery\">\\n                <div class=\"inner\">\\n                  <h2>일상생활 관련 최신 글</h2>\\n                  <ul>\\n                    \\n                      <li>\\n                        <a href=\"/1438\">\\n                          <figure>\\n                          <img src=\"//i1.daumcdn.net/thumb/C600x600/?fname=https://blog.kakaocdn.net/dn/ctuiFP/btsufiRCeKr/7W66Rkxmx0yCxbbGdU9PaK/img.png\" alt=\"\">\\n                          </figure>\\n                          <span class=\"title\">PinkLAB 핑크랩 공식 로고를 발표합니다.</span>\\n                        </a>\\n                      </li>\\n                    \\n                      <li>\\n                        <a href=\"/1437\">\\n                          <figure>\\n                          <img src=\"//i1.daumcdn.net/thumb/C600x600/?fname=https://blog.kakaocdn.net/dn/xcqv4/btssCtIb75K/inkPpKbiKkvCePgH5ZWD9K/img.png\" alt=\"\">\\n                          </figure>\\n                          <span class=\"title\">핑크랩이 이사를 했습니다.</span>\\n                        </a>\\n                      </li>\\n                    \\n                      <li>\\n                        <a href=\"/1403\">\\n                          <figure>\\n                          <img src=\"//i1.daumcdn.net/thumb/C600x600/?fname=https://blog.kakaocdn.net/dn/cfy4Yc/btrU01Kt0ae/eYoNZD3FVYg6xjTrVldNIK/img.png\" alt=\"\">\\n                          </figure>\\n                          <span class=\"title\">2022년 PinkWink 결산</span>\\n                        </a>\\n                      </li>\\n                    \\n                      <li>\\n                        <a href=\"/1402\">\\n                          <figure>\\n                          <img src=\"//i1.daumcdn.net/thumb/C600x600/?fname=https://blog.kakaocdn.net/dn/eyxII3/btrSIsqsgMN/fE4krWhZBlY2KK4vMQF5o0/img.png\" alt=\"\">\\n                          </figure>\\n                          <span class=\"title\">2022년 한국로봇학회로 부터 감사패를 받았습니다.</span>\\n                        </a>\\n                      </li>\\n                    \\n                  </ul>\\n                </div>\\n              </div>\\n            \\n\\n          \\n\\n          <div class=\"cover-footer\">\\n            \\n            \\n            <div class=\"social-link\">\\n              \\n              \\n              \\n              \\n            </div>\\n            <nav class=\"menu\">\\n              <ul>\\n  <li class=\"t_menu_link_1 first\"><a href=\"https://www.pinklab.art/\" target=\"_black\">PinkLAB</a></li>\\n  <li class=\"t_menu_link_2\"><a href=\"https://www.linkedin.com/in/pinkwink\" target=\"_black\">PinkWink 프로필</a></li>\\n  <li class=\"t_menu_tag\"><a href=\"/tag/미바뤼\" target=\"\">아기 미바뤼</a></li>\\n  <li class=\"t_menu_link_3\"><a href=\"http://pinkwink.kr/793\" target=\"\">연재 목록</a></li>\\n  <li class=\"t_menu_link_4\"><a href=\"https://www.facebook.com/hyunggi.min.16/\" target=\"_black\">페이스북</a></li>\\n  <li class=\"t_menu_link_5\"><a href=\"https://www.youtube.com/user/pinkwink95\" target=\"_black\">유투브</a></li>\\n  <li class=\"t_menu_link_6\"><a href=\"https://github.com/PinkWink\" target=\"_black\">Github</a></li>\\n  <li class=\"t_menu_guestbook last\"><a href=\"/guestbook\" target=\"\">GuestBook</a></li>\\n</ul>\\n            </nav>\\n          </div>\\n        \\n\\n      \\n\\n      \\n\\n      \\n\\n      <div class=\"inner\">\\n        \\n\\n                \\n        <script async=\"\" src=\"https://pagead2.googlesyndication.com/pagead/js/adsbygoogle.js?client=ca-pub-2982459700139266\" crossorigin=\"anonymous\" data-checked-head=\"true\"></script>\\n<ins class=\"adsbygoogle\" style=\"display: block; height: 430px;\" data-ad-format=\"autorelaxed\" data-ad-client=\"ca-pub-2982459700139266\" data-ad-slot=\"4966491850\" data-adsbygoogle-status=\"done\"><div id=\"aswift_1_host\" style=\"border: none; height: 430px; width: 860px; margin: 0px; padding: 0px; position: relative; visibility: visible; background-color: transparent; display: inline-block;\"></div></ins>\\n<script>\\n     (adsbygoogle = window.adsbygoogle || []).push({});\\n</script>\\n      </div>\\n\\n      \\n\\n      \\n\\n      \\n\\n    </article>\\n\\n  \\n  </section>\\n  <hr>\\n  <div class=\"revenue_unit_wrap position_list\">\\n  <div class=\"revenue_unit_item adsense responsive\">\\n    <div class=\"revenue_unit_info\">반응형</div>\\n    <script src=\"//pagead2.googlesyndication.com/pagead/js/adsbygoogle.js\" async=\"async\"></script>\\n    <ins class=\"adsbygoogle\" style=\"display: block; height: 280px;\" data-ad-host=\"ca-host-pub-9691043933427338\" data-ad-client=\"ca-pub-2982459700139266\" data-ad-format=\"auto\" data-adsbygoogle-status=\"done\"><div id=\"aswift_2_host\" style=\"border: none; height: 280px; width: 860px; margin: 0px; padding: 0px; position: relative; visibility: visible; background-color: transparent; display: inline-block;\"></div></ins>\\n    <script>(adsbygoogle = window.adsbygoogle || []).push({});</script>\\n  </div>\\n</div>\\n  <footer id=\"footer\">\\n    <p class=\"copyright\">DESIGN BY <a href=\"#\">TISTORY</a> <a href=\"https://pinkwink.tistory.com/manage\" class=\"admin\">관리자</a></p>\\n  </footer>\\n</div>\\n<script src=\"https://tistory1.daumcdn.net/tistory/371175/skin/images/script.js?_version_=1687613150\"></script>\\n\\n\\n\\n<script async=\"\" src=\"//pagead2.googlesyndication.com/pagead/js/adsbygoogle.js\"></script>\\n<div class=\"#menubar menu_toolbar \">\\n  <h2 class=\"screen_out\">티스토리툴바</h2>\\n</div>\\n<div class=\"#menubar menu_toolbar \"></div>\\n<iframe id=\"editEntry\" style=\"position:absolute;width:1px;height:1px;left:-100px;top:-100px\" src=\"//pinkwink.tistory.com/api\"></iframe>\\n\\n                        <!-- SyntaxHighlight - START -->\\n        <link href=\"//cdnjs.cloudflare.com/ajax/libs/highlight.js/10.7.3/styles/github.min.css\" rel=\"stylesheet\"><script src=\"//cdnjs.cloudflare.com/ajax/libs/highlight.js/10.7.3/highlight.min.js\"></script>\\n<script src=\"//cdnjs.cloudflare.com/ajax/libs/highlight.js/10.7.3/languages/delphi.min.js\"></script>\\n<script src=\"//cdnjs.cloudflare.com/ajax/libs/highlight.js/10.7.3/languages/php.min.js\"></script>\\n<script src=\"//cdnjs.cloudflare.com/ajax/libs/highlight.js/10.7.3/languages/python.min.js\"></script>\\n<script src=\"//cdnjs.cloudflare.com/ajax/libs/highlight.js/10.7.3/languages/r.min.js\" defer=\"\"></script>\\n<script src=\"//cdnjs.cloudflare.com/ajax/libs/highlight.js/10.7.3/languages/ruby.min.js\"></script>\\n<script src=\"//cdnjs.cloudflare.com/ajax/libs/highlight.js/10.7.3/languages/scala.min.js\" defer=\"\"></script>\\n<script src=\"//cdnjs.cloudflare.com/ajax/libs/highlight.js/10.7.3/languages/shell.min.js\"></script>\\n<script src=\"//cdnjs.cloudflare.com/ajax/libs/highlight.js/10.7.3/languages/sql.min.js\"></script>\\n<script src=\"//cdnjs.cloudflare.com/ajax/libs/highlight.js/10.7.3/languages/swift.min.js\" defer=\"\"></script>\\n<script src=\"//cdnjs.cloudflare.com/ajax/libs/highlight.js/10.7.3/languages/typescript.min.js\" defer=\"\"></script>\\n<script src=\"//cdnjs.cloudflare.com/ajax/libs/highlight.js/10.7.3/languages/vbnet.min.js\" defer=\"\"></script>\\n  <script>hljs.initHighlightingOnLoad();</script>\\n\\n\\n        <!-- SyntaxHighlight - END -->\\n\\n                \\n                <script type=\"text/javascript\">(function($) {\\n    $(document).ready(function() {\\n        lightbox.options.fadeDuration = 200;\\n        lightbox.options.resizeDuration = 200;\\n        lightbox.options.wrapAround = false;\\n        lightbox.options.albumLabel = \"%1 / %2\";\\n    })\\n})(tjQuery);</script>\\n<div style=\"margin:0; padding:0; border:none; background:none; float:none; clear:none; z-index:0\"></div>\\n<script type=\"text/javascript\" src=\"https://tistory1.daumcdn.net/tistory_admin/userblog/userblog-9fe828f0ab538e226316ca5997f14f38a5d2a559/static/script/common.js\"></script>\\n<script type=\"text/javascript\">window.roosevelt_params_queue = window.roosevelt_params_queue || [{channel_id: \\'dk\\', channel_label: \\'{tistory}\\'}]</script>\\n<script type=\"text/javascript\" src=\"//t1.daumcdn.net/midas/rt/dk_bt/roosevelt_dk_bt.js\" async=\"async\"></script>\\n<script type=\"text/javascript\" src=\"https://tistory1.daumcdn.net/tistory_admin/userblog/userblog-9fe828f0ab538e226316ca5997f14f38a5d2a559/static/script/menubar.min.js\"></script>\\n<script>            (function (win, doc, src) {\\n    win.Wpm = win.Wpm || function (name, param) {\\n        win.Wpm.queue = win.Wpm.queue || [];\\n        const { queue } = win.Wpm;\\n        queue.push([name, param]);\\n    };\\n    const script = doc.createElement(\\'script\\');\\n    script.src = src;\\n    script.async = 1;\\n    const [elem] = doc.getElementsByTagName(\\'script\\');\\n    elem.parentNode.insertBefore(script, elem);\\n})(window, document, \\'https://t1.kakaocdn.net/malibu_prod/normal_wpm.js\\');\\n            const APP_KEY = \\'fd21bd1c091849f9a2555e49c43a73dd\\';\\n            Wpm(\\'appKey\\', APP_KEY);</script>\\n\\n                \\n                <script>window.tiara = {\"svcDomain\":\"user.tistory.com\",\"section\":\"홈\",\"trackPage\":\"홈_보기\",\"page\":\"홈\",\"key\":\"371175\",\"customProps\":{\"userId\":\"0\",\"blogId\":\"371175\",\"entryId\":\"null\",\"role\":\"guest\",\"trackPage\":\"홈_보기\",\"filterTarget\":false},\"entry\":null,\"kakaoAppKey\":\"3e6ddd834b023f24221217e370daed18\",\"appUserId\":\"null\"}</script>\\n<script type=\"text/javascript\" src=\"https://tistory1.daumcdn.net/tistory_admin/userblog/userblog-9fe828f0ab538e226316ca5997f14f38a5d2a559/static/script/tiara.min.js\"></script>\\n\\n                \\n\\n<ins class=\"adsbygoogle adsbygoogle-noablate\" data-adsbygoogle-status=\"done\" style=\"display: none !important;\" data-ad-status=\"unfilled\"><div id=\"aswift_0_host\" tabindex=\"0\" title=\"Advertisement\" aria-label=\"Advertisement\" style=\"border: none; height: 0px; width: 0px; margin: 0px; padding: 0px; position: relative; visibility: visible; background-color: transparent; display: inline-block;\"><iframe id=\"aswift_0\" name=\"aswift_0\" style=\"left:0;position:absolute;top:0;border:0;width:undefinedpx;height:undefinedpx;\" sandbox=\"allow-forms allow-popups allow-popups-to-escape-sandbox allow-same-origin allow-scripts allow-top-navigation-by-user-activation\" frameborder=\"0\" marginwidth=\"0\" marginheight=\"0\" vspace=\"0\" hspace=\"0\" allowtransparency=\"true\" scrolling=\"no\" src=\"https://googleads.g.doubleclick.net/pagead/ads?client=ca-pub-2982459700139266&amp;output=html&amp;adk=2654006795&amp;adf=462269707&amp;lmt=1698206899&amp;plat=3%3A16%2C4%3A16%2C9%3A32776%2C16%3A8388608%2C17%3A32%2C24%3A32%2C25%3A32%2C30%3A34603008%2C32%3A32%2C41%3A32%2C42%3A32&amp;format=0x0&amp;url=https%3A%2F%2Fpinkwink.kr%2F&amp;ea=0&amp;host=ca-host-pub-9691043933427338&amp;pra=5&amp;wgl=1&amp;easpi=0&amp;asro=0&amp;asiscm=1&amp;aslmt=0.4&amp;asamt=-1&amp;asedf=0&amp;asefa=1&amp;aseiel=1~2&amp;uach=WyJtYWNPUyIsIjEzLjEuMCIsIng4NiIsIiIsIjExOC4wLjU5OTMuOTYiLFtdLDAsbnVsbCwiNjQiLFtbIkNocm9taXVtIiwiMTE4LjAuNTk5My45NiJdLFsiR29vZ2xlIENocm9tZSIsIjExOC4wLjU5OTMuOTYiXSxbIk5vdD1BP0JyYW5kIiwiOTkuMC4wLjAiXV0sMF0.&amp;dt=1698206891264&amp;bpp=33&amp;bdt=1822&amp;idt=8273&amp;shv=r20231023&amp;mjsv=m202310230101&amp;ptt=9&amp;saldr=aa&amp;abxe=1&amp;nras=1&amp;correlator=3314753073229&amp;frm=20&amp;pv=2&amp;ga_vid=789543301.1698206893&amp;ga_sid=1698206900&amp;ga_hid=136742927&amp;ga_fc=1&amp;u_tz=540&amp;u_his=2&amp;u_h=1050&amp;u_w=1680&amp;u_ah=961&amp;u_aw=1680&amp;u_cd=30&amp;u_sd=2&amp;dmc=8&amp;adx=-12245933&amp;ady=-12245933&amp;biw=1185&amp;bih=788&amp;scr_x=0&amp;scr_y=0&amp;eid=44759875%2C44759926%2C44759837%2C44805112%2C44805534%2C44805933%2C31078297%2C31079057&amp;oid=2&amp;pvsid=4431858294470715&amp;tmod=1152757473&amp;uas=0&amp;nvt=1&amp;fsapi=1&amp;fc=1920&amp;brdim=22%2C47%2C22%2C47%2C1680%2C25%2C1200%2C917%2C1200%2C788&amp;vis=2&amp;rsz=%7C%7Cs%7C&amp;abl=NS&amp;fu=32768&amp;bc=31&amp;ifi=1&amp;uci=a!1&amp;fsb=1&amp;dtd=8313\" data-google-container-id=\"a!1\" data-load-complete=\"true\"></iframe></div></ins><div id=\"lightboxOverlay\" class=\"lightboxOverlay\" style=\"display: none;\"></div><div id=\"lightbox\" class=\"lightbox\" style=\"display: none;\"><div class=\"lb-outerContainer\"><div class=\"lb-container\"><img class=\"lb-image\" src=\"data:image/gif;base64,R0lGODlhAQABAIAAAP///wAAACH5BAEAAAAALAAAAAABAAEAAAICRAEAOw==\"><div class=\"lb-nav\"><a class=\"lb-prev\" href=\"\"></a><a class=\"lb-next\" href=\"\"></a></div><div class=\"lb-loader\"><a class=\"lb-cancel\"></a></div></div></div><div class=\"lb-dataContainer\"><div class=\"lb-data\"><div class=\"lb-details\"><span class=\"lb-caption\"></span><span class=\"lb-number\"></span></div><div class=\"lb-closeContainer\"><a class=\"lb-close\"></a></div></div></div></div><ins class=\"adsbygoogle adsbygoogle-noablate\" data-adsbygoogle-status=\"done\"><div id=\"aswift_3_host\" style=\"border: none; height: 90px; width: 728px; margin: 0px; padding: 0px; position: relative; visibility: visible; background-color: transparent; display: inline-block;\"></div></ins><iframe src=\"https://www.google.com/recaptcha/api2/aframe\" width=\"0\" height=\"0\" style=\"display: none;\"></iframe></body><iframe id=\"google_esf\" name=\"google_esf\" src=\"https://googleads.g.doubleclick.net/pagead/html/r20231023/r20190131/zrt_lookup.html\" style=\"display: none;\"></iframe></html>'"
      ]
     },
     "execution_count": 2,
     "metadata": {},
     "output_type": "execute_result"
    }
   ],
   "source": [
    "# 현재 화면의 html 코드 가져오기\n",
    "\n",
    "driver.page_source "
   ]
  },
  {
   "cell_type": "code",
   "execution_count": 3,
   "id": "470f4973",
   "metadata": {},
   "outputs": [],
   "source": [
    "from bs4 import BeautifulSoup\n",
    "\n",
    "req = driver.page_source\n",
    "soup = BeautifulSoup(req, \"html.parser\")"
   ]
  },
  {
   "cell_type": "code",
   "execution_count": 4,
   "id": "7679e56c",
   "metadata": {},
   "outputs": [
    {
     "data": {
      "text/plain": [
       "[<span class=\"title\">ROS2 colcon build에서 SetuptoolsDeprecationWarning 대응법</span>,\n",
       " <span class=\"title\">싱가폴 나이트 사파리 쇼 - Singapore Night Safari Show</span>,\n",
       " <span class=\"title\">PinkLAB 핑크랩 공식 로고를 발표합니다.</span>,\n",
       " <span class=\"title\">애플 광택용 천 Polishing Cloth</span>,\n",
       " <span class=\"title\">핑크랩이 이사를 했습니다.</span>,\n",
       " <span class=\"title\">ROS2 humble을 설치하고 공부하는데 필요한 설정</span>,\n",
       " <span class=\"title\">[회로이론] RC 회로</span>,\n",
       " <span class=\"title\">[선형변환] Convolution 컨볼루션 적분</span>,\n",
       " <span class=\"title\">[공업수학] 역행렬 (Inverse Matrix)</span>,\n",
       " <span class=\"title\">Bode Plot의 기초 중에서도 기초이야기</span>,\n",
       " <span class=\"title\">Python으로 수행하는 주파수 분석 - FFT, STFT</span>,\n",
       " <span class=\"title\">[공업수학] 행렬의 대각화</span>,\n",
       " <span class=\"title\">VSCODE로 SSH로 접근해서 편집 파일을 저장할때 permission 문제</span>,\n",
       " <span class=\"title\">circuito.io 아두이노 주변 회로를 손쉽게 확인하기</span>,\n",
       " <span class=\"title\">영상 인식에 필요한 기초 기법 간편 정리 - ArUCo Marker, YOLO 등</span>,\n",
       " <span class=\"title\">핑크랩이 문제풀이 학습 시장용 유사문제 찾기 알고리즘에 도전합니다.</span>,\n",
       " <span class=\"title\">핑크랩이 물류로봇에서 사용될 Pose Estimation 프로젝트를 도전합니다.</span>,\n",
       " <span class=\"title\">ROS2 colcon build에서 SetuptoolsDeprecationWarning 대응법</span>,\n",
       " <span class=\"title\">ROS2 humble을 설치하고 공부하는데 필요한 설정</span>,\n",
       " <span class=\"title\">PinkLAB이 Carla - Autoware 프로젝트를 잘 마쳤습니다.</span>,\n",
       " <span class=\"title\">핑크랩이 carla, autoware, ROS2 관련 프로젝트를 시작합니다.</span>,\n",
       " <span class=\"title\">우분투와 원도우를 듀얼부팅할 때 두 OS에 시간이 안 맞을 때</span>,\n",
       " <span class=\"title\">맥 터미널 xcrun: error: invalid active developer path 대응방법</span>,\n",
       " <span class=\"title\">맥에서 Conda 설치 후 터미널에서 base 환경 자동 진입 해제</span>,\n",
       " <span class=\"title\">Ubuntu에서 Sublime Text 설치하기</span>,\n",
       " <span class=\"title\">애플 광택용 천 Polishing Cloth</span>,\n",
       " <span class=\"title\">Arduino R4 WIFI 모델을 소개합니다.</span>,\n",
       " <span class=\"title\">Lattepanda 라떼판다에 ubuntu 22.04 설치하기</span>,\n",
       " <span class=\"title\">HP 파인큐브 핸드헬드 프린터 개봉 및 첫 사용기</span>,\n",
       " <span class=\"title\">싱가폴 나이트 사파리 쇼 - Singapore Night Safari Show</span>,\n",
       " <span class=\"title\">Guam 괌 마리나 그릴 Marina Grill 돌핀 투어 전에 식사하기 좋은곳</span>,\n",
       " <span class=\"title\">괌 GPO의 괜찮은 카페~ Port of Mocha</span>,\n",
       " <span class=\"title\">괌 최고의 피자 - PIEOLOGY</span>,\n",
       " <span class=\"title\">PinkLAB 핑크랩 공식 로고를 발표합니다.</span>,\n",
       " <span class=\"title\">핑크랩이 이사를 했습니다.</span>,\n",
       " <span class=\"title\">2022년 PinkWink 결산</span>,\n",
       " <span class=\"title\">2022년 한국로봇학회로 부터 감사패를 받았습니다.</span>]"
      ]
     },
     "execution_count": 4,
     "metadata": {},
     "output_type": "execute_result"
    }
   ],
   "source": [
    "soup.select('.title')"
   ]
  },
  {
   "cell_type": "code",
   "execution_count": 5,
   "id": "de4f9b66",
   "metadata": {},
   "outputs": [
    {
     "data": {
      "text/plain": [
       "37"
      ]
     },
     "execution_count": 5,
     "metadata": {},
     "output_type": "execute_result"
    }
   ],
   "source": [
    "contents = soup.select('.title')\n",
    "len(contents)"
   ]
  },
  {
   "cell_type": "code",
   "execution_count": 6,
   "id": "fa9addcc",
   "metadata": {},
   "outputs": [
    {
     "data": {
      "text/plain": [
       "<span class=\"title\">싱가폴 나이트 사파리 쇼 - Singapore Night Safari Show</span>"
      ]
     },
     "execution_count": 6,
     "metadata": {},
     "output_type": "execute_result"
    }
   ],
   "source": [
    "contents[1]"
   ]
  },
  {
   "cell_type": "code",
   "execution_count": 7,
   "id": "e47f2baf",
   "metadata": {},
   "outputs": [],
   "source": [
    "driver.quit()"
   ]
  }
 ],
 "metadata": {
  "kernelspec": {
   "display_name": "Python 3 (ipykernel)",
   "language": "python",
   "name": "python3"
  },
  "language_info": {
   "codemirror_mode": {
    "name": "ipython",
    "version": 3
   },
   "file_extension": ".py",
   "mimetype": "text/x-python",
   "name": "python",
   "nbconvert_exporter": "python",
   "pygments_lexer": "ipython3",
   "version": "3.9.12"
  }
 },
 "nbformat": 4,
 "nbformat_minor": 5
}
