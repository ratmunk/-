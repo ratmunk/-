{
 "cells": [
  {
   "cell_type": "code",
   "execution_count": 1,
   "id": "d8683058",
   "metadata": {},
   "outputs": [],
   "source": [
    "# 데이터 읽기\n",
    "\n",
    "import pandas as pd\n",
    "\n",
    "red_url = 'https://raw.githubusercontent.com/PinkWink/ML_tutorial/master/dataset/winequality-red.csv'\n",
    "white_url = 'https://raw.githubusercontent.com/PinkWink/ML_tutorial/master/dataset/winequality-white.csv'\n",
    "\n",
    "red_wine = pd.read_csv(red_url, sep = ';')\n",
    "white_wine = pd.read_csv(white_url, sep = ';')\n",
    "\n",
    "# 와인 색상 구분 컬럼\n",
    "red_wine['color'] = 1\n",
    "white_wine['color'] = 0\n",
    "\n",
    "# 두 데이터 합치기\n",
    "wine = pd.concat([red_wine, white_wine])\n",
    "\n",
    "X = wine.drop(['color'], axis=1)\n",
    "y = wine['color'] # 타겟 데이터"
   ]
  },
  {
   "cell_type": "code",
   "execution_count": 2,
   "id": "adee9e0b",
   "metadata": {},
   "outputs": [
    {
     "data": {
      "text/plain": [
       "0.9576923076923077"
      ]
     },
     "execution_count": 2,
     "metadata": {},
     "output_type": "execute_result"
    }
   ],
   "source": [
    "from sklearn.model_selection import train_test_split\n",
    "from sklearn.tree import DecisionTreeClassifier\n",
    "from sklearn.metrics import accuracy_score\n",
    "\n",
    "X_train, X_test, y_train, y_test = train_test_split(X,y, \n",
    "                                                   test_size = 0.2, \n",
    "                                                   random_state=13,\n",
    "                                                   stratify= y\n",
    "                                                   )\n",
    "\n",
    "# 학습\n",
    "wine_tree = DecisionTreeClassifier(max_depth=2, random_state=13)\n",
    "wine_tree.fit(X_train, y_train)\n",
    "\n",
    "# 예측\n",
    "y_pred_test = wine_tree.predict(X_test) \n",
    "\n",
    "# 성능\n",
    "accuracy_score(y_test, y_pred_test)"
   ]
  },
  {
   "cell_type": "code",
   "execution_count": 3,
   "id": "e37294e9",
   "metadata": {},
   "outputs": [
    {
     "name": "stdout",
     "output_type": "stream",
     "text": [
      "Accuracy :  0.9576923076923077\n",
      "Recall :  0.90625\n",
      "Precision :  0.9206349206349206\n",
      "AUC score :  0.9403698979591837\n",
      "F1 score :  0.9133858267716536\n"
     ]
    }
   ],
   "source": [
    "from sklearn.metrics import accuracy_score, precision_score\n",
    "from sklearn.metrics import recall_score, f1_score\n",
    "from sklearn.metrics import roc_auc_score, roc_curve\n",
    "\n",
    "print('Accuracy : ', accuracy_score(y_test, y_pred_test))\n",
    "print('Recall : ', recall_score(y_test, y_pred_test))\n",
    "print('Precision : ', precision_score(y_test, y_pred_test))\n",
    "print('AUC score : ', roc_auc_score(y_test, y_pred_test))\n",
    "print('F1 score : ', f1_score(y_test, y_pred_test))"
   ]
  },
  {
   "cell_type": "code",
   "execution_count": 4,
   "id": "43c5c219",
   "metadata": {},
   "outputs": [
    {
     "data": {
      "text/plain": [
       "array([0.00960219, 0.00960219, 0.95848057, ..., 0.95848057, 0.95848057,\n",
       "       0.00960219])"
      ]
     },
     "execution_count": 4,
     "metadata": {},
     "output_type": "execute_result"
    }
   ],
   "source": [
    "wine_tree.predict_proba(X_test)[:, 1] # 각 데이터가 클래스에 속하는 확률"
   ]
  },
  {
   "cell_type": "code",
   "execution_count": 5,
   "id": "4802a55d",
   "metadata": {},
   "outputs": [],
   "source": [
    "# roc 커브 그리기\n",
    "\n",
    "import matplotlib.pyplot as plt\n",
    "\n",
    "pred_proba = wine_tree.predict_proba(X_test)[:, 1] # 각 데이터가 클래스에 속하는 확률\n",
    "fpr, tpr, threshold = roc_curve(y_test, pred_proba)"
   ]
  },
  {
   "cell_type": "code",
   "execution_count": 6,
   "id": "5d058b96",
   "metadata": {},
   "outputs": [
    {
     "data": {
      "text/plain": [
       "(array([0.        , 0.01530612, 0.0255102 , 0.08673469, 1.        ]),\n",
       " array([0.      , 0.834375, 0.90625 , 0.95    , 1.      ]),\n",
       " array([1.95848057, 0.95848057, 0.72340426, 0.20430108, 0.00960219]))"
      ]
     },
     "execution_count": 6,
     "metadata": {},
     "output_type": "execute_result"
    }
   ],
   "source": [
    "roc_curve(y_test, pred_proba)"
   ]
  },
  {
   "cell_type": "code",
   "execution_count": 7,
   "id": "36a3757f",
   "metadata": {},
   "outputs": [
    {
     "data": {
      "text/plain": [
       "(array([0.        , 0.01530612, 0.0255102 , 0.08673469, 1.        ]),\n",
       " array([0.      , 0.834375, 0.90625 , 0.95    , 1.      ]),\n",
       " array([1.95848057, 0.95848057, 0.72340426, 0.20430108, 0.00960219]))"
      ]
     },
     "execution_count": 7,
     "metadata": {},
     "output_type": "execute_result"
    }
   ],
   "source": [
    "fpr, tpr, threshold"
   ]
  },
  {
   "cell_type": "code",
   "execution_count": 8,
   "id": "9e442a38",
   "metadata": {},
   "outputs": [
    {
     "data": {
      "image/png": "[encoded data removed]",
      "text/plain": [
       "<Figure size 1152x576 with 1 Axes>"
      ]
     },
     "metadata": {
      "needs_background": "light"
     },
     "output_type": "display_data"
    }
   ],
   "source": [
    "plt.figure(figsize = (16,8))\n",
    "plt.plot([0,1],[0,1], 'r', ls = 'dashed') # 직선 그래프 # (0.0)부터 (1.0)까지 그리겠다는 의미 \n",
    "plt.plot(fpr, tpr)\n",
    "plt.grid()\n",
    "plt.show()"
   ]
  },
  {
   "cell_type": "markdown",
   "id": "06f4b374",
   "metadata": {},
   "source": [
    "## box plot"
   ]
  },
  {
   "cell_type": "code",
   "execution_count": 9,
   "id": "419aa677",
   "metadata": {},
   "outputs": [
    {
     "data": {
      "text/plain": [
       "[1, 1, 1, 1, 1, 1, 1, 1, 1, 1, 1, 1, 1]"
      ]
     },
     "execution_count": 9,
     "metadata": {},
     "output_type": "execute_result"
    }
   ],
   "source": [
    "samples = [1,7,9,16,36,39,45,45,46,48,51,100,101]\n",
    "tmp_y = [1]*len(samples)\n",
    "tmp_y"
   ]
  },
  {
   "cell_type": "code",
   "execution_count": 10,
   "id": "25577f12",
   "metadata": {},
   "outputs": [
    {
     "data": {
      "image/png": "[encoded data removed]",
      "text/plain": [
       "<Figure size 864x288 with 1 Axes>"
      ]
     },
     "metadata": {
      "needs_background": "light"
     },
     "output_type": "display_data"
    }
   ],
   "source": [
    "plt.figure(figsize=(12,4))\n",
    "plt.scatter(samples, tmp_y)\n",
    "plt.grid()\n",
    "plt.show()"
   ]
  },
  {
   "cell_type": "code",
   "execution_count": 11,
   "id": "d6b116cb",
   "metadata": {},
   "outputs": [
    {
     "name": "stdout",
     "output_type": "stream",
     "text": [
      "median :  45.0\n",
      "25% :  16.0\n",
      "75% :  48.0\n",
      "75% - 25% :  32.0\n",
      "iqr :  48.0\n"
     ]
    }
   ],
   "source": [
    "# 몇몇 지표를 찾는 법\n",
    "\n",
    "import numpy as np\n",
    "\n",
    "print('median : ', np.median(samples))\n",
    "print('25% : ', np.percentile(samples, 25))\n",
    "print('75% : ', np.percentile(samples, 75))\n",
    "print('75% - 25% : ', np.percentile(samples, 75) - np.percentile(samples, 25))\n",
    "\n",
    "iqr = np.percentile(samples, 75) - np.percentile(samples, 25)\n",
    "print('iqr : ', iqr*1.5)"
   ]
  },
  {
   "cell_type": "code",
   "execution_count": 12,
   "id": "bdc1c2e6",
   "metadata": {},
   "outputs": [
    {
     "name": "stderr",
     "output_type": "stream",
     "text": [
      "/Users/aragbagofideas/anaconda3/lib/python3.9/site-packages/seaborn/_decorators.py:36: FutureWarning: Pass the following variable as a keyword arg: x. From version 0.12, the only valid positional argument will be `data`, and passing other arguments without an explicit keyword will result in an error or misinterpretation.\n",
      "  warnings.warn(\n"
     ]
    },
    {
     "data": {
      "image/png": "[encoded data removed]",
      "text/plain": [
       "<Figure size 864x288 with 1 Axes>"
      ]
     },
     "metadata": {
      "needs_background": "light"
     },
     "output_type": "display_data"
    }
   ],
   "source": [
    "import seaborn as sns\n",
    "\n",
    "plt.figure(figsize=(12,4))\n",
    "sns.boxplot(samples, orient='h')\n",
    "plt.grid()\n",
    "plt.show()"
   ]
  },
  {
   "cell_type": "code",
   "execution_count": 13,
   "id": "68943cda",
   "metadata": {},
   "outputs": [
    {
     "data": {
      "text/plain": [
       "([100, 101], [1, 7, 9, 16, 36, 39, 45, 45, 46, 48, 51])"
      ]
     },
     "execution_count": 13,
     "metadata": {},
     "output_type": "execute_result"
    }
   ],
   "source": [
    "samples_outlier = []\n",
    "samples_no_outlier = []\n",
    "\n",
    "data_25 = np.percentile(samples, 25)\n",
    "data_75 = np.percentile(samples, 75)\n",
    "iqr = data_75 - data_25\n",
    "\n",
    "for data in samples:\n",
    "    if (data < data_25 - iqr*1.5) or (data > data_75 + iqr*1.5):\n",
    "        samples_outlier.append(data)\n",
    "    else:\n",
    "        samples_no_outlier.append(data)\n",
    "\n",
    "samples_outlier, samples_no_outlier\n",
    "        "
   ]
  }
 ],
 "metadata": {
  "kernelspec": {
   "display_name": "Python 3 (ipykernel)",
   "language": "python",
   "name": "python3"
  },
  "language_info": {
   "codemirror_mode": {
    "name": "ipython",
    "version": 3
   },
   "file_extension": ".py",
   "mimetype": "text/x-python",
   "name": "python",
   "nbconvert_exporter": "python",
   "pygments_lexer": "ipython3",
   "version": "3.9.12"
  }
 },
 "nbformat": 4,
 "nbformat_minor": 5
}
