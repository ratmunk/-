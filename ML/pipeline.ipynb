{
 "cells": [
  {
   "cell_type": "markdown",
   "id": "725b5289",
   "metadata": {},
   "source": [
    "- 지금까지 내용에서 불편한 점은?\n",
    "\n",
    "1. 단순히 iris,wine 데이터를 받아서 사용했을뿐인데, 직접 공부하면서 코드를 하나씩 실행에 보면 혼돈이 크다는것을 알 수 있다.\n",
    "2. 쥬피터 노트북 상황에서 데이터의 전처리와 여러 알고라즘의 반복 실행 , 하이퍼 파라미터의 튜닝과정을 번갈아 하다 보면 코드의 실행 순서에 혼돈 발생\n",
    "3. 이런 경우 class로 만들어 진행에도 되지만,\n",
    "4. sklearn 유저에게는 꼭 그럴 필요 없이 준비된 기능이 있다 -> Pipeline"
   ]
  },
  {
   "cell_type": "code",
   "execution_count": 1,
   "id": "724fbb19",
   "metadata": {},
   "outputs": [],
   "source": [
    "# 데이터 읽기\n",
    "\n",
    "import pandas as pd\n",
    "\n",
    "red_url = 'https://raw.githubusercontent.com/PinkWink/ML_tutorial/master/dataset/winequality-red.csv'\n",
    "white_url = 'https://raw.githubusercontent.com/PinkWink/ML_tutorial/master/dataset/winequality-white.csv'\n",
    "\n",
    "red_wine = pd.read_csv(red_url, sep = ';')\n",
    "white_wine = pd.read_csv(white_url, sep = ';')\n",
    "\n",
    "# 와인 색상 구분 컬럼\n",
    "red_wine['color'] = 1\n",
    "white_wine['color'] = 0\n",
    "\n",
    "# 두 데이터 합치기\n",
    "wine = pd.concat([red_wine, white_wine])\n",
    "\n",
    "X = wine.drop(['color'], axis=1)\n",
    "y = wine['color'] # 타겟 데이터"
   ]
  },
  {
   "cell_type": "code",
   "execution_count": 2,
   "id": "69fc6407",
   "metadata": {},
   "outputs": [],
   "source": [
    "# Scaler(StandardScaler()) -> clf(DecisionTreeClassifier())\n",
    "# 위와 같은 순서의 파이프라인을 짜고 싶다.\n",
    "\n",
    "from sklearn.pipeline import Pipeline\n",
    "from sklearn.tree import DecisionTreeClassifier\n",
    "from sklearn.preprocessing import StandardScaler\n",
    "\n",
    "estimators = [\n",
    "    ('scaler', StandardScaler()), # 첫번째 단계의 (객체 이름, 객체)\n",
    "    ('clf', DecisionTreeClassifier()) # 두번째 단계의 (객체 이름, 객체)\n",
    "]\n",
    "\n",
    "pipe = Pipeline(estimators)"
   ]
  },
  {
   "cell_type": "markdown",
   "id": "b3dcf795",
   "metadata": {},
   "source": [
    "그렇다면 pipe라는 변수에는 무엇이 담겨있게 될까?"
   ]
  },
  {
   "cell_type": "code",
   "execution_count": 3,
   "id": "33c0d317",
   "metadata": {},
   "outputs": [
    {
     "data": {
      "text/plain": [
       "Pipeline(steps=[('scaler', StandardScaler()),\n",
       "                ('clf', DecisionTreeClassifier())])"
      ]
     },
     "execution_count": 3,
     "metadata": {},
     "output_type": "execute_result"
    }
   ],
   "source": [
    "pipe "
   ]
  },
  {
   "cell_type": "code",
   "execution_count": 4,
   "id": "3297a00c",
   "metadata": {},
   "outputs": [
    {
     "data": {
      "text/plain": [
       "[('scaler', StandardScaler()), ('clf', DecisionTreeClassifier())]"
      ]
     },
     "execution_count": 4,
     "metadata": {},
     "output_type": "execute_result"
    }
   ],
   "source": [
    "pipe.steps"
   ]
  },
  {
   "cell_type": "code",
   "execution_count": 5,
   "id": "ea57804b",
   "metadata": {},
   "outputs": [
    {
     "data": {
      "text/plain": [
       "('scaler', StandardScaler())"
      ]
     },
     "execution_count": 5,
     "metadata": {},
     "output_type": "execute_result"
    }
   ],
   "source": [
    "pipe.steps[0]"
   ]
  },
  {
   "cell_type": "code",
   "execution_count": 6,
   "id": "72c11e8c",
   "metadata": {},
   "outputs": [
    {
     "data": {
      "text/plain": [
       "StandardScaler()"
      ]
     },
     "execution_count": 6,
     "metadata": {},
     "output_type": "execute_result"
    }
   ],
   "source": [
    "pipe['scaler']"
   ]
  },
  {
   "cell_type": "code",
   "execution_count": 7,
   "id": "51dc8f72",
   "metadata": {},
   "outputs": [
    {
     "data": {
      "text/plain": [
       "Pipeline(steps=[('scaler', StandardScaler()),\n",
       "                ('clf', DecisionTreeClassifier(max_depth=2, random_state=13))])"
      ]
     },
     "execution_count": 7,
     "metadata": {},
     "output_type": "execute_result"
    }
   ],
   "source": [
    "# 아직 분류기만 만들어낸거지 그 안의 파라미터들도 지정해주어야한다.\n",
    "# 파라미터 지정은 아래와 같은 방법으로 할 수 있다.\n",
    "# pipe.set_params(객체명__파라미터명 = 값)\n",
    "\n",
    "pipe.set_params(clf__max_depth = 2)\n",
    "pipe.set_params(clf__random_state = 13)"
   ]
  },
  {
   "cell_type": "code",
   "execution_count": 8,
   "id": "e7ad9b24",
   "metadata": {},
   "outputs": [],
   "source": [
    "from sklearn.model_selection import train_test_split\n",
    "\n",
    "X_train, X_test, y_train, y_test = train_test_split(X,y, \n",
    "                                                   test_size = 0.2, \n",
    "                                                   random_state=13,\n",
    "                                                   stratify= y\n",
    "                                                   )"
   ]
  },
  {
   "cell_type": "code",
   "execution_count": 9,
   "id": "4f684d67",
   "metadata": {},
   "outputs": [
    {
     "data": {
      "text/plain": [
       "Pipeline(steps=[('scaler', StandardScaler()),\n",
       "                ('clf', DecisionTreeClassifier(max_depth=2, random_state=13))])"
      ]
     },
     "execution_count": 9,
     "metadata": {},
     "output_type": "execute_result"
    }
   ],
   "source": [
    "# 이전에는 스케일러를 통과시키고 분류기에 학습시켜두었는데\n",
    "# 그 과정이 Pipe 변수에 저장이 되어있으므로 간단하게 아래 코드로 실행 가능하다.\n",
    "\n",
    "pipe.fit(X_train, y_train)"
   ]
  },
  {
   "cell_type": "code",
   "execution_count": 10,
   "id": "7fafc22e",
   "metadata": {},
   "outputs": [
    {
     "name": "stdout",
     "output_type": "stream",
     "text": [
      "Train acc :  0.9657494708485664\n",
      "Test acc :  0.9576923076923077\n"
     ]
    }
   ],
   "source": [
    "from sklearn.metrics import accuracy_score\n",
    "\n",
    "y_pred_tr = pipe.predict(X_train)\n",
    "y_pred_test = pipe.predict(X_test)\n",
    "\n",
    "print('Train acc : ', accuracy_score(y_train, y_pred_tr))\n",
    "print('Test acc : ', accuracy_score(y_test, y_pred_test))"
   ]
  }
 ],
 "metadata": {
  "kernelspec": {
   "display_name": "Python 3 (ipykernel)",
   "language": "python",
   "name": "python3"
  },
  "language_info": {
   "codemirror_mode": {
    "name": "ipython",
    "version": 3
   },
   "file_extension": ".py",
   "mimetype": "text/x-python",
   "name": "python",
   "nbconvert_exporter": "python",
   "pygments_lexer": "ipython3",
   "version": "3.9.12"
  }
 },
 "nbformat": 4,
 "nbformat_minor": 5
}
