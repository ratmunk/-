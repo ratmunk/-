{
 "cells": [
  {
   "cell_type": "code",
   "execution_count": 1,
   "id": "4739ed18",
   "metadata": {},
   "outputs": [
    {
     "data": {
      "text/html": [
       "<div>\n",
       "<style scoped>\n",
       "    .dataframe tbody tr th:only-of-type {\n",
       "        vertical-align: middle;\n",
       "    }\n",
       "\n",
       "    .dataframe tbody tr th {\n",
       "        vertical-align: top;\n",
       "    }\n",
       "\n",
       "    .dataframe thead th {\n",
       "        text-align: right;\n",
       "    }\n",
       "</style>\n",
       "<table border=\"1\" class=\"dataframe\">\n",
       "  <thead>\n",
       "    <tr style=\"text-align: right;\">\n",
       "      <th></th>\n",
       "      <th>fixed acidity</th>\n",
       "      <th>volatile acidity</th>\n",
       "      <th>citric acid</th>\n",
       "      <th>residual sugar</th>\n",
       "      <th>chlorides</th>\n",
       "      <th>free sulfur dioxide</th>\n",
       "      <th>total sulfur dioxide</th>\n",
       "      <th>density</th>\n",
       "      <th>pH</th>\n",
       "      <th>sulphates</th>\n",
       "      <th>alcohol</th>\n",
       "      <th>quality</th>\n",
       "      <th>color</th>\n",
       "    </tr>\n",
       "  </thead>\n",
       "  <tbody>\n",
       "    <tr>\n",
       "      <th>0</th>\n",
       "      <td>7.4</td>\n",
       "      <td>0.70</td>\n",
       "      <td>0.00</td>\n",
       "      <td>1.9</td>\n",
       "      <td>0.076</td>\n",
       "      <td>11.0</td>\n",
       "      <td>34.0</td>\n",
       "      <td>0.9978</td>\n",
       "      <td>3.51</td>\n",
       "      <td>0.56</td>\n",
       "      <td>9.4</td>\n",
       "      <td>5</td>\n",
       "      <td>1</td>\n",
       "    </tr>\n",
       "    <tr>\n",
       "      <th>1</th>\n",
       "      <td>7.8</td>\n",
       "      <td>0.88</td>\n",
       "      <td>0.00</td>\n",
       "      <td>2.6</td>\n",
       "      <td>0.098</td>\n",
       "      <td>25.0</td>\n",
       "      <td>67.0</td>\n",
       "      <td>0.9968</td>\n",
       "      <td>3.20</td>\n",
       "      <td>0.68</td>\n",
       "      <td>9.8</td>\n",
       "      <td>5</td>\n",
       "      <td>1</td>\n",
       "    </tr>\n",
       "    <tr>\n",
       "      <th>2</th>\n",
       "      <td>7.8</td>\n",
       "      <td>0.76</td>\n",
       "      <td>0.04</td>\n",
       "      <td>2.3</td>\n",
       "      <td>0.092</td>\n",
       "      <td>15.0</td>\n",
       "      <td>54.0</td>\n",
       "      <td>0.9970</td>\n",
       "      <td>3.26</td>\n",
       "      <td>0.65</td>\n",
       "      <td>9.8</td>\n",
       "      <td>5</td>\n",
       "      <td>1</td>\n",
       "    </tr>\n",
       "    <tr>\n",
       "      <th>3</th>\n",
       "      <td>11.2</td>\n",
       "      <td>0.28</td>\n",
       "      <td>0.56</td>\n",
       "      <td>1.9</td>\n",
       "      <td>0.075</td>\n",
       "      <td>17.0</td>\n",
       "      <td>60.0</td>\n",
       "      <td>0.9980</td>\n",
       "      <td>3.16</td>\n",
       "      <td>0.58</td>\n",
       "      <td>9.8</td>\n",
       "      <td>6</td>\n",
       "      <td>1</td>\n",
       "    </tr>\n",
       "    <tr>\n",
       "      <th>4</th>\n",
       "      <td>7.4</td>\n",
       "      <td>0.70</td>\n",
       "      <td>0.00</td>\n",
       "      <td>1.9</td>\n",
       "      <td>0.076</td>\n",
       "      <td>11.0</td>\n",
       "      <td>34.0</td>\n",
       "      <td>0.9978</td>\n",
       "      <td>3.51</td>\n",
       "      <td>0.56</td>\n",
       "      <td>9.4</td>\n",
       "      <td>5</td>\n",
       "      <td>1</td>\n",
       "    </tr>\n",
       "  </tbody>\n",
       "</table>\n",
       "</div>"
      ],
      "text/plain": [
       "   fixed acidity  volatile acidity  citric acid  residual sugar  chlorides  \\\n",
       "0            7.4              0.70         0.00             1.9      0.076   \n",
       "1            7.8              0.88         0.00             2.6      0.098   \n",
       "2            7.8              0.76         0.04             2.3      0.092   \n",
       "3           11.2              0.28         0.56             1.9      0.075   \n",
       "4            7.4              0.70         0.00             1.9      0.076   \n",
       "\n",
       "   free sulfur dioxide  total sulfur dioxide  density    pH  sulphates  \\\n",
       "0                 11.0                  34.0   0.9978  3.51       0.56   \n",
       "1                 25.0                  67.0   0.9968  3.20       0.68   \n",
       "2                 15.0                  54.0   0.9970  3.26       0.65   \n",
       "3                 17.0                  60.0   0.9980  3.16       0.58   \n",
       "4                 11.0                  34.0   0.9978  3.51       0.56   \n",
       "\n",
       "   alcohol  quality  color  \n",
       "0      9.4        5      1  \n",
       "1      9.8        5      1  \n",
       "2      9.8        5      1  \n",
       "3      9.8        6      1  \n",
       "4      9.4        5      1  "
      ]
     },
     "execution_count": 1,
     "metadata": {},
     "output_type": "execute_result"
    }
   ],
   "source": [
    "import pandas as pd\n",
    "\n",
    "wine_url = 'https://raw.githubusercontent.com/PinkWink/ML_tutorial/master/dataset/wine.csv'\n",
    "\n",
    "wine = pd.read_csv(wine_url, index_col=0)\n",
    "wine.head()"
   ]
  },
  {
   "cell_type": "code",
   "execution_count": 2,
   "id": "37a8fbe9",
   "metadata": {},
   "outputs": [],
   "source": [
    "# 맛 등급 컬럼 추가\n",
    "\n",
    "wine['taste'] = [1 if grade > 5 else 0 for grade in wine['quality']]\n",
    "\n",
    "X = wine.drop(['taste', 'quality'], axis = 1)\n",
    "y = wine['taste']"
   ]
  },
  {
   "cell_type": "code",
   "execution_count": 3,
   "id": "ecda55c2",
   "metadata": {},
   "outputs": [],
   "source": [
    "from sklearn.model_selection import train_test_split\n",
    "\n",
    "X_train, X_test, y_train, y_test = train_test_split(X, y , test_size= 0.2, random_state=13)"
   ]
  },
  {
   "cell_type": "markdown",
   "id": "86cc5e25",
   "metadata": {},
   "source": [
    "LogisticRegression 의 옵션\n",
    "\n",
    "- solver : 최적화할 때 사용할 알고리즘으로\n",
    " - liblinear : 작은 데이터 세트인 경우 좋으며 일대일 방식으로 제한됨\n",
    " - sag or saga : 큰 데이터 세트\n",
    " - newton-cg or sag or saga or lbfgs : 다중 클래스 문제"
   ]
  },
  {
   "cell_type": "code",
   "execution_count": 4,
   "id": "e546ff34",
   "metadata": {},
   "outputs": [
    {
     "name": "stdout",
     "output_type": "stream",
     "text": [
      "Train acc :  0.7429286126611506\n",
      "Test acc :  0.7446153846153846\n"
     ]
    }
   ],
   "source": [
    "from sklearn.linear_model import LogisticRegression\n",
    "from sklearn.metrics import accuracy_score\n",
    "\n",
    "lr = LogisticRegression(solver= 'liblinear' , random_state=13)\n",
    "lr.fit(X_train, y_train)\n",
    "\n",
    "y_pred_tr = lr.predict(X_train)\n",
    "y_pred_test  = lr.predict(X_test)\n",
    "\n",
    "print(\"Train acc : \", accuracy_score(y_train, y_pred_tr))\n",
    "print(\"Test acc : \", accuracy_score(y_test, y_pred_test))"
   ]
  },
  {
   "cell_type": "markdown",
   "id": "60182904",
   "metadata": {},
   "source": [
    "파이프라인 구축해보기"
   ]
  },
  {
   "cell_type": "code",
   "execution_count": 5,
   "id": "a41ba002",
   "metadata": {},
   "outputs": [],
   "source": [
    "from sklearn.pipeline import Pipeline\n",
    "from sklearn.preprocessing import StandardScaler\n",
    "\n",
    "estimators = [\n",
    "    ('scaler', StandardScaler()),\n",
    "    ('clf', LogisticRegression(solver='liblinear', random_state=13))\n",
    "]\n",
    "\n",
    "pipe = Pipeline(estimators)"
   ]
  },
  {
   "cell_type": "code",
   "execution_count": 6,
   "id": "9fa3f808",
   "metadata": {},
   "outputs": [
    {
     "name": "stdout",
     "output_type": "stream",
     "text": [
      "Train acc :  0.7444679622859341\n",
      "Test acc :  0.7469230769230769\n"
     ]
    }
   ],
   "source": [
    "pipe.fit(X_train, y_train)\n",
    "\n",
    "y_pred_tr = pipe.predict(X_train)\n",
    "y_pred_test  = pipe.predict(X_test)\n",
    "\n",
    "print(\"Train acc : \", accuracy_score(y_train, y_pred_tr))\n",
    "print(\"Test acc : \", accuracy_score(y_test, y_pred_test))"
   ]
  },
  {
   "cell_type": "markdown",
   "id": "350dedf8",
   "metadata": {},
   "source": [
    "\n",
    "Decision Tree도 실습해보자."
   ]
  },
  {
   "cell_type": "code",
   "execution_count": 7,
   "id": "c2f17b05",
   "metadata": {},
   "outputs": [],
   "source": [
    "from sklearn.tree import DecisionTreeClassifier\n",
    "\n",
    "wine_tree = DecisionTreeClassifier(max_depth=2, random_state=13)\n",
    "wine_tree.fit(X_train, y_train)\n",
    "\n",
    "models = {\n",
    "    'logistic regression' : pipe, \n",
    "    'decision tree' : wine_tree\n",
    "}"
   ]
  },
  {
   "cell_type": "code",
   "execution_count": 8,
   "id": "cc7e8938",
   "metadata": {},
   "outputs": [
    {
     "data": {
      "text/plain": [
       "dict_items([('logistic regression', Pipeline(steps=[('scaler', StandardScaler()),\n",
       "                ('clf',\n",
       "                 LogisticRegression(random_state=13, solver='liblinear'))])), ('decision tree', DecisionTreeClassifier(max_depth=2, random_state=13))])"
      ]
     },
     "execution_count": 8,
     "metadata": {},
     "output_type": "execute_result"
    }
   ],
   "source": [
    "models.items()"
   ]
  },
  {
   "cell_type": "code",
   "execution_count": 9,
   "id": "1c87a05d",
   "metadata": {},
   "outputs": [
    {
     "data": {
      "image/png": "[encoded data removed]",
      "text/plain": [
       "<Figure size 720x576 with 1 Axes>"
      ]
     },
     "metadata": {
      "needs_background": "light"
     },
     "output_type": "display_data"
    }
   ],
   "source": [
    "from sklearn.metrics import roc_curve\n",
    "import matplotlib.pyplot as plt\n",
    "\n",
    "plt.figure(figsize = (10,8))\n",
    "plt.plot([0,1], [0,1], label = 'random_guess')\n",
    "\n",
    "for model_name, model in models.items():\n",
    "    pred = model.predict_proba(X_test)[:, 1] # 첫번째 컬럼은 0일 확률이므로 1일 확률인 두번째 컬럼을 추출해야함\n",
    "    fpr, tpr, thresholds = roc_curve(y_test, pred)\n",
    "\n",
    "    plt.plot(fpr, tpr, label = model_name)\n",
    "\n",
    "plt.grid()\n",
    "plt.legend()\n",
    "plt.show()"
   ]
  },
  {
   "cell_type": "markdown",
   "id": "ac051d64",
   "metadata": {},
   "source": [
    "roc curve를 그려보았을 땐 decision tree 보단 logistic regression의 성능이 조금 더 좋아보임"
   ]
  },
  {
   "cell_type": "markdown",
   "id": "21c6c9e4",
   "metadata": {},
   "source": [
    "# PIMA 인디언 당뇨병 예측"
   ]
  },
  {
   "cell_type": "markdown",
   "id": "b4d3c2ec",
   "metadata": {},
   "source": [
    "50년대 까지 PIMA 인디언은 당뇨가 없었는데 20세기 말 갑자기 인구의 50%가 당뇨에 걸리게 되면서 데이터 분석에 흥미로운 주제로 다가오게 되었다.\n",
    "\n",
    "원래 데이터는 캐글에 있다!"
   ]
  },
  {
   "cell_type": "code",
   "execution_count": 11,
   "id": "a7f1d597",
   "metadata": {},
   "outputs": [
    {
     "data": {
      "text/html": [
       "<div>\n",
       "<style scoped>\n",
       "    .dataframe tbody tr th:only-of-type {\n",
       "        vertical-align: middle;\n",
       "    }\n",
       "\n",
       "    .dataframe tbody tr th {\n",
       "        vertical-align: top;\n",
       "    }\n",
       "\n",
       "    .dataframe thead th {\n",
       "        text-align: right;\n",
       "    }\n",
       "</style>\n",
       "<table border=\"1\" class=\"dataframe\">\n",
       "  <thead>\n",
       "    <tr style=\"text-align: right;\">\n",
       "      <th></th>\n",
       "      <th>Pregnancies</th>\n",
       "      <th>Glucose</th>\n",
       "      <th>BloodPressure</th>\n",
       "      <th>SkinThickness</th>\n",
       "      <th>Insulin</th>\n",
       "      <th>BMI</th>\n",
       "      <th>DiabetesPedigreeFunction</th>\n",
       "      <th>Age</th>\n",
       "      <th>Outcome</th>\n",
       "    </tr>\n",
       "  </thead>\n",
       "  <tbody>\n",
       "    <tr>\n",
       "      <th>0</th>\n",
       "      <td>6</td>\n",
       "      <td>148</td>\n",
       "      <td>72</td>\n",
       "      <td>35</td>\n",
       "      <td>0</td>\n",
       "      <td>33.6</td>\n",
       "      <td>0.627</td>\n",
       "      <td>50</td>\n",
       "      <td>1</td>\n",
       "    </tr>\n",
       "    <tr>\n",
       "      <th>1</th>\n",
       "      <td>1</td>\n",
       "      <td>85</td>\n",
       "      <td>66</td>\n",
       "      <td>29</td>\n",
       "      <td>0</td>\n",
       "      <td>26.6</td>\n",
       "      <td>0.351</td>\n",
       "      <td>31</td>\n",
       "      <td>0</td>\n",
       "    </tr>\n",
       "    <tr>\n",
       "      <th>2</th>\n",
       "      <td>8</td>\n",
       "      <td>183</td>\n",
       "      <td>64</td>\n",
       "      <td>0</td>\n",
       "      <td>0</td>\n",
       "      <td>23.3</td>\n",
       "      <td>0.672</td>\n",
       "      <td>32</td>\n",
       "      <td>1</td>\n",
       "    </tr>\n",
       "    <tr>\n",
       "      <th>3</th>\n",
       "      <td>1</td>\n",
       "      <td>89</td>\n",
       "      <td>66</td>\n",
       "      <td>23</td>\n",
       "      <td>94</td>\n",
       "      <td>28.1</td>\n",
       "      <td>0.167</td>\n",
       "      <td>21</td>\n",
       "      <td>0</td>\n",
       "    </tr>\n",
       "    <tr>\n",
       "      <th>4</th>\n",
       "      <td>0</td>\n",
       "      <td>137</td>\n",
       "      <td>40</td>\n",
       "      <td>35</td>\n",
       "      <td>168</td>\n",
       "      <td>43.1</td>\n",
       "      <td>2.288</td>\n",
       "      <td>33</td>\n",
       "      <td>1</td>\n",
       "    </tr>\n",
       "  </tbody>\n",
       "</table>\n",
       "</div>"
      ],
      "text/plain": [
       "   Pregnancies  Glucose  BloodPressure  SkinThickness  Insulin   BMI  \\\n",
       "0            6      148             72             35        0  33.6   \n",
       "1            1       85             66             29        0  26.6   \n",
       "2            8      183             64              0        0  23.3   \n",
       "3            1       89             66             23       94  28.1   \n",
       "4            0      137             40             35      168  43.1   \n",
       "\n",
       "   DiabetesPedigreeFunction  Age  Outcome  \n",
       "0                     0.627   50        1  \n",
       "1                     0.351   31        0  \n",
       "2                     0.672   32        1  \n",
       "3                     0.167   21        0  \n",
       "4                     2.288   33        1  "
      ]
     },
     "execution_count": 11,
     "metadata": {},
     "output_type": "execute_result"
    }
   ],
   "source": [
    "PIMA_url = 'https://raw.githubusercontent.com/PinkWink/ML_tutorial/master/dataset/diabetes.csv'\n",
    "\n",
    "PIMA = pd.read_csv(PIMA_url)\n",
    "PIMA.head()"
   ]
  },
  {
   "cell_type": "code",
   "execution_count": 12,
   "id": "a655424d",
   "metadata": {},
   "outputs": [
    {
     "name": "stdout",
     "output_type": "stream",
     "text": [
      "<class 'pandas.core.frame.DataFrame'>\n",
      "RangeIndex: 768 entries, 0 to 767\n",
      "Data columns (total 9 columns):\n",
      " #   Column                    Non-Null Count  Dtype  \n",
      "---  ------                    --------------  -----  \n",
      " 0   Pregnancies               768 non-null    int64  \n",
      " 1   Glucose                   768 non-null    int64  \n",
      " 2   BloodPressure             768 non-null    int64  \n",
      " 3   SkinThickness             768 non-null    int64  \n",
      " 4   Insulin                   768 non-null    int64  \n",
      " 5   BMI                       768 non-null    float64\n",
      " 6   DiabetesPedigreeFunction  768 non-null    float64\n",
      " 7   Age                       768 non-null    int64  \n",
      " 8   Outcome                   768 non-null    int64  \n",
      "dtypes: float64(2), int64(7)\n",
      "memory usage: 54.1 KB\n"
     ]
    }
   ],
   "source": [
    "PIMA.info()"
   ]
  },
  {
   "cell_type": "code",
   "execution_count": 13,
   "id": "5a37f03b",
   "metadata": {},
   "outputs": [
    {
     "name": "stdout",
     "output_type": "stream",
     "text": [
      "<class 'pandas.core.frame.DataFrame'>\n",
      "RangeIndex: 768 entries, 0 to 767\n",
      "Data columns (total 9 columns):\n",
      " #   Column                    Non-Null Count  Dtype  \n",
      "---  ------                    --------------  -----  \n",
      " 0   Pregnancies               768 non-null    float64\n",
      " 1   Glucose                   768 non-null    float64\n",
      " 2   BloodPressure             768 non-null    float64\n",
      " 3   SkinThickness             768 non-null    float64\n",
      " 4   Insulin                   768 non-null    float64\n",
      " 5   BMI                       768 non-null    float64\n",
      " 6   DiabetesPedigreeFunction  768 non-null    float64\n",
      " 7   Age                       768 non-null    float64\n",
      " 8   Outcome                   768 non-null    float64\n",
      "dtypes: float64(9)\n",
      "memory usage: 54.1 KB\n"
     ]
    }
   ],
   "source": [
    "# 전부 float형으로 변환\n",
    "\n",
    "PIMA = PIMA.astype('float')\n",
    "PIMA.info()"
   ]
  },
  {
   "cell_type": "code",
   "execution_count": 14,
   "id": "c755edbe",
   "metadata": {},
   "outputs": [
    {
     "data": {
      "image/png": "[encoded data removed]",
      "text/plain": [
       "<Figure size 864x720 with 2 Axes>"
      ]
     },
     "metadata": {
      "needs_background": "light"
     },
     "output_type": "display_data"
    }
   ],
   "source": [
    "# 상관관계\n",
    "\n",
    "import seaborn as sns\n",
    "import matplotlib.pyplot as plt\n",
    "\n",
    "plt.figure(figsize=(12,10))\n",
    "sns.heatmap(PIMA.corr(), annot=True, cmap = \"YlGnBu\")\n",
    "plt.show()\n"
   ]
  },
  {
   "cell_type": "code",
   "execution_count": 15,
   "id": "451c6c4b",
   "metadata": {},
   "outputs": [
    {
     "data": {
      "text/plain": [
       "Pregnancies                 111\n",
       "Glucose                       5\n",
       "BloodPressure                35\n",
       "SkinThickness               227\n",
       "Insulin                     374\n",
       "BMI                          11\n",
       "DiabetesPedigreeFunction      0\n",
       "Age                           0\n",
       "Outcome                     500\n",
       "dtype: int64"
      ]
     },
     "execution_count": 15,
     "metadata": {},
     "output_type": "execute_result"
    }
   ],
   "source": [
    "(PIMA == 0).astype(int).sum()"
   ]
  },
  {
   "cell_type": "markdown",
   "id": "8d9634ff",
   "metadata": {},
   "source": [
    "결측치는 데이터에 따라 그 정의가 다른데, nan / null / 0 / - 등 여러가지가 있을 수 있다.\n",
    "\n",
    "그래서 해당 데이터가 결측치인지 확인하는 것도 중요한데\n",
    "\n",
    "위 데이터에서 Glucose(포도당 부하 검사 수치), BloodPressure(혈압), SkinThickness(팔 삼두근 뒤쪽의 피하지방 측정값), BMI(체질량지수)들이 0인 것은 결측치로 봐도 될 것 같다."
   ]
  },
  {
   "cell_type": "code",
   "execution_count": 16,
   "id": "549aa789",
   "metadata": {},
   "outputs": [
    {
     "data": {
      "text/plain": [
       "Pregnancies                 111\n",
       "Glucose                       0\n",
       "BloodPressure                 0\n",
       "SkinThickness                 0\n",
       "Insulin                     374\n",
       "BMI                           0\n",
       "DiabetesPedigreeFunction      0\n",
       "Age                           0\n",
       "Outcome                     500\n",
       "dtype: int64"
      ]
     },
     "execution_count": 16,
     "metadata": {},
     "output_type": "execute_result"
    }
   ],
   "source": [
    "# 결측치 채워넣기\n",
    "# 채워넣는 방법에도 여러가지가 있는데 지금은 평균값으로 대체해보자.\n",
    "\n",
    "zero_features = ['Glucose', 'BloodPressure', 'SkinThickness', 'BMI']\n",
    "PIMA[zero_features] = PIMA[zero_features].replace(0, PIMA[zero_features].mean())\n",
    "\n",
    "(PIMA == 0).astype(int).sum()"
   ]
  },
  {
   "cell_type": "code",
   "execution_count": 17,
   "id": "833feddd",
   "metadata": {},
   "outputs": [],
   "source": [
    "from sklearn.model_selection import train_test_split\n",
    "\n",
    "X = PIMA.drop(['Outcome'], axis = 1)\n",
    "y = PIMA['Outcome']\n",
    "\n",
    "X_train, X_test, y_train, y_test = train_test_split(X, y , test_size= 0.2, \n",
    "                                                    stratify=y, \n",
    "                                                    random_state=13)"
   ]
  },
  {
   "cell_type": "code",
   "execution_count": 18,
   "id": "d2120467",
   "metadata": {},
   "outputs": [],
   "source": [
    "from sklearn.pipeline import Pipeline\n",
    "from sklearn.preprocessing import StandardScaler\n",
    "from sklearn.linear_model import LogisticRegression\n",
    "\n",
    "estimators = [\n",
    "    ('scaler', StandardScaler()),\n",
    "    ('clf', LogisticRegression(solver='liblinear', random_state=13))\n",
    "]\n",
    "\n",
    "pipe_lr = Pipeline(estimators)\n",
    "pipe_lr.fit(X_train, y_train)\n",
    "pred = pipe_lr.predict(X_test)"
   ]
  },
  {
   "cell_type": "code",
   "execution_count": 19,
   "id": "2f7de401",
   "metadata": {},
   "outputs": [
    {
     "name": "stdout",
     "output_type": "stream",
     "text": [
      "Accuracy :  0.7727272727272727\n",
      "Recall :  0.6111111111111112\n",
      "Precision :  0.7021276595744681\n",
      "ROC AUC score :  0.7355555555555556\n",
      "F1 score :  0.6534653465346535\n"
     ]
    }
   ],
   "source": [
    "from sklearn.metrics import accuracy_score, recall_score, precision_score\n",
    "from sklearn.metrics import roc_auc_score, f1_score\n",
    "\n",
    "print('Accuracy : ', accuracy_score(y_test, pred))\n",
    "print('Recall : ', recall_score(y_test, pred))\n",
    "print('Precision : ', precision_score(y_test, pred))\n",
    "print('ROC AUC score : ', roc_auc_score(y_test, pred))\n",
    "print('F1 score : ', f1_score(y_test, pred))"
   ]
  },
  {
   "cell_type": "markdown",
   "id": "fddf0c18",
   "metadata": {},
   "source": [
    "모델의 feature importance 확인"
   ]
  },
  {
   "cell_type": "code",
   "execution_count": 20,
   "id": "092cec27",
   "metadata": {},
   "outputs": [
    {
     "ename": "AttributeError",
     "evalue": "'LogisticRegression' object has no attribute 'feature_importance'",
     "output_type": "error",
     "traceback": [
      "\u001b[0;31m---------------------------------------------------------------------------\u001b[0m",
      "\u001b[0;31mAttributeError\u001b[0m                            Traceback (most recent call last)",
      "Input \u001b[0;32mIn [20]\u001b[0m, in \u001b[0;36m<cell line: 1>\u001b[0;34m()\u001b[0m\n\u001b[0;32m----> 1\u001b[0m \u001b[43mpipe_lr\u001b[49m\u001b[43m[\u001b[49m\u001b[38;5;124;43m'\u001b[39;49m\u001b[38;5;124;43mclf\u001b[39;49m\u001b[38;5;124;43m'\u001b[39;49m\u001b[43m]\u001b[49m\u001b[38;5;241;43m.\u001b[39;49m\u001b[43mfeature_importance\u001b[49m\n",
      "\u001b[0;31mAttributeError\u001b[0m: 'LogisticRegression' object has no attribute 'feature_importance'"
     ]
    }
   ],
   "source": [
    "pipe_lr['clf'].feature_importance"
   ]
  },
  {
   "cell_type": "code",
   "execution_count": 21,
   "id": "12355ecf",
   "metadata": {},
   "outputs": [
    {
     "data": {
      "text/plain": [
       "array([[ 0.35426589,  1.20142444, -0.15840136,  0.03394658, -0.16286472,\n",
       "         0.62040452,  0.36669356,  0.17195965]])"
      ]
     },
     "execution_count": 21,
     "metadata": {},
     "output_type": "execute_result"
    }
   ],
   "source": [
    "# 8개의 features가 쓰였으니 각 계수값도 확인할 수 있다.\n",
    "# Logistic Regression 에서는 각 계수값이 feature importance이다.\n",
    "\n",
    "pipe_lr['clf'].coef_"
   ]
  },
  {
   "cell_type": "code",
   "execution_count": 22,
   "id": "d77b9e20",
   "metadata": {},
   "outputs": [],
   "source": [
    "coef = list(pipe_lr['clf'].coef_[0])\n",
    "labels = list(X_train.columns)"
   ]
  },
  {
   "cell_type": "code",
   "execution_count": 23,
   "id": "50d849de",
   "metadata": {},
   "outputs": [
    {
     "data": {
      "text/html": [
       "<div>\n",
       "<style scoped>\n",
       "    .dataframe tbody tr th:only-of-type {\n",
       "        vertical-align: middle;\n",
       "    }\n",
       "\n",
       "    .dataframe tbody tr th {\n",
       "        vertical-align: top;\n",
       "    }\n",
       "\n",
       "    .dataframe thead th {\n",
       "        text-align: right;\n",
       "    }\n",
       "</style>\n",
       "<table border=\"1\" class=\"dataframe\">\n",
       "  <thead>\n",
       "    <tr style=\"text-align: right;\">\n",
       "      <th></th>\n",
       "      <th>Features</th>\n",
       "      <th>importance</th>\n",
       "    </tr>\n",
       "  </thead>\n",
       "  <tbody>\n",
       "    <tr>\n",
       "      <th>4</th>\n",
       "      <td>Insulin</td>\n",
       "      <td>-0.162865</td>\n",
       "    </tr>\n",
       "    <tr>\n",
       "      <th>2</th>\n",
       "      <td>BloodPressure</td>\n",
       "      <td>-0.158401</td>\n",
       "    </tr>\n",
       "    <tr>\n",
       "      <th>3</th>\n",
       "      <td>SkinThickness</td>\n",
       "      <td>0.033947</td>\n",
       "    </tr>\n",
       "    <tr>\n",
       "      <th>7</th>\n",
       "      <td>Age</td>\n",
       "      <td>0.171960</td>\n",
       "    </tr>\n",
       "    <tr>\n",
       "      <th>0</th>\n",
       "      <td>Pregnancies</td>\n",
       "      <td>0.354266</td>\n",
       "    </tr>\n",
       "    <tr>\n",
       "      <th>6</th>\n",
       "      <td>DiabetesPedigreeFunction</td>\n",
       "      <td>0.366694</td>\n",
       "    </tr>\n",
       "    <tr>\n",
       "      <th>5</th>\n",
       "      <td>BMI</td>\n",
       "      <td>0.620405</td>\n",
       "    </tr>\n",
       "    <tr>\n",
       "      <th>1</th>\n",
       "      <td>Glucose</td>\n",
       "      <td>1.201424</td>\n",
       "    </tr>\n",
       "  </tbody>\n",
       "</table>\n",
       "</div>"
      ],
      "text/plain": [
       "                   Features  importance\n",
       "4                   Insulin   -0.162865\n",
       "2             BloodPressure   -0.158401\n",
       "3             SkinThickness    0.033947\n",
       "7                       Age    0.171960\n",
       "0               Pregnancies    0.354266\n",
       "6  DiabetesPedigreeFunction    0.366694\n",
       "5                       BMI    0.620405\n",
       "1                   Glucose    1.201424"
      ]
     },
     "execution_count": 23,
     "metadata": {},
     "output_type": "execute_result"
    }
   ],
   "source": [
    "# feature들의 중요도\n",
    "\n",
    "features = pd.DataFrame(\n",
    "    {'Features' : labels, 'importance' : coef}\n",
    ")\n",
    "\n",
    "features.sort_values(by = ['importance'], ascending=True, inplace=True)\n",
    "features"
   ]
  },
  {
   "cell_type": "code",
   "execution_count": 24,
   "id": "d7519aa6",
   "metadata": {},
   "outputs": [
    {
     "data": {
      "text/html": [
       "<div>\n",
       "<style scoped>\n",
       "    .dataframe tbody tr th:only-of-type {\n",
       "        vertical-align: middle;\n",
       "    }\n",
       "\n",
       "    .dataframe tbody tr th {\n",
       "        vertical-align: top;\n",
       "    }\n",
       "\n",
       "    .dataframe thead th {\n",
       "        text-align: right;\n",
       "    }\n",
       "</style>\n",
       "<table border=\"1\" class=\"dataframe\">\n",
       "  <thead>\n",
       "    <tr style=\"text-align: right;\">\n",
       "      <th></th>\n",
       "      <th>importance</th>\n",
       "      <th>positive</th>\n",
       "    </tr>\n",
       "    <tr>\n",
       "      <th>Features</th>\n",
       "      <th></th>\n",
       "      <th></th>\n",
       "    </tr>\n",
       "  </thead>\n",
       "  <tbody>\n",
       "    <tr>\n",
       "      <th>Insulin</th>\n",
       "      <td>-0.162865</td>\n",
       "      <td>False</td>\n",
       "    </tr>\n",
       "    <tr>\n",
       "      <th>BloodPressure</th>\n",
       "      <td>-0.158401</td>\n",
       "      <td>False</td>\n",
       "    </tr>\n",
       "    <tr>\n",
       "      <th>SkinThickness</th>\n",
       "      <td>0.033947</td>\n",
       "      <td>True</td>\n",
       "    </tr>\n",
       "    <tr>\n",
       "      <th>Age</th>\n",
       "      <td>0.171960</td>\n",
       "      <td>True</td>\n",
       "    </tr>\n",
       "    <tr>\n",
       "      <th>Pregnancies</th>\n",
       "      <td>0.354266</td>\n",
       "      <td>True</td>\n",
       "    </tr>\n",
       "    <tr>\n",
       "      <th>DiabetesPedigreeFunction</th>\n",
       "      <td>0.366694</td>\n",
       "      <td>True</td>\n",
       "    </tr>\n",
       "    <tr>\n",
       "      <th>BMI</th>\n",
       "      <td>0.620405</td>\n",
       "      <td>True</td>\n",
       "    </tr>\n",
       "    <tr>\n",
       "      <th>Glucose</th>\n",
       "      <td>1.201424</td>\n",
       "      <td>True</td>\n",
       "    </tr>\n",
       "  </tbody>\n",
       "</table>\n",
       "</div>"
      ],
      "text/plain": [
       "                          importance  positive\n",
       "Features                                      \n",
       "Insulin                    -0.162865     False\n",
       "BloodPressure              -0.158401     False\n",
       "SkinThickness               0.033947      True\n",
       "Age                         0.171960      True\n",
       "Pregnancies                 0.354266      True\n",
       "DiabetesPedigreeFunction    0.366694      True\n",
       "BMI                         0.620405      True\n",
       "Glucose                     1.201424      True"
      ]
     },
     "execution_count": 24,
     "metadata": {},
     "output_type": "execute_result"
    }
   ],
   "source": [
    "features['positive'] = features['importance'] > 0\n",
    "features.set_index('Features', inplace=True)\n",
    "features"
   ]
  },
  {
   "cell_type": "code",
   "execution_count": 25,
   "id": "777e93ac",
   "metadata": {},
   "outputs": [
    {
     "data": {
      "image/png": "[encoded data removed]",
      "text/plain": [
       "<Figure size 792x432 with 1 Axes>"
      ]
     },
     "metadata": {
      "needs_background": "light"
     },
     "output_type": "display_data"
    }
   ],
   "source": [
    "features['importance'].plot(kind = 'barh',\n",
    "                            figsize = (11,6),\n",
    "                            color = features['positive'].map({True : 'blue', False : \"red\"}))\n",
    "plt.xlabel('importance')\n",
    "plt.show()"
   ]
  },
  {
   "cell_type": "markdown",
   "id": "d7366384",
   "metadata": {},
   "source": [
    "# 정밀도와 재현율"
   ]
  },
  {
   "cell_type": "code",
   "execution_count": 26,
   "id": "4b85d2fe",
   "metadata": {},
   "outputs": [
    {
     "data": {
      "text/html": [
       "<div>\n",
       "<style scoped>\n",
       "    .dataframe tbody tr th:only-of-type {\n",
       "        vertical-align: middle;\n",
       "    }\n",
       "\n",
       "    .dataframe tbody tr th {\n",
       "        vertical-align: top;\n",
       "    }\n",
       "\n",
       "    .dataframe thead th {\n",
       "        text-align: right;\n",
       "    }\n",
       "</style>\n",
       "<table border=\"1\" class=\"dataframe\">\n",
       "  <thead>\n",
       "    <tr style=\"text-align: right;\">\n",
       "      <th></th>\n",
       "      <th>fixed acidity</th>\n",
       "      <th>volatile acidity</th>\n",
       "      <th>citric acid</th>\n",
       "      <th>residual sugar</th>\n",
       "      <th>chlorides</th>\n",
       "      <th>free sulfur dioxide</th>\n",
       "      <th>total sulfur dioxide</th>\n",
       "      <th>density</th>\n",
       "      <th>pH</th>\n",
       "      <th>sulphates</th>\n",
       "      <th>alcohol</th>\n",
       "      <th>quality</th>\n",
       "      <th>color</th>\n",
       "    </tr>\n",
       "  </thead>\n",
       "  <tbody>\n",
       "    <tr>\n",
       "      <th>0</th>\n",
       "      <td>7.4</td>\n",
       "      <td>0.70</td>\n",
       "      <td>0.00</td>\n",
       "      <td>1.9</td>\n",
       "      <td>0.076</td>\n",
       "      <td>11.0</td>\n",
       "      <td>34.0</td>\n",
       "      <td>0.9978</td>\n",
       "      <td>3.51</td>\n",
       "      <td>0.56</td>\n",
       "      <td>9.4</td>\n",
       "      <td>5</td>\n",
       "      <td>1</td>\n",
       "    </tr>\n",
       "    <tr>\n",
       "      <th>1</th>\n",
       "      <td>7.8</td>\n",
       "      <td>0.88</td>\n",
       "      <td>0.00</td>\n",
       "      <td>2.6</td>\n",
       "      <td>0.098</td>\n",
       "      <td>25.0</td>\n",
       "      <td>67.0</td>\n",
       "      <td>0.9968</td>\n",
       "      <td>3.20</td>\n",
       "      <td>0.68</td>\n",
       "      <td>9.8</td>\n",
       "      <td>5</td>\n",
       "      <td>1</td>\n",
       "    </tr>\n",
       "    <tr>\n",
       "      <th>2</th>\n",
       "      <td>7.8</td>\n",
       "      <td>0.76</td>\n",
       "      <td>0.04</td>\n",
       "      <td>2.3</td>\n",
       "      <td>0.092</td>\n",
       "      <td>15.0</td>\n",
       "      <td>54.0</td>\n",
       "      <td>0.9970</td>\n",
       "      <td>3.26</td>\n",
       "      <td>0.65</td>\n",
       "      <td>9.8</td>\n",
       "      <td>5</td>\n",
       "      <td>1</td>\n",
       "    </tr>\n",
       "    <tr>\n",
       "      <th>3</th>\n",
       "      <td>11.2</td>\n",
       "      <td>0.28</td>\n",
       "      <td>0.56</td>\n",
       "      <td>1.9</td>\n",
       "      <td>0.075</td>\n",
       "      <td>17.0</td>\n",
       "      <td>60.0</td>\n",
       "      <td>0.9980</td>\n",
       "      <td>3.16</td>\n",
       "      <td>0.58</td>\n",
       "      <td>9.8</td>\n",
       "      <td>6</td>\n",
       "      <td>1</td>\n",
       "    </tr>\n",
       "    <tr>\n",
       "      <th>4</th>\n",
       "      <td>7.4</td>\n",
       "      <td>0.70</td>\n",
       "      <td>0.00</td>\n",
       "      <td>1.9</td>\n",
       "      <td>0.076</td>\n",
       "      <td>11.0</td>\n",
       "      <td>34.0</td>\n",
       "      <td>0.9978</td>\n",
       "      <td>3.51</td>\n",
       "      <td>0.56</td>\n",
       "      <td>9.4</td>\n",
       "      <td>5</td>\n",
       "      <td>1</td>\n",
       "    </tr>\n",
       "  </tbody>\n",
       "</table>\n",
       "</div>"
      ],
      "text/plain": [
       "   fixed acidity  volatile acidity  citric acid  residual sugar  chlorides  \\\n",
       "0            7.4              0.70         0.00             1.9      0.076   \n",
       "1            7.8              0.88         0.00             2.6      0.098   \n",
       "2            7.8              0.76         0.04             2.3      0.092   \n",
       "3           11.2              0.28         0.56             1.9      0.075   \n",
       "4            7.4              0.70         0.00             1.9      0.076   \n",
       "\n",
       "   free sulfur dioxide  total sulfur dioxide  density    pH  sulphates  \\\n",
       "0                 11.0                  34.0   0.9978  3.51       0.56   \n",
       "1                 25.0                  67.0   0.9968  3.20       0.68   \n",
       "2                 15.0                  54.0   0.9970  3.26       0.65   \n",
       "3                 17.0                  60.0   0.9980  3.16       0.58   \n",
       "4                 11.0                  34.0   0.9978  3.51       0.56   \n",
       "\n",
       "   alcohol  quality  color  \n",
       "0      9.4        5      1  \n",
       "1      9.8        5      1  \n",
       "2      9.8        5      1  \n",
       "3      9.8        6      1  \n",
       "4      9.4        5      1  "
      ]
     },
     "execution_count": 26,
     "metadata": {},
     "output_type": "execute_result"
    }
   ],
   "source": [
    "import pandas as pd\n",
    "\n",
    "wine_url = 'https://raw.githubusercontent.com/PinkWink/ML_tutorial/master/dataset/wine.csv'\n",
    "\n",
    "wine = pd.read_csv(wine_url, index_col=0)\n",
    "wine.head()"
   ]
  },
  {
   "cell_type": "code",
   "execution_count": 27,
   "id": "bdcf0e93",
   "metadata": {},
   "outputs": [],
   "source": [
    "wine['taste'] = [1 if grade > 5 else 0 for grade in wine['quality']]\n",
    "\n",
    "X = wine.drop(['taste', 'quality'], axis = 1)\n",
    "y = wine['taste']"
   ]
  },
  {
   "cell_type": "code",
   "execution_count": 28,
   "id": "7c1d4410",
   "metadata": {},
   "outputs": [],
   "source": [
    "from sklearn.model_selection import train_test_split\n",
    "\n",
    "X_train, X_test, y_train, y_test = train_test_split(X, y , test_size= 0.2, random_state=13)"
   ]
  },
  {
   "cell_type": "code",
   "execution_count": 29,
   "id": "8902fbe2",
   "metadata": {},
   "outputs": [
    {
     "name": "stdout",
     "output_type": "stream",
     "text": [
      "Train acc :  0.7429286126611506\n",
      "Test acc :  0.7446153846153846\n"
     ]
    }
   ],
   "source": [
    "from sklearn.linear_model import LogisticRegression\n",
    "from sklearn.metrics import accuracy_score\n",
    "\n",
    "lr = LogisticRegression(solver= 'liblinear' , random_state=13)\n",
    "lr.fit(X_train, y_train)\n",
    "\n",
    "y_pred_tr = lr.predict(X_train)\n",
    "y_pred_test  = lr.predict(X_test)\n",
    "\n",
    "print(\"Train acc : \", accuracy_score(y_train, y_pred_tr))\n",
    "print(\"Test acc : \", accuracy_score(y_test, y_pred_test))"
   ]
  },
  {
   "cell_type": "markdown",
   "id": "789cd12c",
   "metadata": {},
   "source": [
    "- classification_report "
   ]
  },
  {
   "cell_type": "code",
   "execution_count": 30,
   "id": "67c9701f",
   "metadata": {},
   "outputs": [
    {
     "name": "stdout",
     "output_type": "stream",
     "text": [
      "              precision    recall  f1-score   support\n",
      "\n",
      "           0       0.68      0.58      0.62       477\n",
      "           1       0.77      0.84      0.81       823\n",
      "\n",
      "    accuracy                           0.74      1300\n",
      "   macro avg       0.73      0.71      0.72      1300\n",
      "weighted avg       0.74      0.74      0.74      1300\n",
      "\n"
     ]
    }
   ],
   "source": [
    "from sklearn.metrics import classification_report\n",
    "\n",
    "print(classification_report(y_test, lr.predict(X_test)))"
   ]
  },
  {
   "cell_type": "markdown",
   "id": "bff858ab",
   "metadata": {},
   "source": [
    "confusion_matrix"
   ]
  },
  {
   "cell_type": "code",
   "execution_count": 31,
   "id": "af2acfb9",
   "metadata": {},
   "outputs": [
    {
     "name": "stdout",
     "output_type": "stream",
     "text": [
      "[[275 202]\n",
      " [130 693]]\n"
     ]
    }
   ],
   "source": [
    "from sklearn.metrics import confusion_matrix\n",
    "\n",
    "print(confusion_matrix(y_test, lr.predict(X_test)))"
   ]
  },
  {
   "cell_type": "code",
   "execution_count": 32,
   "id": "de60edcf",
   "metadata": {},
   "outputs": [
    {
     "data": {
      "image/png": "[encoded data removed]",
      "text/plain": [
       "<Figure size 792x432 with 1 Axes>"
      ]
     },
     "metadata": {
      "needs_background": "light"
     },
     "output_type": "display_data"
    }
   ],
   "source": [
    "from sklearn.metrics import precision_recall_curve\n",
    "\n",
    "plt.figure(figsize=(11,6))\n",
    "pred = lr.predict_proba(X_test)[:,1] # 클래스가 1이 될 확률만 추출\n",
    "precisions, recalls, thresholds = precision_recall_curve(y_test, pred)\n",
    "\n",
    "plt.plot(thresholds, precisions[:len(thresholds)], label = 'precision')\n",
    "plt.plot(thresholds, recalls[:len(thresholds)], label = 'recall')\n",
    "plt.grid()\n",
    "plt.legend()\n",
    "plt.show()"
   ]
  },
  {
   "cell_type": "markdown",
   "id": "9c61c98e",
   "metadata": {},
   "source": [
    "각 threshold가 변함에 따라 precision과 recall의 상황을 볼 수 있다.\n",
    "\n",
    "하지만 threshold를 어떻게 바꿀 수 있는거지?"
   ]
  },
  {
   "cell_type": "code",
   "execution_count": 33,
   "id": "b0158e60",
   "metadata": {},
   "outputs": [
    {
     "data": {
      "text/plain": [
       "array([[0.40478773, 0.59521227],\n",
       "       [0.50988367, 0.49011633],\n",
       "       [0.10226459, 0.89773541]])"
      ]
     },
     "execution_count": 33,
     "metadata": {},
     "output_type": "execute_result"
    }
   ],
   "source": [
    "pred_proba = lr.predict_proba(X_test)  # predict를 호출하는 순간 우리는 threshold를 0.5로 사용하자고 한 것이다.\n",
    "pred_proba[:3]"
   ]
  },
  {
   "cell_type": "code",
   "execution_count": 34,
   "id": "0901c62f",
   "metadata": {},
   "outputs": [
    {
     "data": {
      "text/plain": [
       "array([[1],\n",
       "       [0],\n",
       "       [1],\n",
       "       ...,\n",
       "       [1],\n",
       "       [0],\n",
       "       [1]])"
      ]
     },
     "execution_count": 34,
     "metadata": {},
     "output_type": "execute_result"
    }
   ],
   "source": [
    "y_pred_test.reshape(-1,1) # 행은 숫자가 몇인지 모르겠으나, 열은 1로 맞춰주라."
   ]
  },
  {
   "cell_type": "code",
   "execution_count": 35,
   "id": "60f62c64",
   "metadata": {},
   "outputs": [
    {
     "data": {
      "text/plain": [
       "array([[0.40478773, 0.59521227, 1.        ],\n",
       "       [0.50988367, 0.49011633, 0.        ],\n",
       "       [0.10226459, 0.89773541, 1.        ],\n",
       "       ...,\n",
       "       [0.22599381, 0.77400619, 1.        ],\n",
       "       [0.67302357, 0.32697643, 0.        ],\n",
       "       [0.31401366, 0.68598634, 1.        ]])"
      ]
     },
     "execution_count": 35,
     "metadata": {},
     "output_type": "execute_result"
    }
   ],
   "source": [
    "import numpy as np\n",
    "\n",
    "np.concatenate([pred_proba, y_pred_test.reshape(-1,1)], axis = 1)"
   ]
  },
  {
   "cell_type": "markdown",
   "id": "bd58d67c",
   "metadata": {},
   "source": [
    "이제 threshold를 변경해가며 클래스의 예측값이 어떻게 바뀌는지 살펴보자.\n",
    "\n",
    "threshold를 바꾸는데에 도움을 주는 라이브러리 : Binarizer\n",
    "\n",
    "Binarizer 는 이항변수화 변환으로 연속형 변수를 특정 기준 값 이하는 0으로, 특정 기준값 초과는 1로 즉 두 개의 값만을 가지는 변수로 변환할 수 있게 도와준다.\n",
    "\n",
    "Binarizer(threshold = 원하는 값).fit()"
   ]
  },
  {
   "cell_type": "code",
   "execution_count": 36,
   "id": "6a2acdfd",
   "metadata": {},
   "outputs": [
    {
     "data": {
      "text/plain": [
       "array([0., 0., 1., ..., 1., 0., 1.])"
      ]
     },
     "execution_count": 36,
     "metadata": {},
     "output_type": "execute_result"
    }
   ],
   "source": [
    "from sklearn.preprocessing import Binarizer\n",
    "\n",
    "binarizer = Binarizer(threshold=0.6).fit(pred_proba)\n",
    "pred_bin = binarizer.transform(pred_proba)[:,1] # 클래스가 1일 때를 기준으로 0,1이 표현되는 열 추출\n",
    "pred_bin"
   ]
  },
  {
   "cell_type": "code",
   "execution_count": 37,
   "id": "7a53eac7",
   "metadata": {},
   "outputs": [
    {
     "name": "stdout",
     "output_type": "stream",
     "text": [
      "              precision    recall  f1-score   support\n",
      "\n",
      "           0       0.62      0.73      0.67       477\n",
      "           1       0.82      0.74      0.78       823\n",
      "\n",
      "    accuracy                           0.73      1300\n",
      "   macro avg       0.72      0.73      0.72      1300\n",
      "weighted avg       0.75      0.73      0.74      1300\n",
      "\n"
     ]
    }
   ],
   "source": [
    "print(classification_report(y_test,pred_bin))"
   ]
  },
  {
   "cell_type": "markdown",
   "id": "796f07a8",
   "metadata": {},
   "source": [
    "# 앙상블 기법"
   ]
  },
  {
   "cell_type": "markdown",
   "id": "3f8b0380",
   "metadata": {},
   "source": [
    "# HAR 데이터"
   ]
  },
  {
   "cell_type": "code",
   "execution_count": 43,
   "id": "01ba592f",
   "metadata": {},
   "outputs": [
    {
     "data": {
      "text/html": [
       "<div>\n",
       "<style scoped>\n",
       "    .dataframe tbody tr th:only-of-type {\n",
       "        vertical-align: middle;\n",
       "    }\n",
       "\n",
       "    .dataframe tbody tr th {\n",
       "        vertical-align: top;\n",
       "    }\n",
       "\n",
       "    .dataframe thead th {\n",
       "        text-align: right;\n",
       "    }\n",
       "</style>\n",
       "<table border=\"1\" class=\"dataframe\">\n",
       "  <thead>\n",
       "    <tr style=\"text-align: right;\">\n",
       "      <th></th>\n",
       "      <th>column_index</th>\n",
       "      <th>column_name</th>\n",
       "    </tr>\n",
       "  </thead>\n",
       "  <tbody>\n",
       "    <tr>\n",
       "      <th>0</th>\n",
       "      <td>1</td>\n",
       "      <td>tBodyAcc-mean()-X</td>\n",
       "    </tr>\n",
       "    <tr>\n",
       "      <th>1</th>\n",
       "      <td>2</td>\n",
       "      <td>tBodyAcc-mean()-Y</td>\n",
       "    </tr>\n",
       "    <tr>\n",
       "      <th>2</th>\n",
       "      <td>3</td>\n",
       "      <td>tBodyAcc-mean()-Z</td>\n",
       "    </tr>\n",
       "    <tr>\n",
       "      <th>3</th>\n",
       "      <td>4</td>\n",
       "      <td>tBodyAcc-std()-X</td>\n",
       "    </tr>\n",
       "    <tr>\n",
       "      <th>4</th>\n",
       "      <td>5</td>\n",
       "      <td>tBodyAcc-std()-Y</td>\n",
       "    </tr>\n",
       "  </tbody>\n",
       "</table>\n",
       "</div>"
      ],
      "text/plain": [
       "   column_index        column_name\n",
       "0             1  tBodyAcc-mean()-X\n",
       "1             2  tBodyAcc-mean()-Y\n",
       "2             3  tBodyAcc-mean()-Z\n",
       "3             4   tBodyAcc-std()-X\n",
       "4             5   tBodyAcc-std()-Y"
      ]
     },
     "execution_count": 43,
     "metadata": {},
     "output_type": "execute_result"
    }
   ],
   "source": [
    "import pandas as pd\n",
    "\n",
    "url = 'https://raw.githubusercontent.com/PinkWink/ML_tutorial/master/dataset/HAR_dataset/features.txt'\n",
    "\n",
    "# \\s+ : 공백 문자(스페이스, 탭, 개행 등)\n",
    "feature_name_df = pd.read_csv(url, sep = '\\s+', header = None,\n",
    "                              names = ['column_index', 'column_name'])\n",
    "feature_name_df.head()"
   ]
  },
  {
   "cell_type": "code",
   "execution_count": 39,
   "id": "5f089089",
   "metadata": {},
   "outputs": [
    {
     "name": "stdout",
     "output_type": "stream",
     "text": [
      "<class 'pandas.core.frame.DataFrame'>\n",
      "RangeIndex: 561 entries, 0 to 560\n",
      "Data columns (total 2 columns):\n",
      " #   Column        Non-Null Count  Dtype \n",
      "---  ------        --------------  ----- \n",
      " 0   column_index  561 non-null    int64 \n",
      " 1   column_name   561 non-null    object\n",
      "dtypes: int64(1), object(1)\n",
      "memory usage: 8.9+ KB\n"
     ]
    }
   ],
   "source": [
    "feature_name_df.info()"
   ]
  },
  {
   "cell_type": "code",
   "execution_count": 42,
   "id": "a3ca8f42",
   "metadata": {},
   "outputs": [
    {
     "data": {
      "text/plain": [
       "array(['tBodyAcc-mean()-X', 'tBodyAcc-mean()-Y', 'tBodyAcc-mean()-Z',\n",
       "       'tBodyAcc-std()-X', 'tBodyAcc-std()-Y', 'tBodyAcc-std()-Z',\n",
       "       'tBodyAcc-mad()-X', 'tBodyAcc-mad()-Y', 'tBodyAcc-mad()-Z',\n",
       "       'tBodyAcc-max()-X', 'tBodyAcc-max()-Y', 'tBodyAcc-max()-Z',\n",
       "       'tBodyAcc-min()-X', 'tBodyAcc-min()-Y', 'tBodyAcc-min()-Z',\n",
       "       'tBodyAcc-sma()', 'tBodyAcc-energy()-X', 'tBodyAcc-energy()-Y',\n",
       "       'tBodyAcc-energy()-Z', 'tBodyAcc-iqr()-X', 'tBodyAcc-iqr()-Y',\n",
       "       'tBodyAcc-iqr()-Z', 'tBodyAcc-entropy()-X', 'tBodyAcc-entropy()-Y',\n",
       "       'tBodyAcc-entropy()-Z', 'tBodyAcc-arCoeff()-X,1',\n",
       "       'tBodyAcc-arCoeff()-X,2', 'tBodyAcc-arCoeff()-X,3',\n",
       "       'tBodyAcc-arCoeff()-X,4', 'tBodyAcc-arCoeff()-Y,1',\n",
       "       'tBodyAcc-arCoeff()-Y,2', 'tBodyAcc-arCoeff()-Y,3',\n",
       "       'tBodyAcc-arCoeff()-Y,4', 'tBodyAcc-arCoeff()-Z,1',\n",
       "       'tBodyAcc-arCoeff()-Z,2', 'tBodyAcc-arCoeff()-Z,3',\n",
       "       'tBodyAcc-arCoeff()-Z,4', 'tBodyAcc-correlation()-X,Y',\n",
       "       'tBodyAcc-correlation()-X,Z', 'tBodyAcc-correlation()-Y,Z',\n",
       "       'tGravityAcc-mean()-X', 'tGravityAcc-mean()-Y',\n",
       "       'tGravityAcc-mean()-Z', 'tGravityAcc-std()-X',\n",
       "       'tGravityAcc-std()-Y', 'tGravityAcc-std()-Z',\n",
       "       'tGravityAcc-mad()-X', 'tGravityAcc-mad()-Y',\n",
       "       'tGravityAcc-mad()-Z', 'tGravityAcc-max()-X',\n",
       "       'tGravityAcc-max()-Y', 'tGravityAcc-max()-Z',\n",
       "       'tGravityAcc-min()-X', 'tGravityAcc-min()-Y',\n",
       "       'tGravityAcc-min()-Z', 'tGravityAcc-sma()',\n",
       "       'tGravityAcc-energy()-X', 'tGravityAcc-energy()-Y',\n",
       "       'tGravityAcc-energy()-Z', 'tGravityAcc-iqr()-X',\n",
       "       'tGravityAcc-iqr()-Y', 'tGravityAcc-iqr()-Z',\n",
       "       'tGravityAcc-entropy()-X', 'tGravityAcc-entropy()-Y',\n",
       "       'tGravityAcc-entropy()-Z', 'tGravityAcc-arCoeff()-X,1',\n",
       "       'tGravityAcc-arCoeff()-X,2', 'tGravityAcc-arCoeff()-X,3',\n",
       "       'tGravityAcc-arCoeff()-X,4', 'tGravityAcc-arCoeff()-Y,1',\n",
       "       'tGravityAcc-arCoeff()-Y,2', 'tGravityAcc-arCoeff()-Y,3',\n",
       "       'tGravityAcc-arCoeff()-Y,4', 'tGravityAcc-arCoeff()-Z,1',\n",
       "       'tGravityAcc-arCoeff()-Z,2', 'tGravityAcc-arCoeff()-Z,3',\n",
       "       'tGravityAcc-arCoeff()-Z,4', 'tGravityAcc-correlation()-X,Y',\n",
       "       'tGravityAcc-correlation()-X,Z', 'tGravityAcc-correlation()-Y,Z',\n",
       "       'tBodyAccJerk-mean()-X', 'tBodyAccJerk-mean()-Y',\n",
       "       'tBodyAccJerk-mean()-Z', 'tBodyAccJerk-std()-X',\n",
       "       'tBodyAccJerk-std()-Y', 'tBodyAccJerk-std()-Z',\n",
       "       'tBodyAccJerk-mad()-X', 'tBodyAccJerk-mad()-Y',\n",
       "       'tBodyAccJerk-mad()-Z', 'tBodyAccJerk-max()-X',\n",
       "       'tBodyAccJerk-max()-Y', 'tBodyAccJerk-max()-Z',\n",
       "       'tBodyAccJerk-min()-X', 'tBodyAccJerk-min()-Y',\n",
       "       'tBodyAccJerk-min()-Z', 'tBodyAccJerk-sma()',\n",
       "       'tBodyAccJerk-energy()-X', 'tBodyAccJerk-energy()-Y',\n",
       "       'tBodyAccJerk-energy()-Z', 'tBodyAccJerk-iqr()-X',\n",
       "       'tBodyAccJerk-iqr()-Y', 'tBodyAccJerk-iqr()-Z',\n",
       "       'tBodyAccJerk-entropy()-X', 'tBodyAccJerk-entropy()-Y',\n",
       "       'tBodyAccJerk-entropy()-Z', 'tBodyAccJerk-arCoeff()-X,1',\n",
       "       'tBodyAccJerk-arCoeff()-X,2', 'tBodyAccJerk-arCoeff()-X,3',\n",
       "       'tBodyAccJerk-arCoeff()-X,4', 'tBodyAccJerk-arCoeff()-Y,1',\n",
       "       'tBodyAccJerk-arCoeff()-Y,2', 'tBodyAccJerk-arCoeff()-Y,3',\n",
       "       'tBodyAccJerk-arCoeff()-Y,4', 'tBodyAccJerk-arCoeff()-Z,1',\n",
       "       'tBodyAccJerk-arCoeff()-Z,2', 'tBodyAccJerk-arCoeff()-Z,3',\n",
       "       'tBodyAccJerk-arCoeff()-Z,4', 'tBodyAccJerk-correlation()-X,Y',\n",
       "       'tBodyAccJerk-correlation()-X,Z', 'tBodyAccJerk-correlation()-Y,Z',\n",
       "       'tBodyGyro-mean()-X', 'tBodyGyro-mean()-Y', 'tBodyGyro-mean()-Z',\n",
       "       'tBodyGyro-std()-X', 'tBodyGyro-std()-Y', 'tBodyGyro-std()-Z',\n",
       "       'tBodyGyro-mad()-X', 'tBodyGyro-mad()-Y', 'tBodyGyro-mad()-Z',\n",
       "       'tBodyGyro-max()-X', 'tBodyGyro-max()-Y', 'tBodyGyro-max()-Z',\n",
       "       'tBodyGyro-min()-X', 'tBodyGyro-min()-Y', 'tBodyGyro-min()-Z',\n",
       "       'tBodyGyro-sma()', 'tBodyGyro-energy()-X', 'tBodyGyro-energy()-Y',\n",
       "       'tBodyGyro-energy()-Z', 'tBodyGyro-iqr()-X', 'tBodyGyro-iqr()-Y',\n",
       "       'tBodyGyro-iqr()-Z', 'tBodyGyro-entropy()-X',\n",
       "       'tBodyGyro-entropy()-Y', 'tBodyGyro-entropy()-Z',\n",
       "       'tBodyGyro-arCoeff()-X,1', 'tBodyGyro-arCoeff()-X,2',\n",
       "       'tBodyGyro-arCoeff()-X,3', 'tBodyGyro-arCoeff()-X,4',\n",
       "       'tBodyGyro-arCoeff()-Y,1', 'tBodyGyro-arCoeff()-Y,2',\n",
       "       'tBodyGyro-arCoeff()-Y,3', 'tBodyGyro-arCoeff()-Y,4',\n",
       "       'tBodyGyro-arCoeff()-Z,1', 'tBodyGyro-arCoeff()-Z,2',\n",
       "       'tBodyGyro-arCoeff()-Z,3', 'tBodyGyro-arCoeff()-Z,4',\n",
       "       'tBodyGyro-correlation()-X,Y', 'tBodyGyro-correlation()-X,Z',\n",
       "       'tBodyGyro-correlation()-Y,Z', 'tBodyGyroJerk-mean()-X',\n",
       "       'tBodyGyroJerk-mean()-Y', 'tBodyGyroJerk-mean()-Z',\n",
       "       'tBodyGyroJerk-std()-X', 'tBodyGyroJerk-std()-Y',\n",
       "       'tBodyGyroJerk-std()-Z', 'tBodyGyroJerk-mad()-X',\n",
       "       'tBodyGyroJerk-mad()-Y', 'tBodyGyroJerk-mad()-Z',\n",
       "       'tBodyGyroJerk-max()-X', 'tBodyGyroJerk-max()-Y',\n",
       "       'tBodyGyroJerk-max()-Z', 'tBodyGyroJerk-min()-X',\n",
       "       'tBodyGyroJerk-min()-Y', 'tBodyGyroJerk-min()-Z',\n",
       "       'tBodyGyroJerk-sma()', 'tBodyGyroJerk-energy()-X',\n",
       "       'tBodyGyroJerk-energy()-Y', 'tBodyGyroJerk-energy()-Z',\n",
       "       'tBodyGyroJerk-iqr()-X', 'tBodyGyroJerk-iqr()-Y',\n",
       "       'tBodyGyroJerk-iqr()-Z', 'tBodyGyroJerk-entropy()-X',\n",
       "       'tBodyGyroJerk-entropy()-Y', 'tBodyGyroJerk-entropy()-Z',\n",
       "       'tBodyGyroJerk-arCoeff()-X,1', 'tBodyGyroJerk-arCoeff()-X,2',\n",
       "       'tBodyGyroJerk-arCoeff()-X,3', 'tBodyGyroJerk-arCoeff()-X,4',\n",
       "       'tBodyGyroJerk-arCoeff()-Y,1', 'tBodyGyroJerk-arCoeff()-Y,2',\n",
       "       'tBodyGyroJerk-arCoeff()-Y,3', 'tBodyGyroJerk-arCoeff()-Y,4',\n",
       "       'tBodyGyroJerk-arCoeff()-Z,1', 'tBodyGyroJerk-arCoeff()-Z,2',\n",
       "       'tBodyGyroJerk-arCoeff()-Z,3', 'tBodyGyroJerk-arCoeff()-Z,4',\n",
       "       'tBodyGyroJerk-correlation()-X,Y',\n",
       "       'tBodyGyroJerk-correlation()-X,Z',\n",
       "       'tBodyGyroJerk-correlation()-Y,Z', 'tBodyAccMag-mean()',\n",
       "       'tBodyAccMag-std()', 'tBodyAccMag-mad()', 'tBodyAccMag-max()',\n",
       "       'tBodyAccMag-min()', 'tBodyAccMag-sma()', 'tBodyAccMag-energy()',\n",
       "       'tBodyAccMag-iqr()', 'tBodyAccMag-entropy()',\n",
       "       'tBodyAccMag-arCoeff()1', 'tBodyAccMag-arCoeff()2',\n",
       "       'tBodyAccMag-arCoeff()3', 'tBodyAccMag-arCoeff()4',\n",
       "       'tGravityAccMag-mean()', 'tGravityAccMag-std()',\n",
       "       'tGravityAccMag-mad()', 'tGravityAccMag-max()',\n",
       "       'tGravityAccMag-min()', 'tGravityAccMag-sma()',\n",
       "       'tGravityAccMag-energy()', 'tGravityAccMag-iqr()',\n",
       "       'tGravityAccMag-entropy()', 'tGravityAccMag-arCoeff()1',\n",
       "       'tGravityAccMag-arCoeff()2', 'tGravityAccMag-arCoeff()3',\n",
       "       'tGravityAccMag-arCoeff()4', 'tBodyAccJerkMag-mean()',\n",
       "       'tBodyAccJerkMag-std()', 'tBodyAccJerkMag-mad()',\n",
       "       'tBodyAccJerkMag-max()', 'tBodyAccJerkMag-min()',\n",
       "       'tBodyAccJerkMag-sma()', 'tBodyAccJerkMag-energy()',\n",
       "       'tBodyAccJerkMag-iqr()', 'tBodyAccJerkMag-entropy()',\n",
       "       'tBodyAccJerkMag-arCoeff()1', 'tBodyAccJerkMag-arCoeff()2',\n",
       "       'tBodyAccJerkMag-arCoeff()3', 'tBodyAccJerkMag-arCoeff()4',\n",
       "       'tBodyGyroMag-mean()', 'tBodyGyroMag-std()', 'tBodyGyroMag-mad()',\n",
       "       'tBodyGyroMag-max()', 'tBodyGyroMag-min()', 'tBodyGyroMag-sma()',\n",
       "       'tBodyGyroMag-energy()', 'tBodyGyroMag-iqr()',\n",
       "       'tBodyGyroMag-entropy()', 'tBodyGyroMag-arCoeff()1',\n",
       "       'tBodyGyroMag-arCoeff()2', 'tBodyGyroMag-arCoeff()3',\n",
       "       'tBodyGyroMag-arCoeff()4', 'tBodyGyroJerkMag-mean()',\n",
       "       'tBodyGyroJerkMag-std()', 'tBodyGyroJerkMag-mad()',\n",
       "       'tBodyGyroJerkMag-max()', 'tBodyGyroJerkMag-min()',\n",
       "       'tBodyGyroJerkMag-sma()', 'tBodyGyroJerkMag-energy()',\n",
       "       'tBodyGyroJerkMag-iqr()', 'tBodyGyroJerkMag-entropy()',\n",
       "       'tBodyGyroJerkMag-arCoeff()1', 'tBodyGyroJerkMag-arCoeff()2',\n",
       "       'tBodyGyroJerkMag-arCoeff()3', 'tBodyGyroJerkMag-arCoeff()4',\n",
       "       'fBodyAcc-mean()-X', 'fBodyAcc-mean()-Y', 'fBodyAcc-mean()-Z',\n",
       "       'fBodyAcc-std()-X', 'fBodyAcc-std()-Y', 'fBodyAcc-std()-Z',\n",
       "       'fBodyAcc-mad()-X', 'fBodyAcc-mad()-Y', 'fBodyAcc-mad()-Z',\n",
       "       'fBodyAcc-max()-X', 'fBodyAcc-max()-Y', 'fBodyAcc-max()-Z',\n",
       "       'fBodyAcc-min()-X', 'fBodyAcc-min()-Y', 'fBodyAcc-min()-Z',\n",
       "       'fBodyAcc-sma()', 'fBodyAcc-energy()-X', 'fBodyAcc-energy()-Y',\n",
       "       'fBodyAcc-energy()-Z', 'fBodyAcc-iqr()-X', 'fBodyAcc-iqr()-Y',\n",
       "       'fBodyAcc-iqr()-Z', 'fBodyAcc-entropy()-X', 'fBodyAcc-entropy()-Y',\n",
       "       'fBodyAcc-entropy()-Z', 'fBodyAcc-maxInds-X', 'fBodyAcc-maxInds-Y',\n",
       "       'fBodyAcc-maxInds-Z', 'fBodyAcc-meanFreq()-X',\n",
       "       'fBodyAcc-meanFreq()-Y', 'fBodyAcc-meanFreq()-Z',\n",
       "       'fBodyAcc-skewness()-X', 'fBodyAcc-kurtosis()-X',\n",
       "       'fBodyAcc-skewness()-Y', 'fBodyAcc-kurtosis()-Y',\n",
       "       'fBodyAcc-skewness()-Z', 'fBodyAcc-kurtosis()-Z',\n",
       "       'fBodyAcc-bandsEnergy()-1,8', 'fBodyAcc-bandsEnergy()-9,16',\n",
       "       'fBodyAcc-bandsEnergy()-17,24', 'fBodyAcc-bandsEnergy()-25,32',\n",
       "       'fBodyAcc-bandsEnergy()-33,40', 'fBodyAcc-bandsEnergy()-41,48',\n",
       "       'fBodyAcc-bandsEnergy()-49,56', 'fBodyAcc-bandsEnergy()-57,64',\n",
       "       'fBodyAcc-bandsEnergy()-1,16', 'fBodyAcc-bandsEnergy()-17,32',\n",
       "       'fBodyAcc-bandsEnergy()-33,48', 'fBodyAcc-bandsEnergy()-49,64',\n",
       "       'fBodyAcc-bandsEnergy()-1,24', 'fBodyAcc-bandsEnergy()-25,48',\n",
       "       'fBodyAcc-bandsEnergy()-1,8', 'fBodyAcc-bandsEnergy()-9,16',\n",
       "       'fBodyAcc-bandsEnergy()-17,24', 'fBodyAcc-bandsEnergy()-25,32',\n",
       "       'fBodyAcc-bandsEnergy()-33,40', 'fBodyAcc-bandsEnergy()-41,48',\n",
       "       'fBodyAcc-bandsEnergy()-49,56', 'fBodyAcc-bandsEnergy()-57,64',\n",
       "       'fBodyAcc-bandsEnergy()-1,16', 'fBodyAcc-bandsEnergy()-17,32',\n",
       "       'fBodyAcc-bandsEnergy()-33,48', 'fBodyAcc-bandsEnergy()-49,64',\n",
       "       'fBodyAcc-bandsEnergy()-1,24', 'fBodyAcc-bandsEnergy()-25,48',\n",
       "       'fBodyAcc-bandsEnergy()-1,8', 'fBodyAcc-bandsEnergy()-9,16',\n",
       "       'fBodyAcc-bandsEnergy()-17,24', 'fBodyAcc-bandsEnergy()-25,32',\n",
       "       'fBodyAcc-bandsEnergy()-33,40', 'fBodyAcc-bandsEnergy()-41,48',\n",
       "       'fBodyAcc-bandsEnergy()-49,56', 'fBodyAcc-bandsEnergy()-57,64',\n",
       "       'fBodyAcc-bandsEnergy()-1,16', 'fBodyAcc-bandsEnergy()-17,32',\n",
       "       'fBodyAcc-bandsEnergy()-33,48', 'fBodyAcc-bandsEnergy()-49,64',\n",
       "       'fBodyAcc-bandsEnergy()-1,24', 'fBodyAcc-bandsEnergy()-25,48',\n",
       "       'fBodyAccJerk-mean()-X', 'fBodyAccJerk-mean()-Y',\n",
       "       'fBodyAccJerk-mean()-Z', 'fBodyAccJerk-std()-X',\n",
       "       'fBodyAccJerk-std()-Y', 'fBodyAccJerk-std()-Z',\n",
       "       'fBodyAccJerk-mad()-X', 'fBodyAccJerk-mad()-Y',\n",
       "       'fBodyAccJerk-mad()-Z', 'fBodyAccJerk-max()-X',\n",
       "       'fBodyAccJerk-max()-Y', 'fBodyAccJerk-max()-Z',\n",
       "       'fBodyAccJerk-min()-X', 'fBodyAccJerk-min()-Y',\n",
       "       'fBodyAccJerk-min()-Z', 'fBodyAccJerk-sma()',\n",
       "       'fBodyAccJerk-energy()-X', 'fBodyAccJerk-energy()-Y',\n",
       "       'fBodyAccJerk-energy()-Z', 'fBodyAccJerk-iqr()-X',\n",
       "       'fBodyAccJerk-iqr()-Y', 'fBodyAccJerk-iqr()-Z',\n",
       "       'fBodyAccJerk-entropy()-X', 'fBodyAccJerk-entropy()-Y',\n",
       "       'fBodyAccJerk-entropy()-Z', 'fBodyAccJerk-maxInds-X',\n",
       "       'fBodyAccJerk-maxInds-Y', 'fBodyAccJerk-maxInds-Z',\n",
       "       'fBodyAccJerk-meanFreq()-X', 'fBodyAccJerk-meanFreq()-Y',\n",
       "       'fBodyAccJerk-meanFreq()-Z', 'fBodyAccJerk-skewness()-X',\n",
       "       'fBodyAccJerk-kurtosis()-X', 'fBodyAccJerk-skewness()-Y',\n",
       "       'fBodyAccJerk-kurtosis()-Y', 'fBodyAccJerk-skewness()-Z',\n",
       "       'fBodyAccJerk-kurtosis()-Z', 'fBodyAccJerk-bandsEnergy()-1,8',\n",
       "       'fBodyAccJerk-bandsEnergy()-9,16',\n",
       "       'fBodyAccJerk-bandsEnergy()-17,24',\n",
       "       'fBodyAccJerk-bandsEnergy()-25,32',\n",
       "       'fBodyAccJerk-bandsEnergy()-33,40',\n",
       "       'fBodyAccJerk-bandsEnergy()-41,48',\n",
       "       'fBodyAccJerk-bandsEnergy()-49,56',\n",
       "       'fBodyAccJerk-bandsEnergy()-57,64',\n",
       "       'fBodyAccJerk-bandsEnergy()-1,16',\n",
       "       'fBodyAccJerk-bandsEnergy()-17,32',\n",
       "       'fBodyAccJerk-bandsEnergy()-33,48',\n",
       "       'fBodyAccJerk-bandsEnergy()-49,64',\n",
       "       'fBodyAccJerk-bandsEnergy()-1,24',\n",
       "       'fBodyAccJerk-bandsEnergy()-25,48',\n",
       "       'fBodyAccJerk-bandsEnergy()-1,8',\n",
       "       'fBodyAccJerk-bandsEnergy()-9,16',\n",
       "       'fBodyAccJerk-bandsEnergy()-17,24',\n",
       "       'fBodyAccJerk-bandsEnergy()-25,32',\n",
       "       'fBodyAccJerk-bandsEnergy()-33,40',\n",
       "       'fBodyAccJerk-bandsEnergy()-41,48',\n",
       "       'fBodyAccJerk-bandsEnergy()-49,56',\n",
       "       'fBodyAccJerk-bandsEnergy()-57,64',\n",
       "       'fBodyAccJerk-bandsEnergy()-1,16',\n",
       "       'fBodyAccJerk-bandsEnergy()-17,32',\n",
       "       'fBodyAccJerk-bandsEnergy()-33,48',\n",
       "       'fBodyAccJerk-bandsEnergy()-49,64',\n",
       "       'fBodyAccJerk-bandsEnergy()-1,24',\n",
       "       'fBodyAccJerk-bandsEnergy()-25,48',\n",
       "       'fBodyAccJerk-bandsEnergy()-1,8',\n",
       "       'fBodyAccJerk-bandsEnergy()-9,16',\n",
       "       'fBodyAccJerk-bandsEnergy()-17,24',\n",
       "       'fBodyAccJerk-bandsEnergy()-25,32',\n",
       "       'fBodyAccJerk-bandsEnergy()-33,40',\n",
       "       'fBodyAccJerk-bandsEnergy()-41,48',\n",
       "       'fBodyAccJerk-bandsEnergy()-49,56',\n",
       "       'fBodyAccJerk-bandsEnergy()-57,64',\n",
       "       'fBodyAccJerk-bandsEnergy()-1,16',\n",
       "       'fBodyAccJerk-bandsEnergy()-17,32',\n",
       "       'fBodyAccJerk-bandsEnergy()-33,48',\n",
       "       'fBodyAccJerk-bandsEnergy()-49,64',\n",
       "       'fBodyAccJerk-bandsEnergy()-1,24',\n",
       "       'fBodyAccJerk-bandsEnergy()-25,48', 'fBodyGyro-mean()-X',\n",
       "       'fBodyGyro-mean()-Y', 'fBodyGyro-mean()-Z', 'fBodyGyro-std()-X',\n",
       "       'fBodyGyro-std()-Y', 'fBodyGyro-std()-Z', 'fBodyGyro-mad()-X',\n",
       "       'fBodyGyro-mad()-Y', 'fBodyGyro-mad()-Z', 'fBodyGyro-max()-X',\n",
       "       'fBodyGyro-max()-Y', 'fBodyGyro-max()-Z', 'fBodyGyro-min()-X',\n",
       "       'fBodyGyro-min()-Y', 'fBodyGyro-min()-Z', 'fBodyGyro-sma()',\n",
       "       'fBodyGyro-energy()-X', 'fBodyGyro-energy()-Y',\n",
       "       'fBodyGyro-energy()-Z', 'fBodyGyro-iqr()-X', 'fBodyGyro-iqr()-Y',\n",
       "       'fBodyGyro-iqr()-Z', 'fBodyGyro-entropy()-X',\n",
       "       'fBodyGyro-entropy()-Y', 'fBodyGyro-entropy()-Z',\n",
       "       'fBodyGyro-maxInds-X', 'fBodyGyro-maxInds-Y',\n",
       "       'fBodyGyro-maxInds-Z', 'fBodyGyro-meanFreq()-X',\n",
       "       'fBodyGyro-meanFreq()-Y', 'fBodyGyro-meanFreq()-Z',\n",
       "       'fBodyGyro-skewness()-X', 'fBodyGyro-kurtosis()-X',\n",
       "       'fBodyGyro-skewness()-Y', 'fBodyGyro-kurtosis()-Y',\n",
       "       'fBodyGyro-skewness()-Z', 'fBodyGyro-kurtosis()-Z',\n",
       "       'fBodyGyro-bandsEnergy()-1,8', 'fBodyGyro-bandsEnergy()-9,16',\n",
       "       'fBodyGyro-bandsEnergy()-17,24', 'fBodyGyro-bandsEnergy()-25,32',\n",
       "       'fBodyGyro-bandsEnergy()-33,40', 'fBodyGyro-bandsEnergy()-41,48',\n",
       "       'fBodyGyro-bandsEnergy()-49,56', 'fBodyGyro-bandsEnergy()-57,64',\n",
       "       'fBodyGyro-bandsEnergy()-1,16', 'fBodyGyro-bandsEnergy()-17,32',\n",
       "       'fBodyGyro-bandsEnergy()-33,48', 'fBodyGyro-bandsEnergy()-49,64',\n",
       "       'fBodyGyro-bandsEnergy()-1,24', 'fBodyGyro-bandsEnergy()-25,48',\n",
       "       'fBodyGyro-bandsEnergy()-1,8', 'fBodyGyro-bandsEnergy()-9,16',\n",
       "       'fBodyGyro-bandsEnergy()-17,24', 'fBodyGyro-bandsEnergy()-25,32',\n",
       "       'fBodyGyro-bandsEnergy()-33,40', 'fBodyGyro-bandsEnergy()-41,48',\n",
       "       'fBodyGyro-bandsEnergy()-49,56', 'fBodyGyro-bandsEnergy()-57,64',\n",
       "       'fBodyGyro-bandsEnergy()-1,16', 'fBodyGyro-bandsEnergy()-17,32',\n",
       "       'fBodyGyro-bandsEnergy()-33,48', 'fBodyGyro-bandsEnergy()-49,64',\n",
       "       'fBodyGyro-bandsEnergy()-1,24', 'fBodyGyro-bandsEnergy()-25,48',\n",
       "       'fBodyGyro-bandsEnergy()-1,8', 'fBodyGyro-bandsEnergy()-9,16',\n",
       "       'fBodyGyro-bandsEnergy()-17,24', 'fBodyGyro-bandsEnergy()-25,32',\n",
       "       'fBodyGyro-bandsEnergy()-33,40', 'fBodyGyro-bandsEnergy()-41,48',\n",
       "       'fBodyGyro-bandsEnergy()-49,56', 'fBodyGyro-bandsEnergy()-57,64',\n",
       "       'fBodyGyro-bandsEnergy()-1,16', 'fBodyGyro-bandsEnergy()-17,32',\n",
       "       'fBodyGyro-bandsEnergy()-33,48', 'fBodyGyro-bandsEnergy()-49,64',\n",
       "       'fBodyGyro-bandsEnergy()-1,24', 'fBodyGyro-bandsEnergy()-25,48',\n",
       "       'fBodyAccMag-mean()', 'fBodyAccMag-std()', 'fBodyAccMag-mad()',\n",
       "       'fBodyAccMag-max()', 'fBodyAccMag-min()', 'fBodyAccMag-sma()',\n",
       "       'fBodyAccMag-energy()', 'fBodyAccMag-iqr()',\n",
       "       'fBodyAccMag-entropy()', 'fBodyAccMag-maxInds',\n",
       "       'fBodyAccMag-meanFreq()', 'fBodyAccMag-skewness()',\n",
       "       'fBodyAccMag-kurtosis()', 'fBodyBodyAccJerkMag-mean()',\n",
       "       'fBodyBodyAccJerkMag-std()', 'fBodyBodyAccJerkMag-mad()',\n",
       "       'fBodyBodyAccJerkMag-max()', 'fBodyBodyAccJerkMag-min()',\n",
       "       'fBodyBodyAccJerkMag-sma()', 'fBodyBodyAccJerkMag-energy()',\n",
       "       'fBodyBodyAccJerkMag-iqr()', 'fBodyBodyAccJerkMag-entropy()',\n",
       "       'fBodyBodyAccJerkMag-maxInds', 'fBodyBodyAccJerkMag-meanFreq()',\n",
       "       'fBodyBodyAccJerkMag-skewness()', 'fBodyBodyAccJerkMag-kurtosis()',\n",
       "       'fBodyBodyGyroMag-mean()', 'fBodyBodyGyroMag-std()',\n",
       "       'fBodyBodyGyroMag-mad()', 'fBodyBodyGyroMag-max()',\n",
       "       'fBodyBodyGyroMag-min()', 'fBodyBodyGyroMag-sma()',\n",
       "       'fBodyBodyGyroMag-energy()', 'fBodyBodyGyroMag-iqr()',\n",
       "       'fBodyBodyGyroMag-entropy()', 'fBodyBodyGyroMag-maxInds',\n",
       "       'fBodyBodyGyroMag-meanFreq()', 'fBodyBodyGyroMag-skewness()',\n",
       "       'fBodyBodyGyroMag-kurtosis()', 'fBodyBodyGyroJerkMag-mean()',\n",
       "       'fBodyBodyGyroJerkMag-std()', 'fBodyBodyGyroJerkMag-mad()',\n",
       "       'fBodyBodyGyroJerkMag-max()', 'fBodyBodyGyroJerkMag-min()',\n",
       "       'fBodyBodyGyroJerkMag-sma()', 'fBodyBodyGyroJerkMag-energy()',\n",
       "       'fBodyBodyGyroJerkMag-iqr()', 'fBodyBodyGyroJerkMag-entropy()',\n",
       "       'fBodyBodyGyroJerkMag-maxInds', 'fBodyBodyGyroJerkMag-meanFreq()',\n",
       "       'fBodyBodyGyroJerkMag-skewness()',\n",
       "       'fBodyBodyGyroJerkMag-kurtosis()', 'angle(tBodyAccMean,gravity)',\n",
       "       'angle(tBodyAccJerkMean),gravityMean)',\n",
       "       'angle(tBodyGyroMean,gravityMean)',\n",
       "       'angle(tBodyGyroJerkMean,gravityMean)', 'angle(X,gravityMean)',\n",
       "       'angle(Y,gravityMean)', 'angle(Z,gravityMean)'], dtype=object)"
      ]
     },
     "execution_count": 42,
     "metadata": {},
     "output_type": "execute_result"
    }
   ],
   "source": [
    "# array배열형태임\n",
    "feature_name_df.iloc[:,1].values"
   ]
  },
  {
   "cell_type": "code",
   "execution_count": 44,
   "id": "a4a7799a",
   "metadata": {},
   "outputs": [
    {
     "data": {
      "text/plain": [
       "['tBodyAcc-mean()-X',\n",
       " 'tBodyAcc-mean()-Y',\n",
       " 'tBodyAcc-mean()-Z',\n",
       " 'tBodyAcc-std()-X',\n",
       " 'tBodyAcc-std()-Y']"
      ]
     },
     "execution_count": 44,
     "metadata": {},
     "output_type": "execute_result"
    }
   ],
   "source": [
    "feature_name = feature_name_df.iloc[:,1].values.tolist() # 리스트 형태로 바꿔줌\n",
    "feature_name[:5]"
   ]
  },
  {
   "cell_type": "code",
   "execution_count": 45,
   "id": "ae2ae716",
   "metadata": {},
   "outputs": [
    {
     "data": {
      "text/html": [
       "<div>\n",
       "<style scoped>\n",
       "    .dataframe tbody tr th:only-of-type {\n",
       "        vertical-align: middle;\n",
       "    }\n",
       "\n",
       "    .dataframe tbody tr th {\n",
       "        vertical-align: top;\n",
       "    }\n",
       "\n",
       "    .dataframe thead th {\n",
       "        text-align: right;\n",
       "    }\n",
       "</style>\n",
       "<table border=\"1\" class=\"dataframe\">\n",
       "  <thead>\n",
       "    <tr style=\"text-align: right;\">\n",
       "      <th></th>\n",
       "      <th>tBodyAcc-mean()-X</th>\n",
       "      <th>tBodyAcc-mean()-Y</th>\n",
       "      <th>tBodyAcc-mean()-Z</th>\n",
       "      <th>tBodyAcc-std()-X</th>\n",
       "      <th>tBodyAcc-std()-Y</th>\n",
       "      <th>tBodyAcc-std()-Z</th>\n",
       "      <th>tBodyAcc-mad()-X</th>\n",
       "      <th>tBodyAcc-mad()-Y</th>\n",
       "      <th>tBodyAcc-mad()-Z</th>\n",
       "      <th>tBodyAcc-max()-X</th>\n",
       "      <th>...</th>\n",
       "      <th>fBodyBodyGyroJerkMag-meanFreq()</th>\n",
       "      <th>fBodyBodyGyroJerkMag-skewness()</th>\n",
       "      <th>fBodyBodyGyroJerkMag-kurtosis()</th>\n",
       "      <th>angle(tBodyAccMean,gravity)</th>\n",
       "      <th>angle(tBodyAccJerkMean),gravityMean)</th>\n",
       "      <th>angle(tBodyGyroMean,gravityMean)</th>\n",
       "      <th>angle(tBodyGyroJerkMean,gravityMean)</th>\n",
       "      <th>angle(X,gravityMean)</th>\n",
       "      <th>angle(Y,gravityMean)</th>\n",
       "      <th>angle(Z,gravityMean)</th>\n",
       "    </tr>\n",
       "  </thead>\n",
       "  <tbody>\n",
       "    <tr>\n",
       "      <th>0</th>\n",
       "      <td>0.288585</td>\n",
       "      <td>-0.020294</td>\n",
       "      <td>-0.132905</td>\n",
       "      <td>-0.995279</td>\n",
       "      <td>-0.983111</td>\n",
       "      <td>-0.913526</td>\n",
       "      <td>-0.995112</td>\n",
       "      <td>-0.983185</td>\n",
       "      <td>-0.923527</td>\n",
       "      <td>-0.934724</td>\n",
       "      <td>...</td>\n",
       "      <td>-0.074323</td>\n",
       "      <td>-0.298676</td>\n",
       "      <td>-0.710304</td>\n",
       "      <td>-0.112754</td>\n",
       "      <td>0.030400</td>\n",
       "      <td>-0.464761</td>\n",
       "      <td>-0.018446</td>\n",
       "      <td>-0.841247</td>\n",
       "      <td>0.179941</td>\n",
       "      <td>-0.058627</td>\n",
       "    </tr>\n",
       "    <tr>\n",
       "      <th>1</th>\n",
       "      <td>0.278419</td>\n",
       "      <td>-0.016411</td>\n",
       "      <td>-0.123520</td>\n",
       "      <td>-0.998245</td>\n",
       "      <td>-0.975300</td>\n",
       "      <td>-0.960322</td>\n",
       "      <td>-0.998807</td>\n",
       "      <td>-0.974914</td>\n",
       "      <td>-0.957686</td>\n",
       "      <td>-0.943068</td>\n",
       "      <td>...</td>\n",
       "      <td>0.158075</td>\n",
       "      <td>-0.595051</td>\n",
       "      <td>-0.861499</td>\n",
       "      <td>0.053477</td>\n",
       "      <td>-0.007435</td>\n",
       "      <td>-0.732626</td>\n",
       "      <td>0.703511</td>\n",
       "      <td>-0.844788</td>\n",
       "      <td>0.180289</td>\n",
       "      <td>-0.054317</td>\n",
       "    </tr>\n",
       "    <tr>\n",
       "      <th>2</th>\n",
       "      <td>0.279653</td>\n",
       "      <td>-0.019467</td>\n",
       "      <td>-0.113462</td>\n",
       "      <td>-0.995380</td>\n",
       "      <td>-0.967187</td>\n",
       "      <td>-0.978944</td>\n",
       "      <td>-0.996520</td>\n",
       "      <td>-0.963668</td>\n",
       "      <td>-0.977469</td>\n",
       "      <td>-0.938692</td>\n",
       "      <td>...</td>\n",
       "      <td>0.414503</td>\n",
       "      <td>-0.390748</td>\n",
       "      <td>-0.760104</td>\n",
       "      <td>-0.118559</td>\n",
       "      <td>0.177899</td>\n",
       "      <td>0.100699</td>\n",
       "      <td>0.808529</td>\n",
       "      <td>-0.848933</td>\n",
       "      <td>0.180637</td>\n",
       "      <td>-0.049118</td>\n",
       "    </tr>\n",
       "    <tr>\n",
       "      <th>3</th>\n",
       "      <td>0.279174</td>\n",
       "      <td>-0.026201</td>\n",
       "      <td>-0.123283</td>\n",
       "      <td>-0.996091</td>\n",
       "      <td>-0.983403</td>\n",
       "      <td>-0.990675</td>\n",
       "      <td>-0.997099</td>\n",
       "      <td>-0.982750</td>\n",
       "      <td>-0.989302</td>\n",
       "      <td>-0.938692</td>\n",
       "      <td>...</td>\n",
       "      <td>0.404573</td>\n",
       "      <td>-0.117290</td>\n",
       "      <td>-0.482845</td>\n",
       "      <td>-0.036788</td>\n",
       "      <td>-0.012892</td>\n",
       "      <td>0.640011</td>\n",
       "      <td>-0.485366</td>\n",
       "      <td>-0.848649</td>\n",
       "      <td>0.181935</td>\n",
       "      <td>-0.047663</td>\n",
       "    </tr>\n",
       "    <tr>\n",
       "      <th>4</th>\n",
       "      <td>0.276629</td>\n",
       "      <td>-0.016570</td>\n",
       "      <td>-0.115362</td>\n",
       "      <td>-0.998139</td>\n",
       "      <td>-0.980817</td>\n",
       "      <td>-0.990482</td>\n",
       "      <td>-0.998321</td>\n",
       "      <td>-0.979672</td>\n",
       "      <td>-0.990441</td>\n",
       "      <td>-0.942469</td>\n",
       "      <td>...</td>\n",
       "      <td>0.087753</td>\n",
       "      <td>-0.351471</td>\n",
       "      <td>-0.699205</td>\n",
       "      <td>0.123320</td>\n",
       "      <td>0.122542</td>\n",
       "      <td>0.693578</td>\n",
       "      <td>-0.615971</td>\n",
       "      <td>-0.847865</td>\n",
       "      <td>0.185151</td>\n",
       "      <td>-0.043892</td>\n",
       "    </tr>\n",
       "  </tbody>\n",
       "</table>\n",
       "<p>5 rows × 561 columns</p>\n",
       "</div>"
      ],
      "text/plain": [
       "   tBodyAcc-mean()-X  tBodyAcc-mean()-Y  tBodyAcc-mean()-Z  tBodyAcc-std()-X  \\\n",
       "0           0.288585          -0.020294          -0.132905         -0.995279   \n",
       "1           0.278419          -0.016411          -0.123520         -0.998245   \n",
       "2           0.279653          -0.019467          -0.113462         -0.995380   \n",
       "3           0.279174          -0.026201          -0.123283         -0.996091   \n",
       "4           0.276629          -0.016570          -0.115362         -0.998139   \n",
       "\n",
       "   tBodyAcc-std()-Y  tBodyAcc-std()-Z  tBodyAcc-mad()-X  tBodyAcc-mad()-Y  \\\n",
       "0         -0.983111         -0.913526         -0.995112         -0.983185   \n",
       "1         -0.975300         -0.960322         -0.998807         -0.974914   \n",
       "2         -0.967187         -0.978944         -0.996520         -0.963668   \n",
       "3         -0.983403         -0.990675         -0.997099         -0.982750   \n",
       "4         -0.980817         -0.990482         -0.998321         -0.979672   \n",
       "\n",
       "   tBodyAcc-mad()-Z  tBodyAcc-max()-X  ...  fBodyBodyGyroJerkMag-meanFreq()  \\\n",
       "0         -0.923527         -0.934724  ...                        -0.074323   \n",
       "1         -0.957686         -0.943068  ...                         0.158075   \n",
       "2         -0.977469         -0.938692  ...                         0.414503   \n",
       "3         -0.989302         -0.938692  ...                         0.404573   \n",
       "4         -0.990441         -0.942469  ...                         0.087753   \n",
       "\n",
       "   fBodyBodyGyroJerkMag-skewness()  fBodyBodyGyroJerkMag-kurtosis()  \\\n",
       "0                        -0.298676                        -0.710304   \n",
       "1                        -0.595051                        -0.861499   \n",
       "2                        -0.390748                        -0.760104   \n",
       "3                        -0.117290                        -0.482845   \n",
       "4                        -0.351471                        -0.699205   \n",
       "\n",
       "   angle(tBodyAccMean,gravity)  angle(tBodyAccJerkMean),gravityMean)  \\\n",
       "0                    -0.112754                              0.030400   \n",
       "1                     0.053477                             -0.007435   \n",
       "2                    -0.118559                              0.177899   \n",
       "3                    -0.036788                             -0.012892   \n",
       "4                     0.123320                              0.122542   \n",
       "\n",
       "   angle(tBodyGyroMean,gravityMean)  angle(tBodyGyroJerkMean,gravityMean)  \\\n",
       "0                         -0.464761                             -0.018446   \n",
       "1                         -0.732626                              0.703511   \n",
       "2                          0.100699                              0.808529   \n",
       "3                          0.640011                             -0.485366   \n",
       "4                          0.693578                             -0.615971   \n",
       "\n",
       "   angle(X,gravityMean)  angle(Y,gravityMean)  angle(Z,gravityMean)  \n",
       "0             -0.841247              0.179941             -0.058627  \n",
       "1             -0.844788              0.180289             -0.054317  \n",
       "2             -0.848933              0.180637             -0.049118  \n",
       "3             -0.848649              0.181935             -0.047663  \n",
       "4             -0.847865              0.185151             -0.043892  \n",
       "\n",
       "[5 rows x 561 columns]"
      ]
     },
     "execution_count": 45,
     "metadata": {},
     "output_type": "execute_result"
    }
   ],
   "source": [
    "X_train_url = 'https://raw.githubusercontent.com/PinkWink/ML_tutorial/master/dataset/HAR_dataset/train/X_train.txt'\n",
    "X_test_url = 'https://raw.githubusercontent.com/PinkWink/ML_tutorial/master/dataset/HAR_dataset/test/X_test.txt'\n",
    "\n",
    "X_train = pd.read_csv(X_train_url, sep = '\\s+', header = None)\n",
    "X_test = pd.read_csv(X_test_url, sep = '\\s+', header = None)\n",
    "\n",
    "X_train.columns = feature_name\n",
    "X_test.columns = feature_name\n",
    "\n",
    "X_train.head()"
   ]
  },
  {
   "cell_type": "code",
   "execution_count": 46,
   "id": "19741895",
   "metadata": {},
   "outputs": [
    {
     "data": {
      "text/plain": [
       "((7352, 561), (2947, 561), (7352, 1), (2947, 1))"
      ]
     },
     "execution_count": 46,
     "metadata": {},
     "output_type": "execute_result"
    }
   ],
   "source": [
    "y_train_url = 'https://raw.githubusercontent.com/PinkWink/ML_tutorial/master/dataset/HAR_dataset/train/y_train.txt'\n",
    "y_test_url = 'https://raw.githubusercontent.com/PinkWink/ML_tutorial/master/dataset/HAR_dataset/test/y_test.txt'\n",
    "\n",
    "y_train = pd.read_csv(y_train_url, sep = '\\s+', header = None, names = ['action'])\n",
    "y_test = pd.read_csv(y_test_url, sep = '\\s+', header = None, names = ['action'])\n",
    "\n",
    "X_train.shape, X_test.shape, y_train.shape, y_test.shape"
   ]
  },
  {
   "cell_type": "code",
   "execution_count": 48,
   "id": "f61ee9b7",
   "metadata": {},
   "outputs": [
    {
     "data": {
      "text/html": [
       "<div>\n",
       "<style scoped>\n",
       "    .dataframe tbody tr th:only-of-type {\n",
       "        vertical-align: middle;\n",
       "    }\n",
       "\n",
       "    .dataframe tbody tr th {\n",
       "        vertical-align: top;\n",
       "    }\n",
       "\n",
       "    .dataframe thead th {\n",
       "        text-align: right;\n",
       "    }\n",
       "</style>\n",
       "<table border=\"1\" class=\"dataframe\">\n",
       "  <thead>\n",
       "    <tr style=\"text-align: right;\">\n",
       "      <th></th>\n",
       "      <th>action</th>\n",
       "    </tr>\n",
       "  </thead>\n",
       "  <tbody>\n",
       "    <tr>\n",
       "      <th>0</th>\n",
       "      <td>5</td>\n",
       "    </tr>\n",
       "    <tr>\n",
       "      <th>1</th>\n",
       "      <td>5</td>\n",
       "    </tr>\n",
       "    <tr>\n",
       "      <th>2</th>\n",
       "      <td>5</td>\n",
       "    </tr>\n",
       "    <tr>\n",
       "      <th>3</th>\n",
       "      <td>5</td>\n",
       "    </tr>\n",
       "    <tr>\n",
       "      <th>4</th>\n",
       "      <td>5</td>\n",
       "    </tr>\n",
       "    <tr>\n",
       "      <th>...</th>\n",
       "      <td>...</td>\n",
       "    </tr>\n",
       "    <tr>\n",
       "      <th>7347</th>\n",
       "      <td>2</td>\n",
       "    </tr>\n",
       "    <tr>\n",
       "      <th>7348</th>\n",
       "      <td>2</td>\n",
       "    </tr>\n",
       "    <tr>\n",
       "      <th>7349</th>\n",
       "      <td>2</td>\n",
       "    </tr>\n",
       "    <tr>\n",
       "      <th>7350</th>\n",
       "      <td>2</td>\n",
       "    </tr>\n",
       "    <tr>\n",
       "      <th>7351</th>\n",
       "      <td>2</td>\n",
       "    </tr>\n",
       "  </tbody>\n",
       "</table>\n",
       "<p>7352 rows × 1 columns</p>\n",
       "</div>"
      ],
      "text/plain": [
       "      action\n",
       "0          5\n",
       "1          5\n",
       "2          5\n",
       "3          5\n",
       "4          5\n",
       "...      ...\n",
       "7347       2\n",
       "7348       2\n",
       "7349       2\n",
       "7350       2\n",
       "7351       2\n",
       "\n",
       "[7352 rows x 1 columns]"
      ]
     },
     "execution_count": 48,
     "metadata": {},
     "output_type": "execute_result"
    }
   ],
   "source": [
    "y_train"
   ]
  },
  {
   "cell_type": "code",
   "execution_count": 47,
   "id": "a40968ee",
   "metadata": {
    "scrolled": true
   },
   "outputs": [
    {
     "data": {
      "text/plain": [
       "6    1407\n",
       "5    1374\n",
       "4    1286\n",
       "1    1226\n",
       "2    1073\n",
       "3     986\n",
       "Name: action, dtype: int64"
      ]
     },
     "execution_count": 47,
     "metadata": {},
     "output_type": "execute_result"
    }
   ],
   "source": [
    "# 각 액션별 데이터의 수\n",
    "\n",
    "y_train['action'].value_counts()"
   ]
  },
  {
   "cell_type": "markdown",
   "id": "6665dd0e",
   "metadata": {},
   "source": [
    "각 라벨별 정의는 아래와 같다.\n",
    "\n",
    "1. Walking\n",
    "2. Walking Upstairs\n",
    "3. Walking Downstairs\n",
    "4. Sitting\n",
    "5. Standing\n",
    "6. Laying\n",
    "\n",
    "Decision Tree를 먼저 이용해보자."
   ]
  },
  {
   "cell_type": "code",
   "execution_count": 49,
   "id": "fa20b581",
   "metadata": {},
   "outputs": [
    {
     "data": {
      "text/plain": [
       "0.8096369189005769"
      ]
     },
     "execution_count": 49,
     "metadata": {},
     "output_type": "execute_result"
    }
   ],
   "source": [
    "from sklearn.tree import DecisionTreeClassifier\n",
    "from sklearn.metrics import accuracy_score\n",
    "\n",
    "dt_clf = DecisionTreeClassifier(random_state=13, max_depth=4)\n",
    "dt_clf.fit(X_train, y_train)\n",
    "pred = dt_clf.predict(X_test)\n",
    "\n",
    "accuracy_score(y_test, pred)"
   ]
  },
  {
   "cell_type": "markdown",
   "id": "114157ab",
   "metadata": {},
   "source": [
    "max_depth를 다양하게 해보자."
   ]
  },
  {
   "cell_type": "code",
   "execution_count": 50,
   "id": "a00e7e6e",
   "metadata": {},
   "outputs": [
    {
     "data": {
      "text/plain": [
       "GridSearchCV(cv=5,\n",
       "             estimator=DecisionTreeClassifier(max_depth=4, random_state=13),\n",
       "             param_grid={'max_depth': [6, 8, 10, 12, 16, 20, 24]},\n",
       "             return_train_score=True, scoring='accuracy')"
      ]
     },
     "execution_count": 50,
     "metadata": {},
     "output_type": "execute_result"
    }
   ],
   "source": [
    "from sklearn.model_selection import GridSearchCV\n",
    "\n",
    "params = {\n",
    "    'max_depth' : [6,8,10,12,16,20,24]\n",
    "}\n",
    "\n",
    "grid_cv = GridSearchCV(dt_clf, param_grid=params, scoring = 'accuracy', \n",
    "                       cv = 5, return_train_score=True)\n",
    "\n",
    "grid_cv.fit(X_train, y_train)"
   ]
  },
  {
   "cell_type": "code",
   "execution_count": 51,
   "id": "b25344ca",
   "metadata": {},
   "outputs": [
    {
     "data": {
      "text/plain": [
       "0.8543335321892183"
      ]
     },
     "execution_count": 51,
     "metadata": {},
     "output_type": "execute_result"
    }
   ],
   "source": [
    "grid_cv.best_score_ # 검증 데이터 세트에 대한 best score"
   ]
  },
  {
   "cell_type": "code",
   "execution_count": 52,
   "id": "5905b25d",
   "metadata": {},
   "outputs": [
    {
     "data": {
      "text/plain": [
       "{'max_depth': 8}"
      ]
     },
     "execution_count": 52,
     "metadata": {},
     "output_type": "execute_result"
    }
   ],
   "source": [
    "grid_cv.best_params_"
   ]
  },
  {
   "cell_type": "code",
   "execution_count": 53,
   "id": "f0590ba9",
   "metadata": {},
   "outputs": [
    {
     "data": {
      "text/plain": [
       "{'mean_fit_time': array([1.35422964, 1.7420505 , 2.11590991, 2.3906044 , 2.63766685,\n",
       "        2.60266843, 2.64322958]),\n",
       " 'std_fit_time': array([0.03322762, 0.10571664, 0.05339844, 0.1333303 , 0.19356305,\n",
       "        0.21651311, 0.21081552]),\n",
       " 'mean_score_time': array([0.00479522, 0.00578756, 0.00489564, 0.00490961, 0.00452719,\n",
       "        0.00474296, 0.00487599]),\n",
       " 'std_score_time': array([3.54069446e-04, 1.50304217e-03, 2.95988822e-04, 6.78033442e-04,\n",
       "        5.82714908e-05, 4.60770650e-04, 5.34893251e-04]),\n",
       " 'param_max_depth': masked_array(data=[6, 8, 10, 12, 16, 20, 24],\n",
       "              mask=[False, False, False, False, False, False, False],\n",
       "        fill_value='?',\n",
       "             dtype=object),\n",
       " 'params': [{'max_depth': 6},\n",
       "  {'max_depth': 8},\n",
       "  {'max_depth': 10},\n",
       "  {'max_depth': 12},\n",
       "  {'max_depth': 16},\n",
       "  {'max_depth': 20},\n",
       "  {'max_depth': 24}],\n",
       " 'split0_test_score': array([0.81509177, 0.82324949, 0.81781101, 0.79401768, 0.79469748,\n",
       "        0.8028552 , 0.80013596]),\n",
       " 'split1_test_score': array([0.86811693, 0.82528892, 0.81373215, 0.81237254, 0.81237254,\n",
       "        0.81237254, 0.81237254]),\n",
       " 'split2_test_score': array([0.79931973, 0.8462585 , 0.82993197, 0.83877551, 0.83741497,\n",
       "        0.83537415, 0.83537415]),\n",
       " 'split3_test_score': array([0.86462585, 0.87278912, 0.8829932 , 0.87959184, 0.87959184,\n",
       "        0.87687075, 0.87687075]),\n",
       " 'split4_test_score': array([0.87006803, 0.90408163, 0.89115646, 0.88503401, 0.88571429,\n",
       "        0.88435374, 0.88435374]),\n",
       " 'mean_test_score': array([0.84344446, 0.85433353, 0.84712496, 0.84195831, 0.84195822,\n",
       "        0.84236528, 0.84182143]),\n",
       " 'std_test_score': array([0.03005682, 0.0306284 , 0.03315204, 0.03593202, 0.03594555,\n",
       "        0.03305494, 0.03371627]),\n",
       " 'rank_test_score': array([3, 1, 2, 5, 6, 4, 7], dtype=int32),\n",
       " 'split0_train_score': array([0.96327155, 0.98588675, 0.99234824, 0.99557898, 0.99897977,\n",
       "        0.99982996, 1.        ]),\n",
       " 'split1_train_score': array([0.939126  , 0.98537664, 0.99591906, 0.99863969, 1.        ,\n",
       "        1.        , 1.        ]),\n",
       " 'split2_train_score': array([0.94593676, 0.98452907, 0.99438966, 0.99778987, 0.99982999,\n",
       "        1.        , 1.        ]),\n",
       " 'split3_train_score': array([0.93182591, 0.97755865, 0.99268956, 0.99778987, 0.99965998,\n",
       "        1.        , 1.        ]),\n",
       " 'split4_train_score': array([0.94423665, 0.98010881, 0.99149949, 0.99625978, 0.99982999,\n",
       "        1.        , 1.        ]),\n",
       " 'mean_train_score': array([0.94487937, 0.98269198, 0.9933692 , 0.99721164, 0.99965994,\n",
       "        0.99996599, 1.        ]),\n",
       " 'std_train_score': array([1.04239880e-02, 3.28063085e-03, 1.58387007e-03, 1.12068074e-03,\n",
       "        3.56682557e-04, 6.80156436e-05, 0.00000000e+00])}"
      ]
     },
     "execution_count": 53,
     "metadata": {},
     "output_type": "execute_result"
    }
   ],
   "source": [
    "grid_cv.cv_results_"
   ]
  },
  {
   "cell_type": "code",
   "execution_count": 54,
   "id": "89350517",
   "metadata": {},
   "outputs": [
    {
     "data": {
      "text/html": [
       "<div>\n",
       "<style scoped>\n",
       "    .dataframe tbody tr th:only-of-type {\n",
       "        vertical-align: middle;\n",
       "    }\n",
       "\n",
       "    .dataframe tbody tr th {\n",
       "        vertical-align: top;\n",
       "    }\n",
       "\n",
       "    .dataframe thead th {\n",
       "        text-align: right;\n",
       "    }\n",
       "</style>\n",
       "<table border=\"1\" class=\"dataframe\">\n",
       "  <thead>\n",
       "    <tr style=\"text-align: right;\">\n",
       "      <th></th>\n",
       "      <th>param_max_depth</th>\n",
       "      <th>mean_test_score</th>\n",
       "      <th>mean_train_score</th>\n",
       "    </tr>\n",
       "  </thead>\n",
       "  <tbody>\n",
       "    <tr>\n",
       "      <th>0</th>\n",
       "      <td>6</td>\n",
       "      <td>0.843444</td>\n",
       "      <td>0.944879</td>\n",
       "    </tr>\n",
       "    <tr>\n",
       "      <th>1</th>\n",
       "      <td>8</td>\n",
       "      <td>0.854334</td>\n",
       "      <td>0.982692</td>\n",
       "    </tr>\n",
       "    <tr>\n",
       "      <th>2</th>\n",
       "      <td>10</td>\n",
       "      <td>0.847125</td>\n",
       "      <td>0.993369</td>\n",
       "    </tr>\n",
       "    <tr>\n",
       "      <th>3</th>\n",
       "      <td>12</td>\n",
       "      <td>0.841958</td>\n",
       "      <td>0.997212</td>\n",
       "    </tr>\n",
       "    <tr>\n",
       "      <th>4</th>\n",
       "      <td>16</td>\n",
       "      <td>0.841958</td>\n",
       "      <td>0.999660</td>\n",
       "    </tr>\n",
       "    <tr>\n",
       "      <th>5</th>\n",
       "      <td>20</td>\n",
       "      <td>0.842365</td>\n",
       "      <td>0.999966</td>\n",
       "    </tr>\n",
       "    <tr>\n",
       "      <th>6</th>\n",
       "      <td>24</td>\n",
       "      <td>0.841821</td>\n",
       "      <td>1.000000</td>\n",
       "    </tr>\n",
       "  </tbody>\n",
       "</table>\n",
       "</div>"
      ],
      "text/plain": [
       "  param_max_depth  mean_test_score  mean_train_score\n",
       "0               6         0.843444          0.944879\n",
       "1               8         0.854334          0.982692\n",
       "2              10         0.847125          0.993369\n",
       "3              12         0.841958          0.997212\n",
       "4              16         0.841958          0.999660\n",
       "5              20         0.842365          0.999966\n",
       "6              24         0.841821          1.000000"
      ]
     },
     "execution_count": 54,
     "metadata": {},
     "output_type": "execute_result"
    }
   ],
   "source": [
    "# 원하는 결과값만 뽑아보자.\n",
    "\n",
    "cv_results_df = pd.DataFrame(grid_cv.cv_results_)\n",
    "cv_results_df[['param_max_depth', 'mean_test_score', 'mean_train_score']]"
   ]
  },
  {
   "cell_type": "markdown",
   "id": "fad8c085",
   "metadata": {},
   "source": [
    "train과 test의 score차이가 있는데 과적합이 된건가? 라고 생각되면 직접 accuracy_score를 출력해볼 수도 있다."
   ]
  },
  {
   "cell_type": "code",
   "execution_count": 55,
   "id": "88ec47fc",
   "metadata": {},
   "outputs": [
    {
     "name": "stdout",
     "output_type": "stream",
     "text": [
      "Max_Depth :  6 , Accuracy :  0.8554462164913471\n",
      "Max_Depth :  8 , Accuracy :  0.8734306073973532\n",
      "Max_Depth :  10 , Accuracy :  0.8615541228367831\n",
      "Max_Depth :  12 , Accuracy :  0.8595181540549711\n",
      "Max_Depth :  16 , Accuracy :  0.8669833729216152\n",
      "Max_Depth :  20 , Accuracy :  0.8652867322701052\n",
      "Max_Depth :  24 , Accuracy :  0.8652867322701052\n"
     ]
    }
   ],
   "source": [
    "# 실제 테스트 데이터에 대한 accuracy\n",
    "\n",
    "max_depths = [6,8,10,12,16,20,24]\n",
    "\n",
    "for depth in max_depths:\n",
    "    dt_clf = DecisionTreeClassifier(max_depth=depth, random_state = 13)\n",
    "    dt_clf.fit(X_train, y_train)\n",
    "    pred = dt_clf.predict(X_test)\n",
    "    acc = accuracy_score(y_test, pred)\n",
    "    print(\"Max_Depth : \", depth, \", Accuracy : \", acc )"
   ]
  },
  {
   "cell_type": "code",
   "execution_count": 57,
   "id": "4c0ce240",
   "metadata": {},
   "outputs": [
    {
     "name": "stdout",
     "output_type": "stream",
     "text": [
      "Best model :  DecisionTreeClassifier(max_depth=8, random_state=13)\n",
      "Accuracy :  0.8734306073973532\n"
     ]
    }
   ],
   "source": [
    "# 우리의 베스트 모델 결과는\n",
    "\n",
    "best_dt_clf = grid_cv.best_estimator_\n",
    "pred1 = best_dt_clf.predict(X_test)\n",
    "\n",
    "print('Best model : ', best_dt_clf)\n",
    "print(\"Accuracy : \", accuracy_score(y_test, pred1))"
   ]
  },
  {
   "cell_type": "markdown",
   "id": "f62462fb",
   "metadata": {},
   "source": [
    "랜덤포레스트(앙상블 bagging 기법)도 돌려보자."
   ]
  },
  {
   "cell_type": "code",
   "execution_count": 58,
   "id": "d822d6c7",
   "metadata": {},
   "outputs": [
    {
     "name": "stderr",
     "output_type": "stream",
     "text": [
      "/Users/aragbagofideas/anaconda3/lib/python3.9/site-packages/sklearn/model_selection/_validation.py:680: DataConversionWarning: A column-vector y was passed when a 1d array was expected. Please change the shape of y to (n_samples,), for example using ravel().\n",
      "  estimator.fit(X_train, y_train, **fit_params)\n",
      "/Users/aragbagofideas/anaconda3/lib/python3.9/site-packages/sklearn/model_selection/_validation.py:680: DataConversionWarning: A column-vector y was passed when a 1d array was expected. Please change the shape of y to (n_samples,), for example using ravel().\n",
      "  estimator.fit(X_train, y_train, **fit_params)\n",
      "/Users/aragbagofideas/anaconda3/lib/python3.9/site-packages/sklearn/model_selection/_validation.py:680: DataConversionWarning: A column-vector y was passed when a 1d array was expected. Please change the shape of y to (n_samples,), for example using ravel().\n",
      "  estimator.fit(X_train, y_train, **fit_params)\n",
      "/Users/aragbagofideas/anaconda3/lib/python3.9/site-packages/sklearn/model_selection/_validation.py:680: DataConversionWarning: A column-vector y was passed when a 1d array was expected. Please change the shape of y to (n_samples,), for example using ravel().\n",
      "  estimator.fit(X_train, y_train, **fit_params)\n",
      "/Users/aragbagofideas/anaconda3/lib/python3.9/site-packages/sklearn/model_selection/_validation.py:680: DataConversionWarning: A column-vector y was passed when a 1d array was expected. Please change the shape of y to (n_samples,), for example using ravel().\n",
      "  estimator.fit(X_train, y_train, **fit_params)\n",
      "/Users/aragbagofideas/anaconda3/lib/python3.9/site-packages/sklearn/model_selection/_validation.py:680: DataConversionWarning: A column-vector y was passed when a 1d array was expected. Please change the shape of y to (n_samples,), for example using ravel().\n",
      "  estimator.fit(X_train, y_train, **fit_params)\n",
      "/Users/aragbagofideas/anaconda3/lib/python3.9/site-packages/sklearn/model_selection/_validation.py:680: DataConversionWarning: A column-vector y was passed when a 1d array was expected. Please change the shape of y to (n_samples,), for example using ravel().\n",
      "  estimator.fit(X_train, y_train, **fit_params)\n",
      "/Users/aragbagofideas/anaconda3/lib/python3.9/site-packages/sklearn/model_selection/_validation.py:680: DataConversionWarning: A column-vector y was passed when a 1d array was expected. Please change the shape of y to (n_samples,), for example using ravel().\n",
      "  estimator.fit(X_train, y_train, **fit_params)\n",
      "/Users/aragbagofideas/anaconda3/lib/python3.9/site-packages/sklearn/model_selection/_validation.py:680: DataConversionWarning: A column-vector y was passed when a 1d array was expected. Please change the shape of y to (n_samples,), for example using ravel().\n",
      "  estimator.fit(X_train, y_train, **fit_params)\n",
      "/Users/aragbagofideas/anaconda3/lib/python3.9/site-packages/sklearn/model_selection/_validation.py:680: DataConversionWarning: A column-vector y was passed when a 1d array was expected. Please change the shape of y to (n_samples,), for example using ravel().\n",
      "  estimator.fit(X_train, y_train, **fit_params)\n",
      "/Users/aragbagofideas/anaconda3/lib/python3.9/site-packages/sklearn/model_selection/_validation.py:680: DataConversionWarning: A column-vector y was passed when a 1d array was expected. Please change the shape of y to (n_samples,), for example using ravel().\n",
      "  estimator.fit(X_train, y_train, **fit_params)\n",
      "/Users/aragbagofideas/anaconda3/lib/python3.9/site-packages/sklearn/model_selection/_validation.py:680: DataConversionWarning: A column-vector y was passed when a 1d array was expected. Please change the shape of y to (n_samples,), for example using ravel().\n",
      "  estimator.fit(X_train, y_train, **fit_params)\n",
      "/Users/aragbagofideas/anaconda3/lib/python3.9/site-packages/sklearn/model_selection/_validation.py:680: DataConversionWarning: A column-vector y was passed when a 1d array was expected. Please change the shape of y to (n_samples,), for example using ravel().\n",
      "  estimator.fit(X_train, y_train, **fit_params)\n",
      "/Users/aragbagofideas/anaconda3/lib/python3.9/site-packages/sklearn/model_selection/_validation.py:680: DataConversionWarning: A column-vector y was passed when a 1d array was expected. Please change the shape of y to (n_samples,), for example using ravel().\n",
      "  estimator.fit(X_train, y_train, **fit_params)\n",
      "/Users/aragbagofideas/anaconda3/lib/python3.9/site-packages/sklearn/model_selection/_validation.py:680: DataConversionWarning: A column-vector y was passed when a 1d array was expected. Please change the shape of y to (n_samples,), for example using ravel().\n",
      "  estimator.fit(X_train, y_train, **fit_params)\n",
      "/Users/aragbagofideas/anaconda3/lib/python3.9/site-packages/sklearn/model_selection/_validation.py:680: DataConversionWarning: A column-vector y was passed when a 1d array was expected. Please change the shape of y to (n_samples,), for example using ravel().\n",
      "  estimator.fit(X_train, y_train, **fit_params)\n",
      "/Users/aragbagofideas/anaconda3/lib/python3.9/site-packages/sklearn/model_selection/_validation.py:680: DataConversionWarning: A column-vector y was passed when a 1d array was expected. Please change the shape of y to (n_samples,), for example using ravel().\n",
      "  estimator.fit(X_train, y_train, **fit_params)\n",
      "/Users/aragbagofideas/anaconda3/lib/python3.9/site-packages/sklearn/model_selection/_validation.py:680: DataConversionWarning: A column-vector y was passed when a 1d array was expected. Please change the shape of y to (n_samples,), for example using ravel().\n",
      "  estimator.fit(X_train, y_train, **fit_params)\n",
      "/Users/aragbagofideas/anaconda3/lib/python3.9/site-packages/sklearn/model_selection/_validation.py:680: DataConversionWarning: A column-vector y was passed when a 1d array was expected. Please change the shape of y to (n_samples,), for example using ravel().\n",
      "  estimator.fit(X_train, y_train, **fit_params)\n",
      "/Users/aragbagofideas/anaconda3/lib/python3.9/site-packages/sklearn/model_selection/_validation.py:680: DataConversionWarning: A column-vector y was passed when a 1d array was expected. Please change the shape of y to (n_samples,), for example using ravel().\n",
      "  estimator.fit(X_train, y_train, **fit_params)\n",
      "/Users/aragbagofideas/anaconda3/lib/python3.9/site-packages/sklearn/model_selection/_validation.py:680: DataConversionWarning: A column-vector y was passed when a 1d array was expected. Please change the shape of y to (n_samples,), for example using ravel().\n",
      "  estimator.fit(X_train, y_train, **fit_params)\n",
      "/Users/aragbagofideas/anaconda3/lib/python3.9/site-packages/sklearn/model_selection/_validation.py:680: DataConversionWarning: A column-vector y was passed when a 1d array was expected. Please change the shape of y to (n_samples,), for example using ravel().\n",
      "  estimator.fit(X_train, y_train, **fit_params)\n",
      "/Users/aragbagofideas/anaconda3/lib/python3.9/site-packages/sklearn/model_selection/_validation.py:680: DataConversionWarning: A column-vector y was passed when a 1d array was expected. Please change the shape of y to (n_samples,), for example using ravel().\n",
      "  estimator.fit(X_train, y_train, **fit_params)\n",
      "/Users/aragbagofideas/anaconda3/lib/python3.9/site-packages/sklearn/model_selection/_validation.py:680: DataConversionWarning: A column-vector y was passed when a 1d array was expected. Please change the shape of y to (n_samples,), for example using ravel().\n",
      "  estimator.fit(X_train, y_train, **fit_params)\n",
      "/Users/aragbagofideas/anaconda3/lib/python3.9/site-packages/sklearn/model_selection/_validation.py:680: DataConversionWarning: A column-vector y was passed when a 1d array was expected. Please change the shape of y to (n_samples,), for example using ravel().\n",
      "  estimator.fit(X_train, y_train, **fit_params)\n",
      "/Users/aragbagofideas/anaconda3/lib/python3.9/site-packages/sklearn/model_selection/_validation.py:680: DataConversionWarning: A column-vector y was passed when a 1d array was expected. Please change the shape of y to (n_samples,), for example using ravel().\n",
      "  estimator.fit(X_train, y_train, **fit_params)\n",
      "/Users/aragbagofideas/anaconda3/lib/python3.9/site-packages/sklearn/model_selection/_validation.py:680: DataConversionWarning: A column-vector y was passed when a 1d array was expected. Please change the shape of y to (n_samples,), for example using ravel().\n",
      "  estimator.fit(X_train, y_train, **fit_params)\n"
     ]
    },
    {
     "name": "stderr",
     "output_type": "stream",
     "text": [
      "/Users/aragbagofideas/anaconda3/lib/python3.9/site-packages/sklearn/model_selection/_validation.py:680: DataConversionWarning: A column-vector y was passed when a 1d array was expected. Please change the shape of y to (n_samples,), for example using ravel().\n",
      "  estimator.fit(X_train, y_train, **fit_params)\n",
      "/Users/aragbagofideas/anaconda3/lib/python3.9/site-packages/sklearn/model_selection/_validation.py:680: DataConversionWarning: A column-vector y was passed when a 1d array was expected. Please change the shape of y to (n_samples,), for example using ravel().\n",
      "  estimator.fit(X_train, y_train, **fit_params)\n",
      "/Users/aragbagofideas/anaconda3/lib/python3.9/site-packages/sklearn/model_selection/_validation.py:680: DataConversionWarning: A column-vector y was passed when a 1d array was expected. Please change the shape of y to (n_samples,), for example using ravel().\n",
      "  estimator.fit(X_train, y_train, **fit_params)\n",
      "/Users/aragbagofideas/anaconda3/lib/python3.9/site-packages/sklearn/model_selection/_validation.py:680: DataConversionWarning: A column-vector y was passed when a 1d array was expected. Please change the shape of y to (n_samples,), for example using ravel().\n",
      "  estimator.fit(X_train, y_train, **fit_params)\n",
      "/Users/aragbagofideas/anaconda3/lib/python3.9/site-packages/sklearn/model_selection/_validation.py:680: DataConversionWarning: A column-vector y was passed when a 1d array was expected. Please change the shape of y to (n_samples,), for example using ravel().\n",
      "  estimator.fit(X_train, y_train, **fit_params)\n",
      "/Users/aragbagofideas/anaconda3/lib/python3.9/site-packages/sklearn/model_selection/_validation.py:680: DataConversionWarning: A column-vector y was passed when a 1d array was expected. Please change the shape of y to (n_samples,), for example using ravel().\n",
      "  estimator.fit(X_train, y_train, **fit_params)\n",
      "/Users/aragbagofideas/anaconda3/lib/python3.9/site-packages/sklearn/model_selection/_validation.py:680: DataConversionWarning: A column-vector y was passed when a 1d array was expected. Please change the shape of y to (n_samples,), for example using ravel().\n",
      "  estimator.fit(X_train, y_train, **fit_params)\n",
      "/Users/aragbagofideas/anaconda3/lib/python3.9/site-packages/sklearn/model_selection/_validation.py:680: DataConversionWarning: A column-vector y was passed when a 1d array was expected. Please change the shape of y to (n_samples,), for example using ravel().\n",
      "  estimator.fit(X_train, y_train, **fit_params)\n",
      "/Users/aragbagofideas/anaconda3/lib/python3.9/site-packages/sklearn/model_selection/_validation.py:680: DataConversionWarning: A column-vector y was passed when a 1d array was expected. Please change the shape of y to (n_samples,), for example using ravel().\n",
      "  estimator.fit(X_train, y_train, **fit_params)\n",
      "/Users/aragbagofideas/anaconda3/lib/python3.9/site-packages/sklearn/model_selection/_validation.py:680: DataConversionWarning: A column-vector y was passed when a 1d array was expected. Please change the shape of y to (n_samples,), for example using ravel().\n",
      "  estimator.fit(X_train, y_train, **fit_params)\n",
      "/Users/aragbagofideas/anaconda3/lib/python3.9/site-packages/sklearn/model_selection/_validation.py:680: DataConversionWarning: A column-vector y was passed when a 1d array was expected. Please change the shape of y to (n_samples,), for example using ravel().\n",
      "  estimator.fit(X_train, y_train, **fit_params)\n",
      "/Users/aragbagofideas/anaconda3/lib/python3.9/site-packages/sklearn/model_selection/_validation.py:680: DataConversionWarning: A column-vector y was passed when a 1d array was expected. Please change the shape of y to (n_samples,), for example using ravel().\n",
      "  estimator.fit(X_train, y_train, **fit_params)\n",
      "/Users/aragbagofideas/anaconda3/lib/python3.9/site-packages/sklearn/model_selection/_validation.py:680: DataConversionWarning: A column-vector y was passed when a 1d array was expected. Please change the shape of y to (n_samples,), for example using ravel().\n",
      "  estimator.fit(X_train, y_train, **fit_params)\n",
      "/Users/aragbagofideas/anaconda3/lib/python3.9/site-packages/sklearn/model_selection/_validation.py:680: DataConversionWarning: A column-vector y was passed when a 1d array was expected. Please change the shape of y to (n_samples,), for example using ravel().\n",
      "  estimator.fit(X_train, y_train, **fit_params)\n",
      "/Users/aragbagofideas/anaconda3/lib/python3.9/site-packages/sklearn/model_selection/_validation.py:680: DataConversionWarning: A column-vector y was passed when a 1d array was expected. Please change the shape of y to (n_samples,), for example using ravel().\n",
      "  estimator.fit(X_train, y_train, **fit_params)\n",
      "/Users/aragbagofideas/anaconda3/lib/python3.9/site-packages/sklearn/model_selection/_validation.py:680: DataConversionWarning: A column-vector y was passed when a 1d array was expected. Please change the shape of y to (n_samples,), for example using ravel().\n",
      "  estimator.fit(X_train, y_train, **fit_params)\n",
      "/Users/aragbagofideas/anaconda3/lib/python3.9/site-packages/sklearn/model_selection/_validation.py:680: DataConversionWarning: A column-vector y was passed when a 1d array was expected. Please change the shape of y to (n_samples,), for example using ravel().\n",
      "  estimator.fit(X_train, y_train, **fit_params)\n",
      "/Users/aragbagofideas/anaconda3/lib/python3.9/site-packages/sklearn/model_selection/_validation.py:680: DataConversionWarning: A column-vector y was passed when a 1d array was expected. Please change the shape of y to (n_samples,), for example using ravel().\n",
      "  estimator.fit(X_train, y_train, **fit_params)\n",
      "/Users/aragbagofideas/anaconda3/lib/python3.9/site-packages/sklearn/model_selection/_validation.py:680: DataConversionWarning: A column-vector y was passed when a 1d array was expected. Please change the shape of y to (n_samples,), for example using ravel().\n",
      "  estimator.fit(X_train, y_train, **fit_params)\n",
      "/Users/aragbagofideas/anaconda3/lib/python3.9/site-packages/sklearn/model_selection/_validation.py:680: DataConversionWarning: A column-vector y was passed when a 1d array was expected. Please change the shape of y to (n_samples,), for example using ravel().\n",
      "  estimator.fit(X_train, y_train, **fit_params)\n",
      "/Users/aragbagofideas/anaconda3/lib/python3.9/site-packages/sklearn/model_selection/_validation.py:680: DataConversionWarning: A column-vector y was passed when a 1d array was expected. Please change the shape of y to (n_samples,), for example using ravel().\n",
      "  estimator.fit(X_train, y_train, **fit_params)\n",
      "/Users/aragbagofideas/anaconda3/lib/python3.9/site-packages/sklearn/model_selection/_validation.py:680: DataConversionWarning: A column-vector y was passed when a 1d array was expected. Please change the shape of y to (n_samples,), for example using ravel().\n",
      "  estimator.fit(X_train, y_train, **fit_params)\n",
      "/Users/aragbagofideas/anaconda3/lib/python3.9/site-packages/sklearn/model_selection/_validation.py:680: DataConversionWarning: A column-vector y was passed when a 1d array was expected. Please change the shape of y to (n_samples,), for example using ravel().\n",
      "  estimator.fit(X_train, y_train, **fit_params)\n",
      "/Users/aragbagofideas/anaconda3/lib/python3.9/site-packages/sklearn/model_selection/_validation.py:680: DataConversionWarning: A column-vector y was passed when a 1d array was expected. Please change the shape of y to (n_samples,), for example using ravel().\n",
      "  estimator.fit(X_train, y_train, **fit_params)\n",
      "/Users/aragbagofideas/anaconda3/lib/python3.9/site-packages/sklearn/model_selection/_validation.py:680: DataConversionWarning: A column-vector y was passed when a 1d array was expected. Please change the shape of y to (n_samples,), for example using ravel().\n",
      "  estimator.fit(X_train, y_train, **fit_params)\n",
      "/Users/aragbagofideas/anaconda3/lib/python3.9/site-packages/sklearn/model_selection/_validation.py:680: DataConversionWarning: A column-vector y was passed when a 1d array was expected. Please change the shape of y to (n_samples,), for example using ravel().\n",
      "  estimator.fit(X_train, y_train, **fit_params)\n",
      "/Users/aragbagofideas/anaconda3/lib/python3.9/site-packages/sklearn/model_selection/_validation.py:680: DataConversionWarning: A column-vector y was passed when a 1d array was expected. Please change the shape of y to (n_samples,), for example using ravel().\n",
      "  estimator.fit(X_train, y_train, **fit_params)\n",
      "/Users/aragbagofideas/anaconda3/lib/python3.9/site-packages/sklearn/model_selection/_validation.py:680: DataConversionWarning: A column-vector y was passed when a 1d array was expected. Please change the shape of y to (n_samples,), for example using ravel().\n",
      "  estimator.fit(X_train, y_train, **fit_params)\n",
      "/Users/aragbagofideas/anaconda3/lib/python3.9/site-packages/sklearn/model_selection/_validation.py:680: DataConversionWarning: A column-vector y was passed when a 1d array was expected. Please change the shape of y to (n_samples,), for example using ravel().\n",
      "  estimator.fit(X_train, y_train, **fit_params)\n",
      "/Users/aragbagofideas/anaconda3/lib/python3.9/site-packages/sklearn/model_selection/_validation.py:680: DataConversionWarning: A column-vector y was passed when a 1d array was expected. Please change the shape of y to (n_samples,), for example using ravel().\n",
      "  estimator.fit(X_train, y_train, **fit_params)\n"
     ]
    },
    {
     "name": "stderr",
     "output_type": "stream",
     "text": [
      "/Users/aragbagofideas/anaconda3/lib/python3.9/site-packages/sklearn/model_selection/_validation.py:680: DataConversionWarning: A column-vector y was passed when a 1d array was expected. Please change the shape of y to (n_samples,), for example using ravel().\n",
      "  estimator.fit(X_train, y_train, **fit_params)\n",
      "/Users/aragbagofideas/anaconda3/lib/python3.9/site-packages/sklearn/model_selection/_validation.py:680: DataConversionWarning: A column-vector y was passed when a 1d array was expected. Please change the shape of y to (n_samples,), for example using ravel().\n",
      "  estimator.fit(X_train, y_train, **fit_params)\n",
      "/Users/aragbagofideas/anaconda3/lib/python3.9/site-packages/sklearn/model_selection/_validation.py:680: DataConversionWarning: A column-vector y was passed when a 1d array was expected. Please change the shape of y to (n_samples,), for example using ravel().\n",
      "  estimator.fit(X_train, y_train, **fit_params)\n",
      "/Users/aragbagofideas/anaconda3/lib/python3.9/site-packages/sklearn/model_selection/_validation.py:680: DataConversionWarning: A column-vector y was passed when a 1d array was expected. Please change the shape of y to (n_samples,), for example using ravel().\n",
      "  estimator.fit(X_train, y_train, **fit_params)\n",
      "/Users/aragbagofideas/anaconda3/lib/python3.9/site-packages/sklearn/model_selection/_validation.py:680: DataConversionWarning: A column-vector y was passed when a 1d array was expected. Please change the shape of y to (n_samples,), for example using ravel().\n",
      "  estimator.fit(X_train, y_train, **fit_params)\n",
      "/Users/aragbagofideas/anaconda3/lib/python3.9/site-packages/sklearn/model_selection/_validation.py:680: DataConversionWarning: A column-vector y was passed when a 1d array was expected. Please change the shape of y to (n_samples,), for example using ravel().\n",
      "  estimator.fit(X_train, y_train, **fit_params)\n",
      "/Users/aragbagofideas/anaconda3/lib/python3.9/site-packages/sklearn/model_selection/_validation.py:680: DataConversionWarning: A column-vector y was passed when a 1d array was expected. Please change the shape of y to (n_samples,), for example using ravel().\n",
      "  estimator.fit(X_train, y_train, **fit_params)\n",
      "/Users/aragbagofideas/anaconda3/lib/python3.9/site-packages/sklearn/model_selection/_validation.py:680: DataConversionWarning: A column-vector y was passed when a 1d array was expected. Please change the shape of y to (n_samples,), for example using ravel().\n",
      "  estimator.fit(X_train, y_train, **fit_params)\n",
      "/Users/aragbagofideas/anaconda3/lib/python3.9/site-packages/sklearn/model_selection/_validation.py:680: DataConversionWarning: A column-vector y was passed when a 1d array was expected. Please change the shape of y to (n_samples,), for example using ravel().\n",
      "  estimator.fit(X_train, y_train, **fit_params)\n",
      "/Users/aragbagofideas/anaconda3/lib/python3.9/site-packages/sklearn/model_selection/_validation.py:680: DataConversionWarning: A column-vector y was passed when a 1d array was expected. Please change the shape of y to (n_samples,), for example using ravel().\n",
      "  estimator.fit(X_train, y_train, **fit_params)\n",
      "/Users/aragbagofideas/anaconda3/lib/python3.9/site-packages/sklearn/model_selection/_validation.py:680: DataConversionWarning: A column-vector y was passed when a 1d array was expected. Please change the shape of y to (n_samples,), for example using ravel().\n",
      "  estimator.fit(X_train, y_train, **fit_params)\n",
      "/Users/aragbagofideas/anaconda3/lib/python3.9/site-packages/sklearn/model_selection/_validation.py:680: DataConversionWarning: A column-vector y was passed when a 1d array was expected. Please change the shape of y to (n_samples,), for example using ravel().\n",
      "  estimator.fit(X_train, y_train, **fit_params)\n",
      "/Users/aragbagofideas/anaconda3/lib/python3.9/site-packages/sklearn/model_selection/_validation.py:680: DataConversionWarning: A column-vector y was passed when a 1d array was expected. Please change the shape of y to (n_samples,), for example using ravel().\n",
      "  estimator.fit(X_train, y_train, **fit_params)\n",
      "/Users/aragbagofideas/anaconda3/lib/python3.9/site-packages/sklearn/model_selection/_validation.py:680: DataConversionWarning: A column-vector y was passed when a 1d array was expected. Please change the shape of y to (n_samples,), for example using ravel().\n",
      "  estimator.fit(X_train, y_train, **fit_params)\n",
      "/Users/aragbagofideas/anaconda3/lib/python3.9/site-packages/sklearn/model_selection/_validation.py:680: DataConversionWarning: A column-vector y was passed when a 1d array was expected. Please change the shape of y to (n_samples,), for example using ravel().\n",
      "  estimator.fit(X_train, y_train, **fit_params)\n",
      "/Users/aragbagofideas/anaconda3/lib/python3.9/site-packages/sklearn/model_selection/_search.py:926: DataConversionWarning: A column-vector y was passed when a 1d array was expected. Please change the shape of y to (n_samples,), for example using ravel().\n",
      "  self.best_estimator_.fit(X, y, **fit_params)\n"
     ]
    },
    {
     "data": {
      "text/plain": [
       "GridSearchCV(cv=2, estimator=RandomForestClassifier(n_jobs=-1, random_state=13),\n",
       "             n_jobs=-1,\n",
       "             param_grid={'max_depth': [6, 8, 10], 'min_samples_leaf': [8, 12],\n",
       "                         'min_samples_split': [8, 12],\n",
       "                         'n_estimators': [50, 100, 200]})"
      ]
     },
     "execution_count": 58,
     "metadata": {},
     "output_type": "execute_result"
    }
   ],
   "source": [
    "from sklearn.model_selection import GridSearchCV\n",
    "from sklearn.ensemble import RandomForestClassifier\n",
    "\n",
    "params = {\n",
    "    'max_depth' : [6,8,10],\n",
    "    'n_estimators' : [50,100,200], # Decision Tree 분류기 개수\n",
    "    'min_samples_leaf' : [8,12], # 마지막 가지에 남아있는 최소 데이터 개수\n",
    "    'min_samples_split' : [8,12] # 노드 당 최소 데이터 개수\n",
    "}\n",
    "\n",
    "rf_clf = RandomForestClassifier(random_state=13, n_jobs = -1)\n",
    "# n_jobs = -1 : CPU를 다 써서 학습을 시켜라\n",
    "\n",
    "grid_cv = GridSearchCV(rf_clf, param_grid=params, cv = 2, n_jobs= -1)\n",
    "grid_cv.fit(X_train, y_train)"
   ]
  },
  {
   "cell_type": "code",
   "execution_count": 59,
   "id": "1ad88461",
   "metadata": {},
   "outputs": [
    {
     "data": {
      "text/html": [
       "<div>\n",
       "<style scoped>\n",
       "    .dataframe tbody tr th:only-of-type {\n",
       "        vertical-align: middle;\n",
       "    }\n",
       "\n",
       "    .dataframe tbody tr th {\n",
       "        vertical-align: top;\n",
       "    }\n",
       "\n",
       "    .dataframe thead th {\n",
       "        text-align: right;\n",
       "    }\n",
       "</style>\n",
       "<table border=\"1\" class=\"dataframe\">\n",
       "  <thead>\n",
       "    <tr style=\"text-align: right;\">\n",
       "      <th></th>\n",
       "      <th>rank_test_score</th>\n",
       "      <th>mean_test_score</th>\n",
       "      <th>param_n_estimators</th>\n",
       "      <th>param_max_depth</th>\n",
       "    </tr>\n",
       "  </thead>\n",
       "  <tbody>\n",
       "    <tr>\n",
       "      <th>28</th>\n",
       "      <td>1</td>\n",
       "      <td>0.915125</td>\n",
       "      <td>100</td>\n",
       "      <td>10</td>\n",
       "    </tr>\n",
       "    <tr>\n",
       "      <th>25</th>\n",
       "      <td>1</td>\n",
       "      <td>0.915125</td>\n",
       "      <td>100</td>\n",
       "      <td>10</td>\n",
       "    </tr>\n",
       "    <tr>\n",
       "      <th>23</th>\n",
       "      <td>3</td>\n",
       "      <td>0.912813</td>\n",
       "      <td>200</td>\n",
       "      <td>8</td>\n",
       "    </tr>\n",
       "    <tr>\n",
       "      <th>20</th>\n",
       "      <td>3</td>\n",
       "      <td>0.912813</td>\n",
       "      <td>200</td>\n",
       "      <td>8</td>\n",
       "    </tr>\n",
       "    <tr>\n",
       "      <th>35</th>\n",
       "      <td>5</td>\n",
       "      <td>0.912541</td>\n",
       "      <td>200</td>\n",
       "      <td>10</td>\n",
       "    </tr>\n",
       "  </tbody>\n",
       "</table>\n",
       "</div>"
      ],
      "text/plain": [
       "    rank_test_score  mean_test_score param_n_estimators param_max_depth\n",
       "28                1         0.915125                100              10\n",
       "25                1         0.915125                100              10\n",
       "23                3         0.912813                200               8\n",
       "20                3         0.912813                200               8\n",
       "35                5         0.912541                200              10"
      ]
     },
     "execution_count": 59,
     "metadata": {},
     "output_type": "execute_result"
    }
   ],
   "source": [
    "cv_results_df = pd.DataFrame(grid_cv.cv_results_)\n",
    "\n",
    "target_col = ['rank_test_score', 'mean_test_score', 'param_n_estimators', 'param_max_depth']\n",
    "cv_results_df[target_col].sort_values('rank_test_score').head()"
   ]
  },
  {
   "cell_type": "code",
   "execution_count": 60,
   "id": "14dd1a7d",
   "metadata": {},
   "outputs": [
    {
     "data": {
      "text/plain": [
       "{'max_depth': 10,\n",
       " 'min_samples_leaf': 8,\n",
       " 'min_samples_split': 8,\n",
       " 'n_estimators': 100}"
      ]
     },
     "execution_count": 60,
     "metadata": {},
     "output_type": "execute_result"
    }
   ],
   "source": [
    "grid_cv.best_params_"
   ]
  },
  {
   "cell_type": "code",
   "execution_count": 61,
   "id": "67c68430",
   "metadata": {},
   "outputs": [
    {
     "name": "stderr",
     "output_type": "stream",
     "text": [
      "/var/folders/n3/lzr2m1rs4sxg33yprdptz8gc0000gn/T/ipykernel_1109/14755469.py:2: DataConversionWarning: A column-vector y was passed when a 1d array was expected. Please change the shape of y to (n_samples,), for example using ravel().\n",
      "  rf_clf_best.fit(X_train, y_train)\n"
     ]
    },
    {
     "data": {
      "text/plain": [
       "0.9205972175093315"
      ]
     },
     "execution_count": 61,
     "metadata": {},
     "output_type": "execute_result"
    }
   ],
   "source": [
    "rf_clf_best = grid_cv.best_estimator_\n",
    "rf_clf_best.fit(X_train, y_train)\n",
    "pred1 = rf_clf_best.predict(X_test)\n",
    "\n",
    "accuracy_score(y_test, pred1)"
   ]
  },
  {
   "cell_type": "markdown",
   "id": "1ddd2aad",
   "metadata": {},
   "source": [
    "중요특성 확인"
   ]
  },
  {
   "cell_type": "code",
   "execution_count": 62,
   "id": "c1389675",
   "metadata": {},
   "outputs": [
    {
     "data": {
      "text/plain": [
       "angle(X,gravityMean)               0.034638\n",
       "tGravityAcc-max()-Y                0.032518\n",
       "tGravityAcc-energy()-X             0.031309\n",
       "tGravityAcc-mean()-X               0.029513\n",
       "tGravityAcc-min()-X                0.027775\n",
       "tGravityAcc-max()-X                0.027662\n",
       "angle(Y,gravityMean)               0.026553\n",
       "tGravityAcc-mean()-Y               0.026052\n",
       "tGravityAcc-min()-Y                0.023037\n",
       "tGravityAcc-energy()-Y             0.018678\n",
       "tGravityAcc-mean()-Z               0.015688\n",
       "angle(Z,gravityMean)               0.012837\n",
       "fBodyAcc-mad()-X                   0.012558\n",
       "tBodyAcc-max()-X                   0.011970\n",
       "fBodyAccJerk-bandsEnergy()-1,24    0.011803\n",
       "tBodyAccJerk-entropy()-X           0.011647\n",
       "tGravityAccMag-std()               0.011451\n",
       "tBodyAccJerk-energy()-X            0.011333\n",
       "tGravityAcc-arCoeff()-Z,1          0.011257\n",
       "fBodyAccJerk-max()-X               0.011040\n",
       "dtype: float64"
      ]
     },
     "execution_count": 62,
     "metadata": {},
     "output_type": "execute_result"
    }
   ],
   "source": [
    "best_cols_values = rf_clf_best.feature_importances_\n",
    "best_cols = pd.Series(best_cols_values, index = X_train.columns)\n",
    "top20_cols = best_cols.sort_values(ascending = False)[:20]\n",
    "top20_cols"
   ]
  },
  {
   "cell_type": "code",
   "execution_count": 63,
   "id": "3ffd12c9",
   "metadata": {},
   "outputs": [
    {
     "data": {
      "image/png": "[encoded data removed]",
      "text/plain": [
       "<Figure size 576x576 with 1 Axes>"
      ]
     },
     "metadata": {
      "needs_background": "light"
     },
     "output_type": "display_data"
    }
   ],
   "source": [
    "import seaborn as sns\n",
    "\n",
    "plt.figure(figsize = (8,8))\n",
    "sns.barplot(x = top20_cols, y = top20_cols.index)\n",
    "plt.show()"
   ]
  },
  {
   "cell_type": "markdown",
   "id": "d7522633",
   "metadata": {},
   "source": [
    "계산량을 고려하여 중요 feature들만 가지고 모델링을 할 수도 있다."
   ]
  },
  {
   "cell_type": "code",
   "execution_count": 64,
   "id": "ab9306be",
   "metadata": {},
   "outputs": [
    {
     "data": {
      "text/plain": [
       "Index(['angle(X,gravityMean)', 'tGravityAcc-max()-Y', 'tGravityAcc-energy()-X',\n",
       "       'tGravityAcc-mean()-X', 'tGravityAcc-min()-X', 'tGravityAcc-max()-X',\n",
       "       'angle(Y,gravityMean)', 'tGravityAcc-mean()-Y', 'tGravityAcc-min()-Y',\n",
       "       'tGravityAcc-energy()-Y', 'tGravityAcc-mean()-Z',\n",
       "       'angle(Z,gravityMean)', 'fBodyAcc-mad()-X', 'tBodyAcc-max()-X',\n",
       "       'fBodyAccJerk-bandsEnergy()-1,24', 'tBodyAccJerk-entropy()-X',\n",
       "       'tGravityAccMag-std()', 'tBodyAccJerk-energy()-X',\n",
       "       'tGravityAcc-arCoeff()-Z,1', 'fBodyAccJerk-max()-X'],\n",
       "      dtype='object')"
      ]
     },
     "execution_count": 64,
     "metadata": {},
     "output_type": "execute_result"
    }
   ],
   "source": [
    "top20_cols.index"
   ]
  },
  {
   "cell_type": "code",
   "execution_count": 65,
   "id": "f0de4751",
   "metadata": {},
   "outputs": [
    {
     "data": {
      "text/html": [
       "<div>\n",
       "<style scoped>\n",
       "    .dataframe tbody tr th:only-of-type {\n",
       "        vertical-align: middle;\n",
       "    }\n",
       "\n",
       "    .dataframe tbody tr th {\n",
       "        vertical-align: top;\n",
       "    }\n",
       "\n",
       "    .dataframe thead th {\n",
       "        text-align: right;\n",
       "    }\n",
       "</style>\n",
       "<table border=\"1\" class=\"dataframe\">\n",
       "  <thead>\n",
       "    <tr style=\"text-align: right;\">\n",
       "      <th></th>\n",
       "      <th>tBodyAcc-mean()-X</th>\n",
       "      <th>tBodyAcc-mean()-Y</th>\n",
       "      <th>tBodyAcc-mean()-Z</th>\n",
       "      <th>tBodyAcc-std()-X</th>\n",
       "      <th>tBodyAcc-std()-Y</th>\n",
       "      <th>tBodyAcc-std()-Z</th>\n",
       "      <th>tBodyAcc-mad()-X</th>\n",
       "      <th>tBodyAcc-mad()-Y</th>\n",
       "      <th>tBodyAcc-mad()-Z</th>\n",
       "      <th>tBodyAcc-max()-X</th>\n",
       "      <th>...</th>\n",
       "      <th>fBodyBodyGyroJerkMag-meanFreq()</th>\n",
       "      <th>fBodyBodyGyroJerkMag-skewness()</th>\n",
       "      <th>fBodyBodyGyroJerkMag-kurtosis()</th>\n",
       "      <th>angle(tBodyAccMean,gravity)</th>\n",
       "      <th>angle(tBodyAccJerkMean),gravityMean)</th>\n",
       "      <th>angle(tBodyGyroMean,gravityMean)</th>\n",
       "      <th>angle(tBodyGyroJerkMean,gravityMean)</th>\n",
       "      <th>angle(X,gravityMean)</th>\n",
       "      <th>angle(Y,gravityMean)</th>\n",
       "      <th>angle(Z,gravityMean)</th>\n",
       "    </tr>\n",
       "  </thead>\n",
       "  <tbody>\n",
       "    <tr>\n",
       "      <th>0</th>\n",
       "      <td>0.288585</td>\n",
       "      <td>-0.020294</td>\n",
       "      <td>-0.132905</td>\n",
       "      <td>-0.995279</td>\n",
       "      <td>-0.983111</td>\n",
       "      <td>-0.913526</td>\n",
       "      <td>-0.995112</td>\n",
       "      <td>-0.983185</td>\n",
       "      <td>-0.923527</td>\n",
       "      <td>-0.934724</td>\n",
       "      <td>...</td>\n",
       "      <td>-0.074323</td>\n",
       "      <td>-0.298676</td>\n",
       "      <td>-0.710304</td>\n",
       "      <td>-0.112754</td>\n",
       "      <td>0.030400</td>\n",
       "      <td>-0.464761</td>\n",
       "      <td>-0.018446</td>\n",
       "      <td>-0.841247</td>\n",
       "      <td>0.179941</td>\n",
       "      <td>-0.058627</td>\n",
       "    </tr>\n",
       "    <tr>\n",
       "      <th>1</th>\n",
       "      <td>0.278419</td>\n",
       "      <td>-0.016411</td>\n",
       "      <td>-0.123520</td>\n",
       "      <td>-0.998245</td>\n",
       "      <td>-0.975300</td>\n",
       "      <td>-0.960322</td>\n",
       "      <td>-0.998807</td>\n",
       "      <td>-0.974914</td>\n",
       "      <td>-0.957686</td>\n",
       "      <td>-0.943068</td>\n",
       "      <td>...</td>\n",
       "      <td>0.158075</td>\n",
       "      <td>-0.595051</td>\n",
       "      <td>-0.861499</td>\n",
       "      <td>0.053477</td>\n",
       "      <td>-0.007435</td>\n",
       "      <td>-0.732626</td>\n",
       "      <td>0.703511</td>\n",
       "      <td>-0.844788</td>\n",
       "      <td>0.180289</td>\n",
       "      <td>-0.054317</td>\n",
       "    </tr>\n",
       "    <tr>\n",
       "      <th>2</th>\n",
       "      <td>0.279653</td>\n",
       "      <td>-0.019467</td>\n",
       "      <td>-0.113462</td>\n",
       "      <td>-0.995380</td>\n",
       "      <td>-0.967187</td>\n",
       "      <td>-0.978944</td>\n",
       "      <td>-0.996520</td>\n",
       "      <td>-0.963668</td>\n",
       "      <td>-0.977469</td>\n",
       "      <td>-0.938692</td>\n",
       "      <td>...</td>\n",
       "      <td>0.414503</td>\n",
       "      <td>-0.390748</td>\n",
       "      <td>-0.760104</td>\n",
       "      <td>-0.118559</td>\n",
       "      <td>0.177899</td>\n",
       "      <td>0.100699</td>\n",
       "      <td>0.808529</td>\n",
       "      <td>-0.848933</td>\n",
       "      <td>0.180637</td>\n",
       "      <td>-0.049118</td>\n",
       "    </tr>\n",
       "    <tr>\n",
       "      <th>3</th>\n",
       "      <td>0.279174</td>\n",
       "      <td>-0.026201</td>\n",
       "      <td>-0.123283</td>\n",
       "      <td>-0.996091</td>\n",
       "      <td>-0.983403</td>\n",
       "      <td>-0.990675</td>\n",
       "      <td>-0.997099</td>\n",
       "      <td>-0.982750</td>\n",
       "      <td>-0.989302</td>\n",
       "      <td>-0.938692</td>\n",
       "      <td>...</td>\n",
       "      <td>0.404573</td>\n",
       "      <td>-0.117290</td>\n",
       "      <td>-0.482845</td>\n",
       "      <td>-0.036788</td>\n",
       "      <td>-0.012892</td>\n",
       "      <td>0.640011</td>\n",
       "      <td>-0.485366</td>\n",
       "      <td>-0.848649</td>\n",
       "      <td>0.181935</td>\n",
       "      <td>-0.047663</td>\n",
       "    </tr>\n",
       "    <tr>\n",
       "      <th>4</th>\n",
       "      <td>0.276629</td>\n",
       "      <td>-0.016570</td>\n",
       "      <td>-0.115362</td>\n",
       "      <td>-0.998139</td>\n",
       "      <td>-0.980817</td>\n",
       "      <td>-0.990482</td>\n",
       "      <td>-0.998321</td>\n",
       "      <td>-0.979672</td>\n",
       "      <td>-0.990441</td>\n",
       "      <td>-0.942469</td>\n",
       "      <td>...</td>\n",
       "      <td>0.087753</td>\n",
       "      <td>-0.351471</td>\n",
       "      <td>-0.699205</td>\n",
       "      <td>0.123320</td>\n",
       "      <td>0.122542</td>\n",
       "      <td>0.693578</td>\n",
       "      <td>-0.615971</td>\n",
       "      <td>-0.847865</td>\n",
       "      <td>0.185151</td>\n",
       "      <td>-0.043892</td>\n",
       "    </tr>\n",
       "  </tbody>\n",
       "</table>\n",
       "<p>5 rows × 561 columns</p>\n",
       "</div>"
      ],
      "text/plain": [
       "   tBodyAcc-mean()-X  tBodyAcc-mean()-Y  tBodyAcc-mean()-Z  tBodyAcc-std()-X  \\\n",
       "0           0.288585          -0.020294          -0.132905         -0.995279   \n",
       "1           0.278419          -0.016411          -0.123520         -0.998245   \n",
       "2           0.279653          -0.019467          -0.113462         -0.995380   \n",
       "3           0.279174          -0.026201          -0.123283         -0.996091   \n",
       "4           0.276629          -0.016570          -0.115362         -0.998139   \n",
       "\n",
       "   tBodyAcc-std()-Y  tBodyAcc-std()-Z  tBodyAcc-mad()-X  tBodyAcc-mad()-Y  \\\n",
       "0         -0.983111         -0.913526         -0.995112         -0.983185   \n",
       "1         -0.975300         -0.960322         -0.998807         -0.974914   \n",
       "2         -0.967187         -0.978944         -0.996520         -0.963668   \n",
       "3         -0.983403         -0.990675         -0.997099         -0.982750   \n",
       "4         -0.980817         -0.990482         -0.998321         -0.979672   \n",
       "\n",
       "   tBodyAcc-mad()-Z  tBodyAcc-max()-X  ...  fBodyBodyGyroJerkMag-meanFreq()  \\\n",
       "0         -0.923527         -0.934724  ...                        -0.074323   \n",
       "1         -0.957686         -0.943068  ...                         0.158075   \n",
       "2         -0.977469         -0.938692  ...                         0.414503   \n",
       "3         -0.989302         -0.938692  ...                         0.404573   \n",
       "4         -0.990441         -0.942469  ...                         0.087753   \n",
       "\n",
       "   fBodyBodyGyroJerkMag-skewness()  fBodyBodyGyroJerkMag-kurtosis()  \\\n",
       "0                        -0.298676                        -0.710304   \n",
       "1                        -0.595051                        -0.861499   \n",
       "2                        -0.390748                        -0.760104   \n",
       "3                        -0.117290                        -0.482845   \n",
       "4                        -0.351471                        -0.699205   \n",
       "\n",
       "   angle(tBodyAccMean,gravity)  angle(tBodyAccJerkMean),gravityMean)  \\\n",
       "0                    -0.112754                              0.030400   \n",
       "1                     0.053477                             -0.007435   \n",
       "2                    -0.118559                              0.177899   \n",
       "3                    -0.036788                             -0.012892   \n",
       "4                     0.123320                              0.122542   \n",
       "\n",
       "   angle(tBodyGyroMean,gravityMean)  angle(tBodyGyroJerkMean,gravityMean)  \\\n",
       "0                         -0.464761                             -0.018446   \n",
       "1                         -0.732626                              0.703511   \n",
       "2                          0.100699                              0.808529   \n",
       "3                          0.640011                             -0.485366   \n",
       "4                          0.693578                             -0.615971   \n",
       "\n",
       "   angle(X,gravityMean)  angle(Y,gravityMean)  angle(Z,gravityMean)  \n",
       "0             -0.841247              0.179941             -0.058627  \n",
       "1             -0.844788              0.180289             -0.054317  \n",
       "2             -0.848933              0.180637             -0.049118  \n",
       "3             -0.848649              0.181935             -0.047663  \n",
       "4             -0.847865              0.185151             -0.043892  \n",
       "\n",
       "[5 rows x 561 columns]"
      ]
     },
     "execution_count": 65,
     "metadata": {},
     "output_type": "execute_result"
    }
   ],
   "source": [
    "X_train.head()"
   ]
  },
  {
   "cell_type": "code",
   "execution_count": 66,
   "id": "f75590d6",
   "metadata": {},
   "outputs": [
    {
     "data": {
      "text/html": [
       "<div>\n",
       "<style scoped>\n",
       "    .dataframe tbody tr th:only-of-type {\n",
       "        vertical-align: middle;\n",
       "    }\n",
       "\n",
       "    .dataframe tbody tr th {\n",
       "        vertical-align: top;\n",
       "    }\n",
       "\n",
       "    .dataframe thead th {\n",
       "        text-align: right;\n",
       "    }\n",
       "</style>\n",
       "<table border=\"1\" class=\"dataframe\">\n",
       "  <thead>\n",
       "    <tr style=\"text-align: right;\">\n",
       "      <th></th>\n",
       "      <th>angle(X,gravityMean)</th>\n",
       "      <th>tGravityAcc-max()-Y</th>\n",
       "      <th>tGravityAcc-energy()-X</th>\n",
       "      <th>tGravityAcc-mean()-X</th>\n",
       "      <th>tGravityAcc-min()-X</th>\n",
       "      <th>tGravityAcc-max()-X</th>\n",
       "      <th>angle(Y,gravityMean)</th>\n",
       "      <th>tGravityAcc-mean()-Y</th>\n",
       "      <th>tGravityAcc-min()-Y</th>\n",
       "      <th>tGravityAcc-energy()-Y</th>\n",
       "      <th>...</th>\n",
       "      <th>fBodyAcc-mad()-X</th>\n",
       "      <th>tBodyAcc-max()-X</th>\n",
       "      <th>fBodyAccJerk-bandsEnergy()-1,24</th>\n",
       "      <th>fBodyAccJerk-bandsEnergy()-1,24</th>\n",
       "      <th>fBodyAccJerk-bandsEnergy()-1,24</th>\n",
       "      <th>tBodyAccJerk-entropy()-X</th>\n",
       "      <th>tGravityAccMag-std()</th>\n",
       "      <th>tBodyAccJerk-energy()-X</th>\n",
       "      <th>tGravityAcc-arCoeff()-Z,1</th>\n",
       "      <th>fBodyAccJerk-max()-X</th>\n",
       "    </tr>\n",
       "  </thead>\n",
       "  <tbody>\n",
       "    <tr>\n",
       "      <th>0</th>\n",
       "      <td>-0.841247</td>\n",
       "      <td>-0.161265</td>\n",
       "      <td>0.899469</td>\n",
       "      <td>0.963396</td>\n",
       "      <td>0.977436</td>\n",
       "      <td>0.892055</td>\n",
       "      <td>0.179941</td>\n",
       "      <td>-0.140840</td>\n",
       "      <td>-0.123213</td>\n",
       "      <td>-0.970905</td>\n",
       "      <td>...</td>\n",
       "      <td>-0.996889</td>\n",
       "      <td>-0.934724</td>\n",
       "      <td>-0.999981</td>\n",
       "      <td>-0.999852</td>\n",
       "      <td>-0.999844</td>\n",
       "      <td>-0.819949</td>\n",
       "      <td>-0.950551</td>\n",
       "      <td>-0.999935</td>\n",
       "      <td>-0.995112</td>\n",
       "      <td>-0.996737</td>\n",
       "    </tr>\n",
       "    <tr>\n",
       "      <th>1</th>\n",
       "      <td>-0.844788</td>\n",
       "      <td>-0.161343</td>\n",
       "      <td>0.907829</td>\n",
       "      <td>0.966561</td>\n",
       "      <td>0.984520</td>\n",
       "      <td>0.892060</td>\n",
       "      <td>0.180289</td>\n",
       "      <td>-0.141551</td>\n",
       "      <td>-0.114893</td>\n",
       "      <td>-0.970583</td>\n",
       "      <td>...</td>\n",
       "      <td>-0.997890</td>\n",
       "      <td>-0.943068</td>\n",
       "      <td>-0.999974</td>\n",
       "      <td>-0.999630</td>\n",
       "      <td>-0.999835</td>\n",
       "      <td>-0.875096</td>\n",
       "      <td>-0.976057</td>\n",
       "      <td>-0.999960</td>\n",
       "      <td>-0.833882</td>\n",
       "      <td>-0.997425</td>\n",
       "    </tr>\n",
       "    <tr>\n",
       "      <th>2</th>\n",
       "      <td>-0.848933</td>\n",
       "      <td>-0.163711</td>\n",
       "      <td>0.908668</td>\n",
       "      <td>0.966878</td>\n",
       "      <td>0.986770</td>\n",
       "      <td>0.892401</td>\n",
       "      <td>0.180637</td>\n",
       "      <td>-0.142010</td>\n",
       "      <td>-0.114893</td>\n",
       "      <td>-0.970368</td>\n",
       "      <td>...</td>\n",
       "      <td>-0.994097</td>\n",
       "      <td>-0.938692</td>\n",
       "      <td>-0.999909</td>\n",
       "      <td>-0.999613</td>\n",
       "      <td>-0.999775</td>\n",
       "      <td>-0.753629</td>\n",
       "      <td>-0.988020</td>\n",
       "      <td>-0.999894</td>\n",
       "      <td>-0.705039</td>\n",
       "      <td>-0.995163</td>\n",
       "    </tr>\n",
       "    <tr>\n",
       "      <th>3</th>\n",
       "      <td>-0.848649</td>\n",
       "      <td>-0.163711</td>\n",
       "      <td>0.910621</td>\n",
       "      <td>0.967615</td>\n",
       "      <td>0.986821</td>\n",
       "      <td>0.893817</td>\n",
       "      <td>0.181935</td>\n",
       "      <td>-0.143976</td>\n",
       "      <td>-0.121336</td>\n",
       "      <td>-0.969400</td>\n",
       "      <td>...</td>\n",
       "      <td>-0.994547</td>\n",
       "      <td>-0.938692</td>\n",
       "      <td>-0.999927</td>\n",
       "      <td>-0.999806</td>\n",
       "      <td>-0.999824</td>\n",
       "      <td>-0.820804</td>\n",
       "      <td>-0.986421</td>\n",
       "      <td>-0.999924</td>\n",
       "      <td>-0.385410</td>\n",
       "      <td>-0.993402</td>\n",
       "    </tr>\n",
       "    <tr>\n",
       "      <th>4</th>\n",
       "      <td>-0.847865</td>\n",
       "      <td>-0.166786</td>\n",
       "      <td>0.912235</td>\n",
       "      <td>0.968224</td>\n",
       "      <td>0.987434</td>\n",
       "      <td>0.893817</td>\n",
       "      <td>0.185151</td>\n",
       "      <td>-0.148750</td>\n",
       "      <td>-0.121834</td>\n",
       "      <td>-0.967051</td>\n",
       "      <td>...</td>\n",
       "      <td>-0.997725</td>\n",
       "      <td>-0.942469</td>\n",
       "      <td>-0.999975</td>\n",
       "      <td>-0.999830</td>\n",
       "      <td>-0.999900</td>\n",
       "      <td>-0.850744</td>\n",
       "      <td>-0.991275</td>\n",
       "      <td>-0.999969</td>\n",
       "      <td>-0.237474</td>\n",
       "      <td>-0.997009</td>\n",
       "    </tr>\n",
       "  </tbody>\n",
       "</table>\n",
       "<p>5 rows × 22 columns</p>\n",
       "</div>"
      ],
      "text/plain": [
       "   angle(X,gravityMean)  tGravityAcc-max()-Y  tGravityAcc-energy()-X  \\\n",
       "0             -0.841247            -0.161265                0.899469   \n",
       "1             -0.844788            -0.161343                0.907829   \n",
       "2             -0.848933            -0.163711                0.908668   \n",
       "3             -0.848649            -0.163711                0.910621   \n",
       "4             -0.847865            -0.166786                0.912235   \n",
       "\n",
       "   tGravityAcc-mean()-X  tGravityAcc-min()-X  tGravityAcc-max()-X  \\\n",
       "0              0.963396             0.977436             0.892055   \n",
       "1              0.966561             0.984520             0.892060   \n",
       "2              0.966878             0.986770             0.892401   \n",
       "3              0.967615             0.986821             0.893817   \n",
       "4              0.968224             0.987434             0.893817   \n",
       "\n",
       "   angle(Y,gravityMean)  tGravityAcc-mean()-Y  tGravityAcc-min()-Y  \\\n",
       "0              0.179941             -0.140840            -0.123213   \n",
       "1              0.180289             -0.141551            -0.114893   \n",
       "2              0.180637             -0.142010            -0.114893   \n",
       "3              0.181935             -0.143976            -0.121336   \n",
       "4              0.185151             -0.148750            -0.121834   \n",
       "\n",
       "   tGravityAcc-energy()-Y  ...  fBodyAcc-mad()-X  tBodyAcc-max()-X  \\\n",
       "0               -0.970905  ...         -0.996889         -0.934724   \n",
       "1               -0.970583  ...         -0.997890         -0.943068   \n",
       "2               -0.970368  ...         -0.994097         -0.938692   \n",
       "3               -0.969400  ...         -0.994547         -0.938692   \n",
       "4               -0.967051  ...         -0.997725         -0.942469   \n",
       "\n",
       "   fBodyAccJerk-bandsEnergy()-1,24  fBodyAccJerk-bandsEnergy()-1,24  \\\n",
       "0                        -0.999981                        -0.999852   \n",
       "1                        -0.999974                        -0.999630   \n",
       "2                        -0.999909                        -0.999613   \n",
       "3                        -0.999927                        -0.999806   \n",
       "4                        -0.999975                        -0.999830   \n",
       "\n",
       "   fBodyAccJerk-bandsEnergy()-1,24  tBodyAccJerk-entropy()-X  \\\n",
       "0                        -0.999844                 -0.819949   \n",
       "1                        -0.999835                 -0.875096   \n",
       "2                        -0.999775                 -0.753629   \n",
       "3                        -0.999824                 -0.820804   \n",
       "4                        -0.999900                 -0.850744   \n",
       "\n",
       "   tGravityAccMag-std()  tBodyAccJerk-energy()-X  tGravityAcc-arCoeff()-Z,1  \\\n",
       "0             -0.950551                -0.999935                  -0.995112   \n",
       "1             -0.976057                -0.999960                  -0.833882   \n",
       "2             -0.988020                -0.999894                  -0.705039   \n",
       "3             -0.986421                -0.999924                  -0.385410   \n",
       "4             -0.991275                -0.999969                  -0.237474   \n",
       "\n",
       "   fBodyAccJerk-max()-X  \n",
       "0             -0.996737  \n",
       "1             -0.997425  \n",
       "2             -0.995163  \n",
       "3             -0.993402  \n",
       "4             -0.997009  \n",
       "\n",
       "[5 rows x 22 columns]"
      ]
     },
     "execution_count": 66,
     "metadata": {},
     "output_type": "execute_result"
    }
   ],
   "source": [
    "X_train[top20_cols.index].head()"
   ]
  },
  {
   "cell_type": "code",
   "execution_count": 67,
   "id": "7330d1e0",
   "metadata": {},
   "outputs": [
    {
     "name": "stderr",
     "output_type": "stream",
     "text": [
      "/var/folders/n3/lzr2m1rs4sxg33yprdptz8gc0000gn/T/ipykernel_1109/3824118638.py:7: DataConversionWarning: A column-vector y was passed when a 1d array was expected. Please change the shape of y to (n_samples,), for example using ravel().\n",
      "  rf_clf_best_re.fit(X_train_re, y_train)\n"
     ]
    },
    {
     "data": {
      "text/plain": [
       "0.8177807940278249"
      ]
     },
     "execution_count": 67,
     "metadata": {},
     "output_type": "execute_result"
    }
   ],
   "source": [
    "# 20개 특성만 가지고 모델링 다시\n",
    "\n",
    "X_train_re = X_train[top20_cols.index]\n",
    "X_test_re = X_test[top20_cols.index]\n",
    "\n",
    "rf_clf_best_re = grid_cv.best_estimator_\n",
    "rf_clf_best_re.fit(X_train_re, y_train)\n",
    "\n",
    "pred1_re = rf_clf_best_re.predict(X_test_re)\n",
    "accuracy_score(y_test, pred1_re)"
   ]
  }
 ],
 "metadata": {
  "kernelspec": {
   "display_name": "Python 3 (ipykernel)",
   "language": "python",
   "name": "python3"
  },
  "language_info": {
   "codemirror_mode": {
    "name": "ipython",
    "version": 3
   },
   "file_extension": ".py",
   "mimetype": "text/x-python",
   "name": "python",
   "nbconvert_exporter": "python",
   "pygments_lexer": "ipython3",
   "version": "3.9.12"
  }
 },
 "nbformat": 4,
 "nbformat_minor": 5
}
