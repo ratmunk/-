{
 "cells": [
  {
   "cell_type": "code",
   "execution_count": 1,
   "id": "45c27822",
   "metadata": {},
   "outputs": [],
   "source": [
    "import numpy as np\n",
    "from sklearn.model_selection import KFold"
   ]
  },
  {
   "cell_type": "code",
   "execution_count": 2,
   "id": "773f128a",
   "metadata": {},
   "outputs": [],
   "source": [
    "X = np.array([\n",
    "    [1,2], [3,4], [5,6], [7,8]\n",
    "])\n",
    "y = np.array([1,2,3,4])"
   ]
  },
  {
   "cell_type": "code",
   "execution_count": 3,
   "id": "31c7eee3",
   "metadata": {},
   "outputs": [
    {
     "data": {
      "text/plain": [
       "array([[1, 2],\n",
       "       [3, 4],\n",
       "       [5, 6],\n",
       "       [7, 8]])"
      ]
     },
     "execution_count": 3,
     "metadata": {},
     "output_type": "execute_result"
    }
   ],
   "source": [
    "X"
   ]
  },
  {
   "cell_type": "code",
   "execution_count": 4,
   "id": "0cd69d21",
   "metadata": {},
   "outputs": [
    {
     "data": {
      "text/plain": [
       "array([1, 2, 3, 4])"
      ]
     },
     "execution_count": 4,
     "metadata": {},
     "output_type": "execute_result"
    }
   ],
   "source": [
    "y"
   ]
  },
  {
   "cell_type": "code",
   "execution_count": 7,
   "id": "2369b761",
   "metadata": {},
   "outputs": [
    {
     "name": "stdout",
     "output_type": "stream",
     "text": [
      "<bound method _BaseKFold.get_n_splits of KFold(n_splits=2, random_state=None, shuffle=False)>\n",
      "KFold(n_splits=2, random_state=None, shuffle=False)\n"
     ]
    }
   ],
   "source": [
    "kf = KFold(n_splits=2) # 데이터를 총 2등분으로 나눔\n",
    "print(kf.get_n_splits)\n",
    "print(kf)"
   ]
  },
  {
   "cell_type": "code",
   "execution_count": 11,
   "id": "625936ed",
   "metadata": {},
   "outputs": [
    {
     "name": "stdout",
     "output_type": "stream",
     "text": [
      "==============================\n",
      "train_idx; [2 3]\n",
      "val_idx: [0 1]\n",
      "train data :  [[5 6]\n",
      " [7 8]]\n",
      "val data :  [[1 2]\n",
      " [3 4]]\n",
      "==============================\n",
      "train_idx; [0 1]\n",
      "val_idx: [2 3]\n",
      "train data :  [[1 2]\n",
      " [3 4]]\n",
      "val data :  [[5 6]\n",
      " [7 8]]\n"
     ]
    }
   ],
   "source": [
    "# kfold는 인덱스를 반환하므로 데이터 값을 얻기 위해서는 아래와 같이 인덱스 지정으로 해주어야함\n",
    "for train_idx, val_idx in kf.split(X):\n",
    "    print(\"==============================\")\n",
    "    print('train_idx;', train_idx)\n",
    "    print('val_idx:', val_idx)\n",
    "    print('train data : ', X[train_idx])\n",
    "    print('val data : ', X[val_idx])"
   ]
  },
  {
   "cell_type": "markdown",
   "id": "ff60606b",
   "metadata": {},
   "source": [
    "- 와인 데이터에서 실습해보자 "
   ]
  },
  {
   "cell_type": "code",
   "execution_count": 12,
   "id": "11dc0ade",
   "metadata": {},
   "outputs": [],
   "source": [
    "# 데이터 읽기\n",
    "\n",
    "import pandas as pd\n",
    "\n",
    "red_url = 'https://raw.githubusercontent.com/PinkWink/ML_tutorial/master/dataset/winequality-red.csv'\n",
    "white_url = 'https://raw.githubusercontent.com/PinkWink/ML_tutorial/master/dataset/winequality-white.csv'\n",
    "\n",
    "red_wine = pd.read_csv(red_url, sep = ';')\n",
    "white_wine = pd.read_csv(white_url, sep = ';')\n",
    "\n",
    "# 와인 색상 구분 컬럼\n",
    "red_wine['color'] = 1\n",
    "white_wine['color'] = 0\n",
    "\n",
    "# 두 데이터 합치기\n",
    "wine = pd.concat([red_wine, white_wine])\n",
    "\n",
    "X = wine.drop(['color'], axis=1)\n",
    "y = wine['color'] # 타겟 데이터"
   ]
  },
  {
   "cell_type": "code",
   "execution_count": 13,
   "id": "c197837d",
   "metadata": {},
   "outputs": [],
   "source": [
    "wine['taste'] = [1. if grade > 5 else 0. for grade in wine['quality']]\n",
    "\n",
    "X = wine.drop(['taste', 'quality'], axis = 1)\n",
    "y = wine['taste']"
   ]
  },
  {
   "cell_type": "code",
   "execution_count": 14,
   "id": "7803bc73",
   "metadata": {},
   "outputs": [
    {
     "data": {
      "text/plain": [
       "0.7276923076923076"
      ]
     },
     "execution_count": 14,
     "metadata": {},
     "output_type": "execute_result"
    }
   ],
   "source": [
    "# 이전 방법\n",
    "\n",
    "from sklearn.model_selection import train_test_split\n",
    "from sklearn.tree import DecisionTreeClassifier\n",
    "from sklearn.metrics import accuracy_score\n",
    "\n",
    "X_train, X_test, y_train, y_test = train_test_split(X,y, \n",
    "                                                   test_size = 0.2, \n",
    "                                                   random_state=13,\n",
    "                                                   stratify= y\n",
    "                                                   )\n",
    "\n",
    "# 학습\n",
    "wine_tree = DecisionTreeClassifier(max_depth=2, random_state=13)\n",
    "wine_tree.fit(X_train, y_train)\n",
    "\n",
    "# 예측\n",
    "y_pred_test = wine_tree.predict(X_test) \n",
    "\n",
    "# 성능\n",
    "accuracy_score(y_test, y_pred_test)"
   ]
  },
  {
   "cell_type": "markdown",
   "id": "2ddb7adc",
   "metadata": {},
   "source": [
    "- 이번에는 교차검증을 해보자 "
   ]
  },
  {
   "cell_type": "markdown",
   "id": "63b28543",
   "metadata": {},
   "source": [
    "## 교차검증"
   ]
  },
  {
   "cell_type": "code",
   "execution_count": 15,
   "id": "8ebfca4b",
   "metadata": {},
   "outputs": [
    {
     "data": {
      "text/plain": [
       "[0.6007692307692307,\n",
       " 0.6884615384615385,\n",
       " 0.7090069284064665,\n",
       " 0.7628945342571208,\n",
       " 0.7867590454195535]"
      ]
     },
     "execution_count": 15,
     "metadata": {},
     "output_type": "execute_result"
    }
   ],
   "source": [
    "from sklearn.model_selection import KFold\n",
    "\n",
    "kfold = KFold(n_splits=5)\n",
    "wine_tree_cv = DecisionTreeClassifier(max_depth=2, random_state=13)\n",
    "\n",
    "cv_acc = []\n",
    "\n",
    "for train_idx, test_idx in kfold.split(X):\n",
    "    X_train = X.iloc[train_idx]\n",
    "    X_test = X.iloc[test_idx]\n",
    "    y_train = y.iloc[train_idx]\n",
    "    y_test = y.iloc[test_idx]\n",
    "\n",
    "    wine_tree_cv.fit(X_train, y_train)\n",
    "\n",
    "    pred = wine_tree_cv.predict(X_test)\n",
    "    cv_acc.append(accuracy_score(y_test, pred))\n",
    "\n",
    "cv_acc"
   ]
  },
  {
   "cell_type": "code",
   "execution_count": 16,
   "id": "e941bea1",
   "metadata": {},
   "outputs": [
    {
     "data": {
      "text/plain": [
       "0.709578255462782"
      ]
     },
     "execution_count": 16,
     "metadata": {},
     "output_type": "execute_result"
    }
   ],
   "source": [
    "np.mean(cv_acc) # 각 acc의 분산이 크지 않다면 평균을 대표값으로 함"
   ]
  },
  {
   "cell_type": "code",
   "execution_count": 17,
   "id": "bac434e4",
   "metadata": {},
   "outputs": [
    {
     "data": {
      "text/plain": [
       "0.6888004974240539"
      ]
     },
     "execution_count": 17,
     "metadata": {},
     "output_type": "execute_result"
    }
   ],
   "source": [
    "# StratifiedKFold\n",
    "from sklearn.model_selection import StratifiedKFold\n",
    "\n",
    "skfold = StratifiedKFold(n_splits=5)\n",
    "wine_tree_cv = DecisionTreeClassifier(max_depth=2, random_state=13)\n",
    "\n",
    "cv_acc = []\n",
    "\n",
    "for train_idx, test_idx in skfold.split(X,y):\n",
    "    X_train = X.iloc[train_idx]\n",
    "    X_test = X.iloc[test_idx]\n",
    "    y_train = y.iloc[train_idx]\n",
    "    y_test = y.iloc[test_idx]\n",
    "\n",
    "    wine_tree_cv.fit(X_train, y_train)\n",
    "\n",
    "    pred = wine_tree_cv.predict(X_test)\n",
    "    cv_acc.append(accuracy_score(y_test, pred))\n",
    "\n",
    "np.mean(cv_acc) # 각 acc의 분산이 크지 않다면 평균을 대표값으로 함"
   ]
  },
  {
   "cell_type": "markdown",
   "id": "fd69b690",
   "metadata": {},
   "source": [
    "성능이 점점 떨어진다면 내 모델이 그리 좋은 성능만을 가지고 있진 않구나 라고 생각할 수 있음\n",
    "\n",
    "위와 같이 데이터를 인덱스로 분리하고 성능을 구할 수도 있지만 보다 간편하게 구할 수도 있다."
   ]
  },
  {
   "cell_type": "code",
   "execution_count": 18,
   "id": "dca3b650",
   "metadata": {},
   "outputs": [
    {
     "data": {
      "text/plain": [
       "array([0.55230769, 0.68846154, 0.71439569, 0.73210162, 0.75673595])"
      ]
     },
     "execution_count": 18,
     "metadata": {},
     "output_type": "execute_result"
    }
   ],
   "source": [
    "from sklearn.model_selection import cross_val_score\n",
    "\n",
    "skfold = StratifiedKFold(n_splits=5)\n",
    "wine_tree_cv = DecisionTreeClassifier(max_depth=2, random_state=13)\n",
    "\n",
    "cross_val_score(wine_tree_cv, X, y, scoring=None, cv = skfold)"
   ]
  },
  {
   "cell_type": "code",
   "execution_count": 19,
   "id": "c3069dd0",
   "metadata": {},
   "outputs": [
    {
     "data": {
      "text/plain": [
       "0.6888004974240539"
      ]
     },
     "execution_count": 19,
     "metadata": {},
     "output_type": "execute_result"
    }
   ],
   "source": [
    "np.mean(cross_val_score(wine_tree_cv, X, y, scoring=None, cv = skfold))"
   ]
  },
  {
   "cell_type": "code",
   "execution_count": 20,
   "id": "1b3b557c",
   "metadata": {},
   "outputs": [
    {
     "data": {
      "text/plain": [
       "{'fit_time': array([0.00899005, 0.00853395, 0.0076642 , 0.00806975, 0.00732613]),\n",
       " 'score_time': array([0.00196815, 0.00206089, 0.00166678, 0.00144911, 0.00141001]),\n",
       " 'test_score': array([0.55230769, 0.68846154, 0.71439569, 0.73210162, 0.75673595]),\n",
       " 'train_score': array([0.74773908, 0.74696941, 0.74317045, 0.73509042, 0.73258946])}"
      ]
     },
     "execution_count": 20,
     "metadata": {},
     "output_type": "execute_result"
    }
   ],
   "source": [
    "# train score와 함께 보고 싶다면\n",
    "\n",
    "from sklearn.model_selection import cross_validate\n",
    "cross_validate(wine_tree_cv, X, y, scoring=None, cv = skfold, return_train_score=True)"
   ]
  },
  {
   "cell_type": "markdown",
   "id": "d1f7dc65",
   "metadata": {},
   "source": [
    "아무래도 train 성능이 좋은것으로 보아 과적합 현상이 있는 것 같다."
   ]
  },
  {
   "cell_type": "markdown",
   "id": "6dac4560",
   "metadata": {},
   "source": [
    "## 하이퍼파라마미터 튜닝(GridSearch)"
   ]
  },
  {
   "cell_type": "code",
   "execution_count": 21,
   "id": "1a08c850",
   "metadata": {},
   "outputs": [],
   "source": [
    "# 데이터 읽기\n",
    "\n",
    "import pandas as pd\n",
    "\n",
    "red_url = 'https://raw.githubusercontent.com/PinkWink/ML_tutorial/master/dataset/winequality-red.csv'\n",
    "white_url = 'https://raw.githubusercontent.com/PinkWink/ML_tutorial/master/dataset/winequality-white.csv'\n",
    "\n",
    "red_wine = pd.read_csv(red_url, sep = ';')\n",
    "white_wine = pd.read_csv(white_url, sep = ';')\n",
    "\n",
    "# 와인 색상 구분 컬럼\n",
    "red_wine['color'] = 1\n",
    "white_wine['color'] = 0\n",
    "\n",
    "# 두 데이터 합치기\n",
    "wine = pd.concat([red_wine, white_wine])\n",
    "\n",
    "X = wine.drop(['color'], axis=1)\n",
    "y = wine['color'] # 타겟 데이터"
   ]
  },
  {
   "cell_type": "code",
   "execution_count": 22,
   "id": "4dc43484",
   "metadata": {},
   "outputs": [
    {
     "data": {
      "text/plain": [
       "GridSearchCV(cv=5,\n",
       "             estimator=DecisionTreeClassifier(max_depth=2, random_state=13),\n",
       "             param_grid={'max_depth': [2, 4, 7, 10]})"
      ]
     },
     "execution_count": 22,
     "metadata": {},
     "output_type": "execute_result"
    }
   ],
   "source": [
    "from sklearn.model_selection import GridSearchCV\n",
    "from sklearn.tree import DecisionTreeClassifier\n",
    "\n",
    "params = {'max_depth' : [2,4,7,10]} # {'파라미터명' : 파라미터 값}\n",
    "wine_tree = DecisionTreeClassifier(max_depth=2, random_state=13)\n",
    "\n",
    "gridsearch = GridSearchCV(estimator= wine_tree, param_grid=params, cv = 5)\n",
    "gridsearch.fit(X,y)"
   ]
  },
  {
   "cell_type": "code",
   "execution_count": 23,
   "id": "d8a18cfd",
   "metadata": {},
   "outputs": [
    {
     "name": "stdout",
     "output_type": "stream",
     "text": [
      "{   'mean_fit_time': array([0.00856295, 0.01094723, 0.01599174, 0.02151723]),\n",
      "    'mean_score_time': array([0.00162539, 0.00129018, 0.00131083, 0.00119724]),\n",
      "    'mean_test_score': array([0.96044401, 0.97752685, 0.98014331, 0.98168366]),\n",
      "    'param_max_depth': masked_array(data=[2, 4, 7, 10],\n",
      "             mask=[False, False, False, False],\n",
      "       fill_value='?',\n",
      "            dtype=object),\n",
      "    'params': [   {'max_depth': 2},\n",
      "                  {'max_depth': 4},\n",
      "                  {'max_depth': 7},\n",
      "                  {'max_depth': 10}],\n",
      "    'rank_test_score': array([4, 3, 2, 1], dtype=int32),\n",
      "    'split0_test_score': array([0.95615385, 0.98461538, 0.98846154, 0.98769231]),\n",
      "    'split1_test_score': array([0.96      , 0.97846154, 0.98076923, 0.97692308]),\n",
      "    'split2_test_score': array([0.96920708, 0.98460354, 0.98614319, 0.98229407]),\n",
      "    'split3_test_score': array([0.95842956, 0.97151655, 0.9799846 , 0.9830639 ]),\n",
      "    'split4_test_score': array([0.95842956, 0.96843726, 0.96535797, 0.97844496]),\n",
      "    'std_fit_time': array([0.00099169, 0.00074252, 0.00042582, 0.00426223]),\n",
      "    'std_score_time': array([1.97338446e-04, 1.33074701e-04, 1.03531000e-04, 8.93909567e-05]),\n",
      "    'std_test_score': array([0.00454995, 0.00663242, 0.00805251, 0.00378243])}\n"
     ]
    }
   ],
   "source": [
    "# 결과\n",
    "\n",
    "import pprint\n",
    "\n",
    "pp = pprint.PrettyPrinter(indent=4)\n",
    "pp.pprint(gridsearch.cv_results_)"
   ]
  },
  {
   "cell_type": "code",
   "execution_count": 24,
   "id": "acbbf806",
   "metadata": {},
   "outputs": [
    {
     "data": {
      "text/plain": [
       "DecisionTreeClassifier(max_depth=10, random_state=13)"
      ]
     },
     "execution_count": 24,
     "metadata": {},
     "output_type": "execute_result"
    }
   ],
   "source": [
    "# 최적의 성능을 가진 모델\n",
    "\n",
    "gridsearch.best_estimator_"
   ]
  },
  {
   "cell_type": "code",
   "execution_count": 25,
   "id": "fcfd233e",
   "metadata": {},
   "outputs": [
    {
     "data": {
      "text/plain": [
       "0.981683661988512"
      ]
     },
     "execution_count": 25,
     "metadata": {},
     "output_type": "execute_result"
    }
   ],
   "source": [
    "# 최적의 성능을 가진 모델의 정확도\n",
    "gridsearch.best_score_"
   ]
  },
  {
   "cell_type": "code",
   "execution_count": 26,
   "id": "12edad98",
   "metadata": {},
   "outputs": [
    {
     "data": {
      "text/plain": [
       "{'max_depth': 10}"
      ]
     },
     "execution_count": 26,
     "metadata": {},
     "output_type": "execute_result"
    }
   ],
   "source": [
    "# 최적의 성능을 가진 모델의 파라미터 값\n",
    "gridsearch.best_params_"
   ]
  },
  {
   "cell_type": "code",
   "execution_count": 27,
   "id": "db8285eb",
   "metadata": {},
   "outputs": [],
   "source": [
    "from sklearn.pipeline import Pipeline\n",
    "from sklearn.tree import DecisionTreeClassifier\n",
    "from sklearn.preprocessing import StandardScaler\n",
    "\n",
    "estimators = [\n",
    "    ('scaler', StandardScaler()), # 첫번째 단계의 (객체 이름, 객체)\n",
    "    ('clf', DecisionTreeClassifier()) # 두번째 단계의 (객체 이름, 객체)\n",
    "]\n",
    "\n",
    "pipe = Pipeline(estimators)"
   ]
  },
  {
   "cell_type": "code",
   "execution_count": 28,
   "id": "e260f178",
   "metadata": {},
   "outputs": [
    {
     "data": {
      "text/plain": [
       "GridSearchCV(cv=5,\n",
       "             estimator=Pipeline(steps=[('scaler', StandardScaler()),\n",
       "                                       ('clf', DecisionTreeClassifier())]),\n",
       "             param_grid=[{'clf__max_depth': [2, 4, 7, 10]}])"
      ]
     },
     "execution_count": 28,
     "metadata": {},
     "output_type": "execute_result"
    }
   ],
   "source": [
    "param_grid = [\n",
    "    {'clf__max_depth' : [2,4,7,10]}\n",
    "]\n",
    "\n",
    "gridsearch = GridSearchCV(estimator= pipe, param_grid=param_grid, cv = 5)\n",
    "gridsearch.fit(X,y)"
   ]
  },
  {
   "cell_type": "code",
   "execution_count": 29,
   "id": "a044a4ae",
   "metadata": {},
   "outputs": [
    {
     "data": {
      "text/plain": [
       "(Pipeline(steps=[('scaler', StandardScaler()),\n",
       "                 ('clf', DecisionTreeClassifier(max_depth=7))]),\n",
       " 0.9812208207496891,\n",
       " {'clf__max_depth': 7})"
      ]
     },
     "execution_count": 29,
     "metadata": {},
     "output_type": "execute_result"
    }
   ],
   "source": [
    "# 똑같이 결과도 확인할 수 있다\n",
    "gridsearch.best_estimator_, gridsearch.best_score_, gridsearch.best_params_"
   ]
  },
  {
   "cell_type": "code",
   "execution_count": 30,
   "id": "8f72f6a6",
   "metadata": {},
   "outputs": [
    {
     "data": {
      "text/html": [
       "<div>\n",
       "<style scoped>\n",
       "    .dataframe tbody tr th:only-of-type {\n",
       "        vertical-align: middle;\n",
       "    }\n",
       "\n",
       "    .dataframe tbody tr th {\n",
       "        vertical-align: top;\n",
       "    }\n",
       "\n",
       "    .dataframe thead th {\n",
       "        text-align: right;\n",
       "    }\n",
       "</style>\n",
       "<table border=\"1\" class=\"dataframe\">\n",
       "  <thead>\n",
       "    <tr style=\"text-align: right;\">\n",
       "      <th></th>\n",
       "      <th>params</th>\n",
       "      <th>rank_test_score</th>\n",
       "      <th>mean_test_score</th>\n",
       "      <th>std_test_score</th>\n",
       "    </tr>\n",
       "  </thead>\n",
       "  <tbody>\n",
       "    <tr>\n",
       "      <th>0</th>\n",
       "      <td>{'clf__max_depth': 2}</td>\n",
       "      <td>4</td>\n",
       "      <td>0.960444</td>\n",
       "      <td>0.004550</td>\n",
       "    </tr>\n",
       "    <tr>\n",
       "      <th>1</th>\n",
       "      <td>{'clf__max_depth': 4}</td>\n",
       "      <td>3</td>\n",
       "      <td>0.977681</td>\n",
       "      <td>0.006499</td>\n",
       "    </tr>\n",
       "    <tr>\n",
       "      <th>2</th>\n",
       "      <td>{'clf__max_depth': 7}</td>\n",
       "      <td>1</td>\n",
       "      <td>0.981221</td>\n",
       "      <td>0.007035</td>\n",
       "    </tr>\n",
       "    <tr>\n",
       "      <th>3</th>\n",
       "      <td>{'clf__max_depth': 10}</td>\n",
       "      <td>2</td>\n",
       "      <td>0.980760</td>\n",
       "      <td>0.004491</td>\n",
       "    </tr>\n",
       "  </tbody>\n",
       "</table>\n",
       "</div>"
      ],
      "text/plain": [
       "                   params  rank_test_score  mean_test_score  std_test_score\n",
       "0   {'clf__max_depth': 2}                4         0.960444        0.004550\n",
       "1   {'clf__max_depth': 4}                3         0.977681        0.006499\n",
       "2   {'clf__max_depth': 7}                1         0.981221        0.007035\n",
       "3  {'clf__max_depth': 10}                2         0.980760        0.004491"
      ]
     },
     "execution_count": 30,
     "metadata": {},
     "output_type": "execute_result"
    }
   ],
   "source": [
    "import pandas as pd\n",
    "\n",
    "score_df = pd.DataFrame(gridsearch.cv_results_)\n",
    "score_df = score_df[['params', 'rank_test_score', 'mean_test_score', 'std_test_score']]\n",
    "score_df"
   ]
  }
 ],
 "metadata": {
  "kernelspec": {
   "display_name": "Python 3 (ipykernel)",
   "language": "python",
   "name": "python3"
  },
  "language_info": {
   "codemirror_mode": {
    "name": "ipython",
    "version": 3
   },
   "file_extension": ".py",
   "mimetype": "text/x-python",
   "name": "python",
   "nbconvert_exporter": "python",
   "pygments_lexer": "ipython3",
   "version": "3.9.12"
  }
 },
 "nbformat": 4,
 "nbformat_minor": 5
}
