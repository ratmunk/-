{
  "nbformat": 4,
  "nbformat_minor": 0,
  "metadata": {
    "colab": {
      "provenance": []
    },
    "kernelspec": {
      "name": "python3",
      "display_name": "Python 3"
    },
    "language_info": {
      "name": "python"
    },
    "widgets": {
      "application/vnd.jupyter.widget-state+json": {
        "33107d98989a4e01b516f66c2cb46907": {
          "model_module": "@jupyter-widgets/controls",
          "model_name": "HBoxModel",
          "model_module_version": "1.5.0",
          "state": {
            "_dom_classes": [],
            "_model_module": "@jupyter-widgets/controls",
            "_model_module_version": "1.5.0",
            "_model_name": "HBoxModel",
            "_view_count": null,
            "_view_module": "@jupyter-widgets/controls",
            "_view_module_version": "1.5.0",
            "_view_name": "HBoxView",
            "box_style": "",
            "children": [
              "IPY_MODEL_4074bae9be454ed5a40c84a0983372cf",
              "IPY_MODEL_c895975f66de446fb602455cfc8896bd",
              "IPY_MODEL_055f5e2f80f949ab8298f33492b119bb"
            ],
            "layout": "IPY_MODEL_67ca4b84a94f45d0b3e5f774aab8d872"
          }
        },
        "4074bae9be454ed5a40c84a0983372cf": {
          "model_module": "@jupyter-widgets/controls",
          "model_name": "HTMLModel",
          "model_module_version": "1.5.0",
          "state": {
            "_dom_classes": [],
            "_model_module": "@jupyter-widgets/controls",
            "_model_module_version": "1.5.0",
            "_model_name": "HTMLModel",
            "_view_count": null,
            "_view_module": "@jupyter-widgets/controls",
            "_view_module_version": "1.5.0",
            "_view_name": "HTMLView",
            "description": "",
            "description_tooltip": null,
            "layout": "IPY_MODEL_007b4235c23940119edea0065fbf6708",
            "placeholder": "​",
            "style": "IPY_MODEL_c3f6f1bd9f26430c92f6119e2617f406",
            "value": "100%"
          }
        },
        "c895975f66de446fb602455cfc8896bd": {
          "model_module": "@jupyter-widgets/controls",
          "model_name": "FloatProgressModel",
          "model_module_version": "1.5.0",
          "state": {
            "_dom_classes": [],
            "_model_module": "@jupyter-widgets/controls",
            "_model_module_version": "1.5.0",
            "_model_name": "FloatProgressModel",
            "_view_count": null,
            "_view_module": "@jupyter-widgets/controls",
            "_view_module_version": "1.5.0",
            "_view_name": "ProgressView",
            "bar_style": "success",
            "description": "",
            "description_tooltip": null,
            "layout": "IPY_MODEL_71c10482ebd44709a1420ab71303dda7",
            "max": 10000,
            "min": 0,
            "orientation": "horizontal",
            "style": "IPY_MODEL_2f408335b5ee49edb27a8e463ce3b039",
            "value": 10000
          }
        },
        "055f5e2f80f949ab8298f33492b119bb": {
          "model_module": "@jupyter-widgets/controls",
          "model_name": "HTMLModel",
          "model_module_version": "1.5.0",
          "state": {
            "_dom_classes": [],
            "_model_module": "@jupyter-widgets/controls",
            "_model_module_version": "1.5.0",
            "_model_name": "HTMLModel",
            "_view_count": null,
            "_view_module": "@jupyter-widgets/controls",
            "_view_module_version": "1.5.0",
            "_view_name": "HTMLView",
            "description": "",
            "description_tooltip": null,
            "layout": "IPY_MODEL_a8de57f4c28f485993c10e148cace71e",
            "placeholder": "​",
            "style": "IPY_MODEL_9b0b03438604454482e9b52e2e207eb6",
            "value": " 10000/10000 [00:02&lt;00:00, 3346.20it/s]"
          }
        },
        "67ca4b84a94f45d0b3e5f774aab8d872": {
          "model_module": "@jupyter-widgets/base",
          "model_name": "LayoutModel",
          "model_module_version": "1.2.0",
          "state": {
            "_model_module": "@jupyter-widgets/base",
            "_model_module_version": "1.2.0",
            "_model_name": "LayoutModel",
            "_view_count": null,
            "_view_module": "@jupyter-widgets/base",
            "_view_module_version": "1.2.0",
            "_view_name": "LayoutView",
            "align_content": null,
            "align_items": null,
            "align_self": null,
            "border": null,
            "bottom": null,
            "display": null,
            "flex": null,
            "flex_flow": null,
            "grid_area": null,
            "grid_auto_columns": null,
            "grid_auto_flow": null,
            "grid_auto_rows": null,
            "grid_column": null,
            "grid_gap": null,
            "grid_row": null,
            "grid_template_areas": null,
            "grid_template_columns": null,
            "grid_template_rows": null,
            "height": null,
            "justify_content": null,
            "justify_items": null,
            "left": null,
            "margin": null,
            "max_height": null,
            "max_width": null,
            "min_height": null,
            "min_width": null,
            "object_fit": null,
            "object_position": null,
            "order": null,
            "overflow": null,
            "overflow_x": null,
            "overflow_y": null,
            "padding": null,
            "right": null,
            "top": null,
            "visibility": null,
            "width": null
          }
        },
        "007b4235c23940119edea0065fbf6708": {
          "model_module": "@jupyter-widgets/base",
          "model_name": "LayoutModel",
          "model_module_version": "1.2.0",
          "state": {
            "_model_module": "@jupyter-widgets/base",
            "_model_module_version": "1.2.0",
            "_model_name": "LayoutModel",
            "_view_count": null,
            "_view_module": "@jupyter-widgets/base",
            "_view_module_version": "1.2.0",
            "_view_name": "LayoutView",
            "align_content": null,
            "align_items": null,
            "align_self": null,
            "border": null,
            "bottom": null,
            "display": null,
            "flex": null,
            "flex_flow": null,
            "grid_area": null,
            "grid_auto_columns": null,
            "grid_auto_flow": null,
            "grid_auto_rows": null,
            "grid_column": null,
            "grid_gap": null,
            "grid_row": null,
            "grid_template_areas": null,
            "grid_template_columns": null,
            "grid_template_rows": null,
            "height": null,
            "justify_content": null,
            "justify_items": null,
            "left": null,
            "margin": null,
            "max_height": null,
            "max_width": null,
            "min_height": null,
            "min_width": null,
            "object_fit": null,
            "object_position": null,
            "order": null,
            "overflow": null,
            "overflow_x": null,
            "overflow_y": null,
            "padding": null,
            "right": null,
            "top": null,
            "visibility": null,
            "width": null
          }
        },
        "c3f6f1bd9f26430c92f6119e2617f406": {
          "model_module": "@jupyter-widgets/controls",
          "model_name": "DescriptionStyleModel",
          "model_module_version": "1.5.0",
          "state": {
            "_model_module": "@jupyter-widgets/controls",
            "_model_module_version": "1.5.0",
            "_model_name": "DescriptionStyleModel",
            "_view_count": null,
            "_view_module": "@jupyter-widgets/base",
            "_view_module_version": "1.2.0",
            "_view_name": "StyleView",
            "description_width": ""
          }
        },
        "71c10482ebd44709a1420ab71303dda7": {
          "model_module": "@jupyter-widgets/base",
          "model_name": "LayoutModel",
          "model_module_version": "1.2.0",
          "state": {
            "_model_module": "@jupyter-widgets/base",
            "_model_module_version": "1.2.0",
            "_model_name": "LayoutModel",
            "_view_count": null,
            "_view_module": "@jupyter-widgets/base",
            "_view_module_version": "1.2.0",
            "_view_name": "LayoutView",
            "align_content": null,
            "align_items": null,
            "align_self": null,
            "border": null,
            "bottom": null,
            "display": null,
            "flex": null,
            "flex_flow": null,
            "grid_area": null,
            "grid_auto_columns": null,
            "grid_auto_flow": null,
            "grid_auto_rows": null,
            "grid_column": null,
            "grid_gap": null,
            "grid_row": null,
            "grid_template_areas": null,
            "grid_template_columns": null,
            "grid_template_rows": null,
            "height": null,
            "justify_content": null,
            "justify_items": null,
            "left": null,
            "margin": null,
            "max_height": null,
            "max_width": null,
            "min_height": null,
            "min_width": null,
            "object_fit": null,
            "object_position": null,
            "order": null,
            "overflow": null,
            "overflow_x": null,
            "overflow_y": null,
            "padding": null,
            "right": null,
            "top": null,
            "visibility": null,
            "width": null
          }
        },
        "2f408335b5ee49edb27a8e463ce3b039": {
          "model_module": "@jupyter-widgets/controls",
          "model_name": "ProgressStyleModel",
          "model_module_version": "1.5.0",
          "state": {
            "_model_module": "@jupyter-widgets/controls",
            "_model_module_version": "1.5.0",
            "_model_name": "ProgressStyleModel",
            "_view_count": null,
            "_view_module": "@jupyter-widgets/base",
            "_view_module_version": "1.2.0",
            "_view_name": "StyleView",
            "bar_color": null,
            "description_width": ""
          }
        },
        "a8de57f4c28f485993c10e148cace71e": {
          "model_module": "@jupyter-widgets/base",
          "model_name": "LayoutModel",
          "model_module_version": "1.2.0",
          "state": {
            "_model_module": "@jupyter-widgets/base",
            "_model_module_version": "1.2.0",
            "_model_name": "LayoutModel",
            "_view_count": null,
            "_view_module": "@jupyter-widgets/base",
            "_view_module_version": "1.2.0",
            "_view_name": "LayoutView",
            "align_content": null,
            "align_items": null,
            "align_self": null,
            "border": null,
            "bottom": null,
            "display": null,
            "flex": null,
            "flex_flow": null,
            "grid_area": null,
            "grid_auto_columns": null,
            "grid_auto_flow": null,
            "grid_auto_rows": null,
            "grid_column": null,
            "grid_gap": null,
            "grid_row": null,
            "grid_template_areas": null,
            "grid_template_columns": null,
            "grid_template_rows": null,
            "height": null,
            "justify_content": null,
            "justify_items": null,
            "left": null,
            "margin": null,
            "max_height": null,
            "max_width": null,
            "min_height": null,
            "min_width": null,
            "object_fit": null,
            "object_position": null,
            "order": null,
            "overflow": null,
            "overflow_x": null,
            "overflow_y": null,
            "padding": null,
            "right": null,
            "top": null,
            "visibility": null,
            "width": null
          }
        },
        "9b0b03438604454482e9b52e2e207eb6": {
          "model_module": "@jupyter-widgets/controls",
          "model_name": "DescriptionStyleModel",
          "model_module_version": "1.5.0",
          "state": {
            "_model_module": "@jupyter-widgets/controls",
            "_model_module_version": "1.5.0",
            "_model_name": "DescriptionStyleModel",
            "_view_count": null,
            "_view_module": "@jupyter-widgets/base",
            "_view_module_version": "1.2.0",
            "_view_name": "StyleView",
            "description_width": ""
          }
        },
        "4a377680ef9a46e29a776a4db14a2ff1": {
          "model_module": "@jupyter-widgets/controls",
          "model_name": "HBoxModel",
          "model_module_version": "1.5.0",
          "state": {
            "_dom_classes": [],
            "_model_module": "@jupyter-widgets/controls",
            "_model_module_version": "1.5.0",
            "_model_name": "HBoxModel",
            "_view_count": null,
            "_view_module": "@jupyter-widgets/controls",
            "_view_module_version": "1.5.0",
            "_view_name": "HBoxView",
            "box_style": "",
            "children": [
              "IPY_MODEL_5c0908e0d81c4d35993ee7445b363113",
              "IPY_MODEL_e97b10b084fd46b392bdee1c1e429b51",
              "IPY_MODEL_61214817b0454e4f9163f74d73c19282"
            ],
            "layout": "IPY_MODEL_634056a3d9514b94a4de1c82b21448c1"
          }
        },
        "5c0908e0d81c4d35993ee7445b363113": {
          "model_module": "@jupyter-widgets/controls",
          "model_name": "HTMLModel",
          "model_module_version": "1.5.0",
          "state": {
            "_dom_classes": [],
            "_model_module": "@jupyter-widgets/controls",
            "_model_module_version": "1.5.0",
            "_model_name": "HTMLModel",
            "_view_count": null,
            "_view_module": "@jupyter-widgets/controls",
            "_view_module_version": "1.5.0",
            "_view_name": "HTMLView",
            "description": "",
            "description_tooltip": null,
            "layout": "IPY_MODEL_f54abeb26da9453bbdf13eebff46f48e",
            "placeholder": "​",
            "style": "IPY_MODEL_6a6cc0a08e9b411180c6090128450f85",
            "value": "100%"
          }
        },
        "e97b10b084fd46b392bdee1c1e429b51": {
          "model_module": "@jupyter-widgets/controls",
          "model_name": "FloatProgressModel",
          "model_module_version": "1.5.0",
          "state": {
            "_dom_classes": [],
            "_model_module": "@jupyter-widgets/controls",
            "_model_module_version": "1.5.0",
            "_model_name": "FloatProgressModel",
            "_view_count": null,
            "_view_module": "@jupyter-widgets/controls",
            "_view_module_version": "1.5.0",
            "_view_name": "ProgressView",
            "bar_style": "success",
            "description": "",
            "description_tooltip": null,
            "layout": "IPY_MODEL_00aa0de87b0043c6aa872c203ede1560",
            "max": 10000,
            "min": 0,
            "orientation": "horizontal",
            "style": "IPY_MODEL_6119303587aa47a7b96bf4552647f4cf",
            "value": 10000
          }
        },
        "61214817b0454e4f9163f74d73c19282": {
          "model_module": "@jupyter-widgets/controls",
          "model_name": "HTMLModel",
          "model_module_version": "1.5.0",
          "state": {
            "_dom_classes": [],
            "_model_module": "@jupyter-widgets/controls",
            "_model_module_version": "1.5.0",
            "_model_name": "HTMLModel",
            "_view_count": null,
            "_view_module": "@jupyter-widgets/controls",
            "_view_module_version": "1.5.0",
            "_view_name": "HTMLView",
            "description": "",
            "description_tooltip": null,
            "layout": "IPY_MODEL_81eb6dd5ffe64db79d610418b1f931b3",
            "placeholder": "​",
            "style": "IPY_MODEL_8f2e10274c8943d6897ba2a9d41bf319",
            "value": " 10000/10000 [00:05&lt;00:00, 1561.84it/s]"
          }
        },
        "634056a3d9514b94a4de1c82b21448c1": {
          "model_module": "@jupyter-widgets/base",
          "model_name": "LayoutModel",
          "model_module_version": "1.2.0",
          "state": {
            "_model_module": "@jupyter-widgets/base",
            "_model_module_version": "1.2.0",
            "_model_name": "LayoutModel",
            "_view_count": null,
            "_view_module": "@jupyter-widgets/base",
            "_view_module_version": "1.2.0",
            "_view_name": "LayoutView",
            "align_content": null,
            "align_items": null,
            "align_self": null,
            "border": null,
            "bottom": null,
            "display": null,
            "flex": null,
            "flex_flow": null,
            "grid_area": null,
            "grid_auto_columns": null,
            "grid_auto_flow": null,
            "grid_auto_rows": null,
            "grid_column": null,
            "grid_gap": null,
            "grid_row": null,
            "grid_template_areas": null,
            "grid_template_columns": null,
            "grid_template_rows": null,
            "height": null,
            "justify_content": null,
            "justify_items": null,
            "left": null,
            "margin": null,
            "max_height": null,
            "max_width": null,
            "min_height": null,
            "min_width": null,
            "object_fit": null,
            "object_position": null,
            "order": null,
            "overflow": null,
            "overflow_x": null,
            "overflow_y": null,
            "padding": null,
            "right": null,
            "top": null,
            "visibility": null,
            "width": null
          }
        },
        "f54abeb26da9453bbdf13eebff46f48e": {
          "model_module": "@jupyter-widgets/base",
          "model_name": "LayoutModel",
          "model_module_version": "1.2.0",
          "state": {
            "_model_module": "@jupyter-widgets/base",
            "_model_module_version": "1.2.0",
            "_model_name": "LayoutModel",
            "_view_count": null,
            "_view_module": "@jupyter-widgets/base",
            "_view_module_version": "1.2.0",
            "_view_name": "LayoutView",
            "align_content": null,
            "align_items": null,
            "align_self": null,
            "border": null,
            "bottom": null,
            "display": null,
            "flex": null,
            "flex_flow": null,
            "grid_area": null,
            "grid_auto_columns": null,
            "grid_auto_flow": null,
            "grid_auto_rows": null,
            "grid_column": null,
            "grid_gap": null,
            "grid_row": null,
            "grid_template_areas": null,
            "grid_template_columns": null,
            "grid_template_rows": null,
            "height": null,
            "justify_content": null,
            "justify_items": null,
            "left": null,
            "margin": null,
            "max_height": null,
            "max_width": null,
            "min_height": null,
            "min_width": null,
            "object_fit": null,
            "object_position": null,
            "order": null,
            "overflow": null,
            "overflow_x": null,
            "overflow_y": null,
            "padding": null,
            "right": null,
            "top": null,
            "visibility": null,
            "width": null
          }
        },
        "6a6cc0a08e9b411180c6090128450f85": {
          "model_module": "@jupyter-widgets/controls",
          "model_name": "DescriptionStyleModel",
          "model_module_version": "1.5.0",
          "state": {
            "_model_module": "@jupyter-widgets/controls",
            "_model_module_version": "1.5.0",
            "_model_name": "DescriptionStyleModel",
            "_view_count": null,
            "_view_module": "@jupyter-widgets/base",
            "_view_module_version": "1.2.0",
            "_view_name": "StyleView",
            "description_width": ""
          }
        },
        "00aa0de87b0043c6aa872c203ede1560": {
          "model_module": "@jupyter-widgets/base",
          "model_name": "LayoutModel",
          "model_module_version": "1.2.0",
          "state": {
            "_model_module": "@jupyter-widgets/base",
            "_model_module_version": "1.2.0",
            "_model_name": "LayoutModel",
            "_view_count": null,
            "_view_module": "@jupyter-widgets/base",
            "_view_module_version": "1.2.0",
            "_view_name": "LayoutView",
            "align_content": null,
            "align_items": null,
            "align_self": null,
            "border": null,
            "bottom": null,
            "display": null,
            "flex": null,
            "flex_flow": null,
            "grid_area": null,
            "grid_auto_columns": null,
            "grid_auto_flow": null,
            "grid_auto_rows": null,
            "grid_column": null,
            "grid_gap": null,
            "grid_row": null,
            "grid_template_areas": null,
            "grid_template_columns": null,
            "grid_template_rows": null,
            "height": null,
            "justify_content": null,
            "justify_items": null,
            "left": null,
            "margin": null,
            "max_height": null,
            "max_width": null,
            "min_height": null,
            "min_width": null,
            "object_fit": null,
            "object_position": null,
            "order": null,
            "overflow": null,
            "overflow_x": null,
            "overflow_y": null,
            "padding": null,
            "right": null,
            "top": null,
            "visibility": null,
            "width": null
          }
        },
        "6119303587aa47a7b96bf4552647f4cf": {
          "model_module": "@jupyter-widgets/controls",
          "model_name": "ProgressStyleModel",
          "model_module_version": "1.5.0",
          "state": {
            "_model_module": "@jupyter-widgets/controls",
            "_model_module_version": "1.5.0",
            "_model_name": "ProgressStyleModel",
            "_view_count": null,
            "_view_module": "@jupyter-widgets/base",
            "_view_module_version": "1.2.0",
            "_view_name": "StyleView",
            "bar_color": null,
            "description_width": ""
          }
        },
        "81eb6dd5ffe64db79d610418b1f931b3": {
          "model_module": "@jupyter-widgets/base",
          "model_name": "LayoutModel",
          "model_module_version": "1.2.0",
          "state": {
            "_model_module": "@jupyter-widgets/base",
            "_model_module_version": "1.2.0",
            "_model_name": "LayoutModel",
            "_view_count": null,
            "_view_module": "@jupyter-widgets/base",
            "_view_module_version": "1.2.0",
            "_view_name": "LayoutView",
            "align_content": null,
            "align_items": null,
            "align_self": null,
            "border": null,
            "bottom": null,
            "display": null,
            "flex": null,
            "flex_flow": null,
            "grid_area": null,
            "grid_auto_columns": null,
            "grid_auto_flow": null,
            "grid_auto_rows": null,
            "grid_column": null,
            "grid_gap": null,
            "grid_row": null,
            "grid_template_areas": null,
            "grid_template_columns": null,
            "grid_template_rows": null,
            "height": null,
            "justify_content": null,
            "justify_items": null,
            "left": null,
            "margin": null,
            "max_height": null,
            "max_width": null,
            "min_height": null,
            "min_width": null,
            "object_fit": null,
            "object_position": null,
            "order": null,
            "overflow": null,
            "overflow_x": null,
            "overflow_y": null,
            "padding": null,
            "right": null,
            "top": null,
            "visibility": null,
            "width": null
          }
        },
        "8f2e10274c8943d6897ba2a9d41bf319": {
          "model_module": "@jupyter-widgets/controls",
          "model_name": "DescriptionStyleModel",
          "model_module_version": "1.5.0",
          "state": {
            "_model_module": "@jupyter-widgets/controls",
            "_model_module_version": "1.5.0",
            "_model_name": "DescriptionStyleModel",
            "_view_count": null,
            "_view_module": "@jupyter-widgets/base",
            "_view_module_version": "1.2.0",
            "_view_name": "StyleView",
            "description_width": ""
          }
        }
      }
    }
  },
  "cells": [
    {
      "cell_type": "markdown",
      "source": [
        "# 순방향 연산"
      ],
      "metadata": {
        "id": "jhYLJY2_g55G"
      }
    },
    {
      "cell_type": "code",
      "execution_count": null,
      "metadata": {
        "id": "99D1qDojgDH7"
      },
      "outputs": [],
      "source": [
        "import numpy as np\n",
        "\n",
        "X = np.array([\n",
        "    [0,0,1],\n",
        "    [0,1,1],\n",
        "    [1,0,1],\n",
        "    [1,1,1]\n",
        "])"
      ]
    },
    {
      "cell_type": "code",
      "source": [
        "X"
      ],
      "metadata": {
        "colab": {
          "base_uri": "https://localhost:8080/"
        },
        "id": "FXpTsZw9hcqs",
        "outputId": "81b6c2eb-3418-4154-c8dc-51d4fb5b6dbb"
      },
      "execution_count": null,
      "outputs": [
        {
          "output_type": "execute_result",
          "data": {
            "text/plain": [
              "array([[0, 0, 1],\n",
              "       [0, 1, 1],\n",
              "       [1, 0, 1],\n",
              "       [1, 1, 1]])"
            ]
          },
          "metadata": {},
          "execution_count": 2
        }
      ]
    },
    {
      "cell_type": "code",
      "source": [
        "X.shape"
      ],
      "metadata": {
        "colab": {
          "base_uri": "https://localhost:8080/"
        },
        "id": "44dDqmdahgID",
        "outputId": "38bd5252-581a-4143-bb08-ed2eb9f0e77e"
      },
      "execution_count": null,
      "outputs": [
        {
          "output_type": "execute_result",
          "data": {
            "text/plain": [
              "(4, 3)"
            ]
          },
          "metadata": {},
          "execution_count": 4
        }
      ]
    },
    {
      "cell_type": "code",
      "source": [
        "# 활성화 함수 sigmoid\n",
        "def sigmoid(x):\n",
        "    return 1.0 / (1.0 + np.exp(-x))"
      ],
      "metadata": {
        "id": "RPb20IfAhoAb"
      },
      "execution_count": null,
      "outputs": []
    },
    {
      "cell_type": "code",
      "source": [
        "# 가중치(지금은 랜덤하게 선택하는 걸로, 원래는 학습이 완료된 가중치를 사용해야함)\n",
        "# 음수에서부터 양수까지 다양한 값을 가지게 하기 위해 2를 곱하고 1을 빼주었음\n",
        "W = 2 * np.random.random((1, 3)) -1\n",
        "W"
      ],
      "metadata": {
        "colab": {
          "base_uri": "https://localhost:8080/"
        },
        "id": "TEKsdkPBiQYz",
        "outputId": "77a26241-f68a-4a63-cdc8-ab26249a9e60"
      },
      "execution_count": null,
      "outputs": [
        {
          "output_type": "execute_result",
          "data": {
            "text/plain": [
              "array([[-0.83944592, -0.35681427, -0.96715766]])"
            ]
          },
          "metadata": {},
          "execution_count": 6
        }
      ]
    },
    {
      "cell_type": "code",
      "source": [
        "X[0, :] , X[0, :].T"
      ],
      "metadata": {
        "colab": {
          "base_uri": "https://localhost:8080/"
        },
        "id": "b5Yuq7zFjqak",
        "outputId": "6faa622f-2d56-4fb6-ff0b-00dd53ebadec"
      },
      "execution_count": null,
      "outputs": [
        {
          "output_type": "execute_result",
          "data": {
            "text/plain": [
              "(array([0, 0, 1]), array([0, 0, 1]))"
            ]
          },
          "metadata": {},
          "execution_count": 7
        }
      ]
    },
    {
      "cell_type": "code",
      "source": [
        "X[0, :].shape , X[0, :].T.shape"
      ],
      "metadata": {
        "colab": {
          "base_uri": "https://localhost:8080/"
        },
        "id": "2Jy4eCmck2ga",
        "outputId": "016110a9-a6ed-41f1-f5ea-34a4855f12db"
      },
      "execution_count": null,
      "outputs": [
        {
          "output_type": "execute_result",
          "data": {
            "text/plain": [
              "((3,), (3,))"
            ]
          },
          "metadata": {},
          "execution_count": 8
        }
      ]
    },
    {
      "cell_type": "code",
      "source": [
        "# 추론(순방향 연산)\n",
        "N = 4\n",
        "\n",
        "for k in range(N):\n",
        "    x = X[k, :].T\n",
        "    v = np.matmul(W, x)\n",
        "    y = sigmoid(v)\n",
        "\n",
        "    print(y)"
      ],
      "metadata": {
        "colab": {
          "base_uri": "https://localhost:8080/"
        },
        "id": "MqeMASCpk4Ea",
        "outputId": "72a04243-55b0-43ae-826c-24c640ee61b4"
      },
      "execution_count": null,
      "outputs": [
        {
          "output_type": "stream",
          "name": "stdout",
          "text": [
            "[0.2754474]\n",
            "[0.21015823]\n",
            "[0.14104911]\n",
            "[0.10308402]\n"
          ]
        }
      ]
    },
    {
      "cell_type": "markdown",
      "source": [
        "이렇듯 순방향 연산은 데이터에 가중치와 편향을 주고 활성화함수를 거쳐 출력값을 얻는 흐름을 말한다.\n",
        "\n",
        "위에서는 가중치를 랜덤하게 설정했는데 실제로는 학습된 가중치를 주어야한다. 학습을 시키기 위해 정답지를 주고 학습된 가중치를 얻어보자."
      ],
      "metadata": {
        "id": "jmTRnuvso8zP"
      }
    },
    {
      "cell_type": "code",
      "source": [
        "# 정답지\n",
        "D = np.array([\n",
        "    [0], [0], [1], [1]\n",
        "])"
      ],
      "metadata": {
        "id": "_3Ev5CykvQJS"
      },
      "execution_count": null,
      "outputs": []
    },
    {
      "cell_type": "code",
      "source": [
        "D , D.shape"
      ],
      "metadata": {
        "colab": {
          "base_uri": "https://localhost:8080/"
        },
        "id": "Ii83dEL1vxtK",
        "outputId": "85c5a23a-0f6b-43aa-9586-c8d7da8f0446"
      },
      "execution_count": null,
      "outputs": [
        {
          "output_type": "execute_result",
          "data": {
            "text/plain": [
              "(array([[0],\n",
              "        [0],\n",
              "        [1],\n",
              "        [1]]),\n",
              " (4, 1))"
            ]
          },
          "metadata": {},
          "execution_count": 14
        }
      ]
    },
    {
      "cell_type": "markdown",
      "source": [
        "가중치를 어떻게 학습시킬 수 있을까?\n",
        "\n",
        "우리는 이제 정답지를 알고 있으므로 출력값과 정답지와의 오차를 구해 그 오차가 작아지도록 하는 가중치를 구하면 된다."
      ],
      "metadata": {
        "id": "SJGgPcGQvv2J"
      }
    },
    {
      "cell_type": "code",
      "source": [
        "# 출력값 계산\n",
        "def calc_output(W, x):\n",
        "    v = np.matmul(W, x)\n",
        "    y = sigmoid(v)\n",
        "    return y\n",
        "\n",
        "# 오차 계산\n",
        "def calc_error(d, y_pred): #(참값,예측값)\n",
        "    e = d - y_pred\n",
        "    delta = y_pred * (1 - y_pred) * e # 에러와 활성화함수의 미분값 , 오차와 활성화 함수의 미분값으로 미분값이 있어야 방향을 잡을 수 있음\n",
        "\n",
        "    return delta"
      ],
      "metadata": {
        "id": "22OHUfJkvSWB"
      },
      "execution_count": null,
      "outputs": []
    },
    {
      "cell_type": "markdown",
      "source": [
        "오차를 계산하는 calc_error 함수에서 정답지와 출력값의 차이인 e는 알겠는데 delta는 무엇일까?"
      ],
      "metadata": {
        "id": "8YB-zYSnwl3C"
      }
    },
    {
      "cell_type": "code",
      "source": [
        "# 시그모이드 함수의 미분 형태\n",
        "import sympy as sym\n",
        "\n",
        "z = sym.Symbol('z')\n",
        "s = 1 / (1 + sym.exp(-z)) # 시그모이드 함수 형태\n",
        "sym.diff(s) # 시그모이드 함수 미분 형태"
      ],
      "metadata": {
        "colab": {
          "base_uri": "https://localhost:8080/",
          "height": 61
        },
        "id": "3a8AtHiawm6j",
        "outputId": "273e197f-5326-47dd-a444-b72b3d47460a"
      },
      "execution_count": null,
      "outputs": [
        {
          "output_type": "execute_result",
          "data": {
            "text/plain": [
              "exp(-z)/(1 + exp(-z))**2"
            ],
            "text/latex": "$\\displaystyle \\frac{e^{- z}}{\\left(1 + e^{- z}\\right)^{2}}$"
          },
          "metadata": {},
          "execution_count": 16
        }
      ]
    },
    {
      "cell_type": "markdown",
      "source": [
        "시그모이드 함수의 미분 형태를 조금 변형시키면 s * (1 - s) 의 형태가 나온다.\n",
        "\n",
        "즉 delta의 y_pred * (1 - y_pred) * e 중 y_pred * (1 - y_pred)는 e의 미분값임을 알 수 있다. 오차를 뒤로 뒤로 전해줄 때 단순히 차이만 계산하는 것이 아닌 미분값을 같이 곱해서 넘겨주는 것이다."
      ],
      "metadata": {
        "id": "cbMI6AnMxEaK"
      }
    },
    {
      "cell_type": "code",
      "source": [
        "# 한 epoch에 수행되는 W 계산(gradient descent)\n",
        "def delta_GD(W, X, D, alpha):\n",
        "    # 모든 데이터에 대해 계산하는 gradient descent 방식에 따라\n",
        "    # 전체 데이터 개수인 4개를 다 거쳐야함\n",
        "    for k in range(4):  # 데이터가 4개라서\n",
        "        x = X[k, :].T # 입력값\n",
        "        d = D[k] # 실제값(정답지)\n",
        "\n",
        "        y_pred = calc_output(W, x) # 순방향 추론\n",
        "        delta = calc_error(d , y_pred) # delta 계산\n",
        "        dW = alpha * delta * x # 가중치 변화량 , alpha = learning rate\n",
        "        W = W + dW # 가중치 업데이트\n",
        "    return W"
      ],
      "metadata": {
        "id": "l_hWqoOExCbj"
      },
      "execution_count": null,
      "outputs": []
    },
    {
      "cell_type": "code",
      "source": [
        "W"
      ],
      "metadata": {
        "colab": {
          "base_uri": "https://localhost:8080/"
        },
        "id": "p0QHdZSGyCuq",
        "outputId": "3a7b8efb-a05f-4ea7-c4c2-7d2118f15743"
      },
      "execution_count": null,
      "outputs": [
        {
          "output_type": "execute_result",
          "data": {
            "text/plain": [
              "array([[-0.83944592, -0.35681427, -0.96715766]])"
            ]
          },
          "metadata": {},
          "execution_count": 18
        }
      ]
    },
    {
      "cell_type": "code",
      "source": [
        "# 기존 가중치를 학습을 통해 업데이트 시켜보자\n",
        "alpha = 0.9\n",
        "for epoch in range(1000):\n",
        "    W = delta_GD(W, X, D, alpha)\n",
        "    print(W)"
      ],
      "metadata": {
        "colab": {
          "base_uri": "https://localhost:8080/"
        },
        "id": "nRZ9rbXD0ptc",
        "outputId": "acf0dae4-4860-449b-fa63-91a087b7b4f3"
      },
      "execution_count": null,
      "outputs": [
        {
          "output_type": "stream",
          "name": "stdout",
          "text": [
            "[[-0.67173496 -0.30782289 -0.87824367]]\n",
            "[[-0.47394157 -0.24772268 -0.77035615]]\n",
            "[[-0.24277872 -0.17664213 -0.64397889]]\n",
            "[[ 0.01607938 -0.1009038  -0.50912194]]\n",
            "[[ 0.28156918 -0.0355442  -0.38977859]]\n",
            "[[ 0.5267311   0.00518136 -0.31106449]]\n",
            "[[ 0.73906553  0.02020879 -0.27847077]]\n",
            "[[ 0.92137813  0.01725148 -0.28122988]]\n",
            "[[ 1.08075841  0.00409534 -0.30635602]]\n",
            "[[ 1.22315578 -0.01396269 -0.3442471 ]]\n",
            "[[ 1.35265512 -0.03374641 -0.3887598 ]]\n",
            "[[ 1.47195001 -0.05347155 -0.43617309]]\n",
            "[[ 1.58284394 -0.07220382 -0.48430276]]\n",
            "[[ 1.68659221 -0.08951028 -0.5319054 ]]\n",
            "[[ 1.78411158 -0.10524395 -0.57830275]]\n",
            "[[ 1.87610479 -0.11941383 -0.62315119]]\n",
            "[[ 1.9631341  -0.13210826 -0.66630256]]\n",
            "[[ 2.04566527 -0.14345081 -0.70772079]]\n",
            "[[ 2.12409443 -0.15357577 -0.74743258]]\n",
            "[[ 2.19876499 -0.16261504 -0.78549823]]\n",
            "[[ 2.26997875 -0.17069181 -0.82199468]]\n",
            "[[ 2.33800352 -0.1779178  -0.85700556]]\n",
            "[[ 2.40307867 -0.18439265 -0.89061562]]\n",
            "[[ 2.46541921 -0.19020432 -0.92290757]]\n",
            "[[ 2.52521913 -0.19542998 -0.95396041]]\n",
            "[[ 2.58265397 -0.20013715 -0.98384867]]\n",
            "[[ 2.63788307 -0.20438481 -1.0126421 ]]\n",
            "[[ 2.6910514  -0.20822446 -1.0404057 ]]\n",
            "[[ 2.74229115 -0.21170109 -1.06719986]]\n",
            "[[ 2.7917231  -0.21485408 -1.09308061]]\n",
            "[[ 2.83945787 -0.21771792 -1.1180999 ]]\n",
            "[[ 2.88559689 -0.22032289 -1.14230592]]\n",
            "[[ 2.93023338 -0.22269562 -1.16574337]]\n",
            "[[ 2.97345317 -0.22485957 -1.18845372]]\n",
            "[[ 3.01533538 -0.22683547 -1.21047551]]\n",
            "[[ 3.0559531  -0.22864166 -1.23184456]]\n",
            "[[ 3.09537394 -0.2302944  -1.25259422]]\n",
            "[[ 3.13366054 -0.23180816 -1.27275555]]\n",
            "[[ 3.17087101 -0.2331958  -1.29235749]]\n",
            "[[ 3.20705936 -0.23446882 -1.3114271 ]]\n",
            "[[ 3.24227585 -0.2356375  -1.32998962]]\n",
            "[[ 3.27656731 -0.23671104 -1.34806871]]\n",
            "[[ 3.30997743 -0.23769769 -1.36568648]]\n",
            "[[ 3.34254703 -0.2386049  -1.38286369]]\n",
            "[[ 3.37431429 -0.23943936 -1.39961981]]\n",
            "[[ 3.40531498 -0.2402071  -1.41597312]]\n",
            "[[ 3.43558261 -0.24091359 -1.43194082]]\n",
            "[[ 3.46514867 -0.24156377 -1.44753908]]\n",
            "[[ 3.49404275 -0.24216212 -1.46278316]]\n",
            "[[ 3.52229265 -0.24271273 -1.47768743]]\n",
            "[[ 3.5499246  -0.24321928 -1.49226544]]\n",
            "[[ 3.57696329 -0.24368516 -1.50653002]]\n",
            "[[ 3.60343204 -0.24411345 -1.52049328]]\n",
            "[[ 3.62935286 -0.24450695 -1.53416666]]\n",
            "[[ 3.65474658 -0.24486823 -1.54756104]]\n",
            "[[ 3.67963288 -0.24519966 -1.56068669]]\n",
            "[[ 3.70403043 -0.24550338 -1.57355337]]\n",
            "[[ 3.72795691 -0.24578139 -1.58617034]]\n",
            "[[ 3.75142909 -0.24603549 -1.59854638]]\n",
            "[[ 3.77446289 -0.24626738 -1.61068987]]\n",
            "[[ 3.79707347 -0.24647858 -1.62260875]]\n",
            "[[ 3.81927519 -0.24667052 -1.6343106 ]]\n",
            "[[ 3.84108176 -0.24684452 -1.64580261]]\n",
            "[[ 3.86250622 -0.24700179 -1.65709168]]\n",
            "[[ 3.88356099 -0.24714345 -1.66818435]]\n",
            "[[ 3.90425793 -0.24727054 -1.67908687]]\n",
            "[[ 3.92460834 -0.24738402 -1.68980523]]\n",
            "[[ 3.94462301 -0.24748478 -1.70034512]]\n",
            "[[ 3.96431228 -0.24757365 -1.71071202]]\n",
            "[[ 3.98368598 -0.24765139 -1.72091114]]\n",
            "[[ 4.00275358 -0.24771874 -1.73094748]]\n",
            "[[ 4.02152408 -0.24777634 -1.74082582]]\n",
            "[[ 4.04000615 -0.24782481 -1.75055076]]\n",
            "[[ 4.05820807 -0.24786474 -1.76012668]]\n",
            "[[ 4.07613778 -0.24789666 -1.76955782]]\n",
            "[[ 4.09380291 -0.24792108 -1.77884822]]\n",
            "[[ 4.11121078 -0.24793845 -1.78800176]]\n",
            "[[ 4.12836841 -0.24794922 -1.79702218]]\n",
            "[[ 4.14528255 -0.24795379 -1.80591307]]\n",
            "[[ 4.16195969 -0.24795256 -1.81467787]]\n",
            "[[ 4.17840606 -0.24794587 -1.82331992]]\n",
            "[[ 4.19462767 -0.24793406 -1.83184239]]\n",
            "[[ 4.2106303  -0.24791744 -1.84024838]]\n",
            "[[ 4.22641952 -0.24789632 -1.84854084]]\n",
            "[[ 4.24200067 -0.24787096 -1.85672263]]\n",
            "[[ 4.25737893 -0.24784162 -1.86479649]]\n",
            "[[ 4.27255927 -0.24780855 -1.87276509]]\n",
            "[[ 4.28754651 -0.24777198 -1.88063098]]\n",
            "[[ 4.30234527 -0.24773212 -1.88839664]]\n",
            "[[ 4.31696004 -0.24768917 -1.89606444]]\n",
            "[[ 4.33139513 -0.24764332 -1.90363671]]\n",
            "[[ 4.34565472 -0.24759476 -1.91111565]]\n",
            "[[ 4.35974284 -0.24754364 -1.91850343]]\n",
            "[[ 4.37366339 -0.24749013 -1.92580212]]\n",
            "[[ 4.38742016 -0.24743437 -1.93301374]]\n",
            "[[ 4.40101677 -0.24737652 -1.94014024]]\n",
            "[[ 4.41445677 -0.24731669 -1.94718349]]\n",
            "[[ 4.42774358 -0.24725502 -1.95414533]]\n",
            "[[ 4.4408805  -0.24719162 -1.96102752]]\n",
            "[[ 4.45387075 -0.2471266  -1.96783177]]\n",
            "[[ 4.46671742 -0.24706008 -1.97455974]]\n",
            "[[ 4.47942354 -0.24699214 -1.98121303]]\n",
            "[[ 4.49199202 -0.24692288 -1.98779322]]\n",
            "[[ 4.50442569 -0.2468524  -1.9943018 ]]\n",
            "[[ 4.51672731 -0.24678077 -2.00074025]]\n",
            "[[ 4.52889953 -0.24670807 -2.00710999]]\n",
            "[[ 4.54094495 -0.24663438 -2.0134124 ]]\n",
            "[[ 4.55286609 -0.24655977 -2.01964882]]\n",
            "[[ 4.56466537 -0.24648431 -2.02582056]]\n",
            "[[ 4.57634517 -0.24640806 -2.03192888]]\n",
            "[[ 4.5879078  -0.24633108 -2.03797501]]\n",
            "[[ 4.59935549 -0.24625342 -2.04396015]]\n",
            "[[ 4.61069043 -0.24617515 -2.04988546]]\n",
            "[[ 4.62191472 -0.2460963  -2.05575207]]\n",
            "[[ 4.63303044 -0.24601693 -2.06156108]]\n",
            "[[ 4.64403957 -0.24593709 -2.06731355]]\n",
            "[[ 4.65494408 -0.24585682 -2.07301054]]\n",
            "[[ 4.66574586 -0.24577616 -2.07865305]]\n",
            "[[ 4.67644675 -0.24569514 -2.08424206]]\n",
            "[[ 4.68704856 -0.24561381 -2.08977855]]\n",
            "[[ 4.69755304 -0.2455322  -2.09526344]]\n",
            "[[ 4.7079619  -0.24545034 -2.10069765]]\n",
            "[[ 4.7182768  -0.24536826 -2.10608206]]\n",
            "[[ 4.72849936 -0.245286   -2.11141754]]\n",
            "[[ 4.73863116 -0.24520358 -2.11670493]]\n",
            "[[ 4.74867375 -0.24512103 -2.12194506]]\n",
            "[[ 4.75862862 -0.24503837 -2.12713872]]\n",
            "[[ 4.76849725 -0.24495563 -2.13228671]]\n",
            "[[ 4.77828106 -0.24487282 -2.13738977]]\n",
            "[[ 4.78798145 -0.24478998 -2.14244867]]\n",
            "[[ 4.79759979 -0.24470712 -2.14746411]]\n",
            "[[ 4.80713739 -0.24462426 -2.15243682]]\n",
            "[[ 4.81659557 -0.24454143 -2.15736749]]\n",
            "[[ 4.82597558 -0.24445862 -2.16225679]]\n",
            "[[ 4.83527867 -0.24437587 -2.16710538]]\n",
            "[[ 4.84450605 -0.24429319 -2.17191391]]\n",
            "[[ 4.85365889 -0.24421059 -2.176683  ]]\n",
            "[[ 4.86273836 -0.24412809 -2.18141328]]\n",
            "[[ 4.87174558 -0.2440457  -2.18610534]]\n",
            "[[ 4.88068165 -0.24396343 -2.19075978]]\n",
            "[[ 4.88954766 -0.2438813  -2.19537717]]\n",
            "[[ 4.89834465 -0.24379931 -2.19995806]]\n",
            "[[ 4.90707367 -0.24371748 -2.20450302]]\n",
            "[[ 4.91573571 -0.24363582 -2.20901257]]\n",
            "[[ 4.92433178 -0.24355432 -2.21348725]]\n",
            "[[ 4.93286282 -0.24347302 -2.21792756]]\n",
            "[[ 4.94132979 -0.2433919  -2.22233402]]\n",
            "[[ 4.94973361 -0.24331099 -2.22670712]]\n",
            "[[ 4.9580752  -0.24323029 -2.23104733]]\n",
            "[[ 4.96635542 -0.2431498  -2.23535513]]\n",
            "[[ 4.97457516 -0.24306953 -2.23963098]]\n",
            "[[ 4.98273526 -0.24298949 -2.24387534]]\n",
            "[[ 4.99083656 -0.24290968 -2.24808864]]\n",
            "[[ 4.99887987 -0.24283011 -2.25227133]]\n",
            "[[ 5.00686599 -0.24275079 -2.25642382]]\n",
            "[[ 5.0147957  -0.24267171 -2.26054654]]\n",
            "[[ 5.02266977 -0.24259289 -2.2646399 ]]\n",
            "[[ 5.03048895 -0.24251433 -2.26870428]]\n",
            "[[ 5.03825399 -0.24243603 -2.27274009]]\n",
            "[[ 5.04596559 -0.24235799 -2.27674771]]\n",
            "[[ 5.05362447 -0.24228022 -2.28072752]]\n",
            "[[ 5.06123133 -0.24220273 -2.28467988]]\n",
            "[[ 5.06878684 -0.24212551 -2.28860516]]\n",
            "[[ 5.07629168 -0.24204856 -2.29250372]]\n",
            "[[ 5.08374649 -0.2419719  -2.2963759 ]]\n",
            "[[ 5.09115193 -0.24189552 -2.30022204]]\n",
            "[[ 5.09850862 -0.24181942 -2.30404248]]\n",
            "[[ 5.10581718 -0.24174362 -2.30783755]]\n",
            "[[ 5.11307822 -0.24166809 -2.31160758]]\n",
            "[[ 5.12029234 -0.24159286 -2.31535287]]\n",
            "[[ 5.12746012 -0.24151792 -2.31907374]]\n",
            "[[ 5.13458213 -0.24144328 -2.3227705 ]]\n",
            "[[ 5.14165894 -0.24136893 -2.32644345]]\n",
            "[[ 5.14869111 -0.24129487 -2.33009287]]\n",
            "[[ 5.15567917 -0.24122111 -2.33371906]]\n",
            "[[ 5.16262366 -0.24114764 -2.33732231]]\n",
            "[[ 5.16952511 -0.24107447 -2.34090289]]\n",
            "[[ 5.17638403 -0.2410016  -2.34446107]]\n",
            "[[ 5.18320093 -0.24092903 -2.34799713]]\n",
            "[[ 5.1899763  -0.24085676 -2.35151132]]\n",
            "[[ 5.19671064 -0.24078479 -2.35500392]]\n",
            "[[ 5.20340442 -0.24071311 -2.35847517]]\n",
            "[[ 5.21005812 -0.24064174 -2.36192532]]\n",
            "[[ 5.2166722  -0.24057066 -2.36535462]]\n",
            "[[ 5.22324711 -0.24049989 -2.36876331]]\n",
            "[[ 5.22978331 -0.24042941 -2.37215164]]\n",
            "[[ 5.23628124 -0.24035923 -2.37551983]]\n",
            "[[ 5.24274133 -0.24028935 -2.37886811]]\n",
            "[[ 5.249164   -0.24021976 -2.38219672]]\n",
            "[[ 5.25554968 -0.24015048 -2.38550587]]\n",
            "[[ 5.26189877 -0.24008149 -2.38879578]]\n",
            "[[ 5.26821169 -0.2400128  -2.39206667]]\n",
            "[[ 5.27448883 -0.23994441 -2.39531875]]\n",
            "[[ 5.28073059 -0.23987631 -2.39855222]]\n",
            "[[ 5.28693734 -0.2398085  -2.4017673 ]]\n",
            "[[ 5.29310948 -0.23974099 -2.40496418]]\n",
            "[[ 5.29924737 -0.23967377 -2.40814307]]\n",
            "[[ 5.30535139 -0.23960685 -2.41130415]]\n",
            "[[ 5.31142189 -0.23954021 -2.41444762]]\n",
            "[[ 5.31745923 -0.23947387 -2.41757367]]\n",
            "[[ 5.32346376 -0.23940782 -2.42068248]]\n",
            "[[ 5.32943583 -0.23934205 -2.42377424]]\n",
            "[[ 5.33537578 -0.23927658 -2.42684913]]\n",
            "[[ 5.34128394 -0.23921139 -2.42990732]]\n",
            "[[ 5.34716064 -0.23914648 -2.43294899]]\n",
            "[[ 5.35300621 -0.23908186 -2.43597431]]\n",
            "[[ 5.35882097 -0.23901753 -2.43898346]]\n",
            "[[ 5.36460523 -0.23895347 -2.44197659]]\n",
            "[[ 5.3703593  -0.2388897  -2.44495388]]\n",
            "[[ 5.37608348 -0.23882621 -2.44791548]]\n",
            "[[ 5.38177809 -0.238763   -2.45086155]]\n",
            "[[ 5.38744341 -0.23870006 -2.45379225]]\n",
            "[[ 5.39307973 -0.23863741 -2.45670774]]\n",
            "[[ 5.39868735 -0.23857502 -2.45960817]]\n",
            "[[ 5.40426655 -0.23851291 -2.46249368]]\n",
            "[[ 5.40981761 -0.23845108 -2.46536443]]\n",
            "[[ 5.4153408  -0.23838952 -2.46822057]]\n",
            "[[ 5.4208364  -0.23832822 -2.47106222]]\n",
            "[[ 5.42630466 -0.2382672  -2.47388955]]\n",
            "[[ 5.43174587 -0.23820644 -2.47670268]]\n",
            "[[ 5.43716027 -0.23814595 -2.47950175]]\n",
            "[[ 5.44254812 -0.23808573 -2.48228691]]\n",
            "[[ 5.44790968 -0.23802577 -2.48505827]]\n",
            "[[ 5.45324519 -0.23796607 -2.48781599]]\n",
            "[[ 5.4585549  -0.23790664 -2.49056018]]\n",
            "[[ 5.46383905 -0.23784746 -2.49329097]]\n",
            "[[ 5.46909789 -0.23778854 -2.49600849]]\n",
            "[[ 5.47433164 -0.23772988 -2.49871286]]\n",
            "[[ 5.47954054 -0.23767148 -2.50140422]]\n",
            "[[ 5.48472482 -0.23761333 -2.50408267]]\n",
            "[[ 5.48988471 -0.23755543 -2.50674834]]\n",
            "[[ 5.49502042 -0.23749779 -2.50940135]]\n",
            "[[ 5.50013218 -0.2374404  -2.5120418 ]]\n",
            "[[ 5.5052202  -0.23738325 -2.51466983]]\n",
            "[[ 5.51028471 -0.23732636 -2.51728554]]\n",
            "[[ 5.5153259  -0.23726971 -2.51988903]]\n",
            "[[ 5.52034399 -0.2372133  -2.52248043]]\n",
            "[[ 5.52533919 -0.23715714 -2.52505984]]\n",
            "[[ 5.5303117  -0.23710123 -2.52762737]]\n",
            "[[ 5.53526171 -0.23704555 -2.53018313]]\n",
            "[[ 5.54018943 -0.23699012 -2.53272721]]\n",
            "[[ 5.54509506 -0.23693492 -2.53525972]]\n",
            "[[ 5.54997877 -0.23687996 -2.53778077]]\n",
            "[[ 5.55484077 -0.23682523 -2.54029045]]\n",
            "[[ 5.55968124 -0.23677074 -2.54278887]]\n",
            "[[ 5.56450038 -0.23671649 -2.54527611]]\n",
            "[[ 5.56929835 -0.23666246 -2.54775228]]\n",
            "[[ 5.57407534 -0.23660867 -2.55021748]]\n",
            "[[ 5.57883153 -0.2365551  -2.5526718 ]]\n",
            "[[ 5.5835671  -0.23650177 -2.55511532]]\n",
            "[[ 5.58828222 -0.23644866 -2.55754815]]\n",
            "[[ 5.59297706 -0.23639577 -2.55997037]]\n",
            "[[ 5.59765179 -0.23634311 -2.56238207]]\n",
            "[[ 5.60230658 -0.23629067 -2.56478335]]\n",
            "[[ 5.6069416  -0.23623846 -2.56717428]]\n",
            "[[ 5.611557   -0.23618646 -2.56955496]]\n",
            "[[ 5.61615296 -0.23613468 -2.57192546]]\n",
            "[[ 5.62072963 -0.23608312 -2.57428589]]\n",
            "[[ 5.62528716 -0.23603178 -2.57663631]]\n",
            "[[ 5.62982571 -0.23598065 -2.5789768 ]]\n",
            "[[ 5.63434545 -0.23592974 -2.58130746]]\n",
            "[[ 5.63884651 -0.23587904 -2.58362836]]\n",
            "[[ 5.64332905 -0.23582855 -2.58593958]]\n",
            "[[ 5.64779322 -0.23577827 -2.5882412 ]]\n",
            "[[ 5.65223916 -0.2357282  -2.5905333 ]]\n",
            "[[ 5.65666702 -0.23567833 -2.59281594]]\n",
            "[[ 5.66107694 -0.23562868 -2.59508922]]\n",
            "[[ 5.66546907 -0.23557922 -2.5973532 ]]\n",
            "[[ 5.66984354 -0.23552998 -2.59960795]]\n",
            "[[ 5.6742005  -0.23548093 -2.60185355]]\n",
            "[[ 5.67854007 -0.23543209 -2.60409007]]\n",
            "[[ 5.6828624  -0.23538345 -2.60631759]]\n",
            "[[ 5.68716762 -0.235335   -2.60853616]]\n",
            "[[ 5.69145585 -0.23528676 -2.61074587]]\n",
            "[[ 5.69572724 -0.23523871 -2.61294678]]\n",
            "[[ 5.6999819  -0.23519086 -2.61513896]]\n",
            "[[ 5.70421997 -0.2351432  -2.61732248]]\n",
            "[[ 5.70844158 -0.23509573 -2.6194974 ]]\n",
            "[[ 5.71264684 -0.23504846 -2.62166378]]\n",
            "[[ 5.71683589 -0.23500138 -2.6238217 ]]\n",
            "[[ 5.72100883 -0.23495449 -2.62597122]]\n",
            "[[ 5.7251658  -0.23490779 -2.6281124 ]]\n",
            "[[ 5.72930692 -0.23486127 -2.6302453 ]]\n",
            "[[ 5.73343229 -0.23481494 -2.63236999]]\n",
            "[[ 5.73754205 -0.2347688  -2.63448653]]\n",
            "[[ 5.74163629 -0.23472284 -2.63659497]]\n",
            "[[ 5.74571514 -0.23467707 -2.63869538]]\n",
            "[[ 5.74977872 -0.23463148 -2.64078782]]\n",
            "[[ 5.75382712 -0.23458607 -2.64287235]]\n",
            "[[ 5.75786047 -0.23454084 -2.64494902]]\n",
            "[[ 5.76187887 -0.23449578 -2.64701789]]\n",
            "[[ 5.76588243 -0.23445091 -2.64907902]]\n",
            "[[ 5.76987125 -0.23440621 -2.65113247]]\n",
            "[[ 5.77384545 -0.23436169 -2.65317828]]\n",
            "[[ 5.77780512 -0.23431735 -2.65521653]]\n",
            "[[ 5.78175038 -0.23427318 -2.65724725]]\n",
            "[[ 5.78568131 -0.23422918 -2.65927051]]\n",
            "[[ 5.78959804 -0.23418535 -2.66128635]]\n",
            "[[ 5.79350064 -0.2341417  -2.66329484]]\n",
            "[[ 5.79738923 -0.23409821 -2.66529602]]\n",
            "[[ 5.80126391 -0.23405489 -2.66728994]]\n",
            "[[ 5.80512476 -0.23401174 -2.66927666]]\n",
            "[[ 5.80897189 -0.23396876 -2.67125623]]\n",
            "[[ 5.81280539 -0.23392594 -2.67322869]]\n",
            "[[ 5.81662535 -0.23388329 -2.67519409]]\n",
            "[[ 5.82043188 -0.23384081 -2.6771525 ]]\n",
            "[[ 5.82422505 -0.23379848 -2.67910394]]\n",
            "[[ 5.82800497 -0.23375632 -2.68104848]]\n",
            "[[ 5.83177172 -0.23371432 -2.68298615]]\n",
            "[[ 5.83552539 -0.23367248 -2.68491701]]\n",
            "[[ 5.83926607 -0.2336308  -2.68684111]]\n",
            "[[ 5.84299386 -0.23358927 -2.68875848]]\n",
            "[[ 5.84670883 -0.23354791 -2.69066918]]\n",
            "[[ 5.85041107 -0.2335067  -2.69257324]]\n",
            "[[ 5.85410066 -0.23346564 -2.69447073]]\n",
            "[[ 5.8577777  -0.23342474 -2.69636167]]\n",
            "[[ 5.86144227 -0.233384   -2.69824611]]\n",
            "[[ 5.86509444 -0.23334341 -2.7001241 ]]\n",
            "[[ 5.8687343  -0.23330297 -2.70199568]]\n",
            "[[ 5.87236193 -0.23326268 -2.70386089]]\n",
            "[[ 5.87597742 -0.23322254 -2.70571977]]\n",
            "[[ 5.87958083 -0.23318255 -2.70757237]]\n",
            "[[ 5.88317225 -0.23314271 -2.70941872]]\n",
            "[[ 5.88675176 -0.23310301 -2.71125888]]\n",
            "[[ 5.89031943 -0.23306347 -2.71309287]]\n",
            "[[ 5.89387535 -0.23302407 -2.71492074]]\n",
            "[[ 5.89741958 -0.23298481 -2.71674253]]\n",
            "[[ 5.9009522  -0.2329457  -2.71855828]]\n",
            "[[ 5.90447329 -0.23290674 -2.72036802]]\n",
            "[[ 5.90798292 -0.23286791 -2.7221718 ]]\n",
            "[[ 5.91148116 -0.23282923 -2.72396965]]\n",
            "[[ 5.91496809 -0.23279069 -2.72576162]]\n",
            "[[ 5.91844377 -0.23275229 -2.72754773]]\n",
            "[[ 5.92190828 -0.23271403 -2.72932803]]\n",
            "[[ 5.92536168 -0.23267591 -2.73110256]]\n",
            "[[ 5.92880406 -0.23263792 -2.73287134]]\n",
            "[[ 5.93223547 -0.23260008 -2.73463442]]\n",
            "[[ 5.93565598 -0.23256236 -2.73639183]]\n",
            "[[ 5.93906566 -0.23252479 -2.73814361]]\n",
            "[[ 5.94246459 -0.23248735 -2.73988979]]\n",
            "[[ 5.94585282 -0.23245004 -2.74163041]]\n",
            "[[ 5.94923042 -0.23241287 -2.7433655 ]]\n",
            "[[ 5.95259745 -0.23237583 -2.74509509]]\n",
            "[[ 5.95595399 -0.23233892 -2.74681923]]\n",
            "[[ 5.9593001  -0.23230215 -2.74853794]]\n",
            "[[ 5.96263583 -0.2322655  -2.75025125]]\n",
            "[[ 5.96596125 -0.23222899 -2.75195921]]\n",
            "[[ 5.96927643 -0.2321926  -2.75366184]]\n",
            "[[ 5.97258142 -0.23215634 -2.75535917]]\n",
            "[[ 5.97587629 -0.23212021 -2.75705124]]\n",
            "[[ 5.97916109 -0.2320842  -2.75873808]]\n",
            "[[ 5.98243589 -0.23204832 -2.76041971]]\n",
            "[[ 5.98570076 -0.23201257 -2.76209618]]\n",
            "[[ 5.98895573 -0.23197694 -2.76376752]]\n",
            "[[ 5.99220088 -0.23194144 -2.76543374]]\n",
            "[[ 5.99543627 -0.23190606 -2.76709489]]\n",
            "[[ 5.99866194 -0.2318708  -2.768751  ]]\n",
            "[[ 6.00187796 -0.23183567 -2.77040208]]\n",
            "[[ 6.00508439 -0.23180065 -2.77204818]]\n",
            "[[ 6.00828127 -0.23176576 -2.77368932]]\n",
            "[[ 6.01146867 -0.23173098 -2.77532554]]\n",
            "[[ 6.01464664 -0.23169633 -2.77695685]]\n",
            "[[ 6.01781524 -0.2316618  -2.7785833 ]]\n",
            "[[ 6.02097451 -0.23162738 -2.7802049 ]]\n",
            "[[ 6.02412452 -0.23159308 -2.78182168]]\n",
            "[[ 6.02726532 -0.2315589  -2.78343369]]\n",
            "[[ 6.03039695 -0.23152483 -2.78504093]]\n",
            "[[ 6.03351948 -0.23149088 -2.78664344]]\n",
            "[[ 6.03663294 -0.23145704 -2.78824124]]\n",
            "[[ 6.03973741 -0.23142332 -2.78983437]]\n",
            "[[ 6.04283291 -0.23138972 -2.79142285]]\n",
            "[[ 6.04591952 -0.23135622 -2.7930067 ]]\n",
            "[[ 6.04899727 -0.23132284 -2.79458596]]\n",
            "[[ 6.05206621 -0.23128957 -2.79616064]]\n",
            "[[ 6.0551264  -0.23125641 -2.79773078]]\n",
            "[[ 6.05817789 -0.23122337 -2.7992964 ]]\n",
            "[[ 6.06122072 -0.23119043 -2.80085752]]\n",
            "[[ 6.06425494 -0.2311576  -2.80241418]]\n",
            "[[ 6.0672806  -0.23112488 -2.80396639]]\n",
            "[[ 6.07029774 -0.23109227 -2.80551417]]\n",
            "[[ 6.07330642 -0.23105977 -2.80705757]]\n",
            "[[ 6.07630667 -0.23102738 -2.80859659]]\n",
            "[[ 6.07929855 -0.23099509 -2.81013126]]\n",
            "[[ 6.08228211 -0.23096291 -2.81166162]]\n",
            "[[ 6.08525738 -0.23093083 -2.81318767]]\n",
            "[[ 6.08822441 -0.23089886 -2.81470944]]\n",
            "[[ 6.09118324 -0.23086699 -2.81622697]]\n",
            "[[ 6.09413393 -0.23083523 -2.81774027]]\n",
            "[[ 6.09707652 -0.23080357 -2.81924935]]\n",
            "[[ 6.10001104 -0.23077201 -2.82075426]]\n",
            "[[ 6.10293754 -0.23074056 -2.82225501]]\n",
            "[[ 6.10585607 -0.23070921 -2.82375161]]\n",
            "[[ 6.10876666 -0.23067796 -2.82524411]]\n",
            "[[ 6.11166937 -0.23064681 -2.8267325 ]]\n",
            "[[ 6.11456422 -0.23061576 -2.82821683]]\n",
            "[[ 6.11745127 -0.23058481 -2.82969711]]\n",
            "[[ 6.12033056 -0.23055396 -2.83117335]]\n",
            "[[ 6.12320212 -0.23052321 -2.83264559]]\n",
            "[[ 6.12606599 -0.23049255 -2.83411385]]\n",
            "[[ 6.12892222 -0.230462   -2.83557814]]\n",
            "[[ 6.13177085 -0.23043154 -2.83703848]]\n",
            "[[ 6.13461191 -0.23040118 -2.83849491]]\n",
            "[[ 6.13744545 -0.23037091 -2.83994743]]\n",
            "[[ 6.1402715  -0.23034074 -2.84139607]]\n",
            "[[ 6.1430901  -0.23031067 -2.84284084]]\n",
            "[[ 6.1459013  -0.23028069 -2.84428178]]\n",
            "[[ 6.14870512 -0.2302508  -2.84571889]]\n",
            "[[ 6.15150162 -0.23022101 -2.8471522 ]]\n",
            "[[ 6.15429081 -0.23019131 -2.84858173]]\n",
            "[[ 6.15707275 -0.23016171 -2.8500075 ]]\n",
            "[[ 6.15984747 -0.2301322  -2.85142952]]\n",
            "[[ 6.16261501 -0.23010278 -2.85284782]]\n",
            "[[ 6.1653754  -0.23007345 -2.85426241]]\n",
            "[[ 6.16812868 -0.23004421 -2.85567332]]\n",
            "[[ 6.17087488 -0.23001506 -2.85708056]]\n",
            "[[ 6.17361404 -0.229986   -2.85848415]]\n",
            "[[ 6.1763462  -0.22995704 -2.85988411]]\n",
            "[[ 6.17907139 -0.22992816 -2.86128046]]\n",
            "[[ 6.18178965 -0.22989937 -2.86267321]]\n",
            "[[ 6.184501   -0.22987067 -2.86406239]]\n",
            "[[ 6.18720549 -0.22984206 -2.86544801]]\n",
            "[[ 6.18990315 -0.22981353 -2.86683009]]\n",
            "[[ 6.19259402 -0.22978509 -2.86820865]]\n",
            "[[ 6.19527811 -0.22975674 -2.8695837 ]]\n",
            "[[ 6.19795548 -0.22972847 -2.87095527]]\n",
            "[[ 6.20062615 -0.22970029 -2.87232337]]\n",
            "[[ 6.20329016 -0.2296722  -2.87368801]]\n",
            "[[ 6.20594753 -0.22964419 -2.87504922]]\n",
            "[[ 6.20859831 -0.22961627 -2.87640701]]\n",
            "[[ 6.21124252 -0.22958842 -2.87776139]]\n",
            "[[ 6.21388019 -0.22956067 -2.87911239]]\n",
            "[[ 6.21651136 -0.22953299 -2.88046003]]\n",
            "[[ 6.21913606 -0.2295054  -2.88180431]]\n",
            "[[ 6.22175431 -0.22947789 -2.88314525]]\n",
            "[[ 6.22436616 -0.22945047 -2.88448287]]\n",
            "[[ 6.22697163 -0.22942312 -2.88581719]]\n",
            "[[ 6.22957075 -0.22939586 -2.88714822]]\n",
            "[[ 6.23216355 -0.22936868 -2.88847598]]\n",
            "[[ 6.23475006 -0.22934158 -2.88980049]]\n",
            "[[ 6.23733031 -0.22931456 -2.89112175]]\n",
            "[[ 6.23990434 -0.22928762 -2.89243979]]\n",
            "[[ 6.24247217 -0.22926075 -2.89375461]]\n",
            "[[ 6.24503382 -0.22923397 -2.89506625]]\n",
            "[[ 6.24758934 -0.22920727 -2.8963747 ]]\n",
            "[[ 6.25013875 -0.22918064 -2.89767999]]\n",
            "[[ 6.25268207 -0.22915409 -2.89898213]]\n",
            "[[ 6.25521934 -0.22912762 -2.90028114]]\n",
            "[[ 6.25775058 -0.22910123 -2.90157702]]\n",
            "[[ 6.26027582 -0.22907491 -2.9028698 ]]\n",
            "[[ 6.26279509 -0.22904867 -2.90415949]]\n",
            "[[ 6.26530842 -0.22902251 -2.90544611]]\n",
            "[[ 6.26781584 -0.22899642 -2.90672966]]\n",
            "[[ 6.27031737 -0.22897041 -2.90801016]]\n",
            "[[ 6.27281304 -0.22894447 -2.90928763]]\n",
            "[[ 6.27530287 -0.2289186  -2.91056209]]\n",
            "[[ 6.2777869  -0.22889282 -2.91183353]]\n",
            "[[ 6.28026515 -0.2288671  -2.91310199]]\n",
            "[[ 6.28273764 -0.22884146 -2.91436747]]\n",
            "[[ 6.28520441 -0.22881589 -2.91562998]]\n",
            "[[ 6.28766547 -0.2287904  -2.91688955]]\n",
            "[[ 6.29012086 -0.22876497 -2.91814617]]\n",
            "[[ 6.2925706  -0.22873962 -2.91939988]]\n",
            "[[ 6.29501471 -0.22871435 -2.92065067]]\n",
            "[[ 6.29745323 -0.22868914 -2.92189857]]\n",
            "[[ 6.29988617 -0.228664   -2.92314358]]\n",
            "[[ 6.30231356 -0.22863894 -2.92438572]]\n",
            "[[ 6.30473543 -0.22861395 -2.92562501]]\n",
            "[[ 6.3071518  -0.22858902 -2.92686144]]\n",
            "[[ 6.3095627  -0.22856417 -2.92809505]]\n",
            "[[ 6.31196814 -0.22853939 -2.92932584]]\n",
            "[[ 6.31436816 -0.22851467 -2.93055382]]\n",
            "[[ 6.31676277 -0.22849003 -2.93177901]]\n",
            "[[ 6.31915201 -0.22846545 -2.93300141]]\n",
            "[[ 6.3215359  -0.22844094 -2.93422105]]\n",
            "[[ 6.32391445 -0.2284165  -2.93543792]]\n",
            "[[ 6.32628769 -0.22839213 -2.93665206]]\n",
            "[[ 6.32865565 -0.22836783 -2.93786346]]\n",
            "[[ 6.33101835 -0.22834359 -2.93907214]]\n",
            "[[ 6.33337581 -0.22831942 -2.94027811]]\n",
            "[[ 6.33572806 -0.22829531 -2.94148138]]\n",
            "[[ 6.33807511 -0.22827128 -2.94268197]]\n",
            "[[ 6.34041699 -0.22824731 -2.94387989]]\n",
            "[[ 6.34275373 -0.2282234  -2.94507514]]\n",
            "[[ 6.34508534 -0.22819956 -2.94626774]]\n",
            "[[ 6.34741184 -0.22817578 -2.94745771]]\n",
            "[[ 6.34973326 -0.22815207 -2.94864504]]\n",
            "[[ 6.35204963 -0.22812843 -2.94982977]]\n",
            "[[ 6.35436095 -0.22810485 -2.95101188]]\n",
            "[[ 6.35666726 -0.22808133 -2.95219141]]\n",
            "[[ 6.35896858 -0.22805787 -2.95336835]]\n",
            "[[ 6.36126492 -0.22803448 -2.95454272]]\n",
            "[[ 6.3635563  -0.22801116 -2.95571453]]\n",
            "[[ 6.36584276 -0.22798789 -2.95688379]]\n",
            "[[ 6.3681243  -0.22796469 -2.95805051]]\n",
            "[[ 6.37040096 -0.22794155 -2.9592147 ]]\n",
            "[[ 6.37267274 -0.22791847 -2.96037638]]\n",
            "[[ 6.37493968 -0.22789546 -2.96153555]]\n",
            "[[ 6.37720178 -0.2278725  -2.96269223]]\n",
            "[[ 6.37945908 -0.22784961 -2.96384642]]\n",
            "[[ 6.38171159 -0.22782678 -2.96499814]]\n",
            "[[ 6.38395933 -0.22780401 -2.96614739]]\n",
            "[[ 6.38620232 -0.2277813  -2.96729419]]\n",
            "[[ 6.38844059 -0.22775864 -2.96843854]]\n",
            "[[ 6.39067414 -0.22773605 -2.96958046]]\n",
            "[[ 6.392903   -0.22771352 -2.97071996]]\n",
            "[[ 6.3951272  -0.22769105 -2.97185705]]\n",
            "[[ 6.39734674 -0.22766864 -2.97299173]]\n",
            "[[ 6.39956165 -0.22764628 -2.97412402]]\n",
            "[[ 6.40177194 -0.22762399 -2.97525392]]\n",
            "[[ 6.40397764 -0.22760175 -2.97638145]]\n",
            "[[ 6.40617877 -0.22757957 -2.97750662]]\n",
            "[[ 6.40837534 -0.22755745 -2.97862944]]\n",
            "[[ 6.41056737 -0.22753539 -2.97974991]]\n",
            "[[ 6.41275488 -0.22751338 -2.98086804]]\n",
            "[[ 6.41493789 -0.22749144 -2.98198385]]\n",
            "[[ 6.41711642 -0.22746954 -2.98309734]]\n",
            "[[ 6.41929048 -0.22744771 -2.98420853]]\n",
            "[[ 6.42146009 -0.22742593 -2.98531742]]\n",
            "[[ 6.42362527 -0.22740421 -2.98642403]]\n",
            "[[ 6.42578605 -0.22738254 -2.98752835]]\n",
            "[[ 6.42794242 -0.22736093 -2.98863041]]\n",
            "[[ 6.43009443 -0.22733938 -2.9897302 ]]\n",
            "[[ 6.43224207 -0.22731788 -2.99082774]]\n",
            "[[ 6.43438537 -0.22729643 -2.99192305]]\n",
            "[[ 6.43652435 -0.22727504 -2.99301612]]\n",
            "[[ 6.43865902 -0.22725371 -2.99410696]]\n",
            "[[ 6.4407894  -0.22723242 -2.99519559]]\n",
            "[[ 6.4429155  -0.2272112  -2.99628201]]\n",
            "[[ 6.44503735 -0.22719002 -2.99736624]]\n",
            "[[ 6.44715496 -0.2271689  -2.99844828]]\n",
            "[[ 6.44926835 -0.22714784 -2.99952813]]\n",
            "[[ 6.45137753 -0.22712683 -3.00060582]]\n",
            "[[ 6.45348252 -0.22710587 -3.00168134]]\n",
            "[[ 6.45558334 -0.22708496 -3.00275471]]\n",
            "[[ 6.45768    -0.2270641  -3.00382593]]\n",
            "[[ 6.45977252 -0.2270433  -3.00489502]]\n",
            "[[ 6.46186092 -0.22702255 -3.00596197]]\n",
            "[[ 6.4639452  -0.22700185 -3.0070268 ]]\n",
            "[[ 6.46602539 -0.22698121 -3.00808952]]\n",
            "[[ 6.46810151 -0.22696061 -3.00915014]]\n",
            "[[ 6.47017356 -0.22694007 -3.01020866]]\n",
            "[[ 6.47224157 -0.22691958 -3.01126509]]\n",
            "[[ 6.47430555 -0.22689914 -3.01231944]]\n",
            "[[ 6.47636551 -0.22687874 -3.01337172]]\n",
            "[[ 6.47842147 -0.2268584  -3.01442194]]\n",
            "[[ 6.48047345 -0.22683811 -3.0154701 ]]\n",
            "[[ 6.48252146 -0.22681787 -3.01651621]]\n",
            "[[ 6.48456552 -0.22679768 -3.01756028]]\n",
            "[[ 6.48660563 -0.22677754 -3.01860232]]\n",
            "[[ 6.48864183 -0.22675745 -3.01964233]]\n",
            "[[ 6.49067411 -0.22673741 -3.02068033]]\n",
            "[[ 6.4927025  -0.22671742 -3.02171632]]\n",
            "[[ 6.49472701 -0.22669747 -3.0227503 ]]\n",
            "[[ 6.49674765 -0.22667758 -3.02378229]]\n",
            "[[ 6.49876445 -0.22665773 -3.0248123 ]]\n",
            "[[ 6.5007774  -0.22663793 -3.02584032]]\n",
            "[[ 6.50278654 -0.22661818 -3.02686638]]\n",
            "[[ 6.50479187 -0.22659848 -3.02789046]]\n",
            "[[ 6.5067934  -0.22657882 -3.0289126 ]]\n",
            "[[ 6.50879116 -0.22655922 -3.02993278]]\n",
            "[[ 6.51078515 -0.22653966 -3.03095102]]\n",
            "[[ 6.51277538 -0.22652014 -3.03196732]]\n",
            "[[ 6.51476189 -0.22650068 -3.0329817 ]]\n",
            "[[ 6.51674466 -0.22648126 -3.03399416]]\n",
            "[[ 6.51872373 -0.22646188 -3.0350047 ]]\n",
            "[[ 6.5206991  -0.22644256 -3.03601334]]\n",
            "[[ 6.52267079 -0.22642328 -3.03702008]]\n",
            "[[ 6.52463881 -0.22640404 -3.03802492]]\n",
            "[[ 6.52660318 -0.22638486 -3.03902788]]\n",
            "[[ 6.5285639  -0.22636571 -3.04002896]]\n",
            "[[ 6.53052099 -0.22634662 -3.04102817]]\n",
            "[[ 6.53247447 -0.22632756 -3.04202552]]\n",
            "[[ 6.53442434 -0.22630856 -3.043021  ]]\n",
            "[[ 6.53637063 -0.2262896  -3.04401464]]\n",
            "[[ 6.53831334 -0.22627068 -3.04500643]]\n",
            "[[ 6.54025248 -0.22625181 -3.04599639]]\n",
            "[[ 6.54218808 -0.22623298 -3.04698451]]\n",
            "[[ 6.54412014 -0.2262142  -3.04797081]]\n",
            "[[ 6.54604867 -0.22619546 -3.04895529]]\n",
            "[[ 6.54797369 -0.22617676 -3.04993796]]\n",
            "[[ 6.5498952  -0.22615811 -3.05091883]]\n",
            "[[ 6.55181324 -0.2261395  -3.0518979 ]]\n",
            "[[ 6.55372779 -0.22612094 -3.05287517]]\n",
            "[[ 6.55563889 -0.22610242 -3.05385066]]\n",
            "[[ 6.55754653 -0.22608394 -3.05482438]]\n",
            "[[ 6.55945073 -0.2260655  -3.05579632]]\n",
            "[[ 6.56135151 -0.22604711 -3.05676649]]\n",
            "[[ 6.56324888 -0.22602876 -3.05773491]]\n",
            "[[ 6.56514285 -0.22601045 -3.05870157]]\n",
            "[[ 6.56703342 -0.22599219 -3.05966648]]\n",
            "[[ 6.56892062 -0.22597397 -3.06062966]]\n",
            "[[ 6.57080445 -0.22595578 -3.06159109]]\n",
            "[[ 6.57268493 -0.22593765 -3.0625508 ]]\n",
            "[[ 6.57456206 -0.22591955 -3.06350879]]\n",
            "[[ 6.57643587 -0.22590149 -3.06446506]]\n",
            "[[ 6.57830635 -0.22588348 -3.06541962]]\n",
            "[[ 6.58017353 -0.2258655  -3.06637248]]\n",
            "[[ 6.58203741 -0.22584757 -3.06732363]]\n",
            "[[ 6.58389801 -0.22582968 -3.0682731 ]]\n",
            "[[ 6.58575534 -0.22581183 -3.06922088]]\n",
            "[[ 6.5876094  -0.22579402 -3.07016697]]\n",
            "[[ 6.58946022 -0.22577625 -3.0711114 ]]\n",
            "[[ 6.59130779 -0.22575852 -3.07205415]]\n",
            "[[ 6.59315214 -0.22574083 -3.07299524]]\n",
            "[[ 6.59499327 -0.22572318 -3.07393467]]\n",
            "[[ 6.59683119 -0.22570557 -3.07487245]]\n",
            "[[ 6.59866592 -0.225688   -3.07580859]]\n",
            "[[ 6.60049747 -0.22567047 -3.07674308]]\n",
            "[[ 6.60232584 -0.22565298 -3.07767594]]\n",
            "[[ 6.60415105 -0.22563553 -3.07860717]]\n",
            "[[ 6.60597311 -0.22561811 -3.07953678]]\n",
            "[[ 6.60779203 -0.22560074 -3.08046476]]\n",
            "[[ 6.60960781 -0.2255834  -3.08139114]]\n",
            "[[ 6.61142048 -0.22556611 -3.08231591]]\n",
            "[[ 6.61323004 -0.22554885 -3.08323908]]\n",
            "[[ 6.6150365  -0.22553163 -3.08416065]]\n",
            "[[ 6.61683988 -0.22551445 -3.08508063]]\n",
            "[[ 6.61864017 -0.22549731 -3.08599902]]\n",
            "[[ 6.6204374  -0.2254802  -3.08691584]]\n",
            "[[ 6.62223158 -0.22546313 -3.08783108]]\n",
            "[[ 6.6240227  -0.2254461  -3.08874475]]\n",
            "[[ 6.62581079 -0.22542911 -3.08965686]]\n",
            "[[ 6.62759585 -0.22541216 -3.09056741]]\n",
            "[[ 6.6293779  -0.22539524 -3.09147641]]\n",
            "[[ 6.63115694 -0.22537836 -3.09238385]]\n",
            "[[ 6.63293298 -0.22536151 -3.09328976]]\n",
            "[[ 6.63470604 -0.22534471 -3.09419412]]\n",
            "[[ 6.63647612 -0.22532794 -3.09509696]]\n",
            "[[ 6.63824324 -0.22531121 -3.09599826]]\n",
            "[[ 6.6400074  -0.22529451 -3.09689805]]\n",
            "[[ 6.64176861 -0.22527785 -3.09779631]]\n",
            "[[ 6.64352688 -0.22526122 -3.09869307]]\n",
            "[[ 6.64528223 -0.22524464 -3.09958831]]\n",
            "[[ 6.64703466 -0.22522808 -3.10048206]]\n",
            "[[ 6.64878418 -0.22521157 -3.1013743 ]]\n",
            "[[ 6.6505308  -0.22519509 -3.10226506]]\n",
            "[[ 6.65227453 -0.22517864 -3.10315432]]\n",
            "[[ 6.65401538 -0.22516223 -3.1040421 ]]\n",
            "[[ 6.65575336 -0.22514586 -3.10492841]]\n",
            "[[ 6.65748848 -0.22512952 -3.10581324]]\n",
            "[[ 6.65922075 -0.22511322 -3.1066966 ]]\n",
            "[[ 6.66095017 -0.22509695 -3.1075785 ]]\n",
            "[[ 6.66267676 -0.22508071 -3.10845894]]\n",
            "[[ 6.66440053 -0.22506451 -3.10933793]]\n",
            "[[ 6.66612148 -0.22504835 -3.11021547]]\n",
            "[[ 6.66783962 -0.22503222 -3.11109156]]\n",
            "[[ 6.66955497 -0.22501612 -3.11196621]]\n",
            "[[ 6.67126753 -0.22500006 -3.11283943]]\n",
            "[[ 6.67297731 -0.22498403 -3.11371121]]\n",
            "[[ 6.67468432 -0.22496804 -3.11458157]]\n",
            "[[ 6.67638857 -0.22495208 -3.11545051]]\n",
            "[[ 6.67809006 -0.22493615 -3.11631804]]\n",
            "[[ 6.67978881 -0.22492026 -3.11718414]]\n",
            "[[ 6.68148482 -0.2249044  -3.11804885]]\n",
            "[[ 6.68317811 -0.22488858 -3.11891214]]\n",
            "[[ 6.68486868 -0.22487278 -3.11977404]]\n",
            "[[ 6.68655654 -0.22485703 -3.12063455]]\n",
            "[[ 6.6882417  -0.2248413  -3.12149366]]\n",
            "[[ 6.68992417 -0.22482561 -3.12235139]]\n",
            "[[ 6.69160395 -0.22480995 -3.12320774]]\n",
            "[[ 6.69328106 -0.22479432 -3.12406271]]\n",
            "[[ 6.6949555  -0.22477872 -3.12491631]]\n",
            "[[ 6.69662728 -0.22476316 -3.12576854]]\n",
            "[[ 6.69829641 -0.22474763 -3.12661941]]\n",
            "[[ 6.6999629  -0.22473213 -3.12746891]]\n",
            "[[ 6.70162675 -0.22471667 -3.12831707]]\n",
            "[[ 6.70328798 -0.22470123 -3.12916387]]\n",
            "[[ 6.70494659 -0.22468583 -3.13000932]]\n",
            "[[ 6.70660259 -0.22467046 -3.13085343]]\n",
            "[[ 6.708256   -0.22465512 -3.13169621]]\n",
            "[[ 6.7099068  -0.22463982 -3.13253764]]\n",
            "[[ 6.71155503 -0.22462454 -3.13337775]]\n",
            "[[ 6.71320067 -0.2246093  -3.13421654]]\n",
            "[[ 6.71484375 -0.22459409 -3.135054  ]]\n",
            "[[ 6.71648426 -0.2245789  -3.13589014]]\n",
            "[[ 6.71812222 -0.22456375 -3.13672497]]\n",
            "[[ 6.71975764 -0.22454864 -3.13755849]]\n",
            "[[ 6.72139051 -0.22453355 -3.1383907 ]]\n",
            "[[ 6.72302086 -0.22451849 -3.13922162]]\n",
            "[[ 6.72464868 -0.22450346 -3.14005123]]\n",
            "[[ 6.72627399 -0.22448847 -3.14087955]]\n",
            "[[ 6.7278968  -0.2244735  -3.14170658]]\n",
            "[[ 6.7295171  -0.22445857 -3.14253233]]\n",
            "[[ 6.73113491 -0.22444366 -3.1433568 ]]\n",
            "[[ 6.73275024 -0.22442878 -3.14417998]]\n",
            "[[ 6.73436309 -0.22441394 -3.14500189]]\n",
            "[[ 6.73597347 -0.22439912 -3.14582254]]\n",
            "[[ 6.73758139 -0.22438434 -3.14664191]]\n",
            "[[ 6.73918685 -0.22436958 -3.14746003]]\n",
            "[[ 6.74078987 -0.22435486 -3.14827688]]\n",
            "[[ 6.74239045 -0.22434016 -3.14909249]]\n",
            "[[ 6.74398859 -0.22432549 -3.14990684]]\n",
            "[[ 6.74558431 -0.22431086 -3.15071994]]\n",
            "[[ 6.74717762 -0.22429625 -3.1515318 ]]\n",
            "[[ 6.74876851 -0.22428167 -3.15234242]]\n",
            "[[ 6.750357   -0.22426712 -3.1531518 ]]\n",
            "[[ 6.75194309 -0.2242526  -3.15395995]]\n",
            "[[ 6.75352679 -0.22423811 -3.15476688]]\n",
            "[[ 6.75510811 -0.22422364 -3.15557258]]\n",
            "[[ 6.75668706 -0.22420921 -3.15637705]]\n",
            "[[ 6.75826364 -0.2241948  -3.15718031]]\n",
            "[[ 6.75983785 -0.22418043 -3.15798236]]\n",
            "[[ 6.76140972 -0.22416608 -3.15878319]]\n",
            "[[ 6.76297923 -0.22415176 -3.15958282]]\n",
            "[[ 6.76454641 -0.22413746 -3.16038125]]\n",
            "[[ 6.76611125 -0.2241232  -3.16117847]]\n",
            "[[ 6.76767377 -0.22410896 -3.1619745 ]]\n",
            "[[ 6.76923396 -0.22409475 -3.16276934]]\n",
            "[[ 6.77079185 -0.22408057 -3.16356299]]\n",
            "[[ 6.77234743 -0.22406642 -3.16435545]]\n",
            "[[ 6.77390071 -0.2240523  -3.16514673]]\n",
            "[[ 6.77545169 -0.2240382  -3.16593684]]\n",
            "[[ 6.77700039 -0.22402413 -3.16672576]]\n",
            "[[ 6.77854681 -0.22401009 -3.16751352]]\n",
            "[[ 6.78009096 -0.22399607 -3.16830011]]\n",
            "[[ 6.78163284 -0.22398208 -3.16908553]]\n",
            "[[ 6.78317247 -0.22396812 -3.16986979]]\n",
            "[[ 6.78470984 -0.22395419 -3.17065289]]\n",
            "[[ 6.78624496 -0.22394028 -3.17143484]]\n",
            "[[ 6.78777784 -0.2239264  -3.17221564]]\n",
            "[[ 6.78930849 -0.22391255 -3.17299529]]\n",
            "[[ 6.79083691 -0.22389872 -3.17377379]]\n",
            "[[ 6.79236312 -0.22388492 -3.17455115]]\n",
            "[[ 6.7938871  -0.22387115 -3.17532738]]\n",
            "[[ 6.79540888 -0.2238574  -3.17610247]]\n",
            "[[ 6.79692846 -0.22384368 -3.17687643]]\n",
            "[[ 6.79844584 -0.22382999 -3.17764926]]\n",
            "[[ 6.79996103 -0.22381632 -3.17842096]]\n",
            "[[ 6.80147404 -0.22380268 -3.17919154]]\n",
            "[[ 6.80298488 -0.22378906 -3.17996101]]\n",
            "[[ 6.80449354 -0.22377547 -3.18072936]]\n",
            "[[ 6.80600004 -0.22376191 -3.18149659]]\n",
            "[[ 6.80750438 -0.22374837 -3.18226272]]\n",
            "[[ 6.80900657 -0.22373486 -3.18302774]]\n",
            "[[ 6.81050661 -0.22372137 -3.18379166]]\n",
            "[[ 6.81200451 -0.22370791 -3.18455448]]\n",
            "[[ 6.81350028 -0.22369447 -3.1853162 ]]\n",
            "[[ 6.81499391 -0.22368106 -3.18607683]]\n",
            "[[ 6.81648543 -0.22366768 -3.18683637]]\n",
            "[[ 6.81797483 -0.22365432 -3.18759482]]\n",
            "[[ 6.81946212 -0.22364098 -3.18835219]]\n",
            "[[ 6.82094731 -0.22362768 -3.18910848]]\n",
            "[[ 6.8224304  -0.22361439 -3.18986368]]\n",
            "[[ 6.82391139 -0.22360113 -3.19061782]]\n",
            "[[ 6.8253903  -0.2235879  -3.19137088]]\n",
            "[[ 6.82686713 -0.22357469 -3.19212287]]\n",
            "[[ 6.82834188 -0.2235615  -3.19287379]]\n",
            "[[ 6.82981456 -0.22354834 -3.19362366]]\n",
            "[[ 6.83128518 -0.22353521 -3.19437246]]\n",
            "[[ 6.83275374 -0.22352209 -3.1951202 ]]\n",
            "[[ 6.83422025 -0.22350901 -3.19586689]]\n",
            "[[ 6.83568471 -0.22349595 -3.19661253]]\n",
            "[[ 6.83714713 -0.22348291 -3.19735712]]\n",
            "[[ 6.83860752 -0.22346989 -3.19810067]]\n",
            "[[ 6.84006588 -0.2234569  -3.19884317]]\n",
            "[[ 6.84152221 -0.22344394 -3.19958464]]\n",
            "[[ 6.84297652 -0.22343099 -3.20032506]]\n",
            "[[ 6.84442882 -0.22341808 -3.20106445]]\n",
            "[[ 6.84587911 -0.22340518 -3.20180281]]\n",
            "[[ 6.8473274  -0.22339231 -3.20254015]]\n",
            "[[ 6.84877369 -0.22337946 -3.20327645]]\n",
            "[[ 6.85021799 -0.22336664 -3.20401174]]\n",
            "[[ 6.85166031 -0.22335384 -3.204746  ]]\n",
            "[[ 6.85310064 -0.22334106 -3.20547925]]\n",
            "[[ 6.854539   -0.22332831 -3.20621148]]\n",
            "[[ 6.85597539 -0.22331558 -3.2069427 ]]\n",
            "[[ 6.85740982 -0.22330287 -3.20767291]]\n",
            "[[ 6.85884228 -0.22329019 -3.20840212]]\n",
            "[[ 6.8602728  -0.22327753 -3.20913032]]\n",
            "[[ 6.86170136 -0.22326489 -3.20985752]]\n",
            "[[ 6.86312798 -0.22325228 -3.21058372]]\n",
            "[[ 6.86455266 -0.22323969 -3.21130893]]\n",
            "[[ 6.86597541 -0.22322712 -3.21203315]]\n",
            "[[ 6.86739623 -0.22321457 -3.21275637]]\n",
            "[[ 6.86881513 -0.22320205 -3.21347861]]\n",
            "[[ 6.87023211 -0.22318955 -3.21419987]]\n",
            "[[ 6.87164718 -0.22317707 -3.21492014]]\n",
            "[[ 6.87306034 -0.22316462 -3.21563943]]\n",
            "[[ 6.8744716  -0.22315218 -3.21635775]]\n",
            "[[ 6.87588096 -0.22313977 -3.21707509]]\n",
            "[[ 6.87728843 -0.22312738 -3.21779146]]\n",
            "[[ 6.87869401 -0.22311502 -3.21850686]]\n",
            "[[ 6.88009771 -0.22310267 -3.21922129]]\n",
            "[[ 6.88149953 -0.22309035 -3.21993476]]\n",
            "[[ 6.88289948 -0.22307805 -3.22064727]]\n",
            "[[ 6.88429756 -0.22306577 -3.22135882]]\n",
            "[[ 6.88569378 -0.22305352 -3.22206942]]\n",
            "[[ 6.88708814 -0.22304128 -3.22277906]]\n",
            "[[ 6.88848065 -0.22302907 -3.22348775]]\n",
            "[[ 6.88987132 -0.22301688 -3.22419549]]\n",
            "[[ 6.89126014 -0.22300471 -3.22490229]]\n",
            "[[ 6.89264712 -0.22299256 -3.22560814]]\n",
            "[[ 6.89403226 -0.22298044 -3.22631305]]\n",
            "[[ 6.89541558 -0.22296833 -3.22701702]]\n",
            "[[ 6.89679708 -0.22295625 -3.22772006]]\n",
            "[[ 6.89817676 -0.22294419 -3.22842216]]\n",
            "[[ 6.89955462 -0.22293215 -3.22912333]]\n",
            "[[ 6.90093067 -0.22292013 -3.22982358]]\n",
            "[[ 6.90230492 -0.22290813 -3.23052289]]\n",
            "[[ 6.90367737 -0.22289615 -3.23122128]]\n",
            "[[ 6.90504802 -0.2228842  -3.23191875]]\n",
            "[[ 6.90641688 -0.22287226 -3.2326153 ]]\n",
            "[[ 6.90778395 -0.22286035 -3.23331094]]\n",
            "[[ 6.90914925 -0.22284845 -3.23400566]]\n",
            "[[ 6.91051276 -0.22283658 -3.23469947]]\n",
            "[[ 6.91187451 -0.22282473 -3.23539236]]\n",
            "[[ 6.91323448 -0.2228129  -3.23608435]]\n",
            "[[ 6.91459269 -0.22280109 -3.23677544]]\n",
            "[[ 6.91594915 -0.2227893  -3.23746562]]\n",
            "[[ 6.91730384 -0.22277753 -3.23815491]]\n",
            "[[ 6.91865679 -0.22276578 -3.23884329]]\n",
            "[[ 6.92000799 -0.22275405 -3.23953078]]\n",
            "[[ 6.92135746 -0.22274234 -3.24021737]]\n",
            "[[ 6.92270518 -0.22273065 -3.24090308]]\n",
            "[[ 6.92405117 -0.22271898 -3.24158789]]\n",
            "[[ 6.92539544 -0.22270733 -3.24227182]]\n",
            "[[ 6.92673798 -0.2226957  -3.24295487]]\n",
            "[[ 6.9280788  -0.2226841  -3.24363703]]\n",
            "[[ 6.92941791 -0.22267251 -3.24431831]]\n",
            "[[ 6.93075531 -0.22266094 -3.24499871]]\n",
            "[[ 6.932091   -0.22264939 -3.24567824]]\n",
            "[[ 6.93342499 -0.22263786 -3.2463569 ]]\n",
            "[[ 6.93475728 -0.22262635 -3.24703468]]\n",
            "[[ 6.93608788 -0.22261486 -3.2477116 ]]\n",
            "[[ 6.93741679 -0.2226034  -3.24838765]]\n",
            "[[ 6.93874401 -0.22259195 -3.24906284]]\n",
            "[[ 6.94006955 -0.22258051 -3.24973716]]\n",
            "[[ 6.94139342 -0.2225691  -3.25041062]]\n",
            "[[ 6.94271562 -0.22255771 -3.25108323]]\n",
            "[[ 6.94403614 -0.22254634 -3.25175498]]\n",
            "[[ 6.94535501 -0.22253499 -3.25242587]]\n",
            "[[ 6.94667221 -0.22252365 -3.25309592]]\n",
            "[[ 6.94798776 -0.22251234 -3.25376511]]\n",
            "[[ 6.94930165 -0.22250104 -3.25443346]]\n",
            "[[ 6.9506139  -0.22248977 -3.25510096]]\n",
            "[[ 6.95192451 -0.22247851 -3.25576762]]\n",
            "[[ 6.95323348 -0.22246727 -3.25643344]]\n",
            "[[ 6.95454081 -0.22245605 -3.25709842]]\n",
            "[[ 6.95584651 -0.22244485 -3.25776256]]\n",
            "[[ 6.95715058 -0.22243367 -3.25842587]]\n",
            "[[ 6.95845303 -0.2224225  -3.25908835]]\n",
            "[[ 6.95975386 -0.22241136 -3.25974999]]\n",
            "[[ 6.96105308 -0.22240023 -3.26041081]]\n",
            "[[ 6.96235068 -0.22238913 -3.2610708 ]]\n",
            "[[ 6.96364668 -0.22237804 -3.26172997]]\n",
            "[[ 6.96494107 -0.22236697 -3.26238831]]\n",
            "[[ 6.96623386 -0.22235592 -3.26304583]]\n",
            "[[ 6.96752506 -0.22234488 -3.26370254]]\n",
            "[[ 6.96881467 -0.22233387 -3.26435843]]\n",
            "[[ 6.97010269 -0.22232287 -3.2650135 ]]\n",
            "[[ 6.97138912 -0.22231189 -3.26566776]]\n",
            "[[ 6.97267398 -0.22230093 -3.26632121]]\n",
            "[[ 6.97395726 -0.22228999 -3.26697386]]\n",
            "[[ 6.97523896 -0.22227907 -3.2676257 ]]\n",
            "[[ 6.9765191  -0.22226816 -3.26827673]]\n",
            "[[ 6.97779767 -0.22225727 -3.26892696]]\n",
            "[[ 6.97907469 -0.2222464  -3.26957639]]\n",
            "[[ 6.98035014 -0.22223555 -3.27022502]]\n",
            "[[ 6.98162404 -0.22222472 -3.27087285]]\n",
            "[[ 6.98289639 -0.2222139  -3.27151989]]\n",
            "[[ 6.9841672  -0.2222031  -3.27216614]]\n",
            "[[ 6.98543646 -0.22219232 -3.2728116 ]]\n",
            "[[ 6.98670419 -0.22218156 -3.27345626]]\n",
            "[[ 6.98797038 -0.22217081 -3.27410014]]\n",
            "[[ 6.98923503 -0.22216008 -3.27474324]]\n",
            "[[ 6.99049816 -0.22214937 -3.27538555]]\n",
            "[[ 6.99175977 -0.22213868 -3.27602708]]\n",
            "[[ 6.99301986 -0.222128   -3.27666783]]\n",
            "[[ 6.99427842 -0.22211734 -3.2773078 ]]\n",
            "[[ 6.99553548 -0.2221067  -3.277947  ]]\n",
            "[[ 6.99679103 -0.22209608 -3.27858542]]\n",
            "[[ 6.99804507 -0.22208547 -3.27922307]]\n",
            "[[ 6.99929761 -0.22207488 -3.27985995]]\n",
            "[[ 7.00054864 -0.22206431 -3.28049606]]\n",
            "[[ 7.00179819 -0.22205376 -3.28113141]]\n",
            "[[ 7.00304624 -0.22204322 -3.28176599]]\n",
            "[[ 7.0042928  -0.2220327  -3.28239981]]\n",
            "[[ 7.00553788 -0.22202219 -3.28303286]]\n",
            "[[ 7.00678148 -0.22201171 -3.28366516]]\n",
            "[[ 7.0080236  -0.22200124 -3.2842967 ]]\n",
            "[[ 7.00926425 -0.22199078 -3.28492748]]\n",
            "[[ 7.01050342 -0.22198035 -3.28555751]]\n",
            "[[ 7.01174113 -0.22196993 -3.28618679]]\n",
            "[[ 7.01297737 -0.22195952 -3.28681532]]\n",
            "[[ 7.01421216 -0.22194914 -3.2874431 ]]\n",
            "[[ 7.01544548 -0.22193877 -3.28807013]]\n",
            "[[ 7.01667735 -0.22192841 -3.28869642]]\n",
            "[[ 7.01790777 -0.22191807 -3.28932196]]\n",
            "[[ 7.01913675 -0.22190775 -3.28994676]]\n",
            "[[ 7.02036428 -0.22189745 -3.29057082]]\n",
            "[[ 7.02159037 -0.22188716 -3.29119414]]\n",
            "[[ 7.02281502 -0.22187689 -3.29181673]]\n",
            "[[ 7.02403824 -0.22186664 -3.29243858]]\n",
            "[[ 7.02526003 -0.2218564  -3.2930597 ]]\n",
            "[[ 7.0264804  -0.22184617 -3.29368009]]\n",
            "[[ 7.02769934 -0.22183597 -3.29429974]]\n",
            "[[ 7.02891685 -0.22182578 -3.29491867]]\n",
            "[[ 7.03013296 -0.2218156  -3.29553688]]\n",
            "[[ 7.03134764 -0.22180545 -3.29615435]]\n",
            "[[ 7.03256092 -0.2217953  -3.29677111]]\n",
            "[[ 7.03377279 -0.22178518 -3.29738714]]\n",
            "[[ 7.03498326 -0.22177507 -3.29800246]]\n",
            "[[ 7.03619232 -0.22176497 -3.29861706]]\n",
            "[[ 7.03739999 -0.22175489 -3.29923094]]\n",
            "[[ 7.03860626 -0.22174483 -3.2998441 ]]\n",
            "[[ 7.03981114 -0.22173478 -3.30045655]]\n",
            "[[ 7.04101463 -0.22172475 -3.3010683 ]]\n",
            "[[ 7.04221674 -0.22171474 -3.30167933]]\n",
            "[[ 7.04341746 -0.22170474 -3.30228965]]\n",
            "[[ 7.04461681 -0.22169475 -3.30289927]]\n",
            "[[ 7.04581478 -0.22168478 -3.30350818]]\n",
            "[[ 7.04701138 -0.22167483 -3.30411639]]\n",
            "[[ 7.04820661 -0.22166489 -3.30472389]]\n",
            "[[ 7.04940047 -0.22165497 -3.3053307 ]]\n",
            "[[ 7.05059297 -0.22164506 -3.30593681]]\n",
            "[[ 7.05178411 -0.22163517 -3.30654222]]\n",
            "[[ 7.05297389 -0.22162529 -3.30714694]]\n",
            "[[ 7.05416232 -0.22161543 -3.30775096]]\n",
            "[[ 7.0553494  -0.22160559 -3.30835429]]\n",
            "[[ 7.05653513 -0.22159576 -3.30895693]]\n",
            "[[ 7.05771951 -0.22158594 -3.30955888]]\n",
            "[[ 7.05890255 -0.22157614 -3.31016014]]\n",
            "[[ 7.06008426 -0.22156635 -3.31076072]]\n",
            "[[ 7.06126462 -0.22155658 -3.31136061]]\n",
            "[[ 7.06244366 -0.22154683 -3.31195982]]\n",
            "[[ 7.06362136 -0.22153709 -3.31255835]]\n",
            "[[ 7.06479774 -0.22152736 -3.31315619]]\n",
            "[[ 7.06597279 -0.22151765 -3.31375336]]\n",
            "[[ 7.06714652 -0.22150796 -3.31434986]]\n",
            "[[ 7.06831894 -0.22149828 -3.31494567]]\n",
            "[[ 7.06949004 -0.22148861 -3.31554082]]\n",
            "[[ 7.07065982 -0.22147896 -3.31613529]]\n",
            "[[ 7.0718283  -0.22146932 -3.31672909]]\n",
            "[[ 7.07299547 -0.2214597  -3.31732222]]\n",
            "[[ 7.07416134 -0.22145009 -3.31791468]]\n",
            "[[ 7.0753259  -0.2214405  -3.31850648]]\n",
            "[[ 7.07648917 -0.22143092 -3.31909761]]\n",
            "[[ 7.07765115 -0.22142136 -3.31968808]]\n",
            "[[ 7.07881183 -0.22141181 -3.32027789]]\n",
            "[[ 7.07997122 -0.22140227 -3.32086704]]\n",
            "[[ 7.08112932 -0.22139275 -3.32145553]]\n",
            "[[ 7.08228614 -0.22138325 -3.32204336]]\n",
            "[[ 7.08344168 -0.22137375 -3.32263053]]\n",
            "[[ 7.08459595 -0.22136428 -3.32321705]]\n",
            "[[ 7.08574893 -0.22135481 -3.32380292]]\n",
            "[[ 7.08690065 -0.22134537 -3.32438813]]\n",
            "[[ 7.08805109 -0.22133593 -3.32497269]]\n",
            "[[ 7.08920027 -0.22132651 -3.32555661]]\n",
            "[[ 7.09034819 -0.2213171  -3.32613988]]\n",
            "[[ 7.09149484 -0.22130771 -3.3267225 ]]\n",
            "[[ 7.09264023 -0.22129833 -3.32730448]]\n",
            "[[ 7.09378437 -0.22128897 -3.32788581]]\n",
            "[[ 7.09492725 -0.22127962 -3.3284665 ]]\n",
            "[[ 7.09606889 -0.22127028 -3.32904655]]\n",
            "[[ 7.09720927 -0.22126096 -3.32962597]]\n",
            "[[ 7.09834841 -0.22125165 -3.33020474]]\n",
            "[[ 7.09948631 -0.22124236 -3.33078288]]\n",
            "[[ 7.10062297 -0.22123308 -3.33136038]]\n",
            "[[ 7.10175839 -0.22122381 -3.33193725]]\n",
            "[[ 7.10289258 -0.22121456 -3.33251349]]\n",
            "[[ 7.10402553 -0.22120532 -3.3330891 ]]\n",
            "[[ 7.10515726 -0.22119609 -3.33366408]]\n",
            "[[ 7.10628776 -0.22118688 -3.33423843]]\n",
            "[[ 7.10741703 -0.22117768 -3.33481215]]\n",
            "[[ 7.10854509 -0.22116849 -3.33538525]]\n",
            "[[ 7.10967192 -0.22115932 -3.33595772]]\n",
            "[[ 7.11079754 -0.22115016 -3.33652957]]\n",
            "[[ 7.11192195 -0.22114102 -3.3371008 ]]\n",
            "[[ 7.11304514 -0.22113189 -3.33767141]]\n",
            "[[ 7.11416713 -0.22112277 -3.3382414 ]]\n",
            "[[ 7.11528791 -0.22111367 -3.33881077]]\n",
            "[[ 7.11640749 -0.22110457 -3.33937953]]\n",
            "[[ 7.11752587 -0.2210955  -3.33994767]]\n",
            "[[ 7.11864305 -0.22108643 -3.3405152 ]]\n",
            "[[ 7.11975903 -0.22107738 -3.34108212]]\n",
            "[[ 7.12087382 -0.22106834 -3.34164843]]\n",
            "[[ 7.12198742 -0.22105932 -3.34221412]]\n",
            "[[ 7.12309983 -0.22105031 -3.34277921]]\n",
            "[[ 7.12421106 -0.22104131 -3.34334369]]\n",
            "[[ 7.1253211  -0.22103232 -3.34390757]]\n",
            "[[ 7.12642997 -0.22102335 -3.34447084]]\n",
            "[[ 7.12753765 -0.22101439 -3.34503351]]\n",
            "[[ 7.12864416 -0.22100544 -3.34559558]]\n",
            "[[ 7.1297495  -0.22099651 -3.34615704]]\n",
            "[[ 7.13085366 -0.22098759 -3.34671791]]\n",
            "[[ 7.13195666 -0.22097868 -3.34727818]]\n",
            "[[ 7.13305849 -0.22096979 -3.34783785]]\n",
            "[[ 7.13415916 -0.22096091 -3.34839693]]\n",
            "[[ 7.13525867 -0.22095204 -3.34895541]]\n",
            "[[ 7.13635702 -0.22094318 -3.3495133 ]]\n",
            "[[ 7.13745421 -0.22093434 -3.3500706 ]]\n",
            "[[ 7.13855025 -0.22092551 -3.3506273 ]]\n",
            "[[ 7.13964514 -0.22091669 -3.35118342]]\n",
            "[[ 7.14073888 -0.22090788 -3.35173895]]\n",
            "[[ 7.14183147 -0.22089909 -3.35229389]]\n",
            "[[ 7.14292292 -0.22089031 -3.35284825]]\n",
            "[[ 7.14401323 -0.22088154 -3.35340202]]\n",
            "[[ 7.1451024  -0.22087279 -3.35395521]]\n",
            "[[ 7.14619043 -0.22086404 -3.35450782]]\n",
            "[[ 7.14727733 -0.22085531 -3.35505985]]\n"
          ]
        }
      ]
    },
    {
      "cell_type": "code",
      "source": [
        "W # 학습된 가중치 ,가중치가 수렴하면서 확정됨"
      ],
      "metadata": {
        "colab": {
          "base_uri": "https://localhost:8080/"
        },
        "id": "er_xFG3z0u_y",
        "outputId": "6a2bd921-1998-4208-88fd-2ef766fc2097"
      },
      "execution_count": null,
      "outputs": [
        {
          "output_type": "execute_result",
          "data": {
            "text/plain": [
              "array([[ 7.14727733, -0.22085531, -3.35505985]])"
            ]
          },
          "metadata": {},
          "execution_count": 20
        }
      ]
    },
    {
      "cell_type": "code",
      "source": [
        "calc_output(W, X.T) # 학습된 가중치로 얻어낸 예측값"
      ],
      "metadata": {
        "colab": {
          "base_uri": "https://localhost:8080/"
        },
        "id": "bR2o0ndv0yxY",
        "outputId": "858236e2-f4c8-472e-87f5-3fd4e7682f81"
      },
      "execution_count": null,
      "outputs": [
        {
          "output_type": "execute_result",
          "data": {
            "text/plain": [
              "array([[0.03372986, 0.0272277 , 0.97795154, 0.97265145]])"
            ]
          },
          "metadata": {},
          "execution_count": 21
        }
      ]
    },
    {
      "cell_type": "markdown",
      "source": [
        "실제값인 0, 0, 1, 1에 근사한 값이 도출된 것을 볼 수 있다."
      ],
      "metadata": {
        "id": "gBVqrzZK03Zo"
      }
    },
    {
      "cell_type": "markdown",
      "source": [
        "# 역전파"
      ],
      "metadata": {
        "id": "PTLV7o1k1ZJB"
      }
    },
    {
      "cell_type": "markdown",
      "source": [
        "XOR 문제를 통해 실습해보자"
      ],
      "metadata": {
        "id": "DcqKLCOy1aTS"
      }
    },
    {
      "cell_type": "code",
      "source": [
        "# 데이터 준비\n",
        "import numpy as np\n",
        "\n",
        "X = np.array([[0,0,1],\n",
        "              [0,1,1],\n",
        "              [1,0,1],\n",
        "              [1,1,1]]) # 마지막 1은 상수항\n",
        "D = np.array([[0], [1], [1], [0]])\n",
        "\n",
        "W = 2 * np.random.random((1, 3)) -1\n",
        "W"
      ],
      "metadata": {
        "colab": {
          "base_uri": "https://localhost:8080/"
        },
        "id": "dp4uxbfx01b4",
        "outputId": "c7c4ef61-0317-406b-c424-5ed8ddb2a550"
      },
      "execution_count": null,
      "outputs": [
        {
          "output_type": "execute_result",
          "data": {
            "text/plain": [
              "array([[ 0.3505086 , -0.96122829,  0.39128292]])"
            ]
          },
          "metadata": {},
          "execution_count": 22
        }
      ]
    },
    {
      "cell_type": "code",
      "source": [
        "# 학습을 통한 가중치 업데이트\n",
        "alpha = 0.9\n",
        "for epoch in range(1000):\n",
        "    W = delta_GD(W, X, D, alpha)\n",
        "    #print(W)"
      ],
      "metadata": {
        "id": "n59AW4tL5Wab"
      },
      "execution_count": null,
      "outputs": []
    },
    {
      "cell_type": "code",
      "source": [
        "# 학습된 결과를 통해 예측된 값\n",
        "calc_output(W, X.T)"
      ],
      "metadata": {
        "colab": {
          "base_uri": "https://localhost:8080/"
        },
        "id": "ehSW_hii5ahq",
        "outputId": "5656963b-6738-4151-fec0-5297a18cd203"
      },
      "execution_count": null,
      "outputs": [
        {
          "output_type": "execute_result",
          "data": {
            "text/plain": [
              "array([[0.52965337, 0.5       , 0.47034663, 0.44090112]])"
            ]
          },
          "metadata": {},
          "execution_count": 24
        }
      ]
    },
    {
      "cell_type": "markdown",
      "source": [
        "예측이 생각보다 잘 된것 같지 않다. 역전파를 이용해 다시 계산해보자."
      ],
      "metadata": {
        "id": "QZZ2PMS65hby"
      }
    },
    {
      "cell_type": "code",
      "source": [
        "def calc_output(W1, W2, x):\n",
        "    # W1 (4, 3)\n",
        "    # x = X[k, :].T (3, )\n",
        "    v1 = np.matmul(W1, x)\n",
        "    y1 = sigmoid(v1) # (4, )\n",
        "    # W2 (1, 4)\n",
        "    v = np.matmul(W2, y1)\n",
        "    y = sigmoid(v) # (1, )\n",
        "\n",
        "    # print('y : ', y.shape) # (1, )\n",
        "    # print('y1 : ', y1.shape) # (4, )\n",
        "    return y, y1\n",
        "\n",
        "# 출력층 델타 계산\n",
        "def calc_delta(d, y):\n",
        "    e = d - y\n",
        "    delta = y*(1-y)*e\n",
        "    # print('delta : ', delta.shape) # (1, )\n",
        "    return delta\n",
        "\n",
        "# 은닉층 델타 계산\n",
        "def calc_delta1(W2, delta, y1):\n",
        "    e1 = np.matmul(W2.T, delta) #d가 가중치 w2와 곱해져서 뒤로 넘어감\n",
        "    delta1 = y1*(1-y1)*e1\n",
        "    # print('delta1 : ', delta1.shape) # (4,)\n",
        "    return delta1\n",
        "\n",
        "# 역전파를 이용한 가중치 업데이트 계산 함수\n",
        "def backprop_XOR(W1, W2, X, D, alpha):\n",
        "    for k in range(4):\n",
        "        x = X[k, :].T #(3, )\n",
        "        d = D[k]\n",
        "\n",
        "        y, y1 = calc_output(W1, W2, x)\n",
        "        delta = calc_delta(d, y)\n",
        "        delta1 = calc_delta1(W2, delta, y1)\n",
        "\n",
        "        # alpha : 상수 /  delta1 : (4 , ) / x : (3 , )\n",
        "        dW1 = (alpha * delta1).reshape(4, 1) * x.reshape(1, 3)\n",
        "        W1 = W1 + dW1\n",
        "\n",
        "        # alpha : 상수 /  delta : (1 , ) / y1 : (4, )\n",
        "        dW2 = alpha * delta * y1\n",
        "        W2 = W2 + dW2\n",
        "\n",
        "    return W1, W2"
      ],
      "metadata": {
        "id": "6h5zbZgQ5h13"
      },
      "execution_count": null,
      "outputs": []
    },
    {
      "cell_type": "code",
      "source": [
        "# 가중치를 랜덤하게 초기화하고 다시 학습시켜보자.\n",
        "X = np.array([[0,0,1],\n",
        "              [0,1,1],\n",
        "              [1,0,1],\n",
        "              [1,1,1]])\n",
        "D = np.array([[0], [1], [1], [0]])\n",
        "\n",
        "W1 = 2 * np.random.random((4, 3)) -1 # 첫번째 가중치\n",
        "W2 = 2 * np.random.random((1, 4)) -1 # 두번째 가중치"
      ],
      "metadata": {
        "id": "jhoDtvS38yyr"
      },
      "execution_count": null,
      "outputs": []
    },
    {
      "cell_type": "code",
      "source": [
        "alpha = 0.9\n",
        "for epoch in range(10000):\n",
        "    W1, W2 = backprop_XOR(W1, W2, X, D, alpha)"
      ],
      "metadata": {
        "id": "XZSjuAyv81kh"
      },
      "execution_count": null,
      "outputs": []
    },
    {
      "cell_type": "code",
      "source": [
        "for k in range(4):\n",
        "    x = X[k, :].T\n",
        "    y, y1 = calc_output(W1, W2, x)\n",
        "    print(y)"
      ],
      "metadata": {
        "colab": {
          "base_uri": "https://localhost:8080/"
        },
        "id": "kVYlXnmu87WQ",
        "outputId": "317ddf5a-d62e-4388-ae74-9b18b2a106e4"
      },
      "execution_count": null,
      "outputs": [
        {
          "output_type": "stream",
          "name": "stdout",
          "text": [
            "[0.00634552]\n",
            "[0.98929099]\n",
            "[0.9887535]\n",
            "[0.01330742]\n"
          ]
        }
      ]
    },
    {
      "cell_type": "markdown",
      "source": [
        "\n",
        "실제값 0, 1, 1, 0과 유사한 값을 보이는 것을 확인할 수 있다."
      ],
      "metadata": {
        "id": "G0ueOJ538_5A"
      }
    },
    {
      "cell_type": "markdown",
      "source": [
        "# 크로스엔트로피"
      ],
      "metadata": {
        "id": "dvcf2PXT9C-m"
      }
    },
    {
      "cell_type": "markdown",
      "source": [
        "loss함수를 mse말고 다른 함수도 살펴보자."
      ],
      "metadata": {
        "id": "hH2pzvF89DmO"
      }
    },
    {
      "cell_type": "code",
      "source": [
        "# cross entropy의 출력층 델타\n",
        "def calc_crossentropy_delta(d, y):\n",
        "    # d : 실제값, y : 예측값\n",
        "    e = d - y\n",
        "    delta = e\n",
        "    return delta\n",
        "\n",
        "# cross entropy의 은닉층 델타\n",
        "def calc_crossentropy_delta1(W2, delta, y1):\n",
        "    e1 = np.matmul(W2.T, delta)\n",
        "    delta1 = y1*(1-y1)*e1\n",
        "    return delta1\n",
        "\n",
        "# 역전파를 이용한 가중치 업데이트 계산 함수\n",
        "def backprop_CE(W1, W2, X, D, alpha):\n",
        "    for k in range(4):\n",
        "        x = X[k, :].T\n",
        "        d = D[k]\n",
        "\n",
        "        y, y1 = calc_output(W1, W2, x)\n",
        "        delta = calc_crossentropy_delta(d, y)\n",
        "        delta1 = calc_crossentropy_delta1(W2, delta, y1)\n",
        "\n",
        "        dW1 = (alpha * delta1).reshape(4, 1) * x.reshape(1, 3)\n",
        "        W1 = W1 + dW1\n",
        "\n",
        "        dW2 = alpha * delta * y1\n",
        "        W2 = W2 + dW2\n",
        "\n",
        "    return W1, W2"
      ],
      "metadata": {
        "id": "l9E8fIFw8-VN"
      },
      "execution_count": null,
      "outputs": []
    },
    {
      "cell_type": "code",
      "source": [
        "W1 = 2 * np.random.random((4, 3)) -1 # 첫번째 가중치\n",
        "W2 = 2 * np.random.random((1, 4)) -1 # 두번째 가중치\n",
        "\n",
        "# 학습\n",
        "alpha = 0.9\n",
        "for epoch in range(10000):\n",
        "    W1, W2 = backprop_CE(W1, W2, X, D, alpha)\n",
        "\n",
        "# 결과\n",
        "for k in range(4):\n",
        "    x = X[k, :].T\n",
        "    y, y1 = calc_output(W1, W2, x)\n",
        "    print(y)"
      ],
      "metadata": {
        "colab": {
          "base_uri": "https://localhost:8080/"
        },
        "id": "mUc3mwy3AxC_",
        "outputId": "803bf32c-093f-46c5-b15a-47e5823836f7"
      },
      "execution_count": null,
      "outputs": [
        {
          "output_type": "stream",
          "name": "stdout",
          "text": [
            "[0.00013321]\n",
            "[0.99987307]\n",
            "[0.9998512]\n",
            "[0.00032674]\n"
          ]
        }
      ]
    },
    {
      "cell_type": "markdown",
      "source": [
        "# 예제"
      ],
      "metadata": {
        "id": "OycmNCDiA5Gx"
      }
    },
    {
      "cell_type": "code",
      "source": [
        "import numpy as np\n",
        "import matplotlib.pyplot as plt\n",
        "from tqdm import tqdm_notebook"
      ],
      "metadata": {
        "id": "aevEfnfNA54Y"
      },
      "execution_count": null,
      "outputs": []
    },
    {
      "cell_type": "markdown",
      "source": [
        "숫자 맞추기"
      ],
      "metadata": {
        "id": "xjUeH2ytEegD"
      }
    },
    {
      "cell_type": "code",
      "source": [
        "# softmax\n",
        "def softmax(x):\n",
        "    # subtract : 두 값의 차이 계산\n",
        "    # 최대값과의 차이를 exp 해줌으로써 일종의 min-max scaler를 적용해 overflow를 막아준 셈\n",
        "    x = np.subtract(x, np.max(x))\n",
        "    ex = np.exp(x)\n",
        "\n",
        "    return ex / np.sum(ex)"
      ],
      "metadata": {
        "id": "H3z4u41BEe2L"
      },
      "execution_count": null,
      "outputs": []
    },
    {
      "cell_type": "code",
      "source": [
        "# 데이터 준비\n",
        "X = np.zeros((5, 5, 5))\n",
        "\n",
        "X[:, :, 0] = [[0,1,1,0,0], [0,0,1,0,0], [0,0,1,0,0], [0,0,1,0,0], [0,1,1,1,0]]\n",
        "X[:, :, 1] = [[1,1,1,1,0], [0,0,0,0,1], [0,1,1,1,0], [1,0,0,0,0], [1,1,1,1,1]]\n",
        "X[:, :, 2] = [[1,1,1,1,0], [0,0,0,0,1], [0,1,1,1,0], [0,0,0,0,1], [1,1,1,1,0]]\n",
        "X[:, :, 3] = [[0,0,0,1,0], [0,0,1,1,0], [0,1,0,1,0], [1,1,1,1,1], [0,0,0,1,0]]\n",
        "X[:, :, 4] = [[1,1,1,1,1], [1,0,0,0,0], [1,1,1,1,0], [0,0,0,0,1], [1,1,1,1,0]]\n",
        "\n",
        "# 정답지\n",
        "D = np.array([[[1,0,0,0,0]], [[0,1,0,0,0]], [[0,0,1,0,0]], [[0,0,0,1,0]], [[0,0,0,0,1]]])\n",
        "\n",
        "plt.figure(figsize=(12, 4))\n",
        "for n in range(5):\n",
        "    plt.subplot(1, 5, n+1)\n",
        "    plt.imshow(X[:, :, n])\n",
        "plt.show()"
      ],
      "metadata": {
        "colab": {
          "base_uri": "https://localhost:8080/",
          "height": 221
        },
        "id": "nRvTZKlyFNJq",
        "outputId": "99598279-05d8-4b7a-ce4c-536b4d91efbd"
      },
      "execution_count": null,
      "outputs": [
        {
          "output_type": "display_data",
          "data": {
            "text/plain": [
              "<Figure size 1200x400 with 5 Axes>"
            ],
            "image/png": "[encoded data removed]"
          },
          "metadata": {}
        }
      ]
    },
    {
      "cell_type": "code",
      "source": [
        "D"
      ],
      "metadata": {
        "colab": {
          "base_uri": "https://localhost:8080/"
        },
        "id": "meh9PSyAIril",
        "outputId": "a7842230-953b-4b8d-e2aa-cab7b5e95a9a"
      },
      "execution_count": null,
      "outputs": [
        {
          "output_type": "execute_result",
          "data": {
            "text/plain": [
              "array([[[1, 0, 0, 0, 0]],\n",
              "\n",
              "       [[0, 1, 0, 0, 0]],\n",
              "\n",
              "       [[0, 0, 1, 0, 0]],\n",
              "\n",
              "       [[0, 0, 0, 1, 0]],\n",
              "\n",
              "       [[0, 0, 0, 0, 1]]])"
            ]
          },
          "metadata": {},
          "execution_count": 34
        }
      ]
    },
    {
      "cell_type": "code",
      "source": [
        "# relu : 음수는 모두 0으로 이외의 값은 해당 값으로 반환해줌\n",
        "def ReLU(x):\n",
        "    # np.maximum : 여러 array 사이에서 각 위치의 최대값 반환\n",
        "    return np.maximum(0, x)\n",
        "\n",
        "\n",
        "# 순방향 계산\n",
        "def calc_output_relu(W1, W2, W3, W4, x):\n",
        "    v1 = np.matmul(W1, x)\n",
        "    y1 = ReLU(v1)\n",
        "    v2 = np.matmul(W2, y1)\n",
        "    y2 = ReLU(v2)\n",
        "    v3 = np.matmul(W3, y2)\n",
        "    y3 = ReLU(v3)\n",
        "    v = np.matmul(W4, y3)\n",
        "    y = softmax(v)\n",
        "\n",
        "    return y, v1, v2, v3, y1, y2, y3"
      ],
      "metadata": {
        "id": "nX0ebpRYI4V_"
      },
      "execution_count": null,
      "outputs": []
    },
    {
      "cell_type": "code",
      "source": [
        "# 역전파를 이용한 델타 계산\n",
        "def backprop_ReLU(d, y, W2, W3, W4, v1, v2, v3):\n",
        "    e = d - y\n",
        "    delta = e\n",
        "\n",
        "    e3 = np.matmul(W4.T, delta)\n",
        "    delta3 = (v3 > 0)*e3\n",
        "\n",
        "    e2 = np.matmul(W3.T, delta3)\n",
        "    delta2 = (v2 > 0)*e2\n",
        "\n",
        "    e1 = np.matmul(W2.T, delta2)\n",
        "    delta1 = (v1 > 0)*e1\n",
        "\n",
        "    return delta, delta1, delta2, delta3"
      ],
      "metadata": {
        "id": "C3m_UbQgJUk_"
      },
      "execution_count": null,
      "outputs": []
    },
    {
      "cell_type": "code",
      "source": [
        "# 델타를 이용한 가중치 업데이트 계산\n",
        "def calc_Ws(alpha, delta, delta1, delta2, delta3, y1, y2, y3, x, W1, W2, W3, W4):\n",
        "    dW4 = alpha*delta*y3.T\n",
        "    W4 = W4 + dW4\n",
        "\n",
        "    dW3 = alpha*delta3*y2.T\n",
        "    W3 = W3 + dW3\n",
        "\n",
        "    dW2 = alpha*delta2*y1.T\n",
        "    W2 = W2 + dW2\n",
        "\n",
        "    dW1 = alpha*delta1*x.T\n",
        "    W1 = W1 + dW1\n",
        "\n",
        "    return W1, W2, W3, W4"
      ],
      "metadata": {
        "id": "rlXbJ0qVKwlv"
      },
      "execution_count": null,
      "outputs": []
    },
    {
      "cell_type": "code",
      "source": [
        "# 가중치 업데이트\n",
        "def DeepReLU(W1, W2, W3, W4, X, D, alpha):\n",
        "    for k in range(5):\n",
        "        x = np.reshape(X[:, :, k], (25, 1))\n",
        "        d =D[k, :].T\n",
        "\n",
        "        y, v1, v2, v3, y1, y2, y3 = calc_output_relu(W1, W2, W3, W4, x)\n",
        "        delta, delta1, delta2, delta3 = backprop_ReLU(d, y, W2, W3, W4, v1, v2, v3)\n",
        "        W1, W2, W3, W4 = calc_Ws(alpha, delta, delta1, delta2, delta3, y1, y2, y3, x, W1, W2, W3, W4)\n",
        "\n",
        "        return W1, W2, W3, W4"
      ],
      "metadata": {
        "id": "mdF0GgVfKzEg"
      },
      "execution_count": null,
      "outputs": []
    },
    {
      "cell_type": "code",
      "source": [
        "# 학습\n",
        "W1 = 2*np.random.random((20, 25)) -1\n",
        "W2 = 2*np.random.random((20, 20)) - 1\n",
        "W3 = 2*np.random.random((20, 20)) - 1\n",
        "W4 = 2*np.random.random((5, 20)) - 1\n",
        "\n",
        "alpha = 0.001\n",
        "for epoch in tqdm_notebook(range(10000)):\n",
        "    W1, W2, W3, W4 = DeepReLU(W1, W2, W3, W4, X, D, alpha)"
      ],
      "metadata": {
        "colab": {
          "base_uri": "https://localhost:8080/",
          "height": 100,
          "referenced_widgets": [
            "33107d98989a4e01b516f66c2cb46907",
            "4074bae9be454ed5a40c84a0983372cf",
            "c895975f66de446fb602455cfc8896bd",
            "055f5e2f80f949ab8298f33492b119bb",
            "67ca4b84a94f45d0b3e5f774aab8d872",
            "007b4235c23940119edea0065fbf6708",
            "c3f6f1bd9f26430c92f6119e2617f406",
            "71c10482ebd44709a1420ab71303dda7",
            "2f408335b5ee49edb27a8e463ce3b039",
            "a8de57f4c28f485993c10e148cace71e",
            "9b0b03438604454482e9b52e2e207eb6"
          ]
        },
        "id": "U7u-sBqPK3oX",
        "outputId": "e3e00271-8165-4948-c3d5-ae11de3820f1"
      },
      "execution_count": null,
      "outputs": [
        {
          "output_type": "stream",
          "name": "stderr",
          "text": [
            "<ipython-input-39-bd11918b0969>:8: TqdmDeprecationWarning: This function will be removed in tqdm==5.0.0\n",
            "Please use `tqdm.notebook.tqdm` instead of `tqdm.tqdm_notebook`\n",
            "  for epoch in tqdm_notebook(range(10000)):\n"
          ]
        },
        {
          "output_type": "display_data",
          "data": {
            "text/plain": [
              "  0%|          | 0/10000 [00:00<?, ?it/s]"
            ],
            "application/vnd.jupyter.widget-view+json": {
              "version_major": 2,
              "version_minor": 0,
              "model_id": "33107d98989a4e01b516f66c2cb46907"
            }
          },
          "metadata": {}
        }
      ]
    },
    {
      "cell_type": "code",
      "source": [
        "# 검증\n",
        "def verify_algorithm(x, W1, W2, W3, W4):\n",
        "    v1 = np.matmul(W1, x)\n",
        "    y1 = ReLU(v1)\n",
        "\n",
        "    v2 = np.matmul(W2, y1)\n",
        "    y2 = ReLU(v2)\n",
        "\n",
        "    v3 = np.matmul(W3, y2)\n",
        "    y3 = ReLU(v3)\n",
        "\n",
        "    v = np.matmul(W4, y3)\n",
        "    y = softmax(v)\n",
        "\n",
        "    return y"
      ],
      "metadata": {
        "id": "Uptx2UB5NaLT"
      },
      "execution_count": null,
      "outputs": []
    },
    {
      "cell_type": "code",
      "source": [
        "# 결과\n",
        "N= 5\n",
        "for k in range(N):\n",
        "    x = np.reshape(X[:, :, k], (25, 1))\n",
        "    y = verify_algorithm(x, W1, W2, W3, W4)\n",
        "    print(\"Y = {} : \".format(k+1)) # 실제값\n",
        "    print(np.argmax(y, axis=0)+1)  # 예측값\n",
        "    print(y)\n",
        "    print('--------------------')"
      ],
      "metadata": {
        "colab": {
          "base_uri": "https://localhost:8080/"
        },
        "id": "u9690jQDNcDJ",
        "outputId": "c99ac6d5-6b1f-454d-dbe6-a1c752579caf"
      },
      "execution_count": null,
      "outputs": [
        {
          "output_type": "stream",
          "name": "stdout",
          "text": [
            "Y = 1 : \n",
            "[1]\n",
            "[[9.99953074e-01]\n",
            " [4.15220470e-05]\n",
            " [2.53246802e-07]\n",
            " [1.21079489e-08]\n",
            " [5.13820853e-06]]\n",
            "--------------------\n",
            "Y = 2 : \n",
            "[2]\n",
            "[[1.77949560e-02]\n",
            " [9.79683860e-01]\n",
            " [2.50977043e-03]\n",
            " [2.79678778e-07]\n",
            " [1.11337927e-05]]\n",
            "--------------------\n",
            "Y = 3 : \n",
            "[1]\n",
            "[[8.49051614e-01]\n",
            " [1.45977163e-01]\n",
            " [2.60544296e-03]\n",
            " [6.70101412e-04]\n",
            " [1.69567867e-03]]\n",
            "--------------------\n",
            "Y = 4 : \n",
            "[1]\n",
            "[[9.79568838e-01]\n",
            " [2.02682150e-02]\n",
            " [1.52006312e-05]\n",
            " [1.47723490e-04]\n",
            " [2.32421902e-08]]\n",
            "--------------------\n",
            "Y = 5 : \n",
            "[1]\n",
            "[[9.69593914e-01]\n",
            " [3.02345592e-02]\n",
            " [8.26846047e-05]\n",
            " [1.24992923e-05]\n",
            " [7.63430079e-05]]\n",
            "--------------------\n"
          ]
        }
      ]
    },
    {
      "cell_type": "code",
      "source": [
        "# 테스트\n",
        "X_test = np.zeros((5, 5, 5))\n",
        "\n",
        "X_test[:, :, 0] = [[0,0,0,0,0], [0,1,0,0,0], [1,0,1,0,0], [0,0,1,0,0], [0,1,1,1,0]]\n",
        "X_test[:, :, 1] = [[1,1,1,1,0], [0,0,0,0,0], [0,1,1,1,0], [0,0,0,0,1], [1,1,1,1,0]]\n",
        "X_test[:, :, 2] = [[0,0,0,1,0], [0,0,1,1,0], [0,1,0,0,0], [1,1,1,0,1], [0,0,0,1,0]]\n",
        "X_test[:, :, 3] = [[1,1,1,1,0], [0,0,0,0,1], [0,1,1,1,0], [1,0,0,0,0], [1,1,1,1,0]]\n",
        "X_test[:, :, 4] = [[0,1,1,1,1], [1,1,0,0,0], [1,1,1,1,0], [0,0,0,1,1], [1,1,1,1,0]]\n",
        "\n",
        "plt.figure(figsize=(12, 4))\n",
        "for n in range(5):\n",
        "    plt.subplot(1, 5, n+1)\n",
        "    plt.imshow(X_test[:, :, n])\n",
        "plt.show()"
      ],
      "metadata": {
        "colab": {
          "base_uri": "https://localhost:8080/",
          "height": 221
        },
        "id": "c6Olayj2PEJj",
        "outputId": "dfc15568-6230-4465-ee09-5d3b0966e111"
      },
      "execution_count": null,
      "outputs": [
        {
          "output_type": "display_data",
          "data": {
            "text/plain": [
              "<Figure size 1200x400 with 5 Axes>"
            ],
            "image/png": "[encoded data removed]"
          },
          "metadata": {}
        }
      ]
    },
    {
      "cell_type": "code",
      "source": [
        "# 예측\n",
        "learning_result = [0,0,0,0,0]\n",
        "\n",
        "for k in range(N):\n",
        "    x = np.reshape(X_test[:, :, k], (25, 1)) # X의 k번째 값을 (25, 1) 사이즈로 변경하라는 의미입니다. 원래 (5, 5)의 2차원 행렬을 Flatten해서 1차원으로 펼치는 것으로 보이네요.\n",
        "    y = verify_algorithm(x, W1, W2, W3, W4)\n",
        "\n",
        "    learning_result[k] = np.argmax(y, axis = 0) + 1\n",
        "\n",
        "    print(\"Y = {} : \".format(k+1))\n",
        "    print(np.argmax(y, axis=0)+1)\n",
        "    print(y)\n",
        "    print('--------------------')"
      ],
      "metadata": {
        "colab": {
          "base_uri": "https://localhost:8080/"
        },
        "id": "ciWymjqPQS1f",
        "outputId": "ade737dc-4535-47f6-c6c4-e41d74ed190e"
      },
      "execution_count": null,
      "outputs": [
        {
          "output_type": "stream",
          "name": "stdout",
          "text": [
            "Y = 1 : \n",
            "[5]\n",
            "[[4.27813421e-01]\n",
            " [2.72400341e-02]\n",
            " [2.36448968e-07]\n",
            " [2.43568811e-05]\n",
            " [5.44921952e-01]]\n",
            "--------------------\n",
            "Y = 2 : \n",
            "[1]\n",
            "[[0.53173813]\n",
            " [0.46443665]\n",
            " [0.00133851]\n",
            " [0.00154269]\n",
            " [0.00094402]]\n",
            "--------------------\n",
            "Y = 3 : \n",
            "[1]\n",
            "[[8.63420261e-01]\n",
            " [1.33913018e-01]\n",
            " [8.17858514e-04]\n",
            " [1.84828529e-03]\n",
            " [5.77458198e-07]]\n",
            "--------------------\n",
            "Y = 4 : \n",
            "[2]\n",
            "[[1.01012493e-01]\n",
            " [8.88372091e-01]\n",
            " [1.05950593e-02]\n",
            " [9.09726187e-07]\n",
            " [1.94464369e-05]]\n",
            "--------------------\n",
            "Y = 5 : \n",
            "[1]\n",
            "[[9.24331335e-01]\n",
            " [2.16580187e-02]\n",
            " [5.18231702e-02]\n",
            " [2.18731172e-03]\n",
            " [1.64058137e-07]]\n",
            "--------------------\n"
          ]
        }
      ]
    },
    {
      "cell_type": "code",
      "source": [
        "learning_result"
      ],
      "metadata": {
        "colab": {
          "base_uri": "https://localhost:8080/"
        },
        "id": "WgYxcUvJRUd2",
        "outputId": "a8e4cf68-e4c5-42f6-ffb5-152431fbbe69"
      },
      "execution_count": null,
      "outputs": [
        {
          "output_type": "execute_result",
          "data": {
            "text/plain": [
              "[array([5]), array([1]), array([1]), array([2]), array([1])]"
            ]
          },
          "metadata": {},
          "execution_count": 44
        }
      ]
    },
    {
      "cell_type": "code",
      "source": [
        "learning_result[0]"
      ],
      "metadata": {
        "colab": {
          "base_uri": "https://localhost:8080/"
        },
        "id": "paCUfDOiRnkT",
        "outputId": "5701d35b-2fd6-4751-d4fd-2d910aaf81da"
      },
      "execution_count": null,
      "outputs": [
        {
          "output_type": "execute_result",
          "data": {
            "text/plain": [
              "array([5])"
            ]
          },
          "metadata": {},
          "execution_count": 47
        }
      ]
    },
    {
      "cell_type": "code",
      "source": [
        "learning_result[0][0]"
      ],
      "metadata": {
        "colab": {
          "base_uri": "https://localhost:8080/"
        },
        "id": "BAoOzGpmRgL8",
        "outputId": "1c56cf85-5f23-4848-ea44-c26fe1ded426"
      },
      "execution_count": null,
      "outputs": [
        {
          "output_type": "execute_result",
          "data": {
            "text/plain": [
              "5"
            ]
          },
          "metadata": {},
          "execution_count": 45
        }
      ]
    },
    {
      "cell_type": "code",
      "source": [
        "learning_result[2][0]"
      ],
      "metadata": {
        "colab": {
          "base_uri": "https://localhost:8080/"
        },
        "id": "Im9KwZGwRjgy",
        "outputId": "8ceaea84-497e-4455-f907-8cfbb9416440"
      },
      "execution_count": null,
      "outputs": [
        {
          "output_type": "execute_result",
          "data": {
            "text/plain": [
              "1"
            ]
          },
          "metadata": {},
          "execution_count": 46
        }
      ]
    },
    {
      "cell_type": "code",
      "source": [
        "plt.figure(figsize=(12, 4))\n",
        "for k in range(5):\n",
        "    plt.subplot(2, 5, k+1)\n",
        "    plt.imshow(X_test[:, :, k]) # 원본 데이터\n",
        "\n",
        "    plt.subplot(2, 5, k+6)\n",
        "    plt.imshow(X_test[:, :, learning_result[k][0] - 1]) # 예측 데이터\n",
        "plt.show()"
      ],
      "metadata": {
        "colab": {
          "base_uri": "https://localhost:8080/",
          "height": 368
        },
        "id": "mov76JxgSEOc",
        "outputId": "3affac09-ee50-4ab8-ca65-e7bf2204107e"
      },
      "execution_count": null,
      "outputs": [
        {
          "output_type": "display_data",
          "data": {
            "text/plain": [
              "<Figure size 1200x400 with 10 Axes>"
            ],
            "image/png": "[encoded data removed]"
          },
          "metadata": {}
        }
      ]
    },
    {
      "cell_type": "markdown",
      "source": [
        "모델에 융통성을 기르게 해보자."
      ],
      "metadata": {
        "id": "OfZ10jJhSI7t"
      }
    },
    {
      "cell_type": "code",
      "source": [
        "y = np.array([0.1, 0.2, 0.5, 0.7, 0.9, 0.6, 1, 2, 3])\n",
        "y.size, y.size*(1 - 0.8), round(y.size*(1 - 0.8))"
      ],
      "metadata": {
        "colab": {
          "base_uri": "https://localhost:8080/"
        },
        "id": "qWSjrsiESKhl",
        "outputId": "8a6fa418-3d6e-4fc3-ef6a-6d0d457d001d"
      },
      "execution_count": null,
      "outputs": [
        {
          "output_type": "execute_result",
          "data": {
            "text/plain": [
              "(9, 1.7999999999999996, 2)"
            ]
          },
          "metadata": {},
          "execution_count": 49
        }
      ]
    },
    {
      "cell_type": "code",
      "source": [
        "num = round(y.size*(1 - 0.8))\n",
        "np.random.choice(y.size, num, replace = True)"
      ],
      "metadata": {
        "colab": {
          "base_uri": "https://localhost:8080/"
        },
        "id": "JFneyv0QTUGI",
        "outputId": "ba09b184-4f84-4877-a6dd-10e1df92678e"
      },
      "execution_count": null,
      "outputs": [
        {
          "output_type": "execute_result",
          "data": {
            "text/plain": [
              "array([7, 8])"
            ]
          },
          "metadata": {},
          "execution_count": 50
        }
      ]
    },
    {
      "cell_type": "code",
      "source": [
        "# dropout 함수\n",
        "def Dropout(y, ratio):\n",
        "    ym = np.zeros_like(y)\n",
        "\n",
        "    num = round(y.size * (1 - ratio))\n",
        "    # y.size까지의 수 중 num 개수만큼 랜덤으로 추출\n",
        "    idx = np.random.choice(y.size, num, replace = True)\n",
        "    ym[idx] = 1.0 / (1.0 - ratio)\n",
        "\n",
        "    return ym\n",
        "\n",
        "# dropout 적용시킨 순방향 출력 계산\n",
        "def calc_output_dropout(W1, W2, W3, W4, x):\n",
        "    v1 = np.matmul(W1, x)\n",
        "    y1 = sigmoid(v1)\n",
        "    y1 = y1 * Dropout(y1, 0.2)\n",
        "\n",
        "    v2 = np.matmul(W2, y1)\n",
        "    y2 = sigmoid(v2)\n",
        "    y1 = y2 * Dropout(y2, 0.2)\n",
        "\n",
        "    v3 = np.matmul(W3, y2)\n",
        "    y3 = sigmoid(v3)\n",
        "    y3 = y3 * Dropout(y3, 0.2)\n",
        "\n",
        "    v = np.matmul(W4, y3)\n",
        "    y = softmax(v)\n",
        "\n",
        "    return y, y1, y2, y3, v1, v2, v3"
      ],
      "metadata": {
        "id": "AbziTsgCTdnz"
      },
      "execution_count": null,
      "outputs": []
    },
    {
      "cell_type": "code",
      "source": [
        "# 역전파를 이용한 델타 계산\n",
        "def backprop_dropout(d, y, y1, y2, y3, W2, W3, W4, v1, v2, v3):\n",
        "    e = d - y\n",
        "    delta = e\n",
        "\n",
        "    e3 = np.matmul(W4.T, delta)\n",
        "    delta3 = y3*(1 - y3)*e3\n",
        "\n",
        "    e2 = np.matmul(W3.T, delta3)\n",
        "    delta2 = y2*(1 - y2)*e2\n",
        "\n",
        "    e1 = np.matmul(W2.T, delta2)\n",
        "    delta1 = y1*(1 - y1)*e1\n",
        "\n",
        "    return delta, delta1, delta2, delta3\n",
        "\n",
        "\n",
        "# 가중치 업데이트\n",
        "def Deepdropout(W1, W2, W3, W4, X, D):\n",
        "    for k in range(5):\n",
        "        x = np.reshape(X[:, :, k], (25, 1))\n",
        "        d =D[k, :].T\n",
        "\n",
        "        y, y1, y2, y3, v1, v2, v3 = calc_output_dropout(W1, W2, W3, W4, x)\n",
        "        delta, delta1, delta2, delta3 = backprop_dropout(d, y, y1, y2, y3, W2, W3, W4, v1, v2, v3)\n",
        "        W1, W2, W3, W4 = calc_Ws(alpha, delta, delta1, delta2, delta3, y1, y2, y3, x, W1, W2, W3, W4)\n",
        "\n",
        "        return W1, W2, W3, W4"
      ],
      "metadata": {
        "id": "58ZFmP2bTezO"
      },
      "execution_count": null,
      "outputs": []
    },
    {
      "cell_type": "code",
      "source": [
        "# 학습\n",
        "W1 = 2*np.random.random((20, 25)) -1\n",
        "W2 = 2*np.random.random((20, 20)) - 1\n",
        "W3 = 2*np.random.random((20, 20)) - 1\n",
        "W4 = 2*np.random.random((5, 20)) - 1\n",
        "\n",
        "for epoch in tqdm_notebook(range(10000)):\n",
        "    W1, W2, W3, W4 = Deepdropout(W1, W2, W3, W4, X, D)"
      ],
      "metadata": {
        "colab": {
          "base_uri": "https://localhost:8080/",
          "height": 100,
          "referenced_widgets": [
            "4a377680ef9a46e29a776a4db14a2ff1",
            "5c0908e0d81c4d35993ee7445b363113",
            "e97b10b084fd46b392bdee1c1e429b51",
            "61214817b0454e4f9163f74d73c19282",
            "634056a3d9514b94a4de1c82b21448c1",
            "f54abeb26da9453bbdf13eebff46f48e",
            "6a6cc0a08e9b411180c6090128450f85",
            "00aa0de87b0043c6aa872c203ede1560",
            "6119303587aa47a7b96bf4552647f4cf",
            "81eb6dd5ffe64db79d610418b1f931b3",
            "8f2e10274c8943d6897ba2a9d41bf319"
          ]
        },
        "id": "N6sFL_oAThHD",
        "outputId": "2eb6a76c-19ce-44da-875a-14046b1485bf"
      },
      "execution_count": null,
      "outputs": [
        {
          "output_type": "stream",
          "name": "stderr",
          "text": [
            "<ipython-input-53-a52f4486456a>:7: TqdmDeprecationWarning: This function will be removed in tqdm==5.0.0\n",
            "Please use `tqdm.notebook.tqdm` instead of `tqdm.tqdm_notebook`\n",
            "  for epoch in tqdm_notebook(range(10000)):\n"
          ]
        },
        {
          "output_type": "display_data",
          "data": {
            "text/plain": [
              "  0%|          | 0/10000 [00:00<?, ?it/s]"
            ],
            "application/vnd.jupyter.widget-view+json": {
              "version_major": 2,
              "version_minor": 0,
              "model_id": "4a377680ef9a46e29a776a4db14a2ff1"
            }
          },
          "metadata": {}
        }
      ]
    },
    {
      "cell_type": "code",
      "source": [
        "# 테스트 데이터 다시 예측\n",
        "learning_result = [0,0,0,0,0]\n",
        "\n",
        "for k in range(N):\n",
        "    x = np.reshape(X_test[:, :, k], (25, 1))\n",
        "    y = verify_algorithm(x, W1, W2, W3, W4)\n",
        "\n",
        "    learning_result[k] = np.argmax(y, axis = 0) + 1\n",
        "\n",
        "    print(\"Y = {} : \".format(k+1))\n",
        "    print(np.argmax(y, axis=0)+1)\n",
        "    print(y)\n",
        "    print('--------------------')"
      ],
      "metadata": {
        "colab": {
          "base_uri": "https://localhost:8080/"
        },
        "id": "k3_c694XTkyk",
        "outputId": "84677802-b9aa-4ad7-8bda-5bd6606e6b61"
      },
      "execution_count": null,
      "outputs": [
        {
          "output_type": "stream",
          "name": "stdout",
          "text": [
            "Y = 1 : \n",
            "[1]\n",
            "[[1.00000000e+00]\n",
            " [2.56002901e-14]\n",
            " [7.49681590e-13]\n",
            " [8.60120382e-12]\n",
            " [2.54452877e-12]]\n",
            "--------------------\n",
            "Y = 2 : \n",
            "[1]\n",
            "[[1.00000000e+00]\n",
            " [5.04745632e-19]\n",
            " [2.56622997e-22]\n",
            " [1.98312994e-18]\n",
            " [4.21782240e-17]]\n",
            "--------------------\n",
            "Y = 3 : \n",
            "[1]\n",
            "[[1.00000000e+00]\n",
            " [6.42277308e-13]\n",
            " [6.57491589e-13]\n",
            " [9.27787080e-13]\n",
            " [2.19081987e-13]]\n",
            "--------------------\n",
            "Y = 4 : \n",
            "[1]\n",
            "[[1.00000000e+00]\n",
            " [2.63519065e-24]\n",
            " [1.03771364e-24]\n",
            " [5.88389441e-17]\n",
            " [6.52335425e-19]]\n",
            "--------------------\n",
            "Y = 5 : \n",
            "[1]\n",
            "[[1.00000000e+00]\n",
            " [2.60959332e-23]\n",
            " [2.03844213e-26]\n",
            " [3.52263462e-24]\n",
            " [3.28463284e-21]]\n",
            "--------------------\n"
          ]
        }
      ]
    },
    {
      "cell_type": "code",
      "source": [
        "plt.figure(figsize=(12, 4))\n",
        "for k in range(5):\n",
        "    plt.subplot(2, 5, k+1)\n",
        "    plt.imshow(X_test[:, :, k]) # 원본 데이터\n",
        "\n",
        "    plt.subplot(2, 5, k+6)\n",
        "    plt.imshow(X_test[:, :, learning_result[k][0] - 1]) # 예측 데이터\n",
        "plt.show()"
      ],
      "metadata": {
        "colab": {
          "base_uri": "https://localhost:8080/",
          "height": 368
        },
        "id": "47eTy68RTnC0",
        "outputId": "ae99924d-7604-4aad-8fa9-9da109508586"
      },
      "execution_count": null,
      "outputs": [
        {
          "output_type": "display_data",
          "data": {
            "text/plain": [
              "<Figure size 1200x400 with 10 Axes>"
            ],
            "image/png": "[encoded data removed]"
          },
          "metadata": {}
        }
      ]
    },
    {
      "cell_type": "markdown",
      "source": [
        "예측한 결과가 거의 안 맞는다"
      ],
      "metadata": {
        "id": "v6LJalliTpoI"
      }
    }
  ]
}